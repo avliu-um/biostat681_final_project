{
 "cells": [
  {
   "cell_type": "code",
   "execution_count": 97,
   "id": "5a69c2a0",
   "metadata": {},
   "outputs": [],
   "source": [
    "from bs4 import BeautifulSoup\n",
    "from urllib.request import Request, urlopen\n",
    "\n",
    "import pandas as pd\n",
    "import numpy as np\n",
    "import re"
   ]
  },
  {
   "cell_type": "code",
   "execution_count": null,
   "id": "98a09f4e",
   "metadata": {},
   "outputs": [],
   "source": []
  },
  {
   "cell_type": "code",
   "execution_count": null,
   "id": "bcadd9e5",
   "metadata": {},
   "outputs": [],
   "source": []
  },
  {
   "cell_type": "markdown",
   "id": "decb5ff8",
   "metadata": {},
   "source": [
    "### Get tournament url's that fit our criteria (online/offline)\n",
    "TODO: Convert the table collecting process to my get_table method"
   ]
  },
  {
   "cell_type": "code",
   "execution_count": 98,
   "id": "9d8bf0cb",
   "metadata": {},
   "outputs": [],
   "source": [
    "url = \"./chess_results.html\"\n",
    "with open(url) as fp:\n",
    "    soup = BeautifulSoup(fp, 'html.parser')"
   ]
  },
  {
   "cell_type": "code",
   "execution_count": null,
   "id": "6d47b9d4",
   "metadata": {},
   "outputs": [],
   "source": []
  },
  {
   "cell_type": "code",
   "execution_count": 99,
   "id": "da5188ee",
   "metadata": {},
   "outputs": [],
   "source": [
    "tour_df_list = []"
   ]
  },
  {
   "cell_type": "code",
   "execution_count": 100,
   "id": "93d66ca8",
   "metadata": {
    "scrolled": true
   },
   "outputs": [],
   "source": [
    "\n",
    "# using soup to select by css selectors\n",
    "# https://stackoverflow.com/questions/24801548/how-to-use-css-selectors-to-retrieve-specific-links-lying-in-some-class-using-be\n",
    "table = soup.select('table.CRs2 tr')\n",
    "\n",
    "# ignore first row\n",
    "for row in table[1:]:\n",
    "    \n",
    "    # Get values in row\n",
    "    vals = row.select('td')\n",
    "    \n",
    "    # Get url\n",
    "    url_idx = 0\n",
    "    url = vals[url_idx].a['href']\n",
    "    tour_id = int(re.findall(\"tnr(\\d+).aspx\", url)[0])\n",
    "    \n",
    "    # Get location\n",
    "    loc_idx = 8\n",
    "    location = vals[loc_idx].text.strip()\n",
    "    \n",
    "    # Get medium (online or offline)\n",
    "    medium = None\n",
    "    if '.com' in location.lower() or 'online' in location.lower():\n",
    "        medium = 'online'\n",
    "    elif location != '':\n",
    "        medium = 'offline'\n",
    "        \n",
    "    # TODO: Get country\n",
    "    \n",
    "    tour_data = {\n",
    "        'tournament_id': tour_id,\n",
    "        'url': url,\n",
    "        'location': location,\n",
    "        'medium': medium\n",
    "    }\n",
    "    tour_df_list.append(tour_data)\n",
    "\n",
    "    "
   ]
  },
  {
   "cell_type": "code",
   "execution_count": 101,
   "id": "ca1a59c0",
   "metadata": {},
   "outputs": [],
   "source": [
    "tour_df = pd.DataFrame(tour_df_list)"
   ]
  },
  {
   "cell_type": "code",
   "execution_count": 102,
   "id": "30656447",
   "metadata": {},
   "outputs": [
    {
     "data": {
      "text/html": [
       "<div>\n",
       "<style scoped>\n",
       "    .dataframe tbody tr th:only-of-type {\n",
       "        vertical-align: middle;\n",
       "    }\n",
       "\n",
       "    .dataframe tbody tr th {\n",
       "        vertical-align: top;\n",
       "    }\n",
       "\n",
       "    .dataframe thead th {\n",
       "        text-align: right;\n",
       "    }\n",
       "</style>\n",
       "<table border=\"1\" class=\"dataframe\">\n",
       "  <thead>\n",
       "    <tr style=\"text-align: right;\">\n",
       "      <th></th>\n",
       "      <th>tournament_id</th>\n",
       "      <th>url</th>\n",
       "      <th>location</th>\n",
       "      <th>medium</th>\n",
       "    </tr>\n",
       "  </thead>\n",
       "  <tbody>\n",
       "    <tr>\n",
       "      <th>0</th>\n",
       "      <td>686540</td>\n",
       "      <td>https://chess-results.com/tnr686540.aspx?lan=1</td>\n",
       "      <td>Mellieha, Malta</td>\n",
       "      <td>offline</td>\n",
       "    </tr>\n",
       "    <tr>\n",
       "      <th>1</th>\n",
       "      <td>669871</td>\n",
       "      <td>https://chess-results.com/tnr669871.aspx?lan=1</td>\n",
       "      <td>Mellieha, Malta</td>\n",
       "      <td>offline</td>\n",
       "    </tr>\n",
       "    <tr>\n",
       "      <th>2</th>\n",
       "      <td>686538</td>\n",
       "      <td>https://chess-results.com/tnr686538.aspx?lan=1</td>\n",
       "      <td>Mellieha, Malta</td>\n",
       "      <td>offline</td>\n",
       "    </tr>\n",
       "    <tr>\n",
       "      <th>3</th>\n",
       "      <td>686539</td>\n",
       "      <td>https://chess-results.com/tnr686539.aspx?lan=1</td>\n",
       "      <td>Mellieha, Malta</td>\n",
       "      <td>offline</td>\n",
       "    </tr>\n",
       "    <tr>\n",
       "      <th>4</th>\n",
       "      <td>670407</td>\n",
       "      <td>https://chess-results.com/tnr670407.aspx?lan=1</td>\n",
       "      <td>Cala Gonone - Dorgali (NU)</td>\n",
       "      <td>offline</td>\n",
       "    </tr>\n",
       "  </tbody>\n",
       "</table>\n",
       "</div>"
      ],
      "text/plain": [
       "   tournament_id                                             url  \\\n",
       "0         686540  https://chess-results.com/tnr686540.aspx?lan=1   \n",
       "1         669871  https://chess-results.com/tnr669871.aspx?lan=1   \n",
       "2         686538  https://chess-results.com/tnr686538.aspx?lan=1   \n",
       "3         686539  https://chess-results.com/tnr686539.aspx?lan=1   \n",
       "4         670407  https://chess-results.com/tnr670407.aspx?lan=1   \n",
       "\n",
       "                     location   medium  \n",
       "0             Mellieha, Malta  offline  \n",
       "1             Mellieha, Malta  offline  \n",
       "2             Mellieha, Malta  offline  \n",
       "3             Mellieha, Malta  offline  \n",
       "4  Cala Gonone - Dorgali (NU)  offline  "
      ]
     },
     "execution_count": 102,
     "metadata": {},
     "output_type": "execute_result"
    }
   ],
   "source": [
    "tour_df.head()"
   ]
  },
  {
   "cell_type": "code",
   "execution_count": 152,
   "id": "31579429",
   "metadata": {},
   "outputs": [
    {
     "data": {
      "text/plain": [
       "(215, 4)"
      ]
     },
     "execution_count": 152,
     "metadata": {},
     "output_type": "execute_result"
    }
   ],
   "source": [
    "tour_df[tour_df['medium']=='offline'].shape"
   ]
  },
  {
   "cell_type": "code",
   "execution_count": 103,
   "id": "c74b3767",
   "metadata": {},
   "outputs": [],
   "source": [
    "good_tour_df = tour_df[tour_df['medium'].isin(['offline','online'])]"
   ]
  },
  {
   "cell_type": "code",
   "execution_count": 105,
   "id": "de812a00",
   "metadata": {},
   "outputs": [],
   "source": [
    "good_tour_df.to_csv('./data/tournaments.csv', index=False)"
   ]
  },
  {
   "cell_type": "code",
   "execution_count": null,
   "id": "552c12eb",
   "metadata": {},
   "outputs": [],
   "source": []
  },
  {
   "cell_type": "code",
   "execution_count": 27,
   "id": "dd550794",
   "metadata": {},
   "outputs": [],
   "source": [
    "test_url = f_links[0]"
   ]
  },
  {
   "cell_type": "code",
   "execution_count": 30,
   "id": "21f0dbde",
   "metadata": {},
   "outputs": [],
   "source": [
    "# https://pythonprogramminglanguage.com/get-links-from-webpage/\n",
    "req = Request(test_url)\n",
    "html_page = urlopen(req)"
   ]
  },
  {
   "cell_type": "code",
   "execution_count": 31,
   "id": "1117c9be",
   "metadata": {
    "scrolled": true
   },
   "outputs": [],
   "source": [
    "soup = BeautifulSoup(test_url, 'html.parser')"
   ]
  },
  {
   "cell_type": "code",
   "execution_count": 2,
   "id": "2b5ec1c7",
   "metadata": {},
   "outputs": [],
   "source": [
    "# Get attribute data ..."
   ]
  },
  {
   "cell_type": "code",
   "execution_count": null,
   "id": "9b42408e",
   "metadata": {},
   "outputs": [],
   "source": []
  },
  {
   "cell_type": "code",
   "execution_count": null,
   "id": "16c28038",
   "metadata": {},
   "outputs": [],
   "source": []
  },
  {
   "cell_type": "code",
   "execution_count": null,
   "id": "c6eb8d11",
   "metadata": {},
   "outputs": [],
   "source": []
  },
  {
   "cell_type": "markdown",
   "id": "275de154",
   "metadata": {},
   "source": [
    "### Get tournament results"
   ]
  },
  {
   "cell_type": "code",
   "execution_count": 239,
   "id": "1c98ade8",
   "metadata": {},
   "outputs": [],
   "source": [
    "def get_soup(url):\n",
    "    # Create the soup\n",
    "    req = Request(url)\n",
    "    html_page = urlopen(req)\n",
    "    soup = BeautifulSoup(html_page, 'html.parser')   \n",
    "    \n",
    "    return soup"
   ]
  },
  {
   "cell_type": "code",
   "execution_count": 240,
   "id": "0b39f136",
   "metadata": {},
   "outputs": [],
   "source": [
    "def get_table(url):\n",
    "    soup = get_soup(url)\n",
    "    \n",
    "    # Select the games\n",
    "    df_list = []\n",
    "    rows = soup.select('table tr[class^=\"CR\"]')\n",
    "    \n",
    "    # Get the column names\n",
    "    cols = None\n",
    "    for r in rows:\n",
    "        c = r.select('td[class^=\"CR\"]')\n",
    "        if len(c) > 1:\n",
    "            cols = [c[i].text.strip() for i in range(len(c))]\n",
    "            break\n",
    "    #print(cols)\n",
    "    \n",
    "    # If we can find column names, then move on to appending the rows\n",
    "    if cols:\n",
    "        for r in rows:\n",
    "            # make sure number of cols is big enough (and cut if required)\n",
    "            elems = r.select('td')\n",
    "            if len(elems) >= len(cols):\n",
    "                vals = [elems[i].text.strip() for i in range(len(cols))]\n",
    "                df_list.append(vals)\n",
    "        df = pd.DataFrame(df_list[1:], columns=cols)\n",
    "        return df\n",
    "        \n",
    "    else:\n",
    "        return None\n",
    "        "
   ]
  },
  {
   "cell_type": "code",
   "execution_count": 241,
   "id": "eb1e5627",
   "metadata": {
    "scrolled": false
   },
   "outputs": [
    {
     "data": {
      "text/html": [
       "<div>\n",
       "<style scoped>\n",
       "    .dataframe tbody tr th:only-of-type {\n",
       "        vertical-align: middle;\n",
       "    }\n",
       "\n",
       "    .dataframe tbody tr th {\n",
       "        vertical-align: top;\n",
       "    }\n",
       "\n",
       "    .dataframe thead th {\n",
       "        text-align: right;\n",
       "    }\n",
       "</style>\n",
       "<table border=\"1\" class=\"dataframe\">\n",
       "  <thead>\n",
       "    <tr style=\"text-align: right;\">\n",
       "      <th></th>\n",
       "      <th>No.</th>\n",
       "      <th></th>\n",
       "      <th>Name</th>\n",
       "      <th>ID</th>\n",
       "      <th>FideID</th>\n",
       "      <th>Rtg</th>\n",
       "      <th>sex</th>\n",
       "      <th>Typ</th>\n",
       "      <th>Club/City</th>\n",
       "    </tr>\n",
       "  </thead>\n",
       "  <tbody>\n",
       "    <tr>\n",
       "      <th>0</th>\n",
       "      <td>1</td>\n",
       "      <td>IM</td>\n",
       "      <td>Rathanvel V S</td>\n",
       "      <td>87082021</td>\n",
       "      <td>25002112</td>\n",
       "      <td>2429</td>\n",
       "      <td></td>\n",
       "      <td></td>\n",
       "      <td>TN</td>\n",
       "    </tr>\n",
       "    <tr>\n",
       "      <th>1</th>\n",
       "      <td>2</td>\n",
       "      <td>IM</td>\n",
       "      <td>Nitin S.</td>\n",
       "      <td>70632021</td>\n",
       "      <td>5018277</td>\n",
       "      <td>2390</td>\n",
       "      <td></td>\n",
       "      <td></td>\n",
       "      <td>TN</td>\n",
       "    </tr>\n",
       "    <tr>\n",
       "      <th>2</th>\n",
       "      <td>3</td>\n",
       "      <td>GM</td>\n",
       "      <td>Laxman R.R.</td>\n",
       "      <td>869792021</td>\n",
       "      <td>5005361</td>\n",
       "      <td>2375</td>\n",
       "      <td></td>\n",
       "      <td></td>\n",
       "      <td>ICF</td>\n",
       "    </tr>\n",
       "    <tr>\n",
       "      <th>3</th>\n",
       "      <td>4</td>\n",
       "      <td>IM</td>\n",
       "      <td>Ajay Karthikeyan</td>\n",
       "      <td>67822021</td>\n",
       "      <td>35011685</td>\n",
       "      <td>2341</td>\n",
       "      <td></td>\n",
       "      <td></td>\n",
       "      <td>TN</td>\n",
       "    </tr>\n",
       "    <tr>\n",
       "      <th>4</th>\n",
       "      <td>5</td>\n",
       "      <td>IM</td>\n",
       "      <td>Harikrishnan.A.Ra</td>\n",
       "      <td>7202021</td>\n",
       "      <td>5081483</td>\n",
       "      <td>2309</td>\n",
       "      <td></td>\n",
       "      <td></td>\n",
       "      <td>TN</td>\n",
       "    </tr>\n",
       "  </tbody>\n",
       "</table>\n",
       "</div>"
      ],
      "text/plain": [
       "  No.                   Name         ID    FideID   Rtg sex Typ Club/City\n",
       "0   1  IM      Rathanvel V S   87082021  25002112  2429                TN\n",
       "1   2  IM           Nitin S.   70632021   5018277  2390                TN\n",
       "2   3  GM        Laxman R.R.  869792021   5005361  2375               ICF\n",
       "3   4  IM   Ajay Karthikeyan   67822021  35011685  2341                TN\n",
       "4   5  IM  Harikrishnan.A.Ra    7202021   5081483  2309                TN"
      ]
     },
     "execution_count": 241,
     "metadata": {},
     "output_type": "execute_result"
    }
   ],
   "source": [
    "# testing \n",
    "test_url = 'https://chess-results.com/tnr679621.aspx?lan=1'\n",
    "test_df = get_table(test_url)\n",
    "test_df.head()"
   ]
  },
  {
   "cell_type": "code",
   "execution_count": null,
   "id": "416d7310",
   "metadata": {},
   "outputs": [],
   "source": []
  },
  {
   "cell_type": "markdown",
   "id": "470eaf83",
   "metadata": {},
   "source": [
    "### Get players"
   ]
  },
  {
   "cell_type": "code",
   "execution_count": 242,
   "id": "bdf16471",
   "metadata": {},
   "outputs": [
    {
     "data": {
      "text/html": [
       "<div>\n",
       "<style scoped>\n",
       "    .dataframe tbody tr th:only-of-type {\n",
       "        vertical-align: middle;\n",
       "    }\n",
       "\n",
       "    .dataframe tbody tr th {\n",
       "        vertical-align: top;\n",
       "    }\n",
       "\n",
       "    .dataframe thead th {\n",
       "        text-align: right;\n",
       "    }\n",
       "</style>\n",
       "<table border=\"1\" class=\"dataframe\">\n",
       "  <thead>\n",
       "    <tr style=\"text-align: right;\">\n",
       "      <th></th>\n",
       "      <th>tournament_id</th>\n",
       "      <th>url</th>\n",
       "      <th>location</th>\n",
       "      <th>medium</th>\n",
       "    </tr>\n",
       "  </thead>\n",
       "  <tbody>\n",
       "    <tr>\n",
       "      <th>0</th>\n",
       "      <td>686540</td>\n",
       "      <td>https://chess-results.com/tnr686540.aspx?lan=1</td>\n",
       "      <td>Mellieha, Malta</td>\n",
       "      <td>offline</td>\n",
       "    </tr>\n",
       "    <tr>\n",
       "      <th>1</th>\n",
       "      <td>669871</td>\n",
       "      <td>https://chess-results.com/tnr669871.aspx?lan=1</td>\n",
       "      <td>Mellieha, Malta</td>\n",
       "      <td>offline</td>\n",
       "    </tr>\n",
       "    <tr>\n",
       "      <th>2</th>\n",
       "      <td>686538</td>\n",
       "      <td>https://chess-results.com/tnr686538.aspx?lan=1</td>\n",
       "      <td>Mellieha, Malta</td>\n",
       "      <td>offline</td>\n",
       "    </tr>\n",
       "    <tr>\n",
       "      <th>3</th>\n",
       "      <td>686539</td>\n",
       "      <td>https://chess-results.com/tnr686539.aspx?lan=1</td>\n",
       "      <td>Mellieha, Malta</td>\n",
       "      <td>offline</td>\n",
       "    </tr>\n",
       "    <tr>\n",
       "      <th>4</th>\n",
       "      <td>670407</td>\n",
       "      <td>https://chess-results.com/tnr670407.aspx?lan=1</td>\n",
       "      <td>Cala Gonone - Dorgali (NU)</td>\n",
       "      <td>offline</td>\n",
       "    </tr>\n",
       "  </tbody>\n",
       "</table>\n",
       "</div>"
      ],
      "text/plain": [
       "   tournament_id                                             url  \\\n",
       "0         686540  https://chess-results.com/tnr686540.aspx?lan=1   \n",
       "1         669871  https://chess-results.com/tnr669871.aspx?lan=1   \n",
       "2         686538  https://chess-results.com/tnr686538.aspx?lan=1   \n",
       "3         686539  https://chess-results.com/tnr686539.aspx?lan=1   \n",
       "4         670407  https://chess-results.com/tnr670407.aspx?lan=1   \n",
       "\n",
       "                     location   medium  \n",
       "0             Mellieha, Malta  offline  \n",
       "1             Mellieha, Malta  offline  \n",
       "2             Mellieha, Malta  offline  \n",
       "3             Mellieha, Malta  offline  \n",
       "4  Cala Gonone - Dorgali (NU)  offline  "
      ]
     },
     "execution_count": 242,
     "metadata": {},
     "output_type": "execute_result"
    }
   ],
   "source": [
    "tour_df = pd.read_csv('./data/tournaments.csv')\n",
    "tour_df.head()"
   ]
  },
  {
   "cell_type": "code",
   "execution_count": 249,
   "id": "6c64190e",
   "metadata": {},
   "outputs": [],
   "source": [
    "tour_ids = tour_df['tournament_id']\n",
    "\n",
    "# testing\n",
    "#tour_ids = tour_ids[:1]"
   ]
  },
  {
   "cell_type": "code",
   "execution_count": 250,
   "id": "23c88803",
   "metadata": {},
   "outputs": [],
   "source": [
    "tour_url = 'https://chess-results.com/tnr{tid}.aspx?lan=1'"
   ]
  },
  {
   "cell_type": "code",
   "execution_count": 251,
   "id": "ef4e6c68",
   "metadata": {},
   "outputs": [],
   "source": [
    "req_player_cols = ['Name','FideID','Rtg']"
   ]
  },
  {
   "cell_type": "code",
   "execution_count": 255,
   "id": "b30bacc5",
   "metadata": {
    "scrolled": true
   },
   "outputs": [],
   "source": [
    "# collect players\n",
    "players_df_list = []\n",
    "for tour_id in tour_ids:\n",
    "    print('tour_id: {0}'.format(tour_id))\n",
    "    players_df = get_table(tour_url.format(tid=tour_id))\n",
    "    if players_df is not None and set(req_player_cols).issubset(set(players_df.columns)):\n",
    "        players_df_list.append(players_df[req_player_cols])"
   ]
  },
  {
   "cell_type": "code",
   "execution_count": 256,
   "id": "e1204f38",
   "metadata": {},
   "outputs": [
    {
     "data": {
      "text/html": [
       "<div>\n",
       "<style scoped>\n",
       "    .dataframe tbody tr th:only-of-type {\n",
       "        vertical-align: middle;\n",
       "    }\n",
       "\n",
       "    .dataframe tbody tr th {\n",
       "        vertical-align: top;\n",
       "    }\n",
       "\n",
       "    .dataframe thead th {\n",
       "        text-align: right;\n",
       "    }\n",
       "</style>\n",
       "<table border=\"1\" class=\"dataframe\">\n",
       "  <thead>\n",
       "    <tr style=\"text-align: right;\">\n",
       "      <th></th>\n",
       "      <th>Name</th>\n",
       "      <th>FideID</th>\n",
       "      <th>Rtg</th>\n",
       "    </tr>\n",
       "  </thead>\n",
       "  <tbody>\n",
       "    <tr>\n",
       "      <th>0</th>\n",
       "      <td>dummy</td>\n",
       "      <td>dummy</td>\n",
       "      <td>dummy</td>\n",
       "    </tr>\n",
       "    <tr>\n",
       "      <th>0</th>\n",
       "      <td>Margadgua Erdenebayar</td>\n",
       "      <td>4904052</td>\n",
       "      <td>1667</td>\n",
       "    </tr>\n",
       "    <tr>\n",
       "      <th>1</th>\n",
       "      <td>Alipbek Arailym</td>\n",
       "      <td>13724800</td>\n",
       "      <td>1630</td>\n",
       "    </tr>\n",
       "    <tr>\n",
       "      <th>2</th>\n",
       "      <td>Von Beckh Frieda</td>\n",
       "      <td>16233751</td>\n",
       "      <td>1615</td>\n",
       "    </tr>\n",
       "    <tr>\n",
       "      <th>3</th>\n",
       "      <td>Amulya Guruprasad</td>\n",
       "      <td>25683896</td>\n",
       "      <td>1537</td>\n",
       "    </tr>\n",
       "  </tbody>\n",
       "</table>\n",
       "</div>"
      ],
      "text/plain": [
       "                    Name    FideID    Rtg\n",
       "0                  dummy     dummy  dummy\n",
       "0  Margadgua Erdenebayar   4904052   1667\n",
       "1        Alipbek Arailym  13724800   1630\n",
       "2       Von Beckh Frieda  16233751   1615\n",
       "3      Amulya Guruprasad  25683896   1537"
      ]
     },
     "execution_count": 256,
     "metadata": {},
     "output_type": "execute_result"
    }
   ],
   "source": [
    "players_path = './data/players.csv'\n",
    "\n",
    "# IN THE FUTURE, this will be reading the existing df\n",
    "old_players_df = pd.DataFrame([['dummy','dummy','dummy']], columns=req_player_cols)\n",
    "\n",
    "new_players_df = pd.concat([old_players_df] + players_df_list)\n",
    "new_players_df.head()\n"
   ]
  },
  {
   "cell_type": "code",
   "execution_count": 260,
   "id": "bb06723e",
   "metadata": {},
   "outputs": [],
   "source": [
    "new_players_df.to_csv(players_path, index=False)"
   ]
  },
  {
   "cell_type": "code",
   "execution_count": null,
   "id": "2c5bcca1",
   "metadata": {},
   "outputs": [],
   "source": []
  },
  {
   "cell_type": "markdown",
   "id": "2d46a76b",
   "metadata": {},
   "source": [
    "### Get games"
   ]
  },
  {
   "cell_type": "code",
   "execution_count": 303,
   "id": "a9e94362",
   "metadata": {},
   "outputs": [
    {
     "data": {
      "text/html": [
       "<div>\n",
       "<style scoped>\n",
       "    .dataframe tbody tr th:only-of-type {\n",
       "        vertical-align: middle;\n",
       "    }\n",
       "\n",
       "    .dataframe tbody tr th {\n",
       "        vertical-align: top;\n",
       "    }\n",
       "\n",
       "    .dataframe thead th {\n",
       "        text-align: right;\n",
       "    }\n",
       "</style>\n",
       "<table border=\"1\" class=\"dataframe\">\n",
       "  <thead>\n",
       "    <tr style=\"text-align: right;\">\n",
       "      <th></th>\n",
       "      <th>FideID</th>\n",
       "      <th>Rtg</th>\n",
       "    </tr>\n",
       "    <tr>\n",
       "      <th>Name</th>\n",
       "      <th></th>\n",
       "      <th></th>\n",
       "    </tr>\n",
       "  </thead>\n",
       "  <tbody>\n",
       "    <tr>\n",
       "      <th>dummy</th>\n",
       "      <td>dummy</td>\n",
       "      <td>dummy</td>\n",
       "    </tr>\n",
       "    <tr>\n",
       "      <th>Margadgua Erdenebayar</th>\n",
       "      <td>4904052</td>\n",
       "      <td>1667</td>\n",
       "    </tr>\n",
       "    <tr>\n",
       "      <th>Alipbek Arailym</th>\n",
       "      <td>13724800</td>\n",
       "      <td>1630</td>\n",
       "    </tr>\n",
       "    <tr>\n",
       "      <th>Von Beckh Frieda</th>\n",
       "      <td>16233751</td>\n",
       "      <td>1615</td>\n",
       "    </tr>\n",
       "    <tr>\n",
       "      <th>Amulya Guruprasad</th>\n",
       "      <td>25683896</td>\n",
       "      <td>1537</td>\n",
       "    </tr>\n",
       "  </tbody>\n",
       "</table>\n",
       "</div>"
      ],
      "text/plain": [
       "                         FideID    Rtg\n",
       "Name                                  \n",
       "dummy                     dummy  dummy\n",
       "Margadgua Erdenebayar   4904052   1667\n",
       "Alipbek Arailym        13724800   1630\n",
       "Von Beckh Frieda       16233751   1615\n",
       "Amulya Guruprasad      25683896   1537"
      ]
     },
     "execution_count": 303,
     "metadata": {},
     "output_type": "execute_result"
    }
   ],
   "source": [
    "players_path = './data/players.csv'\n",
    "players = pd.read_csv(players_path)\n",
    "players.set_index('Name', inplace=True)\n",
    "players.head()"
   ]
  },
  {
   "cell_type": "code",
   "execution_count": 304,
   "id": "e0a157d9",
   "metadata": {},
   "outputs": [
    {
     "data": {
      "text/html": [
       "<div>\n",
       "<style scoped>\n",
       "    .dataframe tbody tr th:only-of-type {\n",
       "        vertical-align: middle;\n",
       "    }\n",
       "\n",
       "    .dataframe tbody tr th {\n",
       "        vertical-align: top;\n",
       "    }\n",
       "\n",
       "    .dataframe thead th {\n",
       "        text-align: right;\n",
       "    }\n",
       "</style>\n",
       "<table border=\"1\" class=\"dataframe\">\n",
       "  <thead>\n",
       "    <tr style=\"text-align: right;\">\n",
       "      <th></th>\n",
       "      <th>tournament_id</th>\n",
       "      <th>url</th>\n",
       "      <th>location</th>\n",
       "      <th>medium</th>\n",
       "    </tr>\n",
       "  </thead>\n",
       "  <tbody>\n",
       "    <tr>\n",
       "      <th>0</th>\n",
       "      <td>686540</td>\n",
       "      <td>https://chess-results.com/tnr686540.aspx?lan=1</td>\n",
       "      <td>Mellieha, Malta</td>\n",
       "      <td>offline</td>\n",
       "    </tr>\n",
       "    <tr>\n",
       "      <th>1</th>\n",
       "      <td>669871</td>\n",
       "      <td>https://chess-results.com/tnr669871.aspx?lan=1</td>\n",
       "      <td>Mellieha, Malta</td>\n",
       "      <td>offline</td>\n",
       "    </tr>\n",
       "    <tr>\n",
       "      <th>2</th>\n",
       "      <td>686538</td>\n",
       "      <td>https://chess-results.com/tnr686538.aspx?lan=1</td>\n",
       "      <td>Mellieha, Malta</td>\n",
       "      <td>offline</td>\n",
       "    </tr>\n",
       "    <tr>\n",
       "      <th>3</th>\n",
       "      <td>686539</td>\n",
       "      <td>https://chess-results.com/tnr686539.aspx?lan=1</td>\n",
       "      <td>Mellieha, Malta</td>\n",
       "      <td>offline</td>\n",
       "    </tr>\n",
       "    <tr>\n",
       "      <th>4</th>\n",
       "      <td>670407</td>\n",
       "      <td>https://chess-results.com/tnr670407.aspx?lan=1</td>\n",
       "      <td>Cala Gonone - Dorgali (NU)</td>\n",
       "      <td>offline</td>\n",
       "    </tr>\n",
       "  </tbody>\n",
       "</table>\n",
       "</div>"
      ],
      "text/plain": [
       "   tournament_id                                             url  \\\n",
       "0         686540  https://chess-results.com/tnr686540.aspx?lan=1   \n",
       "1         669871  https://chess-results.com/tnr669871.aspx?lan=1   \n",
       "2         686538  https://chess-results.com/tnr686538.aspx?lan=1   \n",
       "3         686539  https://chess-results.com/tnr686539.aspx?lan=1   \n",
       "4         670407  https://chess-results.com/tnr670407.aspx?lan=1   \n",
       "\n",
       "                     location   medium  \n",
       "0             Mellieha, Malta  offline  \n",
       "1             Mellieha, Malta  offline  \n",
       "2             Mellieha, Malta  offline  \n",
       "3             Mellieha, Malta  offline  \n",
       "4  Cala Gonone - Dorgali (NU)  offline  "
      ]
     },
     "execution_count": 304,
     "metadata": {},
     "output_type": "execute_result"
    }
   ],
   "source": [
    "tour_df = pd.read_csv('./data/tournaments.csv')\n",
    "tour_df.head()"
   ]
  },
  {
   "cell_type": "code",
   "execution_count": 305,
   "id": "b1288580",
   "metadata": {},
   "outputs": [],
   "source": [
    "tour_ids = tour_df['tournament_id']\n",
    "\n",
    "# testing\n",
    "tour_ids = tour_ids[:1]"
   ]
  },
  {
   "cell_type": "code",
   "execution_count": 321,
   "id": "781e7c48",
   "metadata": {},
   "outputs": [],
   "source": [
    "round_url = 'https://chess-results.com/tnr{tid}.aspx?lan=1&art=2&rd={rid}'"
   ]
  },
  {
   "cell_type": "code",
   "execution_count": 335,
   "id": "d4ad7fa5",
   "metadata": {},
   "outputs": [
    {
     "name": "stdout",
     "output_type": "stream",
     "text": [
      "tournament_id: 686540\n",
      "round: 1\n",
      "round: 2\n",
      "round: 3\n",
      "round: 4\n",
      "round: 5\n",
      "round: 6\n",
      "round: 7\n",
      "round: 8\n",
      "round: 9\n",
      "round: 10\n"
     ]
    }
   ],
   "source": [
    "games_df_list = []\n",
    "for tour_id in tour_ids:\n",
    "    print('tournament_id: {0}'.format(tour_id))\n",
    "    \n",
    "    round_id = 1\n",
    "    games_df = get_table(round_url.format(tid=tour_id, rid=round_id))\n",
    "    while games_df is not None:\n",
    "        print('round: {0}'.format(round_id))\n",
    "        \n",
    "        # make left and right distinction\n",
    "        name_idxs = np.where(np.array(games_df.columns) == 'Name')[0].tolist()\n",
    "        rtg_idxs = np.where(np.array(games_df.columns) == 'Rtg')[0].tolist()\n",
    "        if len(name_idxs)==2 and len(rtg_idxs)==2:\n",
    "            games_df.columns.values[name_idxs[0]] = \"left_name\"\n",
    "            games_df.columns.values[name_idxs[1]] = \"right_name\"\n",
    "            games_df.columns.values[rtg_idxs[0]] = \"left_rtg\"\n",
    "            games_df.columns.values[rtg_idxs[1]] = \"right_rtg\"\n",
    "            \n",
    "            games_df = games_df.join(players['FideID'], on='left_name')\n",
    "            games_df.rename(columns={'FideID': 'left_fide_id'}, inplace=True)\n",
    "            games_df = games_df.join(players['FideID'], on='right_name')\n",
    "            games_df.rename(columns={'FideID': 'right_fide_id'}, inplace=True)\n",
    "\n",
    "            # print(games_df.head())\n",
    "            req_game_cols = ['left_fide_id', 'left_rtg', 'right_fide_id', 'right_rtg']\n",
    "            if set(req_game_cols).issubset(set(games_df.columns)):\n",
    "                games_df_list.append(games_df[req_game_cols])\n",
    "            \n",
    "            # Continue formatting the games table\n",
    "            # e.g. who's black and who's white?\n",
    "        \n",
    "        games_df = get_table(round_url.format(tid=tour_id, rid=round_id))\n",
    "    \n",
    "        round_id += 1"
   ]
  },
  {
   "cell_type": "code",
   "execution_count": 336,
   "id": "9775fbc5",
   "metadata": {
    "scrolled": true
   },
   "outputs": [],
   "source": [
    "all_games_df = pd.concat(games_df_list)"
   ]
  },
  {
   "cell_type": "code",
   "execution_count": 337,
   "id": "cfef7c12",
   "metadata": {},
   "outputs": [],
   "source": [
    "all_games_df.to_csv('./data/games.csv')"
   ]
  },
  {
   "cell_type": "code",
   "execution_count": null,
   "id": "ff9c942e",
   "metadata": {},
   "outputs": [],
   "source": []
  },
  {
   "cell_type": "code",
   "execution_count": null,
   "id": "2624061e",
   "metadata": {},
   "outputs": [],
   "source": []
  },
  {
   "cell_type": "code",
   "execution_count": null,
   "id": "d1abdf15",
   "metadata": {},
   "outputs": [],
   "source": []
  },
  {
   "cell_type": "code",
   "execution_count": null,
   "id": "edb92861",
   "metadata": {},
   "outputs": [],
   "source": []
  },
  {
   "cell_type": "code",
   "execution_count": null,
   "id": "0dceea14",
   "metadata": {},
   "outputs": [],
   "source": []
  },
  {
   "cell_type": "code",
   "execution_count": null,
   "id": "7b254948",
   "metadata": {},
   "outputs": [],
   "source": []
  },
  {
   "cell_type": "code",
   "execution_count": null,
   "id": "f3fccd7c",
   "metadata": {},
   "outputs": [],
   "source": []
  },
  {
   "cell_type": "code",
   "execution_count": null,
   "id": "b2ab1e17",
   "metadata": {},
   "outputs": [],
   "source": []
  },
  {
   "cell_type": "code",
   "execution_count": null,
   "id": "aea36042",
   "metadata": {},
   "outputs": [],
   "source": []
  },
  {
   "cell_type": "code",
   "execution_count": null,
   "id": "026356f9",
   "metadata": {},
   "outputs": [],
   "source": []
  },
  {
   "cell_type": "code",
   "execution_count": null,
   "id": "3b68832d",
   "metadata": {},
   "outputs": [],
   "source": []
  },
  {
   "cell_type": "code",
   "execution_count": null,
   "id": "9459dd32",
   "metadata": {},
   "outputs": [],
   "source": []
  },
  {
   "cell_type": "code",
   "execution_count": null,
   "id": "b802146e",
   "metadata": {},
   "outputs": [],
   "source": []
  },
  {
   "cell_type": "code",
   "execution_count": null,
   "id": "afc58f24",
   "metadata": {},
   "outputs": [],
   "source": []
  },
  {
   "cell_type": "code",
   "execution_count": null,
   "id": "b1d4ce5d",
   "metadata": {},
   "outputs": [],
   "source": []
  },
  {
   "cell_type": "code",
   "execution_count": null,
   "id": "f905a9b4",
   "metadata": {},
   "outputs": [],
   "source": []
  },
  {
   "cell_type": "code",
   "execution_count": null,
   "id": "12f6287a",
   "metadata": {},
   "outputs": [],
   "source": []
  },
  {
   "cell_type": "code",
   "execution_count": null,
   "id": "de34dbdb",
   "metadata": {},
   "outputs": [],
   "source": []
  },
  {
   "cell_type": "code",
   "execution_count": null,
   "id": "be87be85",
   "metadata": {},
   "outputs": [],
   "source": []
  },
  {
   "cell_type": "code",
   "execution_count": null,
   "id": "13fd3f6b",
   "metadata": {},
   "outputs": [],
   "source": []
  },
  {
   "cell_type": "code",
   "execution_count": null,
   "id": "f4b5bdd4",
   "metadata": {},
   "outputs": [],
   "source": []
  },
  {
   "cell_type": "code",
   "execution_count": null,
   "id": "11d3db81",
   "metadata": {},
   "outputs": [],
   "source": []
  }
 ],
 "metadata": {
  "kernelspec": {
   "display_name": "Python 3 (ipykernel)",
   "language": "python",
   "name": "python3"
  },
  "language_info": {
   "codemirror_mode": {
    "name": "ipython",
    "version": 3
   },
   "file_extension": ".py",
   "mimetype": "text/x-python",
   "name": "python",
   "nbconvert_exporter": "python",
   "pygments_lexer": "ipython3",
   "version": "3.10.4"
  }
 },
 "nbformat": 4,
 "nbformat_minor": 5
}
