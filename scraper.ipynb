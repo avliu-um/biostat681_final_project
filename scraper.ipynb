{
 "cells": [
  {
   "cell_type": "code",
   "execution_count": 18,
   "id": "5a69c2a0",
   "metadata": {},
   "outputs": [],
   "source": [
    "from bs4 import BeautifulSoup\n",
    "from urllib.request import Request, urlopen\n",
    "\n",
    "import pandas as pd\n",
    "import numpy as np\n",
    "import re\n",
    "\n",
    "import traceback"
   ]
  },
  {
   "cell_type": "code",
   "execution_count": null,
   "id": "98a09f4e",
   "metadata": {},
   "outputs": [],
   "source": []
  },
  {
   "cell_type": "code",
   "execution_count": null,
   "id": "bcadd9e5",
   "metadata": {},
   "outputs": [],
   "source": []
  },
  {
   "cell_type": "markdown",
   "id": "decb5ff8",
   "metadata": {},
   "source": [
    "### Get tournament url's that fit our criteria (online/offline)\n",
    "TODO: Convert the table collecting process to my get_table method"
   ]
  },
  {
   "cell_type": "code",
   "execution_count": null,
   "id": "9d8bf0cb",
   "metadata": {},
   "outputs": [],
   "source": [
    "url = \"./chess_results.html\"\n",
    "with open(url) as fp:\n",
    "    soup = BeautifulSoup(fp, 'html.parser')"
   ]
  },
  {
   "cell_type": "code",
   "execution_count": null,
   "id": "6d47b9d4",
   "metadata": {},
   "outputs": [],
   "source": []
  },
  {
   "cell_type": "code",
   "execution_count": null,
   "id": "93d66ca8",
   "metadata": {
    "scrolled": true
   },
   "outputs": [],
   "source": [
    "tour_df_list = []\n",
    "# using soup to select by css selectors\n",
    "# https://stackoverflow.com/questions/24801548/how-to-use-css-selectors-to-retrieve-specific-links-lying-in-some-class-using-be\n",
    "table = soup.select('table.CRs2 tr')\n",
    "\n",
    "# ignore first row\n",
    "for row in table[1:]:\n",
    "    \n",
    "    # Get values in row\n",
    "    vals = row.select('td')\n",
    "    \n",
    "    # Get url\n",
    "    url_idx = 0\n",
    "    url = vals[url_idx].a['href']\n",
    "    tour_id = int(re.findall(\"tnr(\\d+).aspx\", url)[0])\n",
    "    \n",
    "    # Get location\n",
    "    loc_idx = 8\n",
    "    location = vals[loc_idx].text.strip()\n",
    "    \n",
    "    # Get medium (online or offline)\n",
    "    medium = None\n",
    "    if '.com' in location.lower() or 'online' in location.lower():\n",
    "        medium = 'online'\n",
    "    elif location != '':\n",
    "        medium = 'offline'\n",
    "        \n",
    "    # Get Time Control\n",
    "    time_control_idx = len(vals)-5\n",
    "    time_control = vals[time_control_idx].text.strip()\n",
    "     \n",
    "    tour_data = {\n",
    "        'tournament_id': tour_id,\n",
    "        'url': url,\n",
    "        'location': location,\n",
    "        'medium': medium,\n",
    "        'time_control': time_control\n",
    "    }\n",
    "    tour_df_list.append(tour_data)\n",
    "\n",
    "    "
   ]
  },
  {
   "cell_type": "code",
   "execution_count": null,
   "id": "ca1a59c0",
   "metadata": {},
   "outputs": [],
   "source": [
    "tour_df = pd.DataFrame(tour_df_list)"
   ]
  },
  {
   "cell_type": "code",
   "execution_count": null,
   "id": "30656447",
   "metadata": {},
   "outputs": [],
   "source": [
    "tour_df.head()"
   ]
  },
  {
   "cell_type": "code",
   "execution_count": null,
   "id": "31579429",
   "metadata": {},
   "outputs": [],
   "source": [
    "tour_df[tour_df['medium']=='offline'].shape"
   ]
  },
  {
   "cell_type": "code",
   "execution_count": null,
   "id": "c74b3767",
   "metadata": {},
   "outputs": [],
   "source": [
    "good_tour_df = tour_df[tour_df['medium'].isin(['offline','online'])]"
   ]
  },
  {
   "cell_type": "code",
   "execution_count": null,
   "id": "de812a00",
   "metadata": {},
   "outputs": [],
   "source": [
    "good_tour_df.to_csv('./data/tournaments.csv', index=False)"
   ]
  },
  {
   "cell_type": "code",
   "execution_count": null,
   "id": "552c12eb",
   "metadata": {},
   "outputs": [],
   "source": []
  },
  {
   "cell_type": "markdown",
   "id": "275de154",
   "metadata": {},
   "source": [
    "### Get tournament results"
   ]
  },
  {
   "cell_type": "code",
   "execution_count": 3,
   "id": "1c98ade8",
   "metadata": {},
   "outputs": [],
   "source": [
    "def get_soup(url):\n",
    "    # Create the soup\n",
    "    req = Request(url)\n",
    "    html_page = urlopen(req)\n",
    "    soup = BeautifulSoup(html_page, 'html.parser')   \n",
    "    \n",
    "    return soup"
   ]
  },
  {
   "cell_type": "code",
   "execution_count": 4,
   "id": "0b39f136",
   "metadata": {},
   "outputs": [],
   "source": [
    "# TODO: Move this to a non-tournament location (along with get_soup)\n",
    "def get_table(url):\n",
    "    soup = get_soup(url)\n",
    "    \n",
    "    # Select the games\n",
    "    df_list = []\n",
    "    rows = soup.select('table tr[class^=\"CR\"]')\n",
    "    \n",
    "    # Get the column names\n",
    "    cols = None\n",
    "    for r in rows:\n",
    "        c = r.select('td[class^=\"CR\"]')\n",
    "        if len(c) > 1:\n",
    "            cols = [c[i].text.strip() for i in range(len(c))]\n",
    "            break\n",
    "    #print(cols)\n",
    "    \n",
    "    # If we can find column names, then move on to appending the rows\n",
    "    if cols:\n",
    "        for r in rows:\n",
    "            # make sure number of cols is big enough (and cut if required)\n",
    "            elems = r.select('td')\n",
    "            if len(elems) >= len(cols):\n",
    "                vals = [elems[i].text.strip() for i in range(len(cols))]\n",
    "                df_list.append(vals)\n",
    "        df = pd.DataFrame(df_list[1:], columns=cols)\n",
    "        return df\n",
    "        \n",
    "    else:\n",
    "        return None\n",
    "        "
   ]
  },
  {
   "cell_type": "code",
   "execution_count": null,
   "id": "eb1e5627",
   "metadata": {
    "scrolled": false
   },
   "outputs": [],
   "source": [
    "# testing \n",
    "test_url = 'https://chess-results.com/tnr679621.aspx?lan=1'\n",
    "test_df = get_table(test_url)\n",
    "test_df.head()"
   ]
  },
  {
   "cell_type": "code",
   "execution_count": null,
   "id": "416d7310",
   "metadata": {},
   "outputs": [],
   "source": []
  },
  {
   "cell_type": "markdown",
   "id": "470eaf83",
   "metadata": {},
   "source": [
    "### Get players"
   ]
  },
  {
   "cell_type": "code",
   "execution_count": null,
   "id": "bdf16471",
   "metadata": {},
   "outputs": [],
   "source": [
    "tour_df = pd.read_csv('./data/tournaments.csv')\n",
    "tour_df.head()"
   ]
  },
  {
   "cell_type": "code",
   "execution_count": null,
   "id": "6c64190e",
   "metadata": {},
   "outputs": [],
   "source": [
    "tour_ids = tour_df['tournament_id']\n",
    "\n",
    "# testing\n",
    "#tour_ids = tour_ids[:1]"
   ]
  },
  {
   "cell_type": "code",
   "execution_count": null,
   "id": "23c88803",
   "metadata": {},
   "outputs": [],
   "source": [
    "tour_url = 'https://chess-results.com/tnr{tid}.aspx?lan=1'"
   ]
  },
  {
   "cell_type": "code",
   "execution_count": null,
   "id": "ef4e6c68",
   "metadata": {},
   "outputs": [],
   "source": [
    "req_player_cols = ['Name','FideID','Rtg']"
   ]
  },
  {
   "cell_type": "code",
   "execution_count": null,
   "id": "b30bacc5",
   "metadata": {
    "scrolled": true
   },
   "outputs": [],
   "source": [
    "# collect players\n",
    "players_df_list = []\n",
    "for tour_id in tour_ids:\n",
    "    print('tour_id: {0}'.format(tour_id))\n",
    "    players_df = get_table(tour_url.format(tid=tour_id))\n",
    "    if players_df is not None and set(req_player_cols).issubset(set(players_df.columns)):\n",
    "        players_df_list.append(players_df[req_player_cols])"
   ]
  },
  {
   "cell_type": "code",
   "execution_count": null,
   "id": "e1204f38",
   "metadata": {},
   "outputs": [],
   "source": [
    "players_path = './data/players.csv'\n",
    "\n",
    "# IN THE FUTURE, this will be reading the existing df\n",
    "old_players_df = pd.DataFrame([['dummy','dummy','dummy']], columns=req_player_cols)\n",
    "\n",
    "new_players_df = pd.concat([old_players_df] + players_df_list)\n",
    "new_players_df.head()\n"
   ]
  },
  {
   "cell_type": "code",
   "execution_count": null,
   "id": "bb06723e",
   "metadata": {},
   "outputs": [],
   "source": [
    "new_players_df.to_csv(players_path, index=False)"
   ]
  },
  {
   "cell_type": "code",
   "execution_count": null,
   "id": "2c5bcca1",
   "metadata": {},
   "outputs": [],
   "source": []
  },
  {
   "cell_type": "markdown",
   "id": "2d46a76b",
   "metadata": {},
   "source": [
    "### Get games\n",
    "\n",
    "(11/20) URL https://chess-results.com/tnr683767.aspx?lan=1&art=2&rd=1&flag=30 has two issues:\n",
    "- infinite rounds (i.e. rd=x yields same results table for any x)\n",
    "- trouble converting required columns (specifically Rtg) into int (somewhere hidden there is a string)\n",
    "    - upon further review, it is the repeated column header for each round"
   ]
  },
  {
   "cell_type": "code",
   "execution_count": 5,
   "id": "a9e94362",
   "metadata": {},
   "outputs": [
    {
     "data": {
      "text/html": [
       "<div>\n",
       "<style scoped>\n",
       "    .dataframe tbody tr th:only-of-type {\n",
       "        vertical-align: middle;\n",
       "    }\n",
       "\n",
       "    .dataframe tbody tr th {\n",
       "        vertical-align: top;\n",
       "    }\n",
       "\n",
       "    .dataframe thead th {\n",
       "        text-align: right;\n",
       "    }\n",
       "</style>\n",
       "<table border=\"1\" class=\"dataframe\">\n",
       "  <thead>\n",
       "    <tr style=\"text-align: right;\">\n",
       "      <th></th>\n",
       "      <th>FideID</th>\n",
       "      <th>Rtg</th>\n",
       "    </tr>\n",
       "    <tr>\n",
       "      <th>Name</th>\n",
       "      <th></th>\n",
       "      <th></th>\n",
       "    </tr>\n",
       "  </thead>\n",
       "  <tbody>\n",
       "    <tr>\n",
       "      <th>dummy</th>\n",
       "      <td>dummy</td>\n",
       "      <td>dummy</td>\n",
       "    </tr>\n",
       "    <tr>\n",
       "      <th>Margadgua Erdenebayar</th>\n",
       "      <td>4904052</td>\n",
       "      <td>1667</td>\n",
       "    </tr>\n",
       "    <tr>\n",
       "      <th>Alipbek Arailym</th>\n",
       "      <td>13724800</td>\n",
       "      <td>1630</td>\n",
       "    </tr>\n",
       "    <tr>\n",
       "      <th>Von Beckh Frieda</th>\n",
       "      <td>16233751</td>\n",
       "      <td>1615</td>\n",
       "    </tr>\n",
       "    <tr>\n",
       "      <th>Amulya Guruprasad</th>\n",
       "      <td>25683896</td>\n",
       "      <td>1537</td>\n",
       "    </tr>\n",
       "  </tbody>\n",
       "</table>\n",
       "</div>"
      ],
      "text/plain": [
       "                         FideID    Rtg\n",
       "Name                                  \n",
       "dummy                     dummy  dummy\n",
       "Margadgua Erdenebayar   4904052   1667\n",
       "Alipbek Arailym        13724800   1630\n",
       "Von Beckh Frieda       16233751   1615\n",
       "Amulya Guruprasad      25683896   1537"
      ]
     },
     "execution_count": 5,
     "metadata": {},
     "output_type": "execute_result"
    }
   ],
   "source": [
    "players_path = './data/players.csv'\n",
    "players = pd.read_csv(players_path)\n",
    "players.set_index('Name', inplace=True)\n",
    "players.head()"
   ]
  },
  {
   "cell_type": "code",
   "execution_count": 6,
   "id": "e0a157d9",
   "metadata": {},
   "outputs": [
    {
     "data": {
      "text/html": [
       "<div>\n",
       "<style scoped>\n",
       "    .dataframe tbody tr th:only-of-type {\n",
       "        vertical-align: middle;\n",
       "    }\n",
       "\n",
       "    .dataframe tbody tr th {\n",
       "        vertical-align: top;\n",
       "    }\n",
       "\n",
       "    .dataframe thead th {\n",
       "        text-align: right;\n",
       "    }\n",
       "</style>\n",
       "<table border=\"1\" class=\"dataframe\">\n",
       "  <thead>\n",
       "    <tr style=\"text-align: right;\">\n",
       "      <th></th>\n",
       "      <th>url</th>\n",
       "      <th>location</th>\n",
       "      <th>medium</th>\n",
       "      <th>time_control</th>\n",
       "    </tr>\n",
       "    <tr>\n",
       "      <th>tournament_id</th>\n",
       "      <th></th>\n",
       "      <th></th>\n",
       "      <th></th>\n",
       "      <th></th>\n",
       "    </tr>\n",
       "  </thead>\n",
       "  <tbody>\n",
       "    <tr>\n",
       "      <th>686540</th>\n",
       "      <td>https://chess-results.com/tnr686540.aspx?lan=1</td>\n",
       "      <td>Mellieha, Malta</td>\n",
       "      <td>offline</td>\n",
       "      <td>90min+30sec/move</td>\n",
       "    </tr>\n",
       "    <tr>\n",
       "      <th>669871</th>\n",
       "      <td>https://chess-results.com/tnr669871.aspx?lan=1</td>\n",
       "      <td>Mellieha, Malta</td>\n",
       "      <td>offline</td>\n",
       "      <td>90min+30sec/move</td>\n",
       "    </tr>\n",
       "    <tr>\n",
       "      <th>686538</th>\n",
       "      <td>https://chess-results.com/tnr686538.aspx?lan=1</td>\n",
       "      <td>Mellieha, Malta</td>\n",
       "      <td>offline</td>\n",
       "      <td>90min+30sec/move</td>\n",
       "    </tr>\n",
       "    <tr>\n",
       "      <th>686539</th>\n",
       "      <td>https://chess-results.com/tnr686539.aspx?lan=1</td>\n",
       "      <td>Mellieha, Malta</td>\n",
       "      <td>offline</td>\n",
       "      <td>90min+30sec/move</td>\n",
       "    </tr>\n",
       "    <tr>\n",
       "      <th>670407</th>\n",
       "      <td>https://chess-results.com/tnr670407.aspx?lan=1</td>\n",
       "      <td>Cala Gonone - Dorgali (NU)</td>\n",
       "      <td>offline</td>\n",
       "      <td>90'/40 moves + 30' + 30'' bonus</td>\n",
       "    </tr>\n",
       "  </tbody>\n",
       "</table>\n",
       "</div>"
      ],
      "text/plain": [
       "                                                          url  \\\n",
       "tournament_id                                                   \n",
       "686540         https://chess-results.com/tnr686540.aspx?lan=1   \n",
       "669871         https://chess-results.com/tnr669871.aspx?lan=1   \n",
       "686538         https://chess-results.com/tnr686538.aspx?lan=1   \n",
       "686539         https://chess-results.com/tnr686539.aspx?lan=1   \n",
       "670407         https://chess-results.com/tnr670407.aspx?lan=1   \n",
       "\n",
       "                                 location   medium  \\\n",
       "tournament_id                                        \n",
       "686540                    Mellieha, Malta  offline   \n",
       "669871                    Mellieha, Malta  offline   \n",
       "686538                    Mellieha, Malta  offline   \n",
       "686539                    Mellieha, Malta  offline   \n",
       "670407         Cala Gonone - Dorgali (NU)  offline   \n",
       "\n",
       "                                  time_control  \n",
       "tournament_id                                   \n",
       "686540                        90min+30sec/move  \n",
       "669871                        90min+30sec/move  \n",
       "686538                        90min+30sec/move  \n",
       "686539                        90min+30sec/move  \n",
       "670407         90'/40 moves + 30' + 30'' bonus  "
      ]
     },
     "execution_count": 6,
     "metadata": {},
     "output_type": "execute_result"
    }
   ],
   "source": [
    "tour_df = pd.read_csv('./data/tournaments.csv')\n",
    "tour_df.set_index('tournament_id', inplace=True)\n",
    "\n",
    "tour_df.head()"
   ]
  },
  {
   "cell_type": "code",
   "execution_count": 23,
   "id": "b1288580",
   "metadata": {},
   "outputs": [],
   "source": [
    "tour_ids = list(tour_df.index)\n",
    "\n",
    "# testing\n",
    "#tour_ids = tour_ids[:2]"
   ]
  },
  {
   "cell_type": "code",
   "execution_count": 24,
   "id": "781e7c48",
   "metadata": {},
   "outputs": [],
   "source": [
    "round_url = 'https://chess-results.com/tnr{tid}.aspx?lan=1&art=2&rd={rid}'"
   ]
  },
  {
   "cell_type": "code",
   "execution_count": 25,
   "id": "04d8d2c1",
   "metadata": {},
   "outputs": [],
   "source": [
    "def parse_games_df(games_df):\n",
    "    # make left and right distinction\n",
    "    name_idxs = np.where(np.array(games_df.columns) == 'Name')[0].tolist()\n",
    "    rtg_idxs = np.where(np.array(games_df.columns) == 'Rtg')[0].tolist()\n",
    "\n",
    "    games_df.columns.values[name_idxs[0]] = \"left_name\"\n",
    "    games_df.columns.values[name_idxs[1]] = \"right_name\"\n",
    "    games_df.columns.values[rtg_idxs[0]] = \"left_rtg\"\n",
    "    games_df.columns.values[rtg_idxs[1]] = \"right_rtg\"\n",
    "\n",
    "    games_df = games_df.join(players['FideID'], on='left_name')\n",
    "    games_df.rename(columns={'FideID': 'left_fide_id'}, inplace=True)\n",
    "    games_df = games_df.join(players['FideID'], on='right_name')\n",
    "    games_df.rename(columns={'FideID': 'right_fide_id'}, inplace=True)\n",
    "\n",
    "    games_df['tournament_id'] = [tour_id for i in range(games_df.shape[0])]\n",
    "\n",
    "    games_df = games_df.astype({\n",
    "        'left_rtg': 'int',\n",
    "        'right_rtg': 'int',\n",
    "        'left_fide_id': 'int',\n",
    "        'right_fide_id': 'int',\n",
    "        'tournament_id': 'int',\n",
    "    })\n",
    "\n",
    "    # TODO: who's black and who's white?\n",
    "\n",
    "    # Upset_score\n",
    "    upset_scores = []\n",
    "    for index, row in games_df.iterrows():\n",
    "        #print(row)\n",
    "        score=0\n",
    "        result = row['Result']\n",
    "        left_rtg = row['left_rtg']\n",
    "        right_rtg = row['right_rtg']\n",
    "        if (result=='1 - 0' and left_rtg<right_rtg) or (result=='0 - 1' and right_rtg<left_rtg):\n",
    "            score = abs(right_rtg - left_rtg)\n",
    "        elif result=='½ - ½':\n",
    "            score = abs(right_rtg - left_rtg) * 0.5\n",
    "        upset_scores.append(score)\n",
    "    games_df['upset_score'] = upset_scores\n",
    "\n",
    "    # print(games_df.head())\n",
    "    req_game_cols = ['upset_score', 'tournament_id', 'left_fide_id', 'left_rtg', 'right_fide_id', 'right_rtg']\n",
    "    if set(req_game_cols).issubset(set(games_df.columns)):\n",
    "        return games_df[req_game_cols]\n",
    "    else:\n",
    "        return None"
   ]
  },
  {
   "cell_type": "code",
   "execution_count": 26,
   "id": "d4ad7fa5",
   "metadata": {},
   "outputs": [
    {
     "name": "stdout",
     "output_type": "stream",
     "text": [
      "tournament_id: 686540\n",
      "round: 1\n",
      "round: 2\n",
      "round: 3\n",
      "round: 4\n",
      "round: 5\n",
      "round: 6\n",
      "round: 7\n",
      "round: 8\n",
      "round: 9\n",
      "tournament_id: 669871\n",
      "round: 1\n",
      "round: 2\n",
      "invalid literal for int() with base 10: ''\n",
      "tournament_id: 686538\n"
     ]
    },
    {
     "name": "stderr",
     "output_type": "stream",
     "text": [
      "Traceback (most recent call last):\n",
      "  File \"/var/folders/t6/srtzy2f51db8mxxv7g_63f6h0000gr/T/ipykernel_72356/422094622.py\", line 19, in <cell line: 2>\n",
      "    games_df_list.append(parse_games_df(games_df))\n",
      "  File \"/var/folders/t6/srtzy2f51db8mxxv7g_63f6h0000gr/T/ipykernel_72356/3212580384.py\", line 18, in parse_games_df\n",
      "    games_df = games_df.astype({\n",
      "  File \"/Users/avliu/opt/anaconda3/envs/hugging-face/lib/python3.10/site-packages/pandas/core/generic.py\", line 5898, in astype\n",
      "    res_col = col.astype(dtype=cdt, copy=copy, errors=errors)\n",
      "  File \"/Users/avliu/opt/anaconda3/envs/hugging-face/lib/python3.10/site-packages/pandas/core/generic.py\", line 5912, in astype\n",
      "    new_data = self._mgr.astype(dtype=dtype, copy=copy, errors=errors)\n",
      "  File \"/Users/avliu/opt/anaconda3/envs/hugging-face/lib/python3.10/site-packages/pandas/core/internals/managers.py\", line 419, in astype\n",
      "    return self.apply(\"astype\", dtype=dtype, copy=copy, errors=errors)\n",
      "  File \"/Users/avliu/opt/anaconda3/envs/hugging-face/lib/python3.10/site-packages/pandas/core/internals/managers.py\", line 304, in apply\n",
      "    applied = getattr(b, f)(**kwargs)\n",
      "  File \"/Users/avliu/opt/anaconda3/envs/hugging-face/lib/python3.10/site-packages/pandas/core/internals/blocks.py\", line 580, in astype\n",
      "    new_values = astype_array_safe(values, dtype, copy=copy, errors=errors)\n",
      "  File \"/Users/avliu/opt/anaconda3/envs/hugging-face/lib/python3.10/site-packages/pandas/core/dtypes/cast.py\", line 1292, in astype_array_safe\n",
      "    new_values = astype_array(values, dtype, copy=copy)\n",
      "  File \"/Users/avliu/opt/anaconda3/envs/hugging-face/lib/python3.10/site-packages/pandas/core/dtypes/cast.py\", line 1237, in astype_array\n",
      "    values = astype_nansafe(values, dtype, copy=copy)\n",
      "  File \"/Users/avliu/opt/anaconda3/envs/hugging-face/lib/python3.10/site-packages/pandas/core/dtypes/cast.py\", line 1154, in astype_nansafe\n",
      "    return lib.astype_intsafe(arr, dtype)\n",
      "  File \"pandas/_libs/lib.pyx\", line 668, in pandas._libs.lib.astype_intsafe\n",
      "ValueError: invalid literal for int() with base 10: ''\n"
     ]
    },
    {
     "name": "stdout",
     "output_type": "stream",
     "text": [
      "round: 1\n",
      "round: 2\n",
      "invalid literal for int() with base 10: ''\n",
      "tournament_id: 686539\n"
     ]
    },
    {
     "name": "stderr",
     "output_type": "stream",
     "text": [
      "Traceback (most recent call last):\n",
      "  File \"/var/folders/t6/srtzy2f51db8mxxv7g_63f6h0000gr/T/ipykernel_72356/422094622.py\", line 19, in <cell line: 2>\n",
      "    games_df_list.append(parse_games_df(games_df))\n",
      "  File \"/var/folders/t6/srtzy2f51db8mxxv7g_63f6h0000gr/T/ipykernel_72356/3212580384.py\", line 18, in parse_games_df\n",
      "    games_df = games_df.astype({\n",
      "  File \"/Users/avliu/opt/anaconda3/envs/hugging-face/lib/python3.10/site-packages/pandas/core/generic.py\", line 5898, in astype\n",
      "    res_col = col.astype(dtype=cdt, copy=copy, errors=errors)\n",
      "  File \"/Users/avliu/opt/anaconda3/envs/hugging-face/lib/python3.10/site-packages/pandas/core/generic.py\", line 5912, in astype\n",
      "    new_data = self._mgr.astype(dtype=dtype, copy=copy, errors=errors)\n",
      "  File \"/Users/avliu/opt/anaconda3/envs/hugging-face/lib/python3.10/site-packages/pandas/core/internals/managers.py\", line 419, in astype\n",
      "    return self.apply(\"astype\", dtype=dtype, copy=copy, errors=errors)\n",
      "  File \"/Users/avliu/opt/anaconda3/envs/hugging-face/lib/python3.10/site-packages/pandas/core/internals/managers.py\", line 304, in apply\n",
      "    applied = getattr(b, f)(**kwargs)\n",
      "  File \"/Users/avliu/opt/anaconda3/envs/hugging-face/lib/python3.10/site-packages/pandas/core/internals/blocks.py\", line 580, in astype\n",
      "    new_values = astype_array_safe(values, dtype, copy=copy, errors=errors)\n",
      "  File \"/Users/avliu/opt/anaconda3/envs/hugging-face/lib/python3.10/site-packages/pandas/core/dtypes/cast.py\", line 1292, in astype_array_safe\n",
      "    new_values = astype_array(values, dtype, copy=copy)\n",
      "  File \"/Users/avliu/opt/anaconda3/envs/hugging-face/lib/python3.10/site-packages/pandas/core/dtypes/cast.py\", line 1237, in astype_array\n",
      "    values = astype_nansafe(values, dtype, copy=copy)\n",
      "  File \"/Users/avliu/opt/anaconda3/envs/hugging-face/lib/python3.10/site-packages/pandas/core/dtypes/cast.py\", line 1154, in astype_nansafe\n",
      "    return lib.astype_intsafe(arr, dtype)\n",
      "  File \"pandas/_libs/lib.pyx\", line 668, in pandas._libs.lib.astype_intsafe\n",
      "ValueError: invalid literal for int() with base 10: ''\n"
     ]
    },
    {
     "name": "stdout",
     "output_type": "stream",
     "text": [
      "round: 1\n",
      "cannot convert float NaN to integer\n",
      "tournament_id: 670407\n"
     ]
    },
    {
     "name": "stderr",
     "output_type": "stream",
     "text": [
      "Traceback (most recent call last):\n",
      "  File \"/var/folders/t6/srtzy2f51db8mxxv7g_63f6h0000gr/T/ipykernel_72356/422094622.py\", line 19, in <cell line: 2>\n",
      "    games_df_list.append(parse_games_df(games_df))\n",
      "  File \"/var/folders/t6/srtzy2f51db8mxxv7g_63f6h0000gr/T/ipykernel_72356/3212580384.py\", line 18, in parse_games_df\n",
      "    games_df = games_df.astype({\n",
      "  File \"/Users/avliu/opt/anaconda3/envs/hugging-face/lib/python3.10/site-packages/pandas/core/generic.py\", line 5898, in astype\n",
      "    res_col = col.astype(dtype=cdt, copy=copy, errors=errors)\n",
      "  File \"/Users/avliu/opt/anaconda3/envs/hugging-face/lib/python3.10/site-packages/pandas/core/generic.py\", line 5912, in astype\n",
      "    new_data = self._mgr.astype(dtype=dtype, copy=copy, errors=errors)\n",
      "  File \"/Users/avliu/opt/anaconda3/envs/hugging-face/lib/python3.10/site-packages/pandas/core/internals/managers.py\", line 419, in astype\n",
      "    return self.apply(\"astype\", dtype=dtype, copy=copy, errors=errors)\n",
      "  File \"/Users/avliu/opt/anaconda3/envs/hugging-face/lib/python3.10/site-packages/pandas/core/internals/managers.py\", line 304, in apply\n",
      "    applied = getattr(b, f)(**kwargs)\n",
      "  File \"/Users/avliu/opt/anaconda3/envs/hugging-face/lib/python3.10/site-packages/pandas/core/internals/blocks.py\", line 580, in astype\n",
      "    new_values = astype_array_safe(values, dtype, copy=copy, errors=errors)\n",
      "  File \"/Users/avliu/opt/anaconda3/envs/hugging-face/lib/python3.10/site-packages/pandas/core/dtypes/cast.py\", line 1292, in astype_array_safe\n",
      "    new_values = astype_array(values, dtype, copy=copy)\n",
      "  File \"/Users/avliu/opt/anaconda3/envs/hugging-face/lib/python3.10/site-packages/pandas/core/dtypes/cast.py\", line 1237, in astype_array\n",
      "    values = astype_nansafe(values, dtype, copy=copy)\n",
      "  File \"/Users/avliu/opt/anaconda3/envs/hugging-face/lib/python3.10/site-packages/pandas/core/dtypes/cast.py\", line 1154, in astype_nansafe\n",
      "    return lib.astype_intsafe(arr, dtype)\n",
      "  File \"pandas/_libs/lib.pyx\", line 668, in pandas._libs.lib.astype_intsafe\n",
      "ValueError: cannot convert float NaN to integer\n"
     ]
    },
    {
     "name": "stdout",
     "output_type": "stream",
     "text": [
      "round: 1\n",
      "round: 2\n",
      "cannot convert float NaN to integer\n",
      "tournament_id: 670410\n"
     ]
    },
    {
     "name": "stderr",
     "output_type": "stream",
     "text": [
      "Traceback (most recent call last):\n",
      "  File \"/var/folders/t6/srtzy2f51db8mxxv7g_63f6h0000gr/T/ipykernel_72356/422094622.py\", line 19, in <cell line: 2>\n",
      "    games_df_list.append(parse_games_df(games_df))\n",
      "  File \"/var/folders/t6/srtzy2f51db8mxxv7g_63f6h0000gr/T/ipykernel_72356/3212580384.py\", line 18, in parse_games_df\n",
      "    games_df = games_df.astype({\n",
      "  File \"/Users/avliu/opt/anaconda3/envs/hugging-face/lib/python3.10/site-packages/pandas/core/generic.py\", line 5898, in astype\n",
      "    res_col = col.astype(dtype=cdt, copy=copy, errors=errors)\n",
      "  File \"/Users/avliu/opt/anaconda3/envs/hugging-face/lib/python3.10/site-packages/pandas/core/generic.py\", line 5912, in astype\n",
      "    new_data = self._mgr.astype(dtype=dtype, copy=copy, errors=errors)\n",
      "  File \"/Users/avliu/opt/anaconda3/envs/hugging-face/lib/python3.10/site-packages/pandas/core/internals/managers.py\", line 419, in astype\n",
      "    return self.apply(\"astype\", dtype=dtype, copy=copy, errors=errors)\n",
      "  File \"/Users/avliu/opt/anaconda3/envs/hugging-face/lib/python3.10/site-packages/pandas/core/internals/managers.py\", line 304, in apply\n",
      "    applied = getattr(b, f)(**kwargs)\n",
      "  File \"/Users/avliu/opt/anaconda3/envs/hugging-face/lib/python3.10/site-packages/pandas/core/internals/blocks.py\", line 580, in astype\n",
      "    new_values = astype_array_safe(values, dtype, copy=copy, errors=errors)\n",
      "  File \"/Users/avliu/opt/anaconda3/envs/hugging-face/lib/python3.10/site-packages/pandas/core/dtypes/cast.py\", line 1292, in astype_array_safe\n",
      "    new_values = astype_array(values, dtype, copy=copy)\n",
      "  File \"/Users/avliu/opt/anaconda3/envs/hugging-face/lib/python3.10/site-packages/pandas/core/dtypes/cast.py\", line 1237, in astype_array\n",
      "    values = astype_nansafe(values, dtype, copy=copy)\n",
      "  File \"/Users/avliu/opt/anaconda3/envs/hugging-face/lib/python3.10/site-packages/pandas/core/dtypes/cast.py\", line 1154, in astype_nansafe\n",
      "    return lib.astype_intsafe(arr, dtype)\n",
      "  File \"pandas/_libs/lib.pyx\", line 668, in pandas._libs.lib.astype_intsafe\n",
      "ValueError: cannot convert float NaN to integer\n"
     ]
    },
    {
     "name": "stdout",
     "output_type": "stream",
     "text": [
      "round: 1\n",
      "round: 2\n",
      "round: 3\n",
      "round: 4\n",
      "round: 5\n",
      "round: 6\n",
      "round: 7\n",
      "round: 8\n",
      "round: 9\n",
      "round: 10\n",
      "round: 11\n",
      "tournament_id: 683767\n",
      "round: 1\n",
      "invalid literal for int() with base 10: 'Rtg'\n",
      "tournament_id: 665934\n"
     ]
    },
    {
     "name": "stderr",
     "output_type": "stream",
     "text": [
      "Traceback (most recent call last):\n",
      "  File \"/var/folders/t6/srtzy2f51db8mxxv7g_63f6h0000gr/T/ipykernel_72356/422094622.py\", line 19, in <cell line: 2>\n",
      "    games_df_list.append(parse_games_df(games_df))\n",
      "  File \"/var/folders/t6/srtzy2f51db8mxxv7g_63f6h0000gr/T/ipykernel_72356/3212580384.py\", line 18, in parse_games_df\n",
      "    games_df = games_df.astype({\n",
      "  File \"/Users/avliu/opt/anaconda3/envs/hugging-face/lib/python3.10/site-packages/pandas/core/generic.py\", line 5898, in astype\n",
      "    res_col = col.astype(dtype=cdt, copy=copy, errors=errors)\n",
      "  File \"/Users/avliu/opt/anaconda3/envs/hugging-face/lib/python3.10/site-packages/pandas/core/generic.py\", line 5912, in astype\n",
      "    new_data = self._mgr.astype(dtype=dtype, copy=copy, errors=errors)\n",
      "  File \"/Users/avliu/opt/anaconda3/envs/hugging-face/lib/python3.10/site-packages/pandas/core/internals/managers.py\", line 419, in astype\n",
      "    return self.apply(\"astype\", dtype=dtype, copy=copy, errors=errors)\n",
      "  File \"/Users/avliu/opt/anaconda3/envs/hugging-face/lib/python3.10/site-packages/pandas/core/internals/managers.py\", line 304, in apply\n",
      "    applied = getattr(b, f)(**kwargs)\n",
      "  File \"/Users/avliu/opt/anaconda3/envs/hugging-face/lib/python3.10/site-packages/pandas/core/internals/blocks.py\", line 580, in astype\n",
      "    new_values = astype_array_safe(values, dtype, copy=copy, errors=errors)\n",
      "  File \"/Users/avliu/opt/anaconda3/envs/hugging-face/lib/python3.10/site-packages/pandas/core/dtypes/cast.py\", line 1292, in astype_array_safe\n",
      "    new_values = astype_array(values, dtype, copy=copy)\n",
      "  File \"/Users/avliu/opt/anaconda3/envs/hugging-face/lib/python3.10/site-packages/pandas/core/dtypes/cast.py\", line 1237, in astype_array\n",
      "    values = astype_nansafe(values, dtype, copy=copy)\n",
      "  File \"/Users/avliu/opt/anaconda3/envs/hugging-face/lib/python3.10/site-packages/pandas/core/dtypes/cast.py\", line 1154, in astype_nansafe\n",
      "    return lib.astype_intsafe(arr, dtype)\n",
      "  File \"pandas/_libs/lib.pyx\", line 668, in pandas._libs.lib.astype_intsafe\n",
      "ValueError: invalid literal for int() with base 10: 'Rtg'\n"
     ]
    },
    {
     "name": "stdout",
     "output_type": "stream",
     "text": [
      "round: 1\n",
      "cannot convert float NaN to integer\n",
      "tournament_id: 680077\n"
     ]
    },
    {
     "name": "stderr",
     "output_type": "stream",
     "text": [
      "Traceback (most recent call last):\n",
      "  File \"/var/folders/t6/srtzy2f51db8mxxv7g_63f6h0000gr/T/ipykernel_72356/422094622.py\", line 19, in <cell line: 2>\n",
      "    games_df_list.append(parse_games_df(games_df))\n",
      "  File \"/var/folders/t6/srtzy2f51db8mxxv7g_63f6h0000gr/T/ipykernel_72356/3212580384.py\", line 18, in parse_games_df\n",
      "    games_df = games_df.astype({\n",
      "  File \"/Users/avliu/opt/anaconda3/envs/hugging-face/lib/python3.10/site-packages/pandas/core/generic.py\", line 5898, in astype\n",
      "    res_col = col.astype(dtype=cdt, copy=copy, errors=errors)\n",
      "  File \"/Users/avliu/opt/anaconda3/envs/hugging-face/lib/python3.10/site-packages/pandas/core/generic.py\", line 5912, in astype\n",
      "    new_data = self._mgr.astype(dtype=dtype, copy=copy, errors=errors)\n",
      "  File \"/Users/avliu/opt/anaconda3/envs/hugging-face/lib/python3.10/site-packages/pandas/core/internals/managers.py\", line 419, in astype\n",
      "    return self.apply(\"astype\", dtype=dtype, copy=copy, errors=errors)\n",
      "  File \"/Users/avliu/opt/anaconda3/envs/hugging-face/lib/python3.10/site-packages/pandas/core/internals/managers.py\", line 304, in apply\n",
      "    applied = getattr(b, f)(**kwargs)\n",
      "  File \"/Users/avliu/opt/anaconda3/envs/hugging-face/lib/python3.10/site-packages/pandas/core/internals/blocks.py\", line 580, in astype\n",
      "    new_values = astype_array_safe(values, dtype, copy=copy, errors=errors)\n",
      "  File \"/Users/avliu/opt/anaconda3/envs/hugging-face/lib/python3.10/site-packages/pandas/core/dtypes/cast.py\", line 1292, in astype_array_safe\n",
      "    new_values = astype_array(values, dtype, copy=copy)\n",
      "  File \"/Users/avliu/opt/anaconda3/envs/hugging-face/lib/python3.10/site-packages/pandas/core/dtypes/cast.py\", line 1237, in astype_array\n",
      "    values = astype_nansafe(values, dtype, copy=copy)\n",
      "  File \"/Users/avliu/opt/anaconda3/envs/hugging-face/lib/python3.10/site-packages/pandas/core/dtypes/cast.py\", line 1154, in astype_nansafe\n",
      "    return lib.astype_intsafe(arr, dtype)\n",
      "  File \"pandas/_libs/lib.pyx\", line 668, in pandas._libs.lib.astype_intsafe\n",
      "ValueError: cannot convert float NaN to integer\n"
     ]
    },
    {
     "name": "stdout",
     "output_type": "stream",
     "text": [
      "round: 1\n",
      "list index out of range\n",
      "tournament_id: 680641\n"
     ]
    },
    {
     "name": "stderr",
     "output_type": "stream",
     "text": [
      "Traceback (most recent call last):\n",
      "  File \"/var/folders/t6/srtzy2f51db8mxxv7g_63f6h0000gr/T/ipykernel_72356/422094622.py\", line 19, in <cell line: 2>\n",
      "    games_df_list.append(parse_games_df(games_df))\n",
      "  File \"/var/folders/t6/srtzy2f51db8mxxv7g_63f6h0000gr/T/ipykernel_72356/3212580384.py\", line 6, in parse_games_df\n",
      "    games_df.columns.values[name_idxs[0]] = \"left_name\"\n",
      "IndexError: list index out of range\n"
     ]
    },
    {
     "name": "stdout",
     "output_type": "stream",
     "text": [
      "round: 1\n",
      "list index out of range\n",
      "tournament_id: 680633\n"
     ]
    },
    {
     "name": "stderr",
     "output_type": "stream",
     "text": [
      "Traceback (most recent call last):\n",
      "  File \"/var/folders/t6/srtzy2f51db8mxxv7g_63f6h0000gr/T/ipykernel_72356/422094622.py\", line 19, in <cell line: 2>\n",
      "    games_df_list.append(parse_games_df(games_df))\n",
      "  File \"/var/folders/t6/srtzy2f51db8mxxv7g_63f6h0000gr/T/ipykernel_72356/3212580384.py\", line 8, in parse_games_df\n",
      "    games_df.columns.values[rtg_idxs[0]] = \"left_rtg\"\n",
      "IndexError: list index out of range\n"
     ]
    },
    {
     "name": "stdout",
     "output_type": "stream",
     "text": [
      "round: 1\n",
      "list index out of range\n",
      "tournament_id: 680631\n"
     ]
    },
    {
     "name": "stderr",
     "output_type": "stream",
     "text": [
      "Traceback (most recent call last):\n",
      "  File \"/var/folders/t6/srtzy2f51db8mxxv7g_63f6h0000gr/T/ipykernel_72356/422094622.py\", line 19, in <cell line: 2>\n",
      "    games_df_list.append(parse_games_df(games_df))\n",
      "  File \"/var/folders/t6/srtzy2f51db8mxxv7g_63f6h0000gr/T/ipykernel_72356/3212580384.py\", line 8, in parse_games_df\n",
      "    games_df.columns.values[rtg_idxs[0]] = \"left_rtg\"\n",
      "IndexError: list index out of range\n"
     ]
    },
    {
     "name": "stdout",
     "output_type": "stream",
     "text": [
      "round: 1\n",
      "list index out of range\n",
      "tournament_id: 680636\n"
     ]
    },
    {
     "name": "stderr",
     "output_type": "stream",
     "text": [
      "Traceback (most recent call last):\n",
      "  File \"/var/folders/t6/srtzy2f51db8mxxv7g_63f6h0000gr/T/ipykernel_72356/422094622.py\", line 19, in <cell line: 2>\n",
      "    games_df_list.append(parse_games_df(games_df))\n",
      "  File \"/var/folders/t6/srtzy2f51db8mxxv7g_63f6h0000gr/T/ipykernel_72356/3212580384.py\", line 8, in parse_games_df\n",
      "    games_df.columns.values[rtg_idxs[0]] = \"left_rtg\"\n",
      "IndexError: list index out of range\n"
     ]
    },
    {
     "name": "stdout",
     "output_type": "stream",
     "text": [
      "round: 1\n",
      "list index out of range\n",
      "tournament_id: 680637\n"
     ]
    },
    {
     "name": "stderr",
     "output_type": "stream",
     "text": [
      "Traceback (most recent call last):\n",
      "  File \"/var/folders/t6/srtzy2f51db8mxxv7g_63f6h0000gr/T/ipykernel_72356/422094622.py\", line 19, in <cell line: 2>\n",
      "    games_df_list.append(parse_games_df(games_df))\n",
      "  File \"/var/folders/t6/srtzy2f51db8mxxv7g_63f6h0000gr/T/ipykernel_72356/3212580384.py\", line 8, in parse_games_df\n",
      "    games_df.columns.values[rtg_idxs[0]] = \"left_rtg\"\n",
      "IndexError: list index out of range\n"
     ]
    },
    {
     "name": "stdout",
     "output_type": "stream",
     "text": [
      "round: 1\n",
      "list index out of range\n",
      "tournament_id: 680639\n"
     ]
    },
    {
     "name": "stderr",
     "output_type": "stream",
     "text": [
      "Traceback (most recent call last):\n",
      "  File \"/var/folders/t6/srtzy2f51db8mxxv7g_63f6h0000gr/T/ipykernel_72356/422094622.py\", line 19, in <cell line: 2>\n",
      "    games_df_list.append(parse_games_df(games_df))\n",
      "  File \"/var/folders/t6/srtzy2f51db8mxxv7g_63f6h0000gr/T/ipykernel_72356/3212580384.py\", line 8, in parse_games_df\n",
      "    games_df.columns.values[rtg_idxs[0]] = \"left_rtg\"\n",
      "IndexError: list index out of range\n"
     ]
    },
    {
     "name": "stdout",
     "output_type": "stream",
     "text": [
      "round: 1\n",
      "list index out of range\n",
      "tournament_id: 680944\n"
     ]
    },
    {
     "name": "stderr",
     "output_type": "stream",
     "text": [
      "Traceback (most recent call last):\n",
      "  File \"/var/folders/t6/srtzy2f51db8mxxv7g_63f6h0000gr/T/ipykernel_72356/422094622.py\", line 19, in <cell line: 2>\n",
      "    games_df_list.append(parse_games_df(games_df))\n",
      "  File \"/var/folders/t6/srtzy2f51db8mxxv7g_63f6h0000gr/T/ipykernel_72356/3212580384.py\", line 8, in parse_games_df\n",
      "    games_df.columns.values[rtg_idxs[0]] = \"left_rtg\"\n",
      "IndexError: list index out of range\n"
     ]
    },
    {
     "name": "stdout",
     "output_type": "stream",
     "text": [
      "tournament_id: 670153\n",
      "round: 1\n",
      "invalid literal for int() with base 10: ''\n",
      "tournament_id: 670152\n"
     ]
    },
    {
     "name": "stderr",
     "output_type": "stream",
     "text": [
      "Traceback (most recent call last):\n",
      "  File \"/var/folders/t6/srtzy2f51db8mxxv7g_63f6h0000gr/T/ipykernel_72356/422094622.py\", line 19, in <cell line: 2>\n",
      "    games_df_list.append(parse_games_df(games_df))\n",
      "  File \"/var/folders/t6/srtzy2f51db8mxxv7g_63f6h0000gr/T/ipykernel_72356/3212580384.py\", line 18, in parse_games_df\n",
      "    games_df = games_df.astype({\n",
      "  File \"/Users/avliu/opt/anaconda3/envs/hugging-face/lib/python3.10/site-packages/pandas/core/generic.py\", line 5898, in astype\n",
      "    res_col = col.astype(dtype=cdt, copy=copy, errors=errors)\n",
      "  File \"/Users/avliu/opt/anaconda3/envs/hugging-face/lib/python3.10/site-packages/pandas/core/generic.py\", line 5912, in astype\n",
      "    new_data = self._mgr.astype(dtype=dtype, copy=copy, errors=errors)\n",
      "  File \"/Users/avliu/opt/anaconda3/envs/hugging-face/lib/python3.10/site-packages/pandas/core/internals/managers.py\", line 419, in astype\n",
      "    return self.apply(\"astype\", dtype=dtype, copy=copy, errors=errors)\n",
      "  File \"/Users/avliu/opt/anaconda3/envs/hugging-face/lib/python3.10/site-packages/pandas/core/internals/managers.py\", line 304, in apply\n",
      "    applied = getattr(b, f)(**kwargs)\n",
      "  File \"/Users/avliu/opt/anaconda3/envs/hugging-face/lib/python3.10/site-packages/pandas/core/internals/blocks.py\", line 580, in astype\n",
      "    new_values = astype_array_safe(values, dtype, copy=copy, errors=errors)\n",
      "  File \"/Users/avliu/opt/anaconda3/envs/hugging-face/lib/python3.10/site-packages/pandas/core/dtypes/cast.py\", line 1292, in astype_array_safe\n",
      "    new_values = astype_array(values, dtype, copy=copy)\n",
      "  File \"/Users/avliu/opt/anaconda3/envs/hugging-face/lib/python3.10/site-packages/pandas/core/dtypes/cast.py\", line 1237, in astype_array\n",
      "    values = astype_nansafe(values, dtype, copy=copy)\n",
      "  File \"/Users/avliu/opt/anaconda3/envs/hugging-face/lib/python3.10/site-packages/pandas/core/dtypes/cast.py\", line 1154, in astype_nansafe\n",
      "    return lib.astype_intsafe(arr, dtype)\n",
      "  File \"pandas/_libs/lib.pyx\", line 668, in pandas._libs.lib.astype_intsafe\n",
      "ValueError: invalid literal for int() with base 10: ''\n"
     ]
    },
    {
     "name": "stdout",
     "output_type": "stream",
     "text": [
      "round: 1\n",
      "invalid literal for int() with base 10: ''\n",
      "tournament_id: 670151\n"
     ]
    },
    {
     "name": "stderr",
     "output_type": "stream",
     "text": [
      "Traceback (most recent call last):\n",
      "  File \"/var/folders/t6/srtzy2f51db8mxxv7g_63f6h0000gr/T/ipykernel_72356/422094622.py\", line 19, in <cell line: 2>\n",
      "    games_df_list.append(parse_games_df(games_df))\n",
      "  File \"/var/folders/t6/srtzy2f51db8mxxv7g_63f6h0000gr/T/ipykernel_72356/3212580384.py\", line 18, in parse_games_df\n",
      "    games_df = games_df.astype({\n",
      "  File \"/Users/avliu/opt/anaconda3/envs/hugging-face/lib/python3.10/site-packages/pandas/core/generic.py\", line 5898, in astype\n",
      "    res_col = col.astype(dtype=cdt, copy=copy, errors=errors)\n",
      "  File \"/Users/avliu/opt/anaconda3/envs/hugging-face/lib/python3.10/site-packages/pandas/core/generic.py\", line 5912, in astype\n",
      "    new_data = self._mgr.astype(dtype=dtype, copy=copy, errors=errors)\n",
      "  File \"/Users/avliu/opt/anaconda3/envs/hugging-face/lib/python3.10/site-packages/pandas/core/internals/managers.py\", line 419, in astype\n",
      "    return self.apply(\"astype\", dtype=dtype, copy=copy, errors=errors)\n",
      "  File \"/Users/avliu/opt/anaconda3/envs/hugging-face/lib/python3.10/site-packages/pandas/core/internals/managers.py\", line 304, in apply\n",
      "    applied = getattr(b, f)(**kwargs)\n",
      "  File \"/Users/avliu/opt/anaconda3/envs/hugging-face/lib/python3.10/site-packages/pandas/core/internals/blocks.py\", line 580, in astype\n",
      "    new_values = astype_array_safe(values, dtype, copy=copy, errors=errors)\n",
      "  File \"/Users/avliu/opt/anaconda3/envs/hugging-face/lib/python3.10/site-packages/pandas/core/dtypes/cast.py\", line 1292, in astype_array_safe\n",
      "    new_values = astype_array(values, dtype, copy=copy)\n",
      "  File \"/Users/avliu/opt/anaconda3/envs/hugging-face/lib/python3.10/site-packages/pandas/core/dtypes/cast.py\", line 1237, in astype_array\n",
      "    values = astype_nansafe(values, dtype, copy=copy)\n",
      "  File \"/Users/avliu/opt/anaconda3/envs/hugging-face/lib/python3.10/site-packages/pandas/core/dtypes/cast.py\", line 1154, in astype_nansafe\n",
      "    return lib.astype_intsafe(arr, dtype)\n",
      "  File \"pandas/_libs/lib.pyx\", line 668, in pandas._libs.lib.astype_intsafe\n",
      "ValueError: invalid literal for int() with base 10: ''\n"
     ]
    },
    {
     "name": "stdout",
     "output_type": "stream",
     "text": [
      "round: 1\n",
      "invalid literal for int() with base 10: ''\n",
      "tournament_id: 670150\n"
     ]
    },
    {
     "name": "stderr",
     "output_type": "stream",
     "text": [
      "Traceback (most recent call last):\n",
      "  File \"/var/folders/t6/srtzy2f51db8mxxv7g_63f6h0000gr/T/ipykernel_72356/422094622.py\", line 19, in <cell line: 2>\n",
      "    games_df_list.append(parse_games_df(games_df))\n",
      "  File \"/var/folders/t6/srtzy2f51db8mxxv7g_63f6h0000gr/T/ipykernel_72356/3212580384.py\", line 18, in parse_games_df\n",
      "    games_df = games_df.astype({\n",
      "  File \"/Users/avliu/opt/anaconda3/envs/hugging-face/lib/python3.10/site-packages/pandas/core/generic.py\", line 5898, in astype\n",
      "    res_col = col.astype(dtype=cdt, copy=copy, errors=errors)\n",
      "  File \"/Users/avliu/opt/anaconda3/envs/hugging-face/lib/python3.10/site-packages/pandas/core/generic.py\", line 5912, in astype\n",
      "    new_data = self._mgr.astype(dtype=dtype, copy=copy, errors=errors)\n",
      "  File \"/Users/avliu/opt/anaconda3/envs/hugging-face/lib/python3.10/site-packages/pandas/core/internals/managers.py\", line 419, in astype\n",
      "    return self.apply(\"astype\", dtype=dtype, copy=copy, errors=errors)\n",
      "  File \"/Users/avliu/opt/anaconda3/envs/hugging-face/lib/python3.10/site-packages/pandas/core/internals/managers.py\", line 304, in apply\n",
      "    applied = getattr(b, f)(**kwargs)\n",
      "  File \"/Users/avliu/opt/anaconda3/envs/hugging-face/lib/python3.10/site-packages/pandas/core/internals/blocks.py\", line 580, in astype\n",
      "    new_values = astype_array_safe(values, dtype, copy=copy, errors=errors)\n",
      "  File \"/Users/avliu/opt/anaconda3/envs/hugging-face/lib/python3.10/site-packages/pandas/core/dtypes/cast.py\", line 1292, in astype_array_safe\n",
      "    new_values = astype_array(values, dtype, copy=copy)\n",
      "  File \"/Users/avliu/opt/anaconda3/envs/hugging-face/lib/python3.10/site-packages/pandas/core/dtypes/cast.py\", line 1237, in astype_array\n",
      "    values = astype_nansafe(values, dtype, copy=copy)\n",
      "  File \"/Users/avliu/opt/anaconda3/envs/hugging-face/lib/python3.10/site-packages/pandas/core/dtypes/cast.py\", line 1154, in astype_nansafe\n",
      "    return lib.astype_intsafe(arr, dtype)\n",
      "  File \"pandas/_libs/lib.pyx\", line 668, in pandas._libs.lib.astype_intsafe\n",
      "ValueError: invalid literal for int() with base 10: ''\n"
     ]
    },
    {
     "name": "stdout",
     "output_type": "stream",
     "text": [
      "round: 1\n",
      "invalid literal for int() with base 10: ''\n",
      "tournament_id: 670149\n"
     ]
    },
    {
     "name": "stderr",
     "output_type": "stream",
     "text": [
      "Traceback (most recent call last):\n",
      "  File \"/var/folders/t6/srtzy2f51db8mxxv7g_63f6h0000gr/T/ipykernel_72356/422094622.py\", line 19, in <cell line: 2>\n",
      "    games_df_list.append(parse_games_df(games_df))\n",
      "  File \"/var/folders/t6/srtzy2f51db8mxxv7g_63f6h0000gr/T/ipykernel_72356/3212580384.py\", line 18, in parse_games_df\n",
      "    games_df = games_df.astype({\n",
      "  File \"/Users/avliu/opt/anaconda3/envs/hugging-face/lib/python3.10/site-packages/pandas/core/generic.py\", line 5898, in astype\n",
      "    res_col = col.astype(dtype=cdt, copy=copy, errors=errors)\n",
      "  File \"/Users/avliu/opt/anaconda3/envs/hugging-face/lib/python3.10/site-packages/pandas/core/generic.py\", line 5912, in astype\n",
      "    new_data = self._mgr.astype(dtype=dtype, copy=copy, errors=errors)\n",
      "  File \"/Users/avliu/opt/anaconda3/envs/hugging-face/lib/python3.10/site-packages/pandas/core/internals/managers.py\", line 419, in astype\n",
      "    return self.apply(\"astype\", dtype=dtype, copy=copy, errors=errors)\n",
      "  File \"/Users/avliu/opt/anaconda3/envs/hugging-face/lib/python3.10/site-packages/pandas/core/internals/managers.py\", line 304, in apply\n",
      "    applied = getattr(b, f)(**kwargs)\n",
      "  File \"/Users/avliu/opt/anaconda3/envs/hugging-face/lib/python3.10/site-packages/pandas/core/internals/blocks.py\", line 580, in astype\n",
      "    new_values = astype_array_safe(values, dtype, copy=copy, errors=errors)\n",
      "  File \"/Users/avliu/opt/anaconda3/envs/hugging-face/lib/python3.10/site-packages/pandas/core/dtypes/cast.py\", line 1292, in astype_array_safe\n",
      "    new_values = astype_array(values, dtype, copy=copy)\n",
      "  File \"/Users/avliu/opt/anaconda3/envs/hugging-face/lib/python3.10/site-packages/pandas/core/dtypes/cast.py\", line 1237, in astype_array\n",
      "    values = astype_nansafe(values, dtype, copy=copy)\n",
      "  File \"/Users/avliu/opt/anaconda3/envs/hugging-face/lib/python3.10/site-packages/pandas/core/dtypes/cast.py\", line 1154, in astype_nansafe\n",
      "    return lib.astype_intsafe(arr, dtype)\n",
      "  File \"pandas/_libs/lib.pyx\", line 668, in pandas._libs.lib.astype_intsafe\n",
      "ValueError: invalid literal for int() with base 10: ''\n"
     ]
    },
    {
     "name": "stdout",
     "output_type": "stream",
     "text": [
      "round: 1\n",
      "invalid literal for int() with base 10: ''\n",
      "tournament_id: 670148\n"
     ]
    },
    {
     "name": "stderr",
     "output_type": "stream",
     "text": [
      "Traceback (most recent call last):\n",
      "  File \"/var/folders/t6/srtzy2f51db8mxxv7g_63f6h0000gr/T/ipykernel_72356/422094622.py\", line 19, in <cell line: 2>\n",
      "    games_df_list.append(parse_games_df(games_df))\n",
      "  File \"/var/folders/t6/srtzy2f51db8mxxv7g_63f6h0000gr/T/ipykernel_72356/3212580384.py\", line 18, in parse_games_df\n",
      "    games_df = games_df.astype({\n",
      "  File \"/Users/avliu/opt/anaconda3/envs/hugging-face/lib/python3.10/site-packages/pandas/core/generic.py\", line 5898, in astype\n",
      "    res_col = col.astype(dtype=cdt, copy=copy, errors=errors)\n",
      "  File \"/Users/avliu/opt/anaconda3/envs/hugging-face/lib/python3.10/site-packages/pandas/core/generic.py\", line 5912, in astype\n",
      "    new_data = self._mgr.astype(dtype=dtype, copy=copy, errors=errors)\n",
      "  File \"/Users/avliu/opt/anaconda3/envs/hugging-face/lib/python3.10/site-packages/pandas/core/internals/managers.py\", line 419, in astype\n",
      "    return self.apply(\"astype\", dtype=dtype, copy=copy, errors=errors)\n",
      "  File \"/Users/avliu/opt/anaconda3/envs/hugging-face/lib/python3.10/site-packages/pandas/core/internals/managers.py\", line 304, in apply\n",
      "    applied = getattr(b, f)(**kwargs)\n",
      "  File \"/Users/avliu/opt/anaconda3/envs/hugging-face/lib/python3.10/site-packages/pandas/core/internals/blocks.py\", line 580, in astype\n",
      "    new_values = astype_array_safe(values, dtype, copy=copy, errors=errors)\n",
      "  File \"/Users/avliu/opt/anaconda3/envs/hugging-face/lib/python3.10/site-packages/pandas/core/dtypes/cast.py\", line 1292, in astype_array_safe\n",
      "    new_values = astype_array(values, dtype, copy=copy)\n",
      "  File \"/Users/avliu/opt/anaconda3/envs/hugging-face/lib/python3.10/site-packages/pandas/core/dtypes/cast.py\", line 1237, in astype_array\n",
      "    values = astype_nansafe(values, dtype, copy=copy)\n",
      "  File \"/Users/avliu/opt/anaconda3/envs/hugging-face/lib/python3.10/site-packages/pandas/core/dtypes/cast.py\", line 1154, in astype_nansafe\n",
      "    return lib.astype_intsafe(arr, dtype)\n",
      "  File \"pandas/_libs/lib.pyx\", line 668, in pandas._libs.lib.astype_intsafe\n",
      "ValueError: invalid literal for int() with base 10: ''\n"
     ]
    },
    {
     "name": "stdout",
     "output_type": "stream",
     "text": [
      "round: 1\n",
      "invalid literal for int() with base 10: ''\n",
      "tournament_id: 657090\n"
     ]
    },
    {
     "name": "stderr",
     "output_type": "stream",
     "text": [
      "Traceback (most recent call last):\n",
      "  File \"/var/folders/t6/srtzy2f51db8mxxv7g_63f6h0000gr/T/ipykernel_72356/422094622.py\", line 19, in <cell line: 2>\n",
      "    games_df_list.append(parse_games_df(games_df))\n",
      "  File \"/var/folders/t6/srtzy2f51db8mxxv7g_63f6h0000gr/T/ipykernel_72356/3212580384.py\", line 18, in parse_games_df\n",
      "    games_df = games_df.astype({\n",
      "  File \"/Users/avliu/opt/anaconda3/envs/hugging-face/lib/python3.10/site-packages/pandas/core/generic.py\", line 5898, in astype\n",
      "    res_col = col.astype(dtype=cdt, copy=copy, errors=errors)\n",
      "  File \"/Users/avliu/opt/anaconda3/envs/hugging-face/lib/python3.10/site-packages/pandas/core/generic.py\", line 5912, in astype\n",
      "    new_data = self._mgr.astype(dtype=dtype, copy=copy, errors=errors)\n",
      "  File \"/Users/avliu/opt/anaconda3/envs/hugging-face/lib/python3.10/site-packages/pandas/core/internals/managers.py\", line 419, in astype\n",
      "    return self.apply(\"astype\", dtype=dtype, copy=copy, errors=errors)\n",
      "  File \"/Users/avliu/opt/anaconda3/envs/hugging-face/lib/python3.10/site-packages/pandas/core/internals/managers.py\", line 304, in apply\n",
      "    applied = getattr(b, f)(**kwargs)\n",
      "  File \"/Users/avliu/opt/anaconda3/envs/hugging-face/lib/python3.10/site-packages/pandas/core/internals/blocks.py\", line 580, in astype\n",
      "    new_values = astype_array_safe(values, dtype, copy=copy, errors=errors)\n",
      "  File \"/Users/avliu/opt/anaconda3/envs/hugging-face/lib/python3.10/site-packages/pandas/core/dtypes/cast.py\", line 1292, in astype_array_safe\n",
      "    new_values = astype_array(values, dtype, copy=copy)\n",
      "  File \"/Users/avliu/opt/anaconda3/envs/hugging-face/lib/python3.10/site-packages/pandas/core/dtypes/cast.py\", line 1237, in astype_array\n",
      "    values = astype_nansafe(values, dtype, copy=copy)\n",
      "  File \"/Users/avliu/opt/anaconda3/envs/hugging-face/lib/python3.10/site-packages/pandas/core/dtypes/cast.py\", line 1154, in astype_nansafe\n",
      "    return lib.astype_intsafe(arr, dtype)\n",
      "  File \"pandas/_libs/lib.pyx\", line 668, in pandas._libs.lib.astype_intsafe\n",
      "ValueError: invalid literal for int() with base 10: ''\n"
     ]
    },
    {
     "name": "stdout",
     "output_type": "stream",
     "text": [
      "round: 1\n",
      "cannot convert float NaN to integer\n",
      "tournament_id: 673431\n"
     ]
    },
    {
     "name": "stderr",
     "output_type": "stream",
     "text": [
      "Traceback (most recent call last):\n",
      "  File \"/var/folders/t6/srtzy2f51db8mxxv7g_63f6h0000gr/T/ipykernel_72356/422094622.py\", line 19, in <cell line: 2>\n",
      "    games_df_list.append(parse_games_df(games_df))\n",
      "  File \"/var/folders/t6/srtzy2f51db8mxxv7g_63f6h0000gr/T/ipykernel_72356/3212580384.py\", line 18, in parse_games_df\n",
      "    games_df = games_df.astype({\n",
      "  File \"/Users/avliu/opt/anaconda3/envs/hugging-face/lib/python3.10/site-packages/pandas/core/generic.py\", line 5898, in astype\n",
      "    res_col = col.astype(dtype=cdt, copy=copy, errors=errors)\n",
      "  File \"/Users/avliu/opt/anaconda3/envs/hugging-face/lib/python3.10/site-packages/pandas/core/generic.py\", line 5912, in astype\n",
      "    new_data = self._mgr.astype(dtype=dtype, copy=copy, errors=errors)\n",
      "  File \"/Users/avliu/opt/anaconda3/envs/hugging-face/lib/python3.10/site-packages/pandas/core/internals/managers.py\", line 419, in astype\n",
      "    return self.apply(\"astype\", dtype=dtype, copy=copy, errors=errors)\n",
      "  File \"/Users/avliu/opt/anaconda3/envs/hugging-face/lib/python3.10/site-packages/pandas/core/internals/managers.py\", line 304, in apply\n",
      "    applied = getattr(b, f)(**kwargs)\n",
      "  File \"/Users/avliu/opt/anaconda3/envs/hugging-face/lib/python3.10/site-packages/pandas/core/internals/blocks.py\", line 580, in astype\n",
      "    new_values = astype_array_safe(values, dtype, copy=copy, errors=errors)\n",
      "  File \"/Users/avliu/opt/anaconda3/envs/hugging-face/lib/python3.10/site-packages/pandas/core/dtypes/cast.py\", line 1292, in astype_array_safe\n",
      "    new_values = astype_array(values, dtype, copy=copy)\n",
      "  File \"/Users/avliu/opt/anaconda3/envs/hugging-face/lib/python3.10/site-packages/pandas/core/dtypes/cast.py\", line 1237, in astype_array\n",
      "    values = astype_nansafe(values, dtype, copy=copy)\n",
      "  File \"/Users/avliu/opt/anaconda3/envs/hugging-face/lib/python3.10/site-packages/pandas/core/dtypes/cast.py\", line 1154, in astype_nansafe\n",
      "    return lib.astype_intsafe(arr, dtype)\n",
      "  File \"pandas/_libs/lib.pyx\", line 668, in pandas._libs.lib.astype_intsafe\n",
      "ValueError: cannot convert float NaN to integer\n"
     ]
    },
    {
     "name": "stdout",
     "output_type": "stream",
     "text": [
      "round: 1\n",
      "round: 2\n",
      "round: 3\n",
      "round: 4\n",
      "round: 5\n",
      "round: 6\n",
      "round: 7\n",
      "round: 8\n",
      "round: 9\n",
      "tournament_id: 673429\n",
      "round: 1\n",
      "round: 2\n",
      "round: 3\n",
      "round: 4\n",
      "round: 5\n",
      "round: 6\n",
      "round: 7\n",
      "round: 8\n",
      "round: 9\n",
      "tournament_id: 675024\n",
      "round: 1\n",
      "list index out of range\n",
      "tournament_id: 655571\n"
     ]
    },
    {
     "name": "stderr",
     "output_type": "stream",
     "text": [
      "Traceback (most recent call last):\n",
      "  File \"/var/folders/t6/srtzy2f51db8mxxv7g_63f6h0000gr/T/ipykernel_72356/422094622.py\", line 19, in <cell line: 2>\n",
      "    games_df_list.append(parse_games_df(games_df))\n",
      "  File \"/var/folders/t6/srtzy2f51db8mxxv7g_63f6h0000gr/T/ipykernel_72356/3212580384.py\", line 6, in parse_games_df\n",
      "    games_df.columns.values[name_idxs[0]] = \"left_name\"\n",
      "IndexError: list index out of range\n"
     ]
    },
    {
     "name": "stdout",
     "output_type": "stream",
     "text": [
      "round: 1\n",
      "round: 2\n",
      "round: 3\n",
      "round: 4\n",
      "round: 5\n",
      "round: 6\n",
      "round: 7\n",
      "round: 8\n",
      "round: 9\n",
      "round: 10\n",
      "round: 11\n",
      "tournament_id: 655566\n",
      "round: 1\n",
      "round: 2\n",
      "round: 3\n",
      "round: 4\n",
      "round: 5\n",
      "round: 6\n",
      "round: 7\n",
      "round: 8\n",
      "round: 9\n",
      "round: 10\n",
      "round: 11\n",
      "tournament_id: 655565\n",
      "round: 1\n",
      "round: 2\n",
      "round: 3\n",
      "round: 4\n",
      "round: 5\n",
      "round: 6\n",
      "round: 7\n",
      "round: 8\n",
      "round: 9\n",
      "round: 10\n",
      "round: 11\n",
      "tournament_id: 655570\n",
      "round: 1\n",
      "round: 2\n",
      "round: 3\n",
      "round: 4\n",
      "round: 5\n",
      "round: 6\n",
      "round: 7\n",
      "round: 8\n",
      "round: 9\n",
      "round: 10\n",
      "round: 11\n",
      "tournament_id: 655569\n",
      "round: 1\n",
      "round: 2\n",
      "round: 3\n",
      "round: 4\n",
      "round: 5\n",
      "round: 6\n",
      "round: 7\n",
      "round: 8\n",
      "round: 9\n",
      "round: 10\n",
      "round: 11\n",
      "tournament_id: 655568\n",
      "round: 1\n",
      "cannot convert float NaN to integer\n",
      "tournament_id: 675755\n"
     ]
    },
    {
     "name": "stderr",
     "output_type": "stream",
     "text": [
      "Traceback (most recent call last):\n",
      "  File \"/var/folders/t6/srtzy2f51db8mxxv7g_63f6h0000gr/T/ipykernel_72356/422094622.py\", line 19, in <cell line: 2>\n",
      "    games_df_list.append(parse_games_df(games_df))\n",
      "  File \"/var/folders/t6/srtzy2f51db8mxxv7g_63f6h0000gr/T/ipykernel_72356/3212580384.py\", line 18, in parse_games_df\n",
      "    games_df = games_df.astype({\n",
      "  File \"/Users/avliu/opt/anaconda3/envs/hugging-face/lib/python3.10/site-packages/pandas/core/generic.py\", line 5898, in astype\n",
      "    res_col = col.astype(dtype=cdt, copy=copy, errors=errors)\n",
      "  File \"/Users/avliu/opt/anaconda3/envs/hugging-face/lib/python3.10/site-packages/pandas/core/generic.py\", line 5912, in astype\n",
      "    new_data = self._mgr.astype(dtype=dtype, copy=copy, errors=errors)\n",
      "  File \"/Users/avliu/opt/anaconda3/envs/hugging-face/lib/python3.10/site-packages/pandas/core/internals/managers.py\", line 419, in astype\n",
      "    return self.apply(\"astype\", dtype=dtype, copy=copy, errors=errors)\n",
      "  File \"/Users/avliu/opt/anaconda3/envs/hugging-face/lib/python3.10/site-packages/pandas/core/internals/managers.py\", line 304, in apply\n",
      "    applied = getattr(b, f)(**kwargs)\n",
      "  File \"/Users/avliu/opt/anaconda3/envs/hugging-face/lib/python3.10/site-packages/pandas/core/internals/blocks.py\", line 580, in astype\n",
      "    new_values = astype_array_safe(values, dtype, copy=copy, errors=errors)\n",
      "  File \"/Users/avliu/opt/anaconda3/envs/hugging-face/lib/python3.10/site-packages/pandas/core/dtypes/cast.py\", line 1292, in astype_array_safe\n",
      "    new_values = astype_array(values, dtype, copy=copy)\n",
      "  File \"/Users/avliu/opt/anaconda3/envs/hugging-face/lib/python3.10/site-packages/pandas/core/dtypes/cast.py\", line 1237, in astype_array\n",
      "    values = astype_nansafe(values, dtype, copy=copy)\n",
      "  File \"/Users/avliu/opt/anaconda3/envs/hugging-face/lib/python3.10/site-packages/pandas/core/dtypes/cast.py\", line 1154, in astype_nansafe\n",
      "    return lib.astype_intsafe(arr, dtype)\n",
      "  File \"pandas/_libs/lib.pyx\", line 668, in pandas._libs.lib.astype_intsafe\n",
      "ValueError: cannot convert float NaN to integer\n"
     ]
    },
    {
     "name": "stdout",
     "output_type": "stream",
     "text": [
      "tournament_id: 675757\n",
      "round: 1\n",
      "invalid literal for int() with base 10: 'Rtg'\n",
      "tournament_id: 675756\n"
     ]
    },
    {
     "name": "stderr",
     "output_type": "stream",
     "text": [
      "Traceback (most recent call last):\n",
      "  File \"/var/folders/t6/srtzy2f51db8mxxv7g_63f6h0000gr/T/ipykernel_72356/422094622.py\", line 19, in <cell line: 2>\n",
      "    games_df_list.append(parse_games_df(games_df))\n",
      "  File \"/var/folders/t6/srtzy2f51db8mxxv7g_63f6h0000gr/T/ipykernel_72356/3212580384.py\", line 18, in parse_games_df\n",
      "    games_df = games_df.astype({\n",
      "  File \"/Users/avliu/opt/anaconda3/envs/hugging-face/lib/python3.10/site-packages/pandas/core/generic.py\", line 5898, in astype\n",
      "    res_col = col.astype(dtype=cdt, copy=copy, errors=errors)\n",
      "  File \"/Users/avliu/opt/anaconda3/envs/hugging-face/lib/python3.10/site-packages/pandas/core/generic.py\", line 5912, in astype\n",
      "    new_data = self._mgr.astype(dtype=dtype, copy=copy, errors=errors)\n",
      "  File \"/Users/avliu/opt/anaconda3/envs/hugging-face/lib/python3.10/site-packages/pandas/core/internals/managers.py\", line 419, in astype\n",
      "    return self.apply(\"astype\", dtype=dtype, copy=copy, errors=errors)\n",
      "  File \"/Users/avliu/opt/anaconda3/envs/hugging-face/lib/python3.10/site-packages/pandas/core/internals/managers.py\", line 304, in apply\n",
      "    applied = getattr(b, f)(**kwargs)\n",
      "  File \"/Users/avliu/opt/anaconda3/envs/hugging-face/lib/python3.10/site-packages/pandas/core/internals/blocks.py\", line 580, in astype\n",
      "    new_values = astype_array_safe(values, dtype, copy=copy, errors=errors)\n",
      "  File \"/Users/avliu/opt/anaconda3/envs/hugging-face/lib/python3.10/site-packages/pandas/core/dtypes/cast.py\", line 1292, in astype_array_safe\n",
      "    new_values = astype_array(values, dtype, copy=copy)\n",
      "  File \"/Users/avliu/opt/anaconda3/envs/hugging-face/lib/python3.10/site-packages/pandas/core/dtypes/cast.py\", line 1237, in astype_array\n",
      "    values = astype_nansafe(values, dtype, copy=copy)\n",
      "  File \"/Users/avliu/opt/anaconda3/envs/hugging-face/lib/python3.10/site-packages/pandas/core/dtypes/cast.py\", line 1154, in astype_nansafe\n",
      "    return lib.astype_intsafe(arr, dtype)\n",
      "  File \"pandas/_libs/lib.pyx\", line 668, in pandas._libs.lib.astype_intsafe\n",
      "ValueError: invalid literal for int() with base 10: 'Rtg'\n"
     ]
    },
    {
     "name": "stdout",
     "output_type": "stream",
     "text": [
      "round: 1\n",
      "invalid literal for int() with base 10: ''\n",
      "tournament_id: 674835\n"
     ]
    },
    {
     "name": "stderr",
     "output_type": "stream",
     "text": [
      "Traceback (most recent call last):\n",
      "  File \"/var/folders/t6/srtzy2f51db8mxxv7g_63f6h0000gr/T/ipykernel_72356/422094622.py\", line 19, in <cell line: 2>\n",
      "    games_df_list.append(parse_games_df(games_df))\n",
      "  File \"/var/folders/t6/srtzy2f51db8mxxv7g_63f6h0000gr/T/ipykernel_72356/3212580384.py\", line 18, in parse_games_df\n",
      "    games_df = games_df.astype({\n",
      "  File \"/Users/avliu/opt/anaconda3/envs/hugging-face/lib/python3.10/site-packages/pandas/core/generic.py\", line 5898, in astype\n",
      "    res_col = col.astype(dtype=cdt, copy=copy, errors=errors)\n",
      "  File \"/Users/avliu/opt/anaconda3/envs/hugging-face/lib/python3.10/site-packages/pandas/core/generic.py\", line 5912, in astype\n",
      "    new_data = self._mgr.astype(dtype=dtype, copy=copy, errors=errors)\n",
      "  File \"/Users/avliu/opt/anaconda3/envs/hugging-face/lib/python3.10/site-packages/pandas/core/internals/managers.py\", line 419, in astype\n",
      "    return self.apply(\"astype\", dtype=dtype, copy=copy, errors=errors)\n",
      "  File \"/Users/avliu/opt/anaconda3/envs/hugging-face/lib/python3.10/site-packages/pandas/core/internals/managers.py\", line 304, in apply\n",
      "    applied = getattr(b, f)(**kwargs)\n",
      "  File \"/Users/avliu/opt/anaconda3/envs/hugging-face/lib/python3.10/site-packages/pandas/core/internals/blocks.py\", line 580, in astype\n",
      "    new_values = astype_array_safe(values, dtype, copy=copy, errors=errors)\n",
      "  File \"/Users/avliu/opt/anaconda3/envs/hugging-face/lib/python3.10/site-packages/pandas/core/dtypes/cast.py\", line 1292, in astype_array_safe\n",
      "    new_values = astype_array(values, dtype, copy=copy)\n",
      "  File \"/Users/avliu/opt/anaconda3/envs/hugging-face/lib/python3.10/site-packages/pandas/core/dtypes/cast.py\", line 1237, in astype_array\n",
      "    values = astype_nansafe(values, dtype, copy=copy)\n",
      "  File \"/Users/avliu/opt/anaconda3/envs/hugging-face/lib/python3.10/site-packages/pandas/core/dtypes/cast.py\", line 1154, in astype_nansafe\n",
      "    return lib.astype_intsafe(arr, dtype)\n",
      "  File \"pandas/_libs/lib.pyx\", line 668, in pandas._libs.lib.astype_intsafe\n",
      "ValueError: invalid literal for int() with base 10: ''\n"
     ]
    },
    {
     "name": "stdout",
     "output_type": "stream",
     "text": [
      "round: 1\n",
      "round: 2\n",
      "round: 3\n",
      "round: 4\n",
      "round: 5\n",
      "round: 6\n",
      "round: 7\n",
      "round: 8\n",
      "round: 9\n",
      "tournament_id: 674836\n",
      "round: 1\n",
      "round: 2\n",
      "round: 3\n",
      "round: 4\n",
      "round: 5\n",
      "round: 6\n",
      "round: 7\n",
      "round: 8\n",
      "round: 9\n",
      "tournament_id: 672631\n",
      "round: 1\n",
      "invalid literal for int() with base 10: ''\n",
      "tournament_id: 672624\n"
     ]
    },
    {
     "name": "stderr",
     "output_type": "stream",
     "text": [
      "Traceback (most recent call last):\n",
      "  File \"/var/folders/t6/srtzy2f51db8mxxv7g_63f6h0000gr/T/ipykernel_72356/422094622.py\", line 19, in <cell line: 2>\n",
      "    games_df_list.append(parse_games_df(games_df))\n",
      "  File \"/var/folders/t6/srtzy2f51db8mxxv7g_63f6h0000gr/T/ipykernel_72356/3212580384.py\", line 18, in parse_games_df\n",
      "    games_df = games_df.astype({\n",
      "  File \"/Users/avliu/opt/anaconda3/envs/hugging-face/lib/python3.10/site-packages/pandas/core/generic.py\", line 5898, in astype\n",
      "    res_col = col.astype(dtype=cdt, copy=copy, errors=errors)\n",
      "  File \"/Users/avliu/opt/anaconda3/envs/hugging-face/lib/python3.10/site-packages/pandas/core/generic.py\", line 5912, in astype\n",
      "    new_data = self._mgr.astype(dtype=dtype, copy=copy, errors=errors)\n",
      "  File \"/Users/avliu/opt/anaconda3/envs/hugging-face/lib/python3.10/site-packages/pandas/core/internals/managers.py\", line 419, in astype\n",
      "    return self.apply(\"astype\", dtype=dtype, copy=copy, errors=errors)\n",
      "  File \"/Users/avliu/opt/anaconda3/envs/hugging-face/lib/python3.10/site-packages/pandas/core/internals/managers.py\", line 304, in apply\n",
      "    applied = getattr(b, f)(**kwargs)\n",
      "  File \"/Users/avliu/opt/anaconda3/envs/hugging-face/lib/python3.10/site-packages/pandas/core/internals/blocks.py\", line 580, in astype\n",
      "    new_values = astype_array_safe(values, dtype, copy=copy, errors=errors)\n",
      "  File \"/Users/avliu/opt/anaconda3/envs/hugging-face/lib/python3.10/site-packages/pandas/core/dtypes/cast.py\", line 1292, in astype_array_safe\n",
      "    new_values = astype_array(values, dtype, copy=copy)\n",
      "  File \"/Users/avliu/opt/anaconda3/envs/hugging-face/lib/python3.10/site-packages/pandas/core/dtypes/cast.py\", line 1237, in astype_array\n",
      "    values = astype_nansafe(values, dtype, copy=copy)\n",
      "  File \"/Users/avliu/opt/anaconda3/envs/hugging-face/lib/python3.10/site-packages/pandas/core/dtypes/cast.py\", line 1154, in astype_nansafe\n",
      "    return lib.astype_intsafe(arr, dtype)\n",
      "  File \"pandas/_libs/lib.pyx\", line 668, in pandas._libs.lib.astype_intsafe\n",
      "ValueError: invalid literal for int() with base 10: ''\n"
     ]
    },
    {
     "name": "stdout",
     "output_type": "stream",
     "text": [
      "round: 1\n",
      "invalid literal for int() with base 10: ''\n",
      "tournament_id: 672623\n"
     ]
    },
    {
     "name": "stderr",
     "output_type": "stream",
     "text": [
      "Traceback (most recent call last):\n",
      "  File \"/var/folders/t6/srtzy2f51db8mxxv7g_63f6h0000gr/T/ipykernel_72356/422094622.py\", line 19, in <cell line: 2>\n",
      "    games_df_list.append(parse_games_df(games_df))\n",
      "  File \"/var/folders/t6/srtzy2f51db8mxxv7g_63f6h0000gr/T/ipykernel_72356/3212580384.py\", line 18, in parse_games_df\n",
      "    games_df = games_df.astype({\n",
      "  File \"/Users/avliu/opt/anaconda3/envs/hugging-face/lib/python3.10/site-packages/pandas/core/generic.py\", line 5898, in astype\n",
      "    res_col = col.astype(dtype=cdt, copy=copy, errors=errors)\n",
      "  File \"/Users/avliu/opt/anaconda3/envs/hugging-face/lib/python3.10/site-packages/pandas/core/generic.py\", line 5912, in astype\n",
      "    new_data = self._mgr.astype(dtype=dtype, copy=copy, errors=errors)\n",
      "  File \"/Users/avliu/opt/anaconda3/envs/hugging-face/lib/python3.10/site-packages/pandas/core/internals/managers.py\", line 419, in astype\n",
      "    return self.apply(\"astype\", dtype=dtype, copy=copy, errors=errors)\n",
      "  File \"/Users/avliu/opt/anaconda3/envs/hugging-face/lib/python3.10/site-packages/pandas/core/internals/managers.py\", line 304, in apply\n",
      "    applied = getattr(b, f)(**kwargs)\n",
      "  File \"/Users/avliu/opt/anaconda3/envs/hugging-face/lib/python3.10/site-packages/pandas/core/internals/blocks.py\", line 580, in astype\n",
      "    new_values = astype_array_safe(values, dtype, copy=copy, errors=errors)\n",
      "  File \"/Users/avliu/opt/anaconda3/envs/hugging-face/lib/python3.10/site-packages/pandas/core/dtypes/cast.py\", line 1292, in astype_array_safe\n",
      "    new_values = astype_array(values, dtype, copy=copy)\n",
      "  File \"/Users/avliu/opt/anaconda3/envs/hugging-face/lib/python3.10/site-packages/pandas/core/dtypes/cast.py\", line 1237, in astype_array\n",
      "    values = astype_nansafe(values, dtype, copy=copy)\n",
      "  File \"/Users/avliu/opt/anaconda3/envs/hugging-face/lib/python3.10/site-packages/pandas/core/dtypes/cast.py\", line 1154, in astype_nansafe\n",
      "    return lib.astype_intsafe(arr, dtype)\n",
      "  File \"pandas/_libs/lib.pyx\", line 668, in pandas._libs.lib.astype_intsafe\n",
      "ValueError: invalid literal for int() with base 10: ''\n"
     ]
    },
    {
     "name": "stdout",
     "output_type": "stream",
     "text": [
      "round: 1\n",
      "invalid literal for int() with base 10: 'Rtg'\n",
      "tournament_id: 672221\n"
     ]
    },
    {
     "name": "stderr",
     "output_type": "stream",
     "text": [
      "Traceback (most recent call last):\n",
      "  File \"/var/folders/t6/srtzy2f51db8mxxv7g_63f6h0000gr/T/ipykernel_72356/422094622.py\", line 19, in <cell line: 2>\n",
      "    games_df_list.append(parse_games_df(games_df))\n",
      "  File \"/var/folders/t6/srtzy2f51db8mxxv7g_63f6h0000gr/T/ipykernel_72356/3212580384.py\", line 18, in parse_games_df\n",
      "    games_df = games_df.astype({\n",
      "  File \"/Users/avliu/opt/anaconda3/envs/hugging-face/lib/python3.10/site-packages/pandas/core/generic.py\", line 5898, in astype\n",
      "    res_col = col.astype(dtype=cdt, copy=copy, errors=errors)\n",
      "  File \"/Users/avliu/opt/anaconda3/envs/hugging-face/lib/python3.10/site-packages/pandas/core/generic.py\", line 5912, in astype\n",
      "    new_data = self._mgr.astype(dtype=dtype, copy=copy, errors=errors)\n",
      "  File \"/Users/avliu/opt/anaconda3/envs/hugging-face/lib/python3.10/site-packages/pandas/core/internals/managers.py\", line 419, in astype\n",
      "    return self.apply(\"astype\", dtype=dtype, copy=copy, errors=errors)\n",
      "  File \"/Users/avliu/opt/anaconda3/envs/hugging-face/lib/python3.10/site-packages/pandas/core/internals/managers.py\", line 304, in apply\n",
      "    applied = getattr(b, f)(**kwargs)\n",
      "  File \"/Users/avliu/opt/anaconda3/envs/hugging-face/lib/python3.10/site-packages/pandas/core/internals/blocks.py\", line 580, in astype\n",
      "    new_values = astype_array_safe(values, dtype, copy=copy, errors=errors)\n",
      "  File \"/Users/avliu/opt/anaconda3/envs/hugging-face/lib/python3.10/site-packages/pandas/core/dtypes/cast.py\", line 1292, in astype_array_safe\n",
      "    new_values = astype_array(values, dtype, copy=copy)\n",
      "  File \"/Users/avliu/opt/anaconda3/envs/hugging-face/lib/python3.10/site-packages/pandas/core/dtypes/cast.py\", line 1237, in astype_array\n",
      "    values = astype_nansafe(values, dtype, copy=copy)\n",
      "  File \"/Users/avliu/opt/anaconda3/envs/hugging-face/lib/python3.10/site-packages/pandas/core/dtypes/cast.py\", line 1154, in astype_nansafe\n",
      "    return lib.astype_intsafe(arr, dtype)\n",
      "  File \"pandas/_libs/lib.pyx\", line 668, in pandas._libs.lib.astype_intsafe\n",
      "ValueError: invalid literal for int() with base 10: 'Rtg'\n"
     ]
    },
    {
     "name": "stdout",
     "output_type": "stream",
     "text": [
      "round: 1\n",
      "invalid literal for int() with base 10: ''\n",
      "tournament_id: 672633\n"
     ]
    },
    {
     "name": "stderr",
     "output_type": "stream",
     "text": [
      "Traceback (most recent call last):\n",
      "  File \"/var/folders/t6/srtzy2f51db8mxxv7g_63f6h0000gr/T/ipykernel_72356/422094622.py\", line 19, in <cell line: 2>\n",
      "    games_df_list.append(parse_games_df(games_df))\n",
      "  File \"/var/folders/t6/srtzy2f51db8mxxv7g_63f6h0000gr/T/ipykernel_72356/3212580384.py\", line 18, in parse_games_df\n",
      "    games_df = games_df.astype({\n",
      "  File \"/Users/avliu/opt/anaconda3/envs/hugging-face/lib/python3.10/site-packages/pandas/core/generic.py\", line 5898, in astype\n",
      "    res_col = col.astype(dtype=cdt, copy=copy, errors=errors)\n",
      "  File \"/Users/avliu/opt/anaconda3/envs/hugging-face/lib/python3.10/site-packages/pandas/core/generic.py\", line 5912, in astype\n",
      "    new_data = self._mgr.astype(dtype=dtype, copy=copy, errors=errors)\n",
      "  File \"/Users/avliu/opt/anaconda3/envs/hugging-face/lib/python3.10/site-packages/pandas/core/internals/managers.py\", line 419, in astype\n",
      "    return self.apply(\"astype\", dtype=dtype, copy=copy, errors=errors)\n",
      "  File \"/Users/avliu/opt/anaconda3/envs/hugging-face/lib/python3.10/site-packages/pandas/core/internals/managers.py\", line 304, in apply\n",
      "    applied = getattr(b, f)(**kwargs)\n",
      "  File \"/Users/avliu/opt/anaconda3/envs/hugging-face/lib/python3.10/site-packages/pandas/core/internals/blocks.py\", line 580, in astype\n",
      "    new_values = astype_array_safe(values, dtype, copy=copy, errors=errors)\n",
      "  File \"/Users/avliu/opt/anaconda3/envs/hugging-face/lib/python3.10/site-packages/pandas/core/dtypes/cast.py\", line 1292, in astype_array_safe\n",
      "    new_values = astype_array(values, dtype, copy=copy)\n",
      "  File \"/Users/avliu/opt/anaconda3/envs/hugging-face/lib/python3.10/site-packages/pandas/core/dtypes/cast.py\", line 1237, in astype_array\n",
      "    values = astype_nansafe(values, dtype, copy=copy)\n",
      "  File \"/Users/avliu/opt/anaconda3/envs/hugging-face/lib/python3.10/site-packages/pandas/core/dtypes/cast.py\", line 1154, in astype_nansafe\n",
      "    return lib.astype_intsafe(arr, dtype)\n",
      "  File \"pandas/_libs/lib.pyx\", line 668, in pandas._libs.lib.astype_intsafe\n",
      "ValueError: invalid literal for int() with base 10: ''\n"
     ]
    },
    {
     "name": "stdout",
     "output_type": "stream",
     "text": [
      "round: 1\n",
      "invalid literal for int() with base 10: ''\n",
      "tournament_id: 672625\n"
     ]
    },
    {
     "name": "stderr",
     "output_type": "stream",
     "text": [
      "Traceback (most recent call last):\n",
      "  File \"/var/folders/t6/srtzy2f51db8mxxv7g_63f6h0000gr/T/ipykernel_72356/422094622.py\", line 19, in <cell line: 2>\n",
      "    games_df_list.append(parse_games_df(games_df))\n",
      "  File \"/var/folders/t6/srtzy2f51db8mxxv7g_63f6h0000gr/T/ipykernel_72356/3212580384.py\", line 18, in parse_games_df\n",
      "    games_df = games_df.astype({\n",
      "  File \"/Users/avliu/opt/anaconda3/envs/hugging-face/lib/python3.10/site-packages/pandas/core/generic.py\", line 5898, in astype\n",
      "    res_col = col.astype(dtype=cdt, copy=copy, errors=errors)\n",
      "  File \"/Users/avliu/opt/anaconda3/envs/hugging-face/lib/python3.10/site-packages/pandas/core/generic.py\", line 5912, in astype\n",
      "    new_data = self._mgr.astype(dtype=dtype, copy=copy, errors=errors)\n",
      "  File \"/Users/avliu/opt/anaconda3/envs/hugging-face/lib/python3.10/site-packages/pandas/core/internals/managers.py\", line 419, in astype\n",
      "    return self.apply(\"astype\", dtype=dtype, copy=copy, errors=errors)\n",
      "  File \"/Users/avliu/opt/anaconda3/envs/hugging-face/lib/python3.10/site-packages/pandas/core/internals/managers.py\", line 304, in apply\n",
      "    applied = getattr(b, f)(**kwargs)\n",
      "  File \"/Users/avliu/opt/anaconda3/envs/hugging-face/lib/python3.10/site-packages/pandas/core/internals/blocks.py\", line 580, in astype\n",
      "    new_values = astype_array_safe(values, dtype, copy=copy, errors=errors)\n",
      "  File \"/Users/avliu/opt/anaconda3/envs/hugging-face/lib/python3.10/site-packages/pandas/core/dtypes/cast.py\", line 1292, in astype_array_safe\n",
      "    new_values = astype_array(values, dtype, copy=copy)\n",
      "  File \"/Users/avliu/opt/anaconda3/envs/hugging-face/lib/python3.10/site-packages/pandas/core/dtypes/cast.py\", line 1237, in astype_array\n",
      "    values = astype_nansafe(values, dtype, copy=copy)\n",
      "  File \"/Users/avliu/opt/anaconda3/envs/hugging-face/lib/python3.10/site-packages/pandas/core/dtypes/cast.py\", line 1154, in astype_nansafe\n",
      "    return lib.astype_intsafe(arr, dtype)\n",
      "  File \"pandas/_libs/lib.pyx\", line 668, in pandas._libs.lib.astype_intsafe\n",
      "ValueError: invalid literal for int() with base 10: ''\n"
     ]
    },
    {
     "name": "stdout",
     "output_type": "stream",
     "text": [
      "round: 1\n",
      "cannot convert float NaN to integer\n",
      "tournament_id: 641973\n"
     ]
    },
    {
     "name": "stderr",
     "output_type": "stream",
     "text": [
      "Traceback (most recent call last):\n",
      "  File \"/var/folders/t6/srtzy2f51db8mxxv7g_63f6h0000gr/T/ipykernel_72356/422094622.py\", line 19, in <cell line: 2>\n",
      "    games_df_list.append(parse_games_df(games_df))\n",
      "  File \"/var/folders/t6/srtzy2f51db8mxxv7g_63f6h0000gr/T/ipykernel_72356/3212580384.py\", line 18, in parse_games_df\n",
      "    games_df = games_df.astype({\n",
      "  File \"/Users/avliu/opt/anaconda3/envs/hugging-face/lib/python3.10/site-packages/pandas/core/generic.py\", line 5898, in astype\n",
      "    res_col = col.astype(dtype=cdt, copy=copy, errors=errors)\n",
      "  File \"/Users/avliu/opt/anaconda3/envs/hugging-face/lib/python3.10/site-packages/pandas/core/generic.py\", line 5912, in astype\n",
      "    new_data = self._mgr.astype(dtype=dtype, copy=copy, errors=errors)\n",
      "  File \"/Users/avliu/opt/anaconda3/envs/hugging-face/lib/python3.10/site-packages/pandas/core/internals/managers.py\", line 419, in astype\n",
      "    return self.apply(\"astype\", dtype=dtype, copy=copy, errors=errors)\n",
      "  File \"/Users/avliu/opt/anaconda3/envs/hugging-face/lib/python3.10/site-packages/pandas/core/internals/managers.py\", line 304, in apply\n",
      "    applied = getattr(b, f)(**kwargs)\n",
      "  File \"/Users/avliu/opt/anaconda3/envs/hugging-face/lib/python3.10/site-packages/pandas/core/internals/blocks.py\", line 580, in astype\n",
      "    new_values = astype_array_safe(values, dtype, copy=copy, errors=errors)\n",
      "  File \"/Users/avliu/opt/anaconda3/envs/hugging-face/lib/python3.10/site-packages/pandas/core/dtypes/cast.py\", line 1292, in astype_array_safe\n",
      "    new_values = astype_array(values, dtype, copy=copy)\n",
      "  File \"/Users/avliu/opt/anaconda3/envs/hugging-face/lib/python3.10/site-packages/pandas/core/dtypes/cast.py\", line 1237, in astype_array\n",
      "    values = astype_nansafe(values, dtype, copy=copy)\n",
      "  File \"/Users/avliu/opt/anaconda3/envs/hugging-face/lib/python3.10/site-packages/pandas/core/dtypes/cast.py\", line 1154, in astype_nansafe\n",
      "    return lib.astype_intsafe(arr, dtype)\n",
      "  File \"pandas/_libs/lib.pyx\", line 668, in pandas._libs.lib.astype_intsafe\n",
      "ValueError: cannot convert float NaN to integer\n"
     ]
    },
    {
     "name": "stdout",
     "output_type": "stream",
     "text": [
      "round: 1\n",
      "invalid literal for int() with base 10: 'Rtg'\n",
      "tournament_id: 641963\n"
     ]
    },
    {
     "name": "stderr",
     "output_type": "stream",
     "text": [
      "Traceback (most recent call last):\n",
      "  File \"/var/folders/t6/srtzy2f51db8mxxv7g_63f6h0000gr/T/ipykernel_72356/422094622.py\", line 19, in <cell line: 2>\n",
      "    games_df_list.append(parse_games_df(games_df))\n",
      "  File \"/var/folders/t6/srtzy2f51db8mxxv7g_63f6h0000gr/T/ipykernel_72356/3212580384.py\", line 18, in parse_games_df\n",
      "    games_df = games_df.astype({\n",
      "  File \"/Users/avliu/opt/anaconda3/envs/hugging-face/lib/python3.10/site-packages/pandas/core/generic.py\", line 5898, in astype\n",
      "    res_col = col.astype(dtype=cdt, copy=copy, errors=errors)\n",
      "  File \"/Users/avliu/opt/anaconda3/envs/hugging-face/lib/python3.10/site-packages/pandas/core/generic.py\", line 5912, in astype\n",
      "    new_data = self._mgr.astype(dtype=dtype, copy=copy, errors=errors)\n",
      "  File \"/Users/avliu/opt/anaconda3/envs/hugging-face/lib/python3.10/site-packages/pandas/core/internals/managers.py\", line 419, in astype\n",
      "    return self.apply(\"astype\", dtype=dtype, copy=copy, errors=errors)\n",
      "  File \"/Users/avliu/opt/anaconda3/envs/hugging-face/lib/python3.10/site-packages/pandas/core/internals/managers.py\", line 304, in apply\n",
      "    applied = getattr(b, f)(**kwargs)\n",
      "  File \"/Users/avliu/opt/anaconda3/envs/hugging-face/lib/python3.10/site-packages/pandas/core/internals/blocks.py\", line 580, in astype\n",
      "    new_values = astype_array_safe(values, dtype, copy=copy, errors=errors)\n",
      "  File \"/Users/avliu/opt/anaconda3/envs/hugging-face/lib/python3.10/site-packages/pandas/core/dtypes/cast.py\", line 1292, in astype_array_safe\n",
      "    new_values = astype_array(values, dtype, copy=copy)\n",
      "  File \"/Users/avliu/opt/anaconda3/envs/hugging-face/lib/python3.10/site-packages/pandas/core/dtypes/cast.py\", line 1237, in astype_array\n",
      "    values = astype_nansafe(values, dtype, copy=copy)\n",
      "  File \"/Users/avliu/opt/anaconda3/envs/hugging-face/lib/python3.10/site-packages/pandas/core/dtypes/cast.py\", line 1154, in astype_nansafe\n",
      "    return lib.astype_intsafe(arr, dtype)\n",
      "  File \"pandas/_libs/lib.pyx\", line 668, in pandas._libs.lib.astype_intsafe\n",
      "ValueError: invalid literal for int() with base 10: 'Rtg'\n"
     ]
    },
    {
     "name": "stdout",
     "output_type": "stream",
     "text": [
      "round: 1\n",
      "invalid literal for int() with base 10: 'Rtg'\n",
      "tournament_id: 672645\n"
     ]
    },
    {
     "name": "stderr",
     "output_type": "stream",
     "text": [
      "Traceback (most recent call last):\n",
      "  File \"/var/folders/t6/srtzy2f51db8mxxv7g_63f6h0000gr/T/ipykernel_72356/422094622.py\", line 19, in <cell line: 2>\n",
      "    games_df_list.append(parse_games_df(games_df))\n",
      "  File \"/var/folders/t6/srtzy2f51db8mxxv7g_63f6h0000gr/T/ipykernel_72356/3212580384.py\", line 18, in parse_games_df\n",
      "    games_df = games_df.astype({\n",
      "  File \"/Users/avliu/opt/anaconda3/envs/hugging-face/lib/python3.10/site-packages/pandas/core/generic.py\", line 5898, in astype\n",
      "    res_col = col.astype(dtype=cdt, copy=copy, errors=errors)\n",
      "  File \"/Users/avliu/opt/anaconda3/envs/hugging-face/lib/python3.10/site-packages/pandas/core/generic.py\", line 5912, in astype\n",
      "    new_data = self._mgr.astype(dtype=dtype, copy=copy, errors=errors)\n",
      "  File \"/Users/avliu/opt/anaconda3/envs/hugging-face/lib/python3.10/site-packages/pandas/core/internals/managers.py\", line 419, in astype\n",
      "    return self.apply(\"astype\", dtype=dtype, copy=copy, errors=errors)\n",
      "  File \"/Users/avliu/opt/anaconda3/envs/hugging-face/lib/python3.10/site-packages/pandas/core/internals/managers.py\", line 304, in apply\n",
      "    applied = getattr(b, f)(**kwargs)\n",
      "  File \"/Users/avliu/opt/anaconda3/envs/hugging-face/lib/python3.10/site-packages/pandas/core/internals/blocks.py\", line 580, in astype\n",
      "    new_values = astype_array_safe(values, dtype, copy=copy, errors=errors)\n",
      "  File \"/Users/avliu/opt/anaconda3/envs/hugging-face/lib/python3.10/site-packages/pandas/core/dtypes/cast.py\", line 1292, in astype_array_safe\n",
      "    new_values = astype_array(values, dtype, copy=copy)\n",
      "  File \"/Users/avliu/opt/anaconda3/envs/hugging-face/lib/python3.10/site-packages/pandas/core/dtypes/cast.py\", line 1237, in astype_array\n",
      "    values = astype_nansafe(values, dtype, copy=copy)\n",
      "  File \"/Users/avliu/opt/anaconda3/envs/hugging-face/lib/python3.10/site-packages/pandas/core/dtypes/cast.py\", line 1154, in astype_nansafe\n",
      "    return lib.astype_intsafe(arr, dtype)\n",
      "  File \"pandas/_libs/lib.pyx\", line 668, in pandas._libs.lib.astype_intsafe\n",
      "ValueError: invalid literal for int() with base 10: 'Rtg'\n"
     ]
    },
    {
     "name": "stdout",
     "output_type": "stream",
     "text": [
      "round: 1\n",
      "invalid literal for int() with base 10: ''\n",
      "tournament_id: 672627\n"
     ]
    },
    {
     "name": "stderr",
     "output_type": "stream",
     "text": [
      "Traceback (most recent call last):\n",
      "  File \"/var/folders/t6/srtzy2f51db8mxxv7g_63f6h0000gr/T/ipykernel_72356/422094622.py\", line 19, in <cell line: 2>\n",
      "    games_df_list.append(parse_games_df(games_df))\n",
      "  File \"/var/folders/t6/srtzy2f51db8mxxv7g_63f6h0000gr/T/ipykernel_72356/3212580384.py\", line 18, in parse_games_df\n",
      "    games_df = games_df.astype({\n",
      "  File \"/Users/avliu/opt/anaconda3/envs/hugging-face/lib/python3.10/site-packages/pandas/core/generic.py\", line 5898, in astype\n",
      "    res_col = col.astype(dtype=cdt, copy=copy, errors=errors)\n",
      "  File \"/Users/avliu/opt/anaconda3/envs/hugging-face/lib/python3.10/site-packages/pandas/core/generic.py\", line 5912, in astype\n",
      "    new_data = self._mgr.astype(dtype=dtype, copy=copy, errors=errors)\n",
      "  File \"/Users/avliu/opt/anaconda3/envs/hugging-face/lib/python3.10/site-packages/pandas/core/internals/managers.py\", line 419, in astype\n",
      "    return self.apply(\"astype\", dtype=dtype, copy=copy, errors=errors)\n",
      "  File \"/Users/avliu/opt/anaconda3/envs/hugging-face/lib/python3.10/site-packages/pandas/core/internals/managers.py\", line 304, in apply\n",
      "    applied = getattr(b, f)(**kwargs)\n",
      "  File \"/Users/avliu/opt/anaconda3/envs/hugging-face/lib/python3.10/site-packages/pandas/core/internals/blocks.py\", line 580, in astype\n",
      "    new_values = astype_array_safe(values, dtype, copy=copy, errors=errors)\n",
      "  File \"/Users/avliu/opt/anaconda3/envs/hugging-face/lib/python3.10/site-packages/pandas/core/dtypes/cast.py\", line 1292, in astype_array_safe\n",
      "    new_values = astype_array(values, dtype, copy=copy)\n",
      "  File \"/Users/avliu/opt/anaconda3/envs/hugging-face/lib/python3.10/site-packages/pandas/core/dtypes/cast.py\", line 1237, in astype_array\n",
      "    values = astype_nansafe(values, dtype, copy=copy)\n",
      "  File \"/Users/avliu/opt/anaconda3/envs/hugging-face/lib/python3.10/site-packages/pandas/core/dtypes/cast.py\", line 1154, in astype_nansafe\n",
      "    return lib.astype_intsafe(arr, dtype)\n",
      "  File \"pandas/_libs/lib.pyx\", line 668, in pandas._libs.lib.astype_intsafe\n",
      "ValueError: invalid literal for int() with base 10: ''\n"
     ]
    },
    {
     "name": "stdout",
     "output_type": "stream",
     "text": [
      "round: 1\n",
      "cannot convert float NaN to integer\n",
      "tournament_id: 672222\n"
     ]
    },
    {
     "name": "stderr",
     "output_type": "stream",
     "text": [
      "Traceback (most recent call last):\n",
      "  File \"/var/folders/t6/srtzy2f51db8mxxv7g_63f6h0000gr/T/ipykernel_72356/422094622.py\", line 19, in <cell line: 2>\n",
      "    games_df_list.append(parse_games_df(games_df))\n",
      "  File \"/var/folders/t6/srtzy2f51db8mxxv7g_63f6h0000gr/T/ipykernel_72356/3212580384.py\", line 18, in parse_games_df\n",
      "    games_df = games_df.astype({\n",
      "  File \"/Users/avliu/opt/anaconda3/envs/hugging-face/lib/python3.10/site-packages/pandas/core/generic.py\", line 5898, in astype\n",
      "    res_col = col.astype(dtype=cdt, copy=copy, errors=errors)\n",
      "  File \"/Users/avliu/opt/anaconda3/envs/hugging-face/lib/python3.10/site-packages/pandas/core/generic.py\", line 5912, in astype\n",
      "    new_data = self._mgr.astype(dtype=dtype, copy=copy, errors=errors)\n",
      "  File \"/Users/avliu/opt/anaconda3/envs/hugging-face/lib/python3.10/site-packages/pandas/core/internals/managers.py\", line 419, in astype\n",
      "    return self.apply(\"astype\", dtype=dtype, copy=copy, errors=errors)\n",
      "  File \"/Users/avliu/opt/anaconda3/envs/hugging-face/lib/python3.10/site-packages/pandas/core/internals/managers.py\", line 304, in apply\n",
      "    applied = getattr(b, f)(**kwargs)\n",
      "  File \"/Users/avliu/opt/anaconda3/envs/hugging-face/lib/python3.10/site-packages/pandas/core/internals/blocks.py\", line 580, in astype\n",
      "    new_values = astype_array_safe(values, dtype, copy=copy, errors=errors)\n",
      "  File \"/Users/avliu/opt/anaconda3/envs/hugging-face/lib/python3.10/site-packages/pandas/core/dtypes/cast.py\", line 1292, in astype_array_safe\n",
      "    new_values = astype_array(values, dtype, copy=copy)\n",
      "  File \"/Users/avliu/opt/anaconda3/envs/hugging-face/lib/python3.10/site-packages/pandas/core/dtypes/cast.py\", line 1237, in astype_array\n",
      "    values = astype_nansafe(values, dtype, copy=copy)\n",
      "  File \"/Users/avliu/opt/anaconda3/envs/hugging-face/lib/python3.10/site-packages/pandas/core/dtypes/cast.py\", line 1154, in astype_nansafe\n",
      "    return lib.astype_intsafe(arr, dtype)\n",
      "  File \"pandas/_libs/lib.pyx\", line 668, in pandas._libs.lib.astype_intsafe\n",
      "ValueError: cannot convert float NaN to integer\n"
     ]
    },
    {
     "name": "stdout",
     "output_type": "stream",
     "text": [
      "tournament_id: 672220\n",
      "round: 1\n",
      "list index out of range\n",
      "tournament_id: 661581\n"
     ]
    },
    {
     "name": "stderr",
     "output_type": "stream",
     "text": [
      "Traceback (most recent call last):\n",
      "  File \"/var/folders/t6/srtzy2f51db8mxxv7g_63f6h0000gr/T/ipykernel_72356/422094622.py\", line 19, in <cell line: 2>\n",
      "    games_df_list.append(parse_games_df(games_df))\n",
      "  File \"/var/folders/t6/srtzy2f51db8mxxv7g_63f6h0000gr/T/ipykernel_72356/3212580384.py\", line 8, in parse_games_df\n",
      "    games_df.columns.values[rtg_idxs[0]] = \"left_rtg\"\n",
      "IndexError: list index out of range\n"
     ]
    },
    {
     "name": "stdout",
     "output_type": "stream",
     "text": [
      "round: 1\n",
      "invalid literal for int() with base 10: ''\n",
      "tournament_id: 636731\n"
     ]
    },
    {
     "name": "stderr",
     "output_type": "stream",
     "text": [
      "Traceback (most recent call last):\n",
      "  File \"/var/folders/t6/srtzy2f51db8mxxv7g_63f6h0000gr/T/ipykernel_72356/422094622.py\", line 19, in <cell line: 2>\n",
      "    games_df_list.append(parse_games_df(games_df))\n",
      "  File \"/var/folders/t6/srtzy2f51db8mxxv7g_63f6h0000gr/T/ipykernel_72356/3212580384.py\", line 18, in parse_games_df\n",
      "    games_df = games_df.astype({\n",
      "  File \"/Users/avliu/opt/anaconda3/envs/hugging-face/lib/python3.10/site-packages/pandas/core/generic.py\", line 5898, in astype\n",
      "    res_col = col.astype(dtype=cdt, copy=copy, errors=errors)\n",
      "  File \"/Users/avliu/opt/anaconda3/envs/hugging-face/lib/python3.10/site-packages/pandas/core/generic.py\", line 5912, in astype\n",
      "    new_data = self._mgr.astype(dtype=dtype, copy=copy, errors=errors)\n",
      "  File \"/Users/avliu/opt/anaconda3/envs/hugging-face/lib/python3.10/site-packages/pandas/core/internals/managers.py\", line 419, in astype\n",
      "    return self.apply(\"astype\", dtype=dtype, copy=copy, errors=errors)\n",
      "  File \"/Users/avliu/opt/anaconda3/envs/hugging-face/lib/python3.10/site-packages/pandas/core/internals/managers.py\", line 304, in apply\n",
      "    applied = getattr(b, f)(**kwargs)\n",
      "  File \"/Users/avliu/opt/anaconda3/envs/hugging-face/lib/python3.10/site-packages/pandas/core/internals/blocks.py\", line 580, in astype\n",
      "    new_values = astype_array_safe(values, dtype, copy=copy, errors=errors)\n",
      "  File \"/Users/avliu/opt/anaconda3/envs/hugging-face/lib/python3.10/site-packages/pandas/core/dtypes/cast.py\", line 1292, in astype_array_safe\n",
      "    new_values = astype_array(values, dtype, copy=copy)\n",
      "  File \"/Users/avliu/opt/anaconda3/envs/hugging-face/lib/python3.10/site-packages/pandas/core/dtypes/cast.py\", line 1237, in astype_array\n",
      "    values = astype_nansafe(values, dtype, copy=copy)\n",
      "  File \"/Users/avliu/opt/anaconda3/envs/hugging-face/lib/python3.10/site-packages/pandas/core/dtypes/cast.py\", line 1154, in astype_nansafe\n",
      "    return lib.astype_intsafe(arr, dtype)\n",
      "  File \"pandas/_libs/lib.pyx\", line 668, in pandas._libs.lib.astype_intsafe\n",
      "ValueError: invalid literal for int() with base 10: ''\n"
     ]
    },
    {
     "name": "stdout",
     "output_type": "stream",
     "text": [
      "round: 1\n",
      "invalid literal for int() with base 10: ''\n",
      "tournament_id: 661394\n"
     ]
    },
    {
     "name": "stderr",
     "output_type": "stream",
     "text": [
      "Traceback (most recent call last):\n",
      "  File \"/var/folders/t6/srtzy2f51db8mxxv7g_63f6h0000gr/T/ipykernel_72356/422094622.py\", line 19, in <cell line: 2>\n",
      "    games_df_list.append(parse_games_df(games_df))\n",
      "  File \"/var/folders/t6/srtzy2f51db8mxxv7g_63f6h0000gr/T/ipykernel_72356/3212580384.py\", line 18, in parse_games_df\n",
      "    games_df = games_df.astype({\n",
      "  File \"/Users/avliu/opt/anaconda3/envs/hugging-face/lib/python3.10/site-packages/pandas/core/generic.py\", line 5898, in astype\n",
      "    res_col = col.astype(dtype=cdt, copy=copy, errors=errors)\n",
      "  File \"/Users/avliu/opt/anaconda3/envs/hugging-face/lib/python3.10/site-packages/pandas/core/generic.py\", line 5912, in astype\n",
      "    new_data = self._mgr.astype(dtype=dtype, copy=copy, errors=errors)\n",
      "  File \"/Users/avliu/opt/anaconda3/envs/hugging-face/lib/python3.10/site-packages/pandas/core/internals/managers.py\", line 419, in astype\n",
      "    return self.apply(\"astype\", dtype=dtype, copy=copy, errors=errors)\n",
      "  File \"/Users/avliu/opt/anaconda3/envs/hugging-face/lib/python3.10/site-packages/pandas/core/internals/managers.py\", line 304, in apply\n",
      "    applied = getattr(b, f)(**kwargs)\n",
      "  File \"/Users/avliu/opt/anaconda3/envs/hugging-face/lib/python3.10/site-packages/pandas/core/internals/blocks.py\", line 580, in astype\n",
      "    new_values = astype_array_safe(values, dtype, copy=copy, errors=errors)\n",
      "  File \"/Users/avliu/opt/anaconda3/envs/hugging-face/lib/python3.10/site-packages/pandas/core/dtypes/cast.py\", line 1292, in astype_array_safe\n",
      "    new_values = astype_array(values, dtype, copy=copy)\n",
      "  File \"/Users/avliu/opt/anaconda3/envs/hugging-face/lib/python3.10/site-packages/pandas/core/dtypes/cast.py\", line 1237, in astype_array\n",
      "    values = astype_nansafe(values, dtype, copy=copy)\n",
      "  File \"/Users/avliu/opt/anaconda3/envs/hugging-face/lib/python3.10/site-packages/pandas/core/dtypes/cast.py\", line 1154, in astype_nansafe\n",
      "    return lib.astype_intsafe(arr, dtype)\n",
      "  File \"pandas/_libs/lib.pyx\", line 668, in pandas._libs.lib.astype_intsafe\n",
      "ValueError: invalid literal for int() with base 10: ''\n"
     ]
    },
    {
     "name": "stdout",
     "output_type": "stream",
     "text": [
      "tournament_id: 661395\n",
      "round: 1\n",
      "invalid literal for int() with base 10: ''\n",
      "tournament_id: 659173\n"
     ]
    },
    {
     "name": "stderr",
     "output_type": "stream",
     "text": [
      "Traceback (most recent call last):\n",
      "  File \"/var/folders/t6/srtzy2f51db8mxxv7g_63f6h0000gr/T/ipykernel_72356/422094622.py\", line 19, in <cell line: 2>\n",
      "    games_df_list.append(parse_games_df(games_df))\n",
      "  File \"/var/folders/t6/srtzy2f51db8mxxv7g_63f6h0000gr/T/ipykernel_72356/3212580384.py\", line 18, in parse_games_df\n",
      "    games_df = games_df.astype({\n",
      "  File \"/Users/avliu/opt/anaconda3/envs/hugging-face/lib/python3.10/site-packages/pandas/core/generic.py\", line 5898, in astype\n",
      "    res_col = col.astype(dtype=cdt, copy=copy, errors=errors)\n",
      "  File \"/Users/avliu/opt/anaconda3/envs/hugging-face/lib/python3.10/site-packages/pandas/core/generic.py\", line 5912, in astype\n",
      "    new_data = self._mgr.astype(dtype=dtype, copy=copy, errors=errors)\n",
      "  File \"/Users/avliu/opt/anaconda3/envs/hugging-face/lib/python3.10/site-packages/pandas/core/internals/managers.py\", line 419, in astype\n",
      "    return self.apply(\"astype\", dtype=dtype, copy=copy, errors=errors)\n",
      "  File \"/Users/avliu/opt/anaconda3/envs/hugging-face/lib/python3.10/site-packages/pandas/core/internals/managers.py\", line 304, in apply\n",
      "    applied = getattr(b, f)(**kwargs)\n",
      "  File \"/Users/avliu/opt/anaconda3/envs/hugging-face/lib/python3.10/site-packages/pandas/core/internals/blocks.py\", line 580, in astype\n",
      "    new_values = astype_array_safe(values, dtype, copy=copy, errors=errors)\n",
      "  File \"/Users/avliu/opt/anaconda3/envs/hugging-face/lib/python3.10/site-packages/pandas/core/dtypes/cast.py\", line 1292, in astype_array_safe\n",
      "    new_values = astype_array(values, dtype, copy=copy)\n",
      "  File \"/Users/avliu/opt/anaconda3/envs/hugging-face/lib/python3.10/site-packages/pandas/core/dtypes/cast.py\", line 1237, in astype_array\n",
      "    values = astype_nansafe(values, dtype, copy=copy)\n",
      "  File \"/Users/avliu/opt/anaconda3/envs/hugging-face/lib/python3.10/site-packages/pandas/core/dtypes/cast.py\", line 1154, in astype_nansafe\n",
      "    return lib.astype_intsafe(arr, dtype)\n",
      "  File \"pandas/_libs/lib.pyx\", line 668, in pandas._libs.lib.astype_intsafe\n",
      "ValueError: invalid literal for int() with base 10: ''\n"
     ]
    },
    {
     "name": "stdout",
     "output_type": "stream",
     "text": [
      "round: 1\n",
      "cannot convert float NaN to integer\n",
      "tournament_id: 659176\n"
     ]
    },
    {
     "name": "stderr",
     "output_type": "stream",
     "text": [
      "Traceback (most recent call last):\n",
      "  File \"/var/folders/t6/srtzy2f51db8mxxv7g_63f6h0000gr/T/ipykernel_72356/422094622.py\", line 19, in <cell line: 2>\n",
      "    games_df_list.append(parse_games_df(games_df))\n",
      "  File \"/var/folders/t6/srtzy2f51db8mxxv7g_63f6h0000gr/T/ipykernel_72356/3212580384.py\", line 18, in parse_games_df\n",
      "    games_df = games_df.astype({\n",
      "  File \"/Users/avliu/opt/anaconda3/envs/hugging-face/lib/python3.10/site-packages/pandas/core/generic.py\", line 5898, in astype\n",
      "    res_col = col.astype(dtype=cdt, copy=copy, errors=errors)\n",
      "  File \"/Users/avliu/opt/anaconda3/envs/hugging-face/lib/python3.10/site-packages/pandas/core/generic.py\", line 5912, in astype\n",
      "    new_data = self._mgr.astype(dtype=dtype, copy=copy, errors=errors)\n",
      "  File \"/Users/avliu/opt/anaconda3/envs/hugging-face/lib/python3.10/site-packages/pandas/core/internals/managers.py\", line 419, in astype\n",
      "    return self.apply(\"astype\", dtype=dtype, copy=copy, errors=errors)\n",
      "  File \"/Users/avliu/opt/anaconda3/envs/hugging-face/lib/python3.10/site-packages/pandas/core/internals/managers.py\", line 304, in apply\n",
      "    applied = getattr(b, f)(**kwargs)\n",
      "  File \"/Users/avliu/opt/anaconda3/envs/hugging-face/lib/python3.10/site-packages/pandas/core/internals/blocks.py\", line 580, in astype\n",
      "    new_values = astype_array_safe(values, dtype, copy=copy, errors=errors)\n",
      "  File \"/Users/avliu/opt/anaconda3/envs/hugging-face/lib/python3.10/site-packages/pandas/core/dtypes/cast.py\", line 1292, in astype_array_safe\n",
      "    new_values = astype_array(values, dtype, copy=copy)\n",
      "  File \"/Users/avliu/opt/anaconda3/envs/hugging-face/lib/python3.10/site-packages/pandas/core/dtypes/cast.py\", line 1237, in astype_array\n",
      "    values = astype_nansafe(values, dtype, copy=copy)\n",
      "  File \"/Users/avliu/opt/anaconda3/envs/hugging-face/lib/python3.10/site-packages/pandas/core/dtypes/cast.py\", line 1154, in astype_nansafe\n",
      "    return lib.astype_intsafe(arr, dtype)\n",
      "  File \"pandas/_libs/lib.pyx\", line 668, in pandas._libs.lib.astype_intsafe\n",
      "ValueError: cannot convert float NaN to integer\n"
     ]
    },
    {
     "name": "stdout",
     "output_type": "stream",
     "text": [
      "round: 1\n",
      "invalid literal for int() with base 10: ''\n",
      "tournament_id: 659169\n"
     ]
    },
    {
     "name": "stderr",
     "output_type": "stream",
     "text": [
      "Traceback (most recent call last):\n",
      "  File \"/var/folders/t6/srtzy2f51db8mxxv7g_63f6h0000gr/T/ipykernel_72356/422094622.py\", line 19, in <cell line: 2>\n",
      "    games_df_list.append(parse_games_df(games_df))\n",
      "  File \"/var/folders/t6/srtzy2f51db8mxxv7g_63f6h0000gr/T/ipykernel_72356/3212580384.py\", line 18, in parse_games_df\n",
      "    games_df = games_df.astype({\n",
      "  File \"/Users/avliu/opt/anaconda3/envs/hugging-face/lib/python3.10/site-packages/pandas/core/generic.py\", line 5898, in astype\n",
      "    res_col = col.astype(dtype=cdt, copy=copy, errors=errors)\n",
      "  File \"/Users/avliu/opt/anaconda3/envs/hugging-face/lib/python3.10/site-packages/pandas/core/generic.py\", line 5912, in astype\n",
      "    new_data = self._mgr.astype(dtype=dtype, copy=copy, errors=errors)\n",
      "  File \"/Users/avliu/opt/anaconda3/envs/hugging-face/lib/python3.10/site-packages/pandas/core/internals/managers.py\", line 419, in astype\n",
      "    return self.apply(\"astype\", dtype=dtype, copy=copy, errors=errors)\n",
      "  File \"/Users/avliu/opt/anaconda3/envs/hugging-face/lib/python3.10/site-packages/pandas/core/internals/managers.py\", line 304, in apply\n",
      "    applied = getattr(b, f)(**kwargs)\n",
      "  File \"/Users/avliu/opt/anaconda3/envs/hugging-face/lib/python3.10/site-packages/pandas/core/internals/blocks.py\", line 580, in astype\n",
      "    new_values = astype_array_safe(values, dtype, copy=copy, errors=errors)\n",
      "  File \"/Users/avliu/opt/anaconda3/envs/hugging-face/lib/python3.10/site-packages/pandas/core/dtypes/cast.py\", line 1292, in astype_array_safe\n",
      "    new_values = astype_array(values, dtype, copy=copy)\n",
      "  File \"/Users/avliu/opt/anaconda3/envs/hugging-face/lib/python3.10/site-packages/pandas/core/dtypes/cast.py\", line 1237, in astype_array\n",
      "    values = astype_nansafe(values, dtype, copy=copy)\n",
      "  File \"/Users/avliu/opt/anaconda3/envs/hugging-face/lib/python3.10/site-packages/pandas/core/dtypes/cast.py\", line 1154, in astype_nansafe\n",
      "    return lib.astype_intsafe(arr, dtype)\n",
      "  File \"pandas/_libs/lib.pyx\", line 668, in pandas._libs.lib.astype_intsafe\n",
      "ValueError: invalid literal for int() with base 10: ''\n"
     ]
    },
    {
     "name": "stdout",
     "output_type": "stream",
     "text": [
      "round: 1\n",
      "invalid literal for int() with base 10: ''\n",
      "tournament_id: 659168\n"
     ]
    },
    {
     "name": "stderr",
     "output_type": "stream",
     "text": [
      "Traceback (most recent call last):\n",
      "  File \"/var/folders/t6/srtzy2f51db8mxxv7g_63f6h0000gr/T/ipykernel_72356/422094622.py\", line 19, in <cell line: 2>\n",
      "    games_df_list.append(parse_games_df(games_df))\n",
      "  File \"/var/folders/t6/srtzy2f51db8mxxv7g_63f6h0000gr/T/ipykernel_72356/3212580384.py\", line 18, in parse_games_df\n",
      "    games_df = games_df.astype({\n",
      "  File \"/Users/avliu/opt/anaconda3/envs/hugging-face/lib/python3.10/site-packages/pandas/core/generic.py\", line 5898, in astype\n",
      "    res_col = col.astype(dtype=cdt, copy=copy, errors=errors)\n",
      "  File \"/Users/avliu/opt/anaconda3/envs/hugging-face/lib/python3.10/site-packages/pandas/core/generic.py\", line 5912, in astype\n",
      "    new_data = self._mgr.astype(dtype=dtype, copy=copy, errors=errors)\n",
      "  File \"/Users/avliu/opt/anaconda3/envs/hugging-face/lib/python3.10/site-packages/pandas/core/internals/managers.py\", line 419, in astype\n",
      "    return self.apply(\"astype\", dtype=dtype, copy=copy, errors=errors)\n",
      "  File \"/Users/avliu/opt/anaconda3/envs/hugging-face/lib/python3.10/site-packages/pandas/core/internals/managers.py\", line 304, in apply\n",
      "    applied = getattr(b, f)(**kwargs)\n",
      "  File \"/Users/avliu/opt/anaconda3/envs/hugging-face/lib/python3.10/site-packages/pandas/core/internals/blocks.py\", line 580, in astype\n",
      "    new_values = astype_array_safe(values, dtype, copy=copy, errors=errors)\n",
      "  File \"/Users/avliu/opt/anaconda3/envs/hugging-face/lib/python3.10/site-packages/pandas/core/dtypes/cast.py\", line 1292, in astype_array_safe\n",
      "    new_values = astype_array(values, dtype, copy=copy)\n",
      "  File \"/Users/avliu/opt/anaconda3/envs/hugging-face/lib/python3.10/site-packages/pandas/core/dtypes/cast.py\", line 1237, in astype_array\n",
      "    values = astype_nansafe(values, dtype, copy=copy)\n",
      "  File \"/Users/avliu/opt/anaconda3/envs/hugging-face/lib/python3.10/site-packages/pandas/core/dtypes/cast.py\", line 1154, in astype_nansafe\n",
      "    return lib.astype_intsafe(arr, dtype)\n",
      "  File \"pandas/_libs/lib.pyx\", line 668, in pandas._libs.lib.astype_intsafe\n",
      "ValueError: invalid literal for int() with base 10: ''\n"
     ]
    },
    {
     "name": "stdout",
     "output_type": "stream",
     "text": [
      "round: 1\n",
      "invalid literal for int() with base 10: ''\n",
      "tournament_id: 643549\n"
     ]
    },
    {
     "name": "stderr",
     "output_type": "stream",
     "text": [
      "Traceback (most recent call last):\n",
      "  File \"/var/folders/t6/srtzy2f51db8mxxv7g_63f6h0000gr/T/ipykernel_72356/422094622.py\", line 19, in <cell line: 2>\n",
      "    games_df_list.append(parse_games_df(games_df))\n",
      "  File \"/var/folders/t6/srtzy2f51db8mxxv7g_63f6h0000gr/T/ipykernel_72356/3212580384.py\", line 18, in parse_games_df\n",
      "    games_df = games_df.astype({\n",
      "  File \"/Users/avliu/opt/anaconda3/envs/hugging-face/lib/python3.10/site-packages/pandas/core/generic.py\", line 5898, in astype\n",
      "    res_col = col.astype(dtype=cdt, copy=copy, errors=errors)\n",
      "  File \"/Users/avliu/opt/anaconda3/envs/hugging-face/lib/python3.10/site-packages/pandas/core/generic.py\", line 5912, in astype\n",
      "    new_data = self._mgr.astype(dtype=dtype, copy=copy, errors=errors)\n",
      "  File \"/Users/avliu/opt/anaconda3/envs/hugging-face/lib/python3.10/site-packages/pandas/core/internals/managers.py\", line 419, in astype\n",
      "    return self.apply(\"astype\", dtype=dtype, copy=copy, errors=errors)\n",
      "  File \"/Users/avliu/opt/anaconda3/envs/hugging-face/lib/python3.10/site-packages/pandas/core/internals/managers.py\", line 304, in apply\n",
      "    applied = getattr(b, f)(**kwargs)\n",
      "  File \"/Users/avliu/opt/anaconda3/envs/hugging-face/lib/python3.10/site-packages/pandas/core/internals/blocks.py\", line 580, in astype\n",
      "    new_values = astype_array_safe(values, dtype, copy=copy, errors=errors)\n",
      "  File \"/Users/avliu/opt/anaconda3/envs/hugging-face/lib/python3.10/site-packages/pandas/core/dtypes/cast.py\", line 1292, in astype_array_safe\n",
      "    new_values = astype_array(values, dtype, copy=copy)\n",
      "  File \"/Users/avliu/opt/anaconda3/envs/hugging-face/lib/python3.10/site-packages/pandas/core/dtypes/cast.py\", line 1237, in astype_array\n",
      "    values = astype_nansafe(values, dtype, copy=copy)\n",
      "  File \"/Users/avliu/opt/anaconda3/envs/hugging-face/lib/python3.10/site-packages/pandas/core/dtypes/cast.py\", line 1154, in astype_nansafe\n",
      "    return lib.astype_intsafe(arr, dtype)\n",
      "  File \"pandas/_libs/lib.pyx\", line 668, in pandas._libs.lib.astype_intsafe\n",
      "ValueError: invalid literal for int() with base 10: ''\n"
     ]
    },
    {
     "name": "stdout",
     "output_type": "stream",
     "text": [
      "round: 1\n",
      "list index out of range\n",
      "tournament_id: 654763\n"
     ]
    },
    {
     "name": "stderr",
     "output_type": "stream",
     "text": [
      "Traceback (most recent call last):\n",
      "  File \"/var/folders/t6/srtzy2f51db8mxxv7g_63f6h0000gr/T/ipykernel_72356/422094622.py\", line 19, in <cell line: 2>\n",
      "    games_df_list.append(parse_games_df(games_df))\n",
      "  File \"/var/folders/t6/srtzy2f51db8mxxv7g_63f6h0000gr/T/ipykernel_72356/3212580384.py\", line 6, in parse_games_df\n",
      "    games_df.columns.values[name_idxs[0]] = \"left_name\"\n",
      "IndexError: list index out of range\n"
     ]
    },
    {
     "name": "stdout",
     "output_type": "stream",
     "text": [
      "round: 1\n",
      "list index out of range\n",
      "tournament_id: 656389\n"
     ]
    },
    {
     "name": "stderr",
     "output_type": "stream",
     "text": [
      "Traceback (most recent call last):\n",
      "  File \"/var/folders/t6/srtzy2f51db8mxxv7g_63f6h0000gr/T/ipykernel_72356/422094622.py\", line 19, in <cell line: 2>\n",
      "    games_df_list.append(parse_games_df(games_df))\n",
      "  File \"/var/folders/t6/srtzy2f51db8mxxv7g_63f6h0000gr/T/ipykernel_72356/3212580384.py\", line 6, in parse_games_df\n",
      "    games_df.columns.values[name_idxs[0]] = \"left_name\"\n",
      "IndexError: list index out of range\n"
     ]
    },
    {
     "name": "stdout",
     "output_type": "stream",
     "text": [
      "round: 1\n",
      "cannot convert float NaN to integer\n",
      "tournament_id: 657561\n"
     ]
    },
    {
     "name": "stderr",
     "output_type": "stream",
     "text": [
      "Traceback (most recent call last):\n",
      "  File \"/var/folders/t6/srtzy2f51db8mxxv7g_63f6h0000gr/T/ipykernel_72356/422094622.py\", line 19, in <cell line: 2>\n",
      "    games_df_list.append(parse_games_df(games_df))\n",
      "  File \"/var/folders/t6/srtzy2f51db8mxxv7g_63f6h0000gr/T/ipykernel_72356/3212580384.py\", line 18, in parse_games_df\n",
      "    games_df = games_df.astype({\n",
      "  File \"/Users/avliu/opt/anaconda3/envs/hugging-face/lib/python3.10/site-packages/pandas/core/generic.py\", line 5898, in astype\n",
      "    res_col = col.astype(dtype=cdt, copy=copy, errors=errors)\n",
      "  File \"/Users/avliu/opt/anaconda3/envs/hugging-face/lib/python3.10/site-packages/pandas/core/generic.py\", line 5912, in astype\n",
      "    new_data = self._mgr.astype(dtype=dtype, copy=copy, errors=errors)\n",
      "  File \"/Users/avliu/opt/anaconda3/envs/hugging-face/lib/python3.10/site-packages/pandas/core/internals/managers.py\", line 419, in astype\n",
      "    return self.apply(\"astype\", dtype=dtype, copy=copy, errors=errors)\n",
      "  File \"/Users/avliu/opt/anaconda3/envs/hugging-face/lib/python3.10/site-packages/pandas/core/internals/managers.py\", line 304, in apply\n",
      "    applied = getattr(b, f)(**kwargs)\n",
      "  File \"/Users/avliu/opt/anaconda3/envs/hugging-face/lib/python3.10/site-packages/pandas/core/internals/blocks.py\", line 580, in astype\n",
      "    new_values = astype_array_safe(values, dtype, copy=copy, errors=errors)\n",
      "  File \"/Users/avliu/opt/anaconda3/envs/hugging-face/lib/python3.10/site-packages/pandas/core/dtypes/cast.py\", line 1292, in astype_array_safe\n",
      "    new_values = astype_array(values, dtype, copy=copy)\n",
      "  File \"/Users/avliu/opt/anaconda3/envs/hugging-face/lib/python3.10/site-packages/pandas/core/dtypes/cast.py\", line 1237, in astype_array\n",
      "    values = astype_nansafe(values, dtype, copy=copy)\n",
      "  File \"/Users/avliu/opt/anaconda3/envs/hugging-face/lib/python3.10/site-packages/pandas/core/dtypes/cast.py\", line 1154, in astype_nansafe\n",
      "    return lib.astype_intsafe(arr, dtype)\n",
      "  File \"pandas/_libs/lib.pyx\", line 668, in pandas._libs.lib.astype_intsafe\n",
      "ValueError: cannot convert float NaN to integer\n"
     ]
    },
    {
     "name": "stdout",
     "output_type": "stream",
     "text": [
      "round: 1\n",
      "invalid literal for int() with base 10: ''\n",
      "tournament_id: 658303\n"
     ]
    },
    {
     "name": "stderr",
     "output_type": "stream",
     "text": [
      "Traceback (most recent call last):\n",
      "  File \"/var/folders/t6/srtzy2f51db8mxxv7g_63f6h0000gr/T/ipykernel_72356/422094622.py\", line 19, in <cell line: 2>\n",
      "    games_df_list.append(parse_games_df(games_df))\n",
      "  File \"/var/folders/t6/srtzy2f51db8mxxv7g_63f6h0000gr/T/ipykernel_72356/3212580384.py\", line 18, in parse_games_df\n",
      "    games_df = games_df.astype({\n",
      "  File \"/Users/avliu/opt/anaconda3/envs/hugging-face/lib/python3.10/site-packages/pandas/core/generic.py\", line 5898, in astype\n",
      "    res_col = col.astype(dtype=cdt, copy=copy, errors=errors)\n",
      "  File \"/Users/avliu/opt/anaconda3/envs/hugging-face/lib/python3.10/site-packages/pandas/core/generic.py\", line 5912, in astype\n",
      "    new_data = self._mgr.astype(dtype=dtype, copy=copy, errors=errors)\n",
      "  File \"/Users/avliu/opt/anaconda3/envs/hugging-face/lib/python3.10/site-packages/pandas/core/internals/managers.py\", line 419, in astype\n",
      "    return self.apply(\"astype\", dtype=dtype, copy=copy, errors=errors)\n",
      "  File \"/Users/avliu/opt/anaconda3/envs/hugging-face/lib/python3.10/site-packages/pandas/core/internals/managers.py\", line 304, in apply\n",
      "    applied = getattr(b, f)(**kwargs)\n",
      "  File \"/Users/avliu/opt/anaconda3/envs/hugging-face/lib/python3.10/site-packages/pandas/core/internals/blocks.py\", line 580, in astype\n",
      "    new_values = astype_array_safe(values, dtype, copy=copy, errors=errors)\n",
      "  File \"/Users/avliu/opt/anaconda3/envs/hugging-face/lib/python3.10/site-packages/pandas/core/dtypes/cast.py\", line 1292, in astype_array_safe\n",
      "    new_values = astype_array(values, dtype, copy=copy)\n",
      "  File \"/Users/avliu/opt/anaconda3/envs/hugging-face/lib/python3.10/site-packages/pandas/core/dtypes/cast.py\", line 1237, in astype_array\n",
      "    values = astype_nansafe(values, dtype, copy=copy)\n",
      "  File \"/Users/avliu/opt/anaconda3/envs/hugging-face/lib/python3.10/site-packages/pandas/core/dtypes/cast.py\", line 1154, in astype_nansafe\n",
      "    return lib.astype_intsafe(arr, dtype)\n",
      "  File \"pandas/_libs/lib.pyx\", line 668, in pandas._libs.lib.astype_intsafe\n",
      "ValueError: invalid literal for int() with base 10: ''\n"
     ]
    },
    {
     "name": "stdout",
     "output_type": "stream",
     "text": [
      "round: 1\n",
      "invalid literal for int() with base 10: ''\n",
      "tournament_id: 653095\n"
     ]
    },
    {
     "name": "stderr",
     "output_type": "stream",
     "text": [
      "Traceback (most recent call last):\n",
      "  File \"/var/folders/t6/srtzy2f51db8mxxv7g_63f6h0000gr/T/ipykernel_72356/422094622.py\", line 19, in <cell line: 2>\n",
      "    games_df_list.append(parse_games_df(games_df))\n",
      "  File \"/var/folders/t6/srtzy2f51db8mxxv7g_63f6h0000gr/T/ipykernel_72356/3212580384.py\", line 18, in parse_games_df\n",
      "    games_df = games_df.astype({\n",
      "  File \"/Users/avliu/opt/anaconda3/envs/hugging-face/lib/python3.10/site-packages/pandas/core/generic.py\", line 5898, in astype\n",
      "    res_col = col.astype(dtype=cdt, copy=copy, errors=errors)\n",
      "  File \"/Users/avliu/opt/anaconda3/envs/hugging-face/lib/python3.10/site-packages/pandas/core/generic.py\", line 5912, in astype\n",
      "    new_data = self._mgr.astype(dtype=dtype, copy=copy, errors=errors)\n",
      "  File \"/Users/avliu/opt/anaconda3/envs/hugging-face/lib/python3.10/site-packages/pandas/core/internals/managers.py\", line 419, in astype\n",
      "    return self.apply(\"astype\", dtype=dtype, copy=copy, errors=errors)\n",
      "  File \"/Users/avliu/opt/anaconda3/envs/hugging-face/lib/python3.10/site-packages/pandas/core/internals/managers.py\", line 304, in apply\n",
      "    applied = getattr(b, f)(**kwargs)\n",
      "  File \"/Users/avliu/opt/anaconda3/envs/hugging-face/lib/python3.10/site-packages/pandas/core/internals/blocks.py\", line 580, in astype\n",
      "    new_values = astype_array_safe(values, dtype, copy=copy, errors=errors)\n",
      "  File \"/Users/avliu/opt/anaconda3/envs/hugging-face/lib/python3.10/site-packages/pandas/core/dtypes/cast.py\", line 1292, in astype_array_safe\n",
      "    new_values = astype_array(values, dtype, copy=copy)\n",
      "  File \"/Users/avliu/opt/anaconda3/envs/hugging-face/lib/python3.10/site-packages/pandas/core/dtypes/cast.py\", line 1237, in astype_array\n",
      "    values = astype_nansafe(values, dtype, copy=copy)\n",
      "  File \"/Users/avliu/opt/anaconda3/envs/hugging-face/lib/python3.10/site-packages/pandas/core/dtypes/cast.py\", line 1154, in astype_nansafe\n",
      "    return lib.astype_intsafe(arr, dtype)\n",
      "  File \"pandas/_libs/lib.pyx\", line 668, in pandas._libs.lib.astype_intsafe\n",
      "ValueError: invalid literal for int() with base 10: ''\n"
     ]
    },
    {
     "name": "stdout",
     "output_type": "stream",
     "text": [
      "round: 1\n",
      "cannot convert float NaN to integer\n",
      "tournament_id: 641925\n"
     ]
    },
    {
     "name": "stderr",
     "output_type": "stream",
     "text": [
      "Traceback (most recent call last):\n",
      "  File \"/var/folders/t6/srtzy2f51db8mxxv7g_63f6h0000gr/T/ipykernel_72356/422094622.py\", line 19, in <cell line: 2>\n",
      "    games_df_list.append(parse_games_df(games_df))\n",
      "  File \"/var/folders/t6/srtzy2f51db8mxxv7g_63f6h0000gr/T/ipykernel_72356/3212580384.py\", line 18, in parse_games_df\n",
      "    games_df = games_df.astype({\n",
      "  File \"/Users/avliu/opt/anaconda3/envs/hugging-face/lib/python3.10/site-packages/pandas/core/generic.py\", line 5898, in astype\n",
      "    res_col = col.astype(dtype=cdt, copy=copy, errors=errors)\n",
      "  File \"/Users/avliu/opt/anaconda3/envs/hugging-face/lib/python3.10/site-packages/pandas/core/generic.py\", line 5912, in astype\n",
      "    new_data = self._mgr.astype(dtype=dtype, copy=copy, errors=errors)\n",
      "  File \"/Users/avliu/opt/anaconda3/envs/hugging-face/lib/python3.10/site-packages/pandas/core/internals/managers.py\", line 419, in astype\n",
      "    return self.apply(\"astype\", dtype=dtype, copy=copy, errors=errors)\n",
      "  File \"/Users/avliu/opt/anaconda3/envs/hugging-face/lib/python3.10/site-packages/pandas/core/internals/managers.py\", line 304, in apply\n",
      "    applied = getattr(b, f)(**kwargs)\n",
      "  File \"/Users/avliu/opt/anaconda3/envs/hugging-face/lib/python3.10/site-packages/pandas/core/internals/blocks.py\", line 580, in astype\n",
      "    new_values = astype_array_safe(values, dtype, copy=copy, errors=errors)\n",
      "  File \"/Users/avliu/opt/anaconda3/envs/hugging-face/lib/python3.10/site-packages/pandas/core/dtypes/cast.py\", line 1292, in astype_array_safe\n",
      "    new_values = astype_array(values, dtype, copy=copy)\n",
      "  File \"/Users/avliu/opt/anaconda3/envs/hugging-face/lib/python3.10/site-packages/pandas/core/dtypes/cast.py\", line 1237, in astype_array\n",
      "    values = astype_nansafe(values, dtype, copy=copy)\n",
      "  File \"/Users/avliu/opt/anaconda3/envs/hugging-face/lib/python3.10/site-packages/pandas/core/dtypes/cast.py\", line 1154, in astype_nansafe\n",
      "    return lib.astype_intsafe(arr, dtype)\n",
      "  File \"pandas/_libs/lib.pyx\", line 668, in pandas._libs.lib.astype_intsafe\n",
      "ValueError: cannot convert float NaN to integer\n"
     ]
    },
    {
     "name": "stdout",
     "output_type": "stream",
     "text": [
      "round: 1\n",
      "list index out of range\n",
      "tournament_id: 641917\n"
     ]
    },
    {
     "name": "stderr",
     "output_type": "stream",
     "text": [
      "Traceback (most recent call last):\n",
      "  File \"/var/folders/t6/srtzy2f51db8mxxv7g_63f6h0000gr/T/ipykernel_72356/422094622.py\", line 19, in <cell line: 2>\n",
      "    games_df_list.append(parse_games_df(games_df))\n",
      "  File \"/var/folders/t6/srtzy2f51db8mxxv7g_63f6h0000gr/T/ipykernel_72356/3212580384.py\", line 6, in parse_games_df\n",
      "    games_df.columns.values[name_idxs[0]] = \"left_name\"\n",
      "IndexError: list index out of range\n"
     ]
    },
    {
     "name": "stdout",
     "output_type": "stream",
     "text": [
      "round: 1\n",
      "list index out of range\n",
      "tournament_id: 643548\n"
     ]
    },
    {
     "name": "stderr",
     "output_type": "stream",
     "text": [
      "Traceback (most recent call last):\n",
      "  File \"/var/folders/t6/srtzy2f51db8mxxv7g_63f6h0000gr/T/ipykernel_72356/422094622.py\", line 19, in <cell line: 2>\n",
      "    games_df_list.append(parse_games_df(games_df))\n",
      "  File \"/var/folders/t6/srtzy2f51db8mxxv7g_63f6h0000gr/T/ipykernel_72356/3212580384.py\", line 6, in parse_games_df\n",
      "    games_df.columns.values[name_idxs[0]] = \"left_name\"\n",
      "IndexError: list index out of range\n"
     ]
    },
    {
     "name": "stdout",
     "output_type": "stream",
     "text": [
      "round: 1\n",
      "list index out of range\n",
      "tournament_id: 643262\n"
     ]
    },
    {
     "name": "stderr",
     "output_type": "stream",
     "text": [
      "Traceback (most recent call last):\n",
      "  File \"/var/folders/t6/srtzy2f51db8mxxv7g_63f6h0000gr/T/ipykernel_72356/422094622.py\", line 19, in <cell line: 2>\n",
      "    games_df_list.append(parse_games_df(games_df))\n",
      "  File \"/var/folders/t6/srtzy2f51db8mxxv7g_63f6h0000gr/T/ipykernel_72356/3212580384.py\", line 6, in parse_games_df\n",
      "    games_df.columns.values[name_idxs[0]] = \"left_name\"\n",
      "IndexError: list index out of range\n"
     ]
    },
    {
     "name": "stdout",
     "output_type": "stream",
     "text": [
      "round: 1\n",
      "list index out of range\n",
      "tournament_id: 643259\n"
     ]
    },
    {
     "name": "stderr",
     "output_type": "stream",
     "text": [
      "Traceback (most recent call last):\n",
      "  File \"/var/folders/t6/srtzy2f51db8mxxv7g_63f6h0000gr/T/ipykernel_72356/422094622.py\", line 19, in <cell line: 2>\n",
      "    games_df_list.append(parse_games_df(games_df))\n",
      "  File \"/var/folders/t6/srtzy2f51db8mxxv7g_63f6h0000gr/T/ipykernel_72356/3212580384.py\", line 6, in parse_games_df\n",
      "    games_df.columns.values[name_idxs[0]] = \"left_name\"\n",
      "IndexError: list index out of range\n"
     ]
    },
    {
     "name": "stdout",
     "output_type": "stream",
     "text": [
      "round: 1\n",
      "list index out of range\n",
      "tournament_id: 647382\n"
     ]
    },
    {
     "name": "stderr",
     "output_type": "stream",
     "text": [
      "Traceback (most recent call last):\n",
      "  File \"/var/folders/t6/srtzy2f51db8mxxv7g_63f6h0000gr/T/ipykernel_72356/422094622.py\", line 19, in <cell line: 2>\n",
      "    games_df_list.append(parse_games_df(games_df))\n",
      "  File \"/var/folders/t6/srtzy2f51db8mxxv7g_63f6h0000gr/T/ipykernel_72356/3212580384.py\", line 6, in parse_games_df\n",
      "    games_df.columns.values[name_idxs[0]] = \"left_name\"\n",
      "IndexError: list index out of range\n"
     ]
    },
    {
     "name": "stdout",
     "output_type": "stream",
     "text": [
      "round: 1\n",
      "round: 2\n",
      "round: 3\n",
      "invalid literal for int() with base 10: ''\n",
      "tournament_id: 647384\n"
     ]
    },
    {
     "name": "stderr",
     "output_type": "stream",
     "text": [
      "Traceback (most recent call last):\n",
      "  File \"/var/folders/t6/srtzy2f51db8mxxv7g_63f6h0000gr/T/ipykernel_72356/422094622.py\", line 19, in <cell line: 2>\n",
      "    games_df_list.append(parse_games_df(games_df))\n",
      "  File \"/var/folders/t6/srtzy2f51db8mxxv7g_63f6h0000gr/T/ipykernel_72356/3212580384.py\", line 18, in parse_games_df\n",
      "    games_df = games_df.astype({\n",
      "  File \"/Users/avliu/opt/anaconda3/envs/hugging-face/lib/python3.10/site-packages/pandas/core/generic.py\", line 5898, in astype\n",
      "    res_col = col.astype(dtype=cdt, copy=copy, errors=errors)\n",
      "  File \"/Users/avliu/opt/anaconda3/envs/hugging-face/lib/python3.10/site-packages/pandas/core/generic.py\", line 5912, in astype\n",
      "    new_data = self._mgr.astype(dtype=dtype, copy=copy, errors=errors)\n",
      "  File \"/Users/avliu/opt/anaconda3/envs/hugging-face/lib/python3.10/site-packages/pandas/core/internals/managers.py\", line 419, in astype\n",
      "    return self.apply(\"astype\", dtype=dtype, copy=copy, errors=errors)\n",
      "  File \"/Users/avliu/opt/anaconda3/envs/hugging-face/lib/python3.10/site-packages/pandas/core/internals/managers.py\", line 304, in apply\n",
      "    applied = getattr(b, f)(**kwargs)\n",
      "  File \"/Users/avliu/opt/anaconda3/envs/hugging-face/lib/python3.10/site-packages/pandas/core/internals/blocks.py\", line 580, in astype\n",
      "    new_values = astype_array_safe(values, dtype, copy=copy, errors=errors)\n",
      "  File \"/Users/avliu/opt/anaconda3/envs/hugging-face/lib/python3.10/site-packages/pandas/core/dtypes/cast.py\", line 1292, in astype_array_safe\n",
      "    new_values = astype_array(values, dtype, copy=copy)\n",
      "  File \"/Users/avliu/opt/anaconda3/envs/hugging-face/lib/python3.10/site-packages/pandas/core/dtypes/cast.py\", line 1237, in astype_array\n",
      "    values = astype_nansafe(values, dtype, copy=copy)\n",
      "  File \"/Users/avliu/opt/anaconda3/envs/hugging-face/lib/python3.10/site-packages/pandas/core/dtypes/cast.py\", line 1154, in astype_nansafe\n",
      "    return lib.astype_intsafe(arr, dtype)\n",
      "  File \"pandas/_libs/lib.pyx\", line 668, in pandas._libs.lib.astype_intsafe\n",
      "ValueError: invalid literal for int() with base 10: ''\n"
     ]
    },
    {
     "name": "stdout",
     "output_type": "stream",
     "text": [
      "round: 1\n",
      "round: 2\n",
      "invalid literal for int() with base 10: ''\n",
      "tournament_id: 647383\n"
     ]
    },
    {
     "name": "stderr",
     "output_type": "stream",
     "text": [
      "Traceback (most recent call last):\n",
      "  File \"/var/folders/t6/srtzy2f51db8mxxv7g_63f6h0000gr/T/ipykernel_72356/422094622.py\", line 19, in <cell line: 2>\n",
      "    games_df_list.append(parse_games_df(games_df))\n",
      "  File \"/var/folders/t6/srtzy2f51db8mxxv7g_63f6h0000gr/T/ipykernel_72356/3212580384.py\", line 18, in parse_games_df\n",
      "    games_df = games_df.astype({\n",
      "  File \"/Users/avliu/opt/anaconda3/envs/hugging-face/lib/python3.10/site-packages/pandas/core/generic.py\", line 5898, in astype\n",
      "    res_col = col.astype(dtype=cdt, copy=copy, errors=errors)\n",
      "  File \"/Users/avliu/opt/anaconda3/envs/hugging-face/lib/python3.10/site-packages/pandas/core/generic.py\", line 5912, in astype\n",
      "    new_data = self._mgr.astype(dtype=dtype, copy=copy, errors=errors)\n",
      "  File \"/Users/avliu/opt/anaconda3/envs/hugging-face/lib/python3.10/site-packages/pandas/core/internals/managers.py\", line 419, in astype\n",
      "    return self.apply(\"astype\", dtype=dtype, copy=copy, errors=errors)\n",
      "  File \"/Users/avliu/opt/anaconda3/envs/hugging-face/lib/python3.10/site-packages/pandas/core/internals/managers.py\", line 304, in apply\n",
      "    applied = getattr(b, f)(**kwargs)\n",
      "  File \"/Users/avliu/opt/anaconda3/envs/hugging-face/lib/python3.10/site-packages/pandas/core/internals/blocks.py\", line 580, in astype\n",
      "    new_values = astype_array_safe(values, dtype, copy=copy, errors=errors)\n",
      "  File \"/Users/avliu/opt/anaconda3/envs/hugging-face/lib/python3.10/site-packages/pandas/core/dtypes/cast.py\", line 1292, in astype_array_safe\n",
      "    new_values = astype_array(values, dtype, copy=copy)\n",
      "  File \"/Users/avliu/opt/anaconda3/envs/hugging-face/lib/python3.10/site-packages/pandas/core/dtypes/cast.py\", line 1237, in astype_array\n",
      "    values = astype_nansafe(values, dtype, copy=copy)\n",
      "  File \"/Users/avliu/opt/anaconda3/envs/hugging-face/lib/python3.10/site-packages/pandas/core/dtypes/cast.py\", line 1154, in astype_nansafe\n",
      "    return lib.astype_intsafe(arr, dtype)\n",
      "  File \"pandas/_libs/lib.pyx\", line 668, in pandas._libs.lib.astype_intsafe\n",
      "ValueError: invalid literal for int() with base 10: ''\n"
     ]
    },
    {
     "name": "stdout",
     "output_type": "stream",
     "text": [
      "round: 1\n",
      "round: 2\n",
      "round: 3\n",
      "invalid literal for int() with base 10: ''\n",
      "tournament_id: 647380\n"
     ]
    },
    {
     "name": "stderr",
     "output_type": "stream",
     "text": [
      "Traceback (most recent call last):\n",
      "  File \"/var/folders/t6/srtzy2f51db8mxxv7g_63f6h0000gr/T/ipykernel_72356/422094622.py\", line 19, in <cell line: 2>\n",
      "    games_df_list.append(parse_games_df(games_df))\n",
      "  File \"/var/folders/t6/srtzy2f51db8mxxv7g_63f6h0000gr/T/ipykernel_72356/3212580384.py\", line 18, in parse_games_df\n",
      "    games_df = games_df.astype({\n",
      "  File \"/Users/avliu/opt/anaconda3/envs/hugging-face/lib/python3.10/site-packages/pandas/core/generic.py\", line 5898, in astype\n",
      "    res_col = col.astype(dtype=cdt, copy=copy, errors=errors)\n",
      "  File \"/Users/avliu/opt/anaconda3/envs/hugging-face/lib/python3.10/site-packages/pandas/core/generic.py\", line 5912, in astype\n",
      "    new_data = self._mgr.astype(dtype=dtype, copy=copy, errors=errors)\n",
      "  File \"/Users/avliu/opt/anaconda3/envs/hugging-face/lib/python3.10/site-packages/pandas/core/internals/managers.py\", line 419, in astype\n",
      "    return self.apply(\"astype\", dtype=dtype, copy=copy, errors=errors)\n",
      "  File \"/Users/avliu/opt/anaconda3/envs/hugging-face/lib/python3.10/site-packages/pandas/core/internals/managers.py\", line 304, in apply\n",
      "    applied = getattr(b, f)(**kwargs)\n",
      "  File \"/Users/avliu/opt/anaconda3/envs/hugging-face/lib/python3.10/site-packages/pandas/core/internals/blocks.py\", line 580, in astype\n",
      "    new_values = astype_array_safe(values, dtype, copy=copy, errors=errors)\n",
      "  File \"/Users/avliu/opt/anaconda3/envs/hugging-face/lib/python3.10/site-packages/pandas/core/dtypes/cast.py\", line 1292, in astype_array_safe\n",
      "    new_values = astype_array(values, dtype, copy=copy)\n",
      "  File \"/Users/avliu/opt/anaconda3/envs/hugging-face/lib/python3.10/site-packages/pandas/core/dtypes/cast.py\", line 1237, in astype_array\n",
      "    values = astype_nansafe(values, dtype, copy=copy)\n",
      "  File \"/Users/avliu/opt/anaconda3/envs/hugging-face/lib/python3.10/site-packages/pandas/core/dtypes/cast.py\", line 1154, in astype_nansafe\n",
      "    return lib.astype_intsafe(arr, dtype)\n",
      "  File \"pandas/_libs/lib.pyx\", line 668, in pandas._libs.lib.astype_intsafe\n",
      "ValueError: invalid literal for int() with base 10: ''\n"
     ]
    },
    {
     "name": "stdout",
     "output_type": "stream",
     "text": [
      "round: 1\n",
      "round: 2\n",
      "round: 3\n",
      "round: 4\n",
      "round: 5\n",
      "round: 6\n",
      "invalid literal for int() with base 10: ''\n",
      "tournament_id: 647379\n"
     ]
    },
    {
     "name": "stderr",
     "output_type": "stream",
     "text": [
      "Traceback (most recent call last):\n",
      "  File \"/var/folders/t6/srtzy2f51db8mxxv7g_63f6h0000gr/T/ipykernel_72356/422094622.py\", line 19, in <cell line: 2>\n",
      "    games_df_list.append(parse_games_df(games_df))\n",
      "  File \"/var/folders/t6/srtzy2f51db8mxxv7g_63f6h0000gr/T/ipykernel_72356/3212580384.py\", line 18, in parse_games_df\n",
      "    games_df = games_df.astype({\n",
      "  File \"/Users/avliu/opt/anaconda3/envs/hugging-face/lib/python3.10/site-packages/pandas/core/generic.py\", line 5898, in astype\n",
      "    res_col = col.astype(dtype=cdt, copy=copy, errors=errors)\n",
      "  File \"/Users/avliu/opt/anaconda3/envs/hugging-face/lib/python3.10/site-packages/pandas/core/generic.py\", line 5912, in astype\n",
      "    new_data = self._mgr.astype(dtype=dtype, copy=copy, errors=errors)\n",
      "  File \"/Users/avliu/opt/anaconda3/envs/hugging-face/lib/python3.10/site-packages/pandas/core/internals/managers.py\", line 419, in astype\n",
      "    return self.apply(\"astype\", dtype=dtype, copy=copy, errors=errors)\n",
      "  File \"/Users/avliu/opt/anaconda3/envs/hugging-face/lib/python3.10/site-packages/pandas/core/internals/managers.py\", line 304, in apply\n",
      "    applied = getattr(b, f)(**kwargs)\n",
      "  File \"/Users/avliu/opt/anaconda3/envs/hugging-face/lib/python3.10/site-packages/pandas/core/internals/blocks.py\", line 580, in astype\n",
      "    new_values = astype_array_safe(values, dtype, copy=copy, errors=errors)\n",
      "  File \"/Users/avliu/opt/anaconda3/envs/hugging-face/lib/python3.10/site-packages/pandas/core/dtypes/cast.py\", line 1292, in astype_array_safe\n",
      "    new_values = astype_array(values, dtype, copy=copy)\n",
      "  File \"/Users/avliu/opt/anaconda3/envs/hugging-face/lib/python3.10/site-packages/pandas/core/dtypes/cast.py\", line 1237, in astype_array\n",
      "    values = astype_nansafe(values, dtype, copy=copy)\n",
      "  File \"/Users/avliu/opt/anaconda3/envs/hugging-face/lib/python3.10/site-packages/pandas/core/dtypes/cast.py\", line 1154, in astype_nansafe\n",
      "    return lib.astype_intsafe(arr, dtype)\n",
      "  File \"pandas/_libs/lib.pyx\", line 668, in pandas._libs.lib.astype_intsafe\n",
      "ValueError: invalid literal for int() with base 10: ''\n"
     ]
    },
    {
     "name": "stdout",
     "output_type": "stream",
     "text": [
      "round: 1\n",
      "round: 2\n",
      "round: 3\n",
      "round: 4\n",
      "round: 5\n",
      "round: 6\n",
      "round: 7\n",
      "round: 8\n",
      "round: 9\n",
      "invalid literal for int() with base 10: ''\n",
      "tournament_id: 647376\n"
     ]
    },
    {
     "name": "stderr",
     "output_type": "stream",
     "text": [
      "Traceback (most recent call last):\n",
      "  File \"/var/folders/t6/srtzy2f51db8mxxv7g_63f6h0000gr/T/ipykernel_72356/422094622.py\", line 19, in <cell line: 2>\n",
      "    games_df_list.append(parse_games_df(games_df))\n",
      "  File \"/var/folders/t6/srtzy2f51db8mxxv7g_63f6h0000gr/T/ipykernel_72356/3212580384.py\", line 18, in parse_games_df\n",
      "    games_df = games_df.astype({\n",
      "  File \"/Users/avliu/opt/anaconda3/envs/hugging-face/lib/python3.10/site-packages/pandas/core/generic.py\", line 5898, in astype\n",
      "    res_col = col.astype(dtype=cdt, copy=copy, errors=errors)\n",
      "  File \"/Users/avliu/opt/anaconda3/envs/hugging-face/lib/python3.10/site-packages/pandas/core/generic.py\", line 5912, in astype\n",
      "    new_data = self._mgr.astype(dtype=dtype, copy=copy, errors=errors)\n",
      "  File \"/Users/avliu/opt/anaconda3/envs/hugging-face/lib/python3.10/site-packages/pandas/core/internals/managers.py\", line 419, in astype\n",
      "    return self.apply(\"astype\", dtype=dtype, copy=copy, errors=errors)\n",
      "  File \"/Users/avliu/opt/anaconda3/envs/hugging-face/lib/python3.10/site-packages/pandas/core/internals/managers.py\", line 304, in apply\n",
      "    applied = getattr(b, f)(**kwargs)\n",
      "  File \"/Users/avliu/opt/anaconda3/envs/hugging-face/lib/python3.10/site-packages/pandas/core/internals/blocks.py\", line 580, in astype\n",
      "    new_values = astype_array_safe(values, dtype, copy=copy, errors=errors)\n",
      "  File \"/Users/avliu/opt/anaconda3/envs/hugging-face/lib/python3.10/site-packages/pandas/core/dtypes/cast.py\", line 1292, in astype_array_safe\n",
      "    new_values = astype_array(values, dtype, copy=copy)\n",
      "  File \"/Users/avliu/opt/anaconda3/envs/hugging-face/lib/python3.10/site-packages/pandas/core/dtypes/cast.py\", line 1237, in astype_array\n",
      "    values = astype_nansafe(values, dtype, copy=copy)\n",
      "  File \"/Users/avliu/opt/anaconda3/envs/hugging-face/lib/python3.10/site-packages/pandas/core/dtypes/cast.py\", line 1154, in astype_nansafe\n",
      "    return lib.astype_intsafe(arr, dtype)\n",
      "  File \"pandas/_libs/lib.pyx\", line 668, in pandas._libs.lib.astype_intsafe\n",
      "ValueError: invalid literal for int() with base 10: ''\n"
     ]
    },
    {
     "name": "stdout",
     "output_type": "stream",
     "text": [
      "round: 1\n",
      "invalid literal for int() with base 10: ''\n",
      "tournament_id: 647375\n"
     ]
    },
    {
     "name": "stderr",
     "output_type": "stream",
     "text": [
      "Traceback (most recent call last):\n",
      "  File \"/var/folders/t6/srtzy2f51db8mxxv7g_63f6h0000gr/T/ipykernel_72356/422094622.py\", line 19, in <cell line: 2>\n",
      "    games_df_list.append(parse_games_df(games_df))\n",
      "  File \"/var/folders/t6/srtzy2f51db8mxxv7g_63f6h0000gr/T/ipykernel_72356/3212580384.py\", line 18, in parse_games_df\n",
      "    games_df = games_df.astype({\n",
      "  File \"/Users/avliu/opt/anaconda3/envs/hugging-face/lib/python3.10/site-packages/pandas/core/generic.py\", line 5898, in astype\n",
      "    res_col = col.astype(dtype=cdt, copy=copy, errors=errors)\n",
      "  File \"/Users/avliu/opt/anaconda3/envs/hugging-face/lib/python3.10/site-packages/pandas/core/generic.py\", line 5912, in astype\n",
      "    new_data = self._mgr.astype(dtype=dtype, copy=copy, errors=errors)\n",
      "  File \"/Users/avliu/opt/anaconda3/envs/hugging-face/lib/python3.10/site-packages/pandas/core/internals/managers.py\", line 419, in astype\n",
      "    return self.apply(\"astype\", dtype=dtype, copy=copy, errors=errors)\n",
      "  File \"/Users/avliu/opt/anaconda3/envs/hugging-face/lib/python3.10/site-packages/pandas/core/internals/managers.py\", line 304, in apply\n",
      "    applied = getattr(b, f)(**kwargs)\n",
      "  File \"/Users/avliu/opt/anaconda3/envs/hugging-face/lib/python3.10/site-packages/pandas/core/internals/blocks.py\", line 580, in astype\n",
      "    new_values = astype_array_safe(values, dtype, copy=copy, errors=errors)\n",
      "  File \"/Users/avliu/opt/anaconda3/envs/hugging-face/lib/python3.10/site-packages/pandas/core/dtypes/cast.py\", line 1292, in astype_array_safe\n",
      "    new_values = astype_array(values, dtype, copy=copy)\n",
      "  File \"/Users/avliu/opt/anaconda3/envs/hugging-face/lib/python3.10/site-packages/pandas/core/dtypes/cast.py\", line 1237, in astype_array\n",
      "    values = astype_nansafe(values, dtype, copy=copy)\n",
      "  File \"/Users/avliu/opt/anaconda3/envs/hugging-face/lib/python3.10/site-packages/pandas/core/dtypes/cast.py\", line 1154, in astype_nansafe\n",
      "    return lib.astype_intsafe(arr, dtype)\n",
      "  File \"pandas/_libs/lib.pyx\", line 668, in pandas._libs.lib.astype_intsafe\n",
      "ValueError: invalid literal for int() with base 10: ''\n"
     ]
    },
    {
     "name": "stdout",
     "output_type": "stream",
     "text": [
      "round: 1\n",
      "invalid literal for int() with base 10: ''\n",
      "tournament_id: 647373\n"
     ]
    },
    {
     "name": "stderr",
     "output_type": "stream",
     "text": [
      "Traceback (most recent call last):\n",
      "  File \"/var/folders/t6/srtzy2f51db8mxxv7g_63f6h0000gr/T/ipykernel_72356/422094622.py\", line 19, in <cell line: 2>\n",
      "    games_df_list.append(parse_games_df(games_df))\n",
      "  File \"/var/folders/t6/srtzy2f51db8mxxv7g_63f6h0000gr/T/ipykernel_72356/3212580384.py\", line 18, in parse_games_df\n",
      "    games_df = games_df.astype({\n",
      "  File \"/Users/avliu/opt/anaconda3/envs/hugging-face/lib/python3.10/site-packages/pandas/core/generic.py\", line 5898, in astype\n",
      "    res_col = col.astype(dtype=cdt, copy=copy, errors=errors)\n",
      "  File \"/Users/avliu/opt/anaconda3/envs/hugging-face/lib/python3.10/site-packages/pandas/core/generic.py\", line 5912, in astype\n",
      "    new_data = self._mgr.astype(dtype=dtype, copy=copy, errors=errors)\n",
      "  File \"/Users/avliu/opt/anaconda3/envs/hugging-face/lib/python3.10/site-packages/pandas/core/internals/managers.py\", line 419, in astype\n",
      "    return self.apply(\"astype\", dtype=dtype, copy=copy, errors=errors)\n",
      "  File \"/Users/avliu/opt/anaconda3/envs/hugging-face/lib/python3.10/site-packages/pandas/core/internals/managers.py\", line 304, in apply\n",
      "    applied = getattr(b, f)(**kwargs)\n",
      "  File \"/Users/avliu/opt/anaconda3/envs/hugging-face/lib/python3.10/site-packages/pandas/core/internals/blocks.py\", line 580, in astype\n",
      "    new_values = astype_array_safe(values, dtype, copy=copy, errors=errors)\n",
      "  File \"/Users/avliu/opt/anaconda3/envs/hugging-face/lib/python3.10/site-packages/pandas/core/dtypes/cast.py\", line 1292, in astype_array_safe\n",
      "    new_values = astype_array(values, dtype, copy=copy)\n",
      "  File \"/Users/avliu/opt/anaconda3/envs/hugging-face/lib/python3.10/site-packages/pandas/core/dtypes/cast.py\", line 1237, in astype_array\n",
      "    values = astype_nansafe(values, dtype, copy=copy)\n",
      "  File \"/Users/avliu/opt/anaconda3/envs/hugging-face/lib/python3.10/site-packages/pandas/core/dtypes/cast.py\", line 1154, in astype_nansafe\n",
      "    return lib.astype_intsafe(arr, dtype)\n",
      "  File \"pandas/_libs/lib.pyx\", line 668, in pandas._libs.lib.astype_intsafe\n",
      "ValueError: invalid literal for int() with base 10: ''\n"
     ]
    },
    {
     "name": "stdout",
     "output_type": "stream",
     "text": [
      "round: 1\n",
      "round: 2\n",
      "round: 3\n",
      "invalid literal for int() with base 10: ''\n",
      "tournament_id: 647372\n"
     ]
    },
    {
     "name": "stderr",
     "output_type": "stream",
     "text": [
      "Traceback (most recent call last):\n",
      "  File \"/var/folders/t6/srtzy2f51db8mxxv7g_63f6h0000gr/T/ipykernel_72356/422094622.py\", line 19, in <cell line: 2>\n",
      "    games_df_list.append(parse_games_df(games_df))\n",
      "  File \"/var/folders/t6/srtzy2f51db8mxxv7g_63f6h0000gr/T/ipykernel_72356/3212580384.py\", line 18, in parse_games_df\n",
      "    games_df = games_df.astype({\n",
      "  File \"/Users/avliu/opt/anaconda3/envs/hugging-face/lib/python3.10/site-packages/pandas/core/generic.py\", line 5898, in astype\n",
      "    res_col = col.astype(dtype=cdt, copy=copy, errors=errors)\n",
      "  File \"/Users/avliu/opt/anaconda3/envs/hugging-face/lib/python3.10/site-packages/pandas/core/generic.py\", line 5912, in astype\n",
      "    new_data = self._mgr.astype(dtype=dtype, copy=copy, errors=errors)\n",
      "  File \"/Users/avliu/opt/anaconda3/envs/hugging-face/lib/python3.10/site-packages/pandas/core/internals/managers.py\", line 419, in astype\n",
      "    return self.apply(\"astype\", dtype=dtype, copy=copy, errors=errors)\n",
      "  File \"/Users/avliu/opt/anaconda3/envs/hugging-face/lib/python3.10/site-packages/pandas/core/internals/managers.py\", line 304, in apply\n",
      "    applied = getattr(b, f)(**kwargs)\n",
      "  File \"/Users/avliu/opt/anaconda3/envs/hugging-face/lib/python3.10/site-packages/pandas/core/internals/blocks.py\", line 580, in astype\n",
      "    new_values = astype_array_safe(values, dtype, copy=copy, errors=errors)\n",
      "  File \"/Users/avliu/opt/anaconda3/envs/hugging-face/lib/python3.10/site-packages/pandas/core/dtypes/cast.py\", line 1292, in astype_array_safe\n",
      "    new_values = astype_array(values, dtype, copy=copy)\n",
      "  File \"/Users/avliu/opt/anaconda3/envs/hugging-face/lib/python3.10/site-packages/pandas/core/dtypes/cast.py\", line 1237, in astype_array\n",
      "    values = astype_nansafe(values, dtype, copy=copy)\n",
      "  File \"/Users/avliu/opt/anaconda3/envs/hugging-face/lib/python3.10/site-packages/pandas/core/dtypes/cast.py\", line 1154, in astype_nansafe\n",
      "    return lib.astype_intsafe(arr, dtype)\n",
      "  File \"pandas/_libs/lib.pyx\", line 668, in pandas._libs.lib.astype_intsafe\n",
      "ValueError: invalid literal for int() with base 10: ''\n"
     ]
    },
    {
     "name": "stdout",
     "output_type": "stream",
     "text": [
      "round: 1\n",
      "round: 2\n",
      "invalid literal for int() with base 10: ''\n",
      "tournament_id: 647371\n"
     ]
    },
    {
     "name": "stderr",
     "output_type": "stream",
     "text": [
      "Traceback (most recent call last):\n",
      "  File \"/var/folders/t6/srtzy2f51db8mxxv7g_63f6h0000gr/T/ipykernel_72356/422094622.py\", line 19, in <cell line: 2>\n",
      "    games_df_list.append(parse_games_df(games_df))\n",
      "  File \"/var/folders/t6/srtzy2f51db8mxxv7g_63f6h0000gr/T/ipykernel_72356/3212580384.py\", line 18, in parse_games_df\n",
      "    games_df = games_df.astype({\n",
      "  File \"/Users/avliu/opt/anaconda3/envs/hugging-face/lib/python3.10/site-packages/pandas/core/generic.py\", line 5898, in astype\n",
      "    res_col = col.astype(dtype=cdt, copy=copy, errors=errors)\n",
      "  File \"/Users/avliu/opt/anaconda3/envs/hugging-face/lib/python3.10/site-packages/pandas/core/generic.py\", line 5912, in astype\n",
      "    new_data = self._mgr.astype(dtype=dtype, copy=copy, errors=errors)\n",
      "  File \"/Users/avliu/opt/anaconda3/envs/hugging-face/lib/python3.10/site-packages/pandas/core/internals/managers.py\", line 419, in astype\n",
      "    return self.apply(\"astype\", dtype=dtype, copy=copy, errors=errors)\n",
      "  File \"/Users/avliu/opt/anaconda3/envs/hugging-face/lib/python3.10/site-packages/pandas/core/internals/managers.py\", line 304, in apply\n",
      "    applied = getattr(b, f)(**kwargs)\n",
      "  File \"/Users/avliu/opt/anaconda3/envs/hugging-face/lib/python3.10/site-packages/pandas/core/internals/blocks.py\", line 580, in astype\n",
      "    new_values = astype_array_safe(values, dtype, copy=copy, errors=errors)\n",
      "  File \"/Users/avliu/opt/anaconda3/envs/hugging-face/lib/python3.10/site-packages/pandas/core/dtypes/cast.py\", line 1292, in astype_array_safe\n",
      "    new_values = astype_array(values, dtype, copy=copy)\n",
      "  File \"/Users/avliu/opt/anaconda3/envs/hugging-face/lib/python3.10/site-packages/pandas/core/dtypes/cast.py\", line 1237, in astype_array\n",
      "    values = astype_nansafe(values, dtype, copy=copy)\n",
      "  File \"/Users/avliu/opt/anaconda3/envs/hugging-face/lib/python3.10/site-packages/pandas/core/dtypes/cast.py\", line 1154, in astype_nansafe\n",
      "    return lib.astype_intsafe(arr, dtype)\n",
      "  File \"pandas/_libs/lib.pyx\", line 668, in pandas._libs.lib.astype_intsafe\n",
      "ValueError: invalid literal for int() with base 10: ''\n"
     ]
    },
    {
     "name": "stdout",
     "output_type": "stream",
     "text": [
      "round: 1\n",
      "round: 2\n",
      "invalid literal for int() with base 10: ''\n",
      "tournament_id: 648627\n"
     ]
    },
    {
     "name": "stderr",
     "output_type": "stream",
     "text": [
      "Traceback (most recent call last):\n",
      "  File \"/var/folders/t6/srtzy2f51db8mxxv7g_63f6h0000gr/T/ipykernel_72356/422094622.py\", line 19, in <cell line: 2>\n",
      "    games_df_list.append(parse_games_df(games_df))\n",
      "  File \"/var/folders/t6/srtzy2f51db8mxxv7g_63f6h0000gr/T/ipykernel_72356/3212580384.py\", line 18, in parse_games_df\n",
      "    games_df = games_df.astype({\n",
      "  File \"/Users/avliu/opt/anaconda3/envs/hugging-face/lib/python3.10/site-packages/pandas/core/generic.py\", line 5898, in astype\n",
      "    res_col = col.astype(dtype=cdt, copy=copy, errors=errors)\n",
      "  File \"/Users/avliu/opt/anaconda3/envs/hugging-face/lib/python3.10/site-packages/pandas/core/generic.py\", line 5912, in astype\n",
      "    new_data = self._mgr.astype(dtype=dtype, copy=copy, errors=errors)\n",
      "  File \"/Users/avliu/opt/anaconda3/envs/hugging-face/lib/python3.10/site-packages/pandas/core/internals/managers.py\", line 419, in astype\n",
      "    return self.apply(\"astype\", dtype=dtype, copy=copy, errors=errors)\n",
      "  File \"/Users/avliu/opt/anaconda3/envs/hugging-face/lib/python3.10/site-packages/pandas/core/internals/managers.py\", line 304, in apply\n",
      "    applied = getattr(b, f)(**kwargs)\n",
      "  File \"/Users/avliu/opt/anaconda3/envs/hugging-face/lib/python3.10/site-packages/pandas/core/internals/blocks.py\", line 580, in astype\n",
      "    new_values = astype_array_safe(values, dtype, copy=copy, errors=errors)\n",
      "  File \"/Users/avliu/opt/anaconda3/envs/hugging-face/lib/python3.10/site-packages/pandas/core/dtypes/cast.py\", line 1292, in astype_array_safe\n",
      "    new_values = astype_array(values, dtype, copy=copy)\n",
      "  File \"/Users/avliu/opt/anaconda3/envs/hugging-face/lib/python3.10/site-packages/pandas/core/dtypes/cast.py\", line 1237, in astype_array\n",
      "    values = astype_nansafe(values, dtype, copy=copy)\n",
      "  File \"/Users/avliu/opt/anaconda3/envs/hugging-face/lib/python3.10/site-packages/pandas/core/dtypes/cast.py\", line 1154, in astype_nansafe\n",
      "    return lib.astype_intsafe(arr, dtype)\n",
      "  File \"pandas/_libs/lib.pyx\", line 668, in pandas._libs.lib.astype_intsafe\n",
      "ValueError: invalid literal for int() with base 10: ''\n"
     ]
    },
    {
     "name": "stdout",
     "output_type": "stream",
     "text": [
      "round: 1\n",
      "invalid literal for int() with base 10: ''\n",
      "tournament_id: 647385\n"
     ]
    },
    {
     "name": "stderr",
     "output_type": "stream",
     "text": [
      "Traceback (most recent call last):\n",
      "  File \"/var/folders/t6/srtzy2f51db8mxxv7g_63f6h0000gr/T/ipykernel_72356/422094622.py\", line 19, in <cell line: 2>\n",
      "    games_df_list.append(parse_games_df(games_df))\n",
      "  File \"/var/folders/t6/srtzy2f51db8mxxv7g_63f6h0000gr/T/ipykernel_72356/3212580384.py\", line 18, in parse_games_df\n",
      "    games_df = games_df.astype({\n",
      "  File \"/Users/avliu/opt/anaconda3/envs/hugging-face/lib/python3.10/site-packages/pandas/core/generic.py\", line 5898, in astype\n",
      "    res_col = col.astype(dtype=cdt, copy=copy, errors=errors)\n",
      "  File \"/Users/avliu/opt/anaconda3/envs/hugging-face/lib/python3.10/site-packages/pandas/core/generic.py\", line 5912, in astype\n",
      "    new_data = self._mgr.astype(dtype=dtype, copy=copy, errors=errors)\n",
      "  File \"/Users/avliu/opt/anaconda3/envs/hugging-face/lib/python3.10/site-packages/pandas/core/internals/managers.py\", line 419, in astype\n",
      "    return self.apply(\"astype\", dtype=dtype, copy=copy, errors=errors)\n",
      "  File \"/Users/avliu/opt/anaconda3/envs/hugging-face/lib/python3.10/site-packages/pandas/core/internals/managers.py\", line 304, in apply\n",
      "    applied = getattr(b, f)(**kwargs)\n",
      "  File \"/Users/avliu/opt/anaconda3/envs/hugging-face/lib/python3.10/site-packages/pandas/core/internals/blocks.py\", line 580, in astype\n",
      "    new_values = astype_array_safe(values, dtype, copy=copy, errors=errors)\n",
      "  File \"/Users/avliu/opt/anaconda3/envs/hugging-face/lib/python3.10/site-packages/pandas/core/dtypes/cast.py\", line 1292, in astype_array_safe\n",
      "    new_values = astype_array(values, dtype, copy=copy)\n",
      "  File \"/Users/avliu/opt/anaconda3/envs/hugging-face/lib/python3.10/site-packages/pandas/core/dtypes/cast.py\", line 1237, in astype_array\n",
      "    values = astype_nansafe(values, dtype, copy=copy)\n",
      "  File \"/Users/avliu/opt/anaconda3/envs/hugging-face/lib/python3.10/site-packages/pandas/core/dtypes/cast.py\", line 1154, in astype_nansafe\n",
      "    return lib.astype_intsafe(arr, dtype)\n",
      "  File \"pandas/_libs/lib.pyx\", line 668, in pandas._libs.lib.astype_intsafe\n",
      "ValueError: invalid literal for int() with base 10: ''\n"
     ]
    },
    {
     "name": "stdout",
     "output_type": "stream",
     "text": [
      "round: 1\n",
      "round: 2\n",
      "round: 3\n",
      "round: 4\n",
      "round: 5\n",
      "round: 6\n",
      "round: 7\n",
      "round: 8\n",
      "round: 9\n",
      "tournament_id: 648637\n",
      "round: 1\n",
      "invalid literal for int() with base 10: ''\n",
      "tournament_id: 650678\n"
     ]
    },
    {
     "name": "stderr",
     "output_type": "stream",
     "text": [
      "Traceback (most recent call last):\n",
      "  File \"/var/folders/t6/srtzy2f51db8mxxv7g_63f6h0000gr/T/ipykernel_72356/422094622.py\", line 19, in <cell line: 2>\n",
      "    games_df_list.append(parse_games_df(games_df))\n",
      "  File \"/var/folders/t6/srtzy2f51db8mxxv7g_63f6h0000gr/T/ipykernel_72356/3212580384.py\", line 18, in parse_games_df\n",
      "    games_df = games_df.astype({\n",
      "  File \"/Users/avliu/opt/anaconda3/envs/hugging-face/lib/python3.10/site-packages/pandas/core/generic.py\", line 5898, in astype\n",
      "    res_col = col.astype(dtype=cdt, copy=copy, errors=errors)\n",
      "  File \"/Users/avliu/opt/anaconda3/envs/hugging-face/lib/python3.10/site-packages/pandas/core/generic.py\", line 5912, in astype\n",
      "    new_data = self._mgr.astype(dtype=dtype, copy=copy, errors=errors)\n",
      "  File \"/Users/avliu/opt/anaconda3/envs/hugging-face/lib/python3.10/site-packages/pandas/core/internals/managers.py\", line 419, in astype\n",
      "    return self.apply(\"astype\", dtype=dtype, copy=copy, errors=errors)\n",
      "  File \"/Users/avliu/opt/anaconda3/envs/hugging-face/lib/python3.10/site-packages/pandas/core/internals/managers.py\", line 304, in apply\n",
      "    applied = getattr(b, f)(**kwargs)\n",
      "  File \"/Users/avliu/opt/anaconda3/envs/hugging-face/lib/python3.10/site-packages/pandas/core/internals/blocks.py\", line 580, in astype\n",
      "    new_values = astype_array_safe(values, dtype, copy=copy, errors=errors)\n",
      "  File \"/Users/avliu/opt/anaconda3/envs/hugging-face/lib/python3.10/site-packages/pandas/core/dtypes/cast.py\", line 1292, in astype_array_safe\n",
      "    new_values = astype_array(values, dtype, copy=copy)\n",
      "  File \"/Users/avliu/opt/anaconda3/envs/hugging-face/lib/python3.10/site-packages/pandas/core/dtypes/cast.py\", line 1237, in astype_array\n",
      "    values = astype_nansafe(values, dtype, copy=copy)\n",
      "  File \"/Users/avliu/opt/anaconda3/envs/hugging-face/lib/python3.10/site-packages/pandas/core/dtypes/cast.py\", line 1154, in astype_nansafe\n",
      "    return lib.astype_intsafe(arr, dtype)\n",
      "  File \"pandas/_libs/lib.pyx\", line 668, in pandas._libs.lib.astype_intsafe\n",
      "ValueError: invalid literal for int() with base 10: ''\n"
     ]
    },
    {
     "name": "stdout",
     "output_type": "stream",
     "text": [
      "round: 1\n",
      "round: 2\n",
      "round: 3\n",
      "round: 4\n",
      "round: 5\n",
      "round: 6\n",
      "round: 7\n",
      "tournament_id: 627802\n",
      "tournament_id: 636608\n",
      "tournament_id: 643627\n",
      "round: 1\n",
      "cannot convert float NaN to integer\n",
      "tournament_id: 643626\n"
     ]
    },
    {
     "name": "stderr",
     "output_type": "stream",
     "text": [
      "Traceback (most recent call last):\n",
      "  File \"/var/folders/t6/srtzy2f51db8mxxv7g_63f6h0000gr/T/ipykernel_72356/422094622.py\", line 19, in <cell line: 2>\n",
      "    games_df_list.append(parse_games_df(games_df))\n",
      "  File \"/var/folders/t6/srtzy2f51db8mxxv7g_63f6h0000gr/T/ipykernel_72356/3212580384.py\", line 18, in parse_games_df\n",
      "    games_df = games_df.astype({\n",
      "  File \"/Users/avliu/opt/anaconda3/envs/hugging-face/lib/python3.10/site-packages/pandas/core/generic.py\", line 5898, in astype\n",
      "    res_col = col.astype(dtype=cdt, copy=copy, errors=errors)\n",
      "  File \"/Users/avliu/opt/anaconda3/envs/hugging-face/lib/python3.10/site-packages/pandas/core/generic.py\", line 5912, in astype\n",
      "    new_data = self._mgr.astype(dtype=dtype, copy=copy, errors=errors)\n",
      "  File \"/Users/avliu/opt/anaconda3/envs/hugging-face/lib/python3.10/site-packages/pandas/core/internals/managers.py\", line 419, in astype\n",
      "    return self.apply(\"astype\", dtype=dtype, copy=copy, errors=errors)\n",
      "  File \"/Users/avliu/opt/anaconda3/envs/hugging-face/lib/python3.10/site-packages/pandas/core/internals/managers.py\", line 304, in apply\n",
      "    applied = getattr(b, f)(**kwargs)\n",
      "  File \"/Users/avliu/opt/anaconda3/envs/hugging-face/lib/python3.10/site-packages/pandas/core/internals/blocks.py\", line 580, in astype\n",
      "    new_values = astype_array_safe(values, dtype, copy=copy, errors=errors)\n",
      "  File \"/Users/avliu/opt/anaconda3/envs/hugging-face/lib/python3.10/site-packages/pandas/core/dtypes/cast.py\", line 1292, in astype_array_safe\n",
      "    new_values = astype_array(values, dtype, copy=copy)\n",
      "  File \"/Users/avliu/opt/anaconda3/envs/hugging-face/lib/python3.10/site-packages/pandas/core/dtypes/cast.py\", line 1237, in astype_array\n",
      "    values = astype_nansafe(values, dtype, copy=copy)\n",
      "  File \"/Users/avliu/opt/anaconda3/envs/hugging-face/lib/python3.10/site-packages/pandas/core/dtypes/cast.py\", line 1154, in astype_nansafe\n",
      "    return lib.astype_intsafe(arr, dtype)\n",
      "  File \"pandas/_libs/lib.pyx\", line 668, in pandas._libs.lib.astype_intsafe\n",
      "ValueError: cannot convert float NaN to integer\n"
     ]
    },
    {
     "name": "stdout",
     "output_type": "stream",
     "text": [
      "round: 1\n",
      "round: 2\n",
      "round: 3\n",
      "round: 4\n",
      "round: 5\n",
      "round: 6\n",
      "round: 7\n",
      "invalid literal for int() with base 10: ''\n",
      "tournament_id: 621180\n"
     ]
    },
    {
     "name": "stderr",
     "output_type": "stream",
     "text": [
      "Traceback (most recent call last):\n",
      "  File \"/var/folders/t6/srtzy2f51db8mxxv7g_63f6h0000gr/T/ipykernel_72356/422094622.py\", line 19, in <cell line: 2>\n",
      "    games_df_list.append(parse_games_df(games_df))\n",
      "  File \"/var/folders/t6/srtzy2f51db8mxxv7g_63f6h0000gr/T/ipykernel_72356/3212580384.py\", line 18, in parse_games_df\n",
      "    games_df = games_df.astype({\n",
      "  File \"/Users/avliu/opt/anaconda3/envs/hugging-face/lib/python3.10/site-packages/pandas/core/generic.py\", line 5898, in astype\n",
      "    res_col = col.astype(dtype=cdt, copy=copy, errors=errors)\n",
      "  File \"/Users/avliu/opt/anaconda3/envs/hugging-face/lib/python3.10/site-packages/pandas/core/generic.py\", line 5912, in astype\n",
      "    new_data = self._mgr.astype(dtype=dtype, copy=copy, errors=errors)\n",
      "  File \"/Users/avliu/opt/anaconda3/envs/hugging-face/lib/python3.10/site-packages/pandas/core/internals/managers.py\", line 419, in astype\n",
      "    return self.apply(\"astype\", dtype=dtype, copy=copy, errors=errors)\n",
      "  File \"/Users/avliu/opt/anaconda3/envs/hugging-face/lib/python3.10/site-packages/pandas/core/internals/managers.py\", line 304, in apply\n",
      "    applied = getattr(b, f)(**kwargs)\n",
      "  File \"/Users/avliu/opt/anaconda3/envs/hugging-face/lib/python3.10/site-packages/pandas/core/internals/blocks.py\", line 580, in astype\n",
      "    new_values = astype_array_safe(values, dtype, copy=copy, errors=errors)\n",
      "  File \"/Users/avliu/opt/anaconda3/envs/hugging-face/lib/python3.10/site-packages/pandas/core/dtypes/cast.py\", line 1292, in astype_array_safe\n",
      "    new_values = astype_array(values, dtype, copy=copy)\n",
      "  File \"/Users/avliu/opt/anaconda3/envs/hugging-face/lib/python3.10/site-packages/pandas/core/dtypes/cast.py\", line 1237, in astype_array\n",
      "    values = astype_nansafe(values, dtype, copy=copy)\n",
      "  File \"/Users/avliu/opt/anaconda3/envs/hugging-face/lib/python3.10/site-packages/pandas/core/dtypes/cast.py\", line 1154, in astype_nansafe\n",
      "    return lib.astype_intsafe(arr, dtype)\n",
      "  File \"pandas/_libs/lib.pyx\", line 668, in pandas._libs.lib.astype_intsafe\n",
      "ValueError: invalid literal for int() with base 10: ''\n"
     ]
    },
    {
     "name": "stdout",
     "output_type": "stream",
     "text": [
      "round: 1\n",
      "round: 2\n",
      "round: 3\n",
      "round: 4\n",
      "round: 5\n",
      "round: 6\n",
      "round: 7\n",
      "round: 8\n",
      "round: 9\n",
      "tournament_id: 635362\n",
      "round: 1\n",
      "invalid literal for int() with base 10: ''\n",
      "tournament_id: 635600\n"
     ]
    },
    {
     "name": "stderr",
     "output_type": "stream",
     "text": [
      "Traceback (most recent call last):\n",
      "  File \"/var/folders/t6/srtzy2f51db8mxxv7g_63f6h0000gr/T/ipykernel_72356/422094622.py\", line 19, in <cell line: 2>\n",
      "    games_df_list.append(parse_games_df(games_df))\n",
      "  File \"/var/folders/t6/srtzy2f51db8mxxv7g_63f6h0000gr/T/ipykernel_72356/3212580384.py\", line 18, in parse_games_df\n",
      "    games_df = games_df.astype({\n",
      "  File \"/Users/avliu/opt/anaconda3/envs/hugging-face/lib/python3.10/site-packages/pandas/core/generic.py\", line 5898, in astype\n",
      "    res_col = col.astype(dtype=cdt, copy=copy, errors=errors)\n",
      "  File \"/Users/avliu/opt/anaconda3/envs/hugging-face/lib/python3.10/site-packages/pandas/core/generic.py\", line 5912, in astype\n",
      "    new_data = self._mgr.astype(dtype=dtype, copy=copy, errors=errors)\n",
      "  File \"/Users/avliu/opt/anaconda3/envs/hugging-face/lib/python3.10/site-packages/pandas/core/internals/managers.py\", line 419, in astype\n",
      "    return self.apply(\"astype\", dtype=dtype, copy=copy, errors=errors)\n",
      "  File \"/Users/avliu/opt/anaconda3/envs/hugging-face/lib/python3.10/site-packages/pandas/core/internals/managers.py\", line 304, in apply\n",
      "    applied = getattr(b, f)(**kwargs)\n",
      "  File \"/Users/avliu/opt/anaconda3/envs/hugging-face/lib/python3.10/site-packages/pandas/core/internals/blocks.py\", line 580, in astype\n",
      "    new_values = astype_array_safe(values, dtype, copy=copy, errors=errors)\n",
      "  File \"/Users/avliu/opt/anaconda3/envs/hugging-face/lib/python3.10/site-packages/pandas/core/dtypes/cast.py\", line 1292, in astype_array_safe\n",
      "    new_values = astype_array(values, dtype, copy=copy)\n",
      "  File \"/Users/avliu/opt/anaconda3/envs/hugging-face/lib/python3.10/site-packages/pandas/core/dtypes/cast.py\", line 1237, in astype_array\n",
      "    values = astype_nansafe(values, dtype, copy=copy)\n",
      "  File \"/Users/avliu/opt/anaconda3/envs/hugging-face/lib/python3.10/site-packages/pandas/core/dtypes/cast.py\", line 1154, in astype_nansafe\n",
      "    return lib.astype_intsafe(arr, dtype)\n",
      "  File \"pandas/_libs/lib.pyx\", line 668, in pandas._libs.lib.astype_intsafe\n",
      "ValueError: invalid literal for int() with base 10: ''\n"
     ]
    },
    {
     "name": "stdout",
     "output_type": "stream",
     "text": [
      "round: 1\n",
      "invalid literal for int() with base 10: ''\n",
      "tournament_id: 635359\n"
     ]
    },
    {
     "name": "stderr",
     "output_type": "stream",
     "text": [
      "Traceback (most recent call last):\n",
      "  File \"/var/folders/t6/srtzy2f51db8mxxv7g_63f6h0000gr/T/ipykernel_72356/422094622.py\", line 19, in <cell line: 2>\n",
      "    games_df_list.append(parse_games_df(games_df))\n",
      "  File \"/var/folders/t6/srtzy2f51db8mxxv7g_63f6h0000gr/T/ipykernel_72356/3212580384.py\", line 18, in parse_games_df\n",
      "    games_df = games_df.astype({\n",
      "  File \"/Users/avliu/opt/anaconda3/envs/hugging-face/lib/python3.10/site-packages/pandas/core/generic.py\", line 5898, in astype\n",
      "    res_col = col.astype(dtype=cdt, copy=copy, errors=errors)\n",
      "  File \"/Users/avliu/opt/anaconda3/envs/hugging-face/lib/python3.10/site-packages/pandas/core/generic.py\", line 5912, in astype\n",
      "    new_data = self._mgr.astype(dtype=dtype, copy=copy, errors=errors)\n",
      "  File \"/Users/avliu/opt/anaconda3/envs/hugging-face/lib/python3.10/site-packages/pandas/core/internals/managers.py\", line 419, in astype\n",
      "    return self.apply(\"astype\", dtype=dtype, copy=copy, errors=errors)\n",
      "  File \"/Users/avliu/opt/anaconda3/envs/hugging-face/lib/python3.10/site-packages/pandas/core/internals/managers.py\", line 304, in apply\n",
      "    applied = getattr(b, f)(**kwargs)\n",
      "  File \"/Users/avliu/opt/anaconda3/envs/hugging-face/lib/python3.10/site-packages/pandas/core/internals/blocks.py\", line 580, in astype\n",
      "    new_values = astype_array_safe(values, dtype, copy=copy, errors=errors)\n",
      "  File \"/Users/avliu/opt/anaconda3/envs/hugging-face/lib/python3.10/site-packages/pandas/core/dtypes/cast.py\", line 1292, in astype_array_safe\n",
      "    new_values = astype_array(values, dtype, copy=copy)\n",
      "  File \"/Users/avliu/opt/anaconda3/envs/hugging-face/lib/python3.10/site-packages/pandas/core/dtypes/cast.py\", line 1237, in astype_array\n",
      "    values = astype_nansafe(values, dtype, copy=copy)\n",
      "  File \"/Users/avliu/opt/anaconda3/envs/hugging-face/lib/python3.10/site-packages/pandas/core/dtypes/cast.py\", line 1154, in astype_nansafe\n",
      "    return lib.astype_intsafe(arr, dtype)\n",
      "  File \"pandas/_libs/lib.pyx\", line 668, in pandas._libs.lib.astype_intsafe\n",
      "ValueError: invalid literal for int() with base 10: ''\n"
     ]
    },
    {
     "name": "stdout",
     "output_type": "stream",
     "text": [
      "round: 1\n",
      "cannot convert float NaN to integer\n",
      "tournament_id: 635364\n"
     ]
    },
    {
     "name": "stderr",
     "output_type": "stream",
     "text": [
      "Traceback (most recent call last):\n",
      "  File \"/var/folders/t6/srtzy2f51db8mxxv7g_63f6h0000gr/T/ipykernel_72356/422094622.py\", line 19, in <cell line: 2>\n",
      "    games_df_list.append(parse_games_df(games_df))\n",
      "  File \"/var/folders/t6/srtzy2f51db8mxxv7g_63f6h0000gr/T/ipykernel_72356/3212580384.py\", line 18, in parse_games_df\n",
      "    games_df = games_df.astype({\n",
      "  File \"/Users/avliu/opt/anaconda3/envs/hugging-face/lib/python3.10/site-packages/pandas/core/generic.py\", line 5898, in astype\n",
      "    res_col = col.astype(dtype=cdt, copy=copy, errors=errors)\n",
      "  File \"/Users/avliu/opt/anaconda3/envs/hugging-face/lib/python3.10/site-packages/pandas/core/generic.py\", line 5912, in astype\n",
      "    new_data = self._mgr.astype(dtype=dtype, copy=copy, errors=errors)\n",
      "  File \"/Users/avliu/opt/anaconda3/envs/hugging-face/lib/python3.10/site-packages/pandas/core/internals/managers.py\", line 419, in astype\n",
      "    return self.apply(\"astype\", dtype=dtype, copy=copy, errors=errors)\n",
      "  File \"/Users/avliu/opt/anaconda3/envs/hugging-face/lib/python3.10/site-packages/pandas/core/internals/managers.py\", line 304, in apply\n",
      "    applied = getattr(b, f)(**kwargs)\n",
      "  File \"/Users/avliu/opt/anaconda3/envs/hugging-face/lib/python3.10/site-packages/pandas/core/internals/blocks.py\", line 580, in astype\n",
      "    new_values = astype_array_safe(values, dtype, copy=copy, errors=errors)\n",
      "  File \"/Users/avliu/opt/anaconda3/envs/hugging-face/lib/python3.10/site-packages/pandas/core/dtypes/cast.py\", line 1292, in astype_array_safe\n",
      "    new_values = astype_array(values, dtype, copy=copy)\n",
      "  File \"/Users/avliu/opt/anaconda3/envs/hugging-face/lib/python3.10/site-packages/pandas/core/dtypes/cast.py\", line 1237, in astype_array\n",
      "    values = astype_nansafe(values, dtype, copy=copy)\n",
      "  File \"/Users/avliu/opt/anaconda3/envs/hugging-face/lib/python3.10/site-packages/pandas/core/dtypes/cast.py\", line 1154, in astype_nansafe\n",
      "    return lib.astype_intsafe(arr, dtype)\n",
      "  File \"pandas/_libs/lib.pyx\", line 668, in pandas._libs.lib.astype_intsafe\n",
      "ValueError: cannot convert float NaN to integer\n"
     ]
    },
    {
     "name": "stdout",
     "output_type": "stream",
     "text": [
      "round: 1\n",
      "cannot convert float NaN to integer\n",
      "tournament_id: 635351\n"
     ]
    },
    {
     "name": "stderr",
     "output_type": "stream",
     "text": [
      "Traceback (most recent call last):\n",
      "  File \"/var/folders/t6/srtzy2f51db8mxxv7g_63f6h0000gr/T/ipykernel_72356/422094622.py\", line 19, in <cell line: 2>\n",
      "    games_df_list.append(parse_games_df(games_df))\n",
      "  File \"/var/folders/t6/srtzy2f51db8mxxv7g_63f6h0000gr/T/ipykernel_72356/3212580384.py\", line 18, in parse_games_df\n",
      "    games_df = games_df.astype({\n",
      "  File \"/Users/avliu/opt/anaconda3/envs/hugging-face/lib/python3.10/site-packages/pandas/core/generic.py\", line 5898, in astype\n",
      "    res_col = col.astype(dtype=cdt, copy=copy, errors=errors)\n",
      "  File \"/Users/avliu/opt/anaconda3/envs/hugging-face/lib/python3.10/site-packages/pandas/core/generic.py\", line 5912, in astype\n",
      "    new_data = self._mgr.astype(dtype=dtype, copy=copy, errors=errors)\n",
      "  File \"/Users/avliu/opt/anaconda3/envs/hugging-face/lib/python3.10/site-packages/pandas/core/internals/managers.py\", line 419, in astype\n",
      "    return self.apply(\"astype\", dtype=dtype, copy=copy, errors=errors)\n",
      "  File \"/Users/avliu/opt/anaconda3/envs/hugging-face/lib/python3.10/site-packages/pandas/core/internals/managers.py\", line 304, in apply\n",
      "    applied = getattr(b, f)(**kwargs)\n",
      "  File \"/Users/avliu/opt/anaconda3/envs/hugging-face/lib/python3.10/site-packages/pandas/core/internals/blocks.py\", line 580, in astype\n",
      "    new_values = astype_array_safe(values, dtype, copy=copy, errors=errors)\n",
      "  File \"/Users/avliu/opt/anaconda3/envs/hugging-face/lib/python3.10/site-packages/pandas/core/dtypes/cast.py\", line 1292, in astype_array_safe\n",
      "    new_values = astype_array(values, dtype, copy=copy)\n",
      "  File \"/Users/avliu/opt/anaconda3/envs/hugging-face/lib/python3.10/site-packages/pandas/core/dtypes/cast.py\", line 1237, in astype_array\n",
      "    values = astype_nansafe(values, dtype, copy=copy)\n",
      "  File \"/Users/avliu/opt/anaconda3/envs/hugging-face/lib/python3.10/site-packages/pandas/core/dtypes/cast.py\", line 1154, in astype_nansafe\n",
      "    return lib.astype_intsafe(arr, dtype)\n",
      "  File \"pandas/_libs/lib.pyx\", line 668, in pandas._libs.lib.astype_intsafe\n",
      "ValueError: cannot convert float NaN to integer\n"
     ]
    },
    {
     "name": "stdout",
     "output_type": "stream",
     "text": [
      "round: 1\n",
      "invalid literal for int() with base 10: 'Rtg'\n",
      "tournament_id: 635354\n"
     ]
    },
    {
     "name": "stderr",
     "output_type": "stream",
     "text": [
      "Traceback (most recent call last):\n",
      "  File \"/var/folders/t6/srtzy2f51db8mxxv7g_63f6h0000gr/T/ipykernel_72356/422094622.py\", line 19, in <cell line: 2>\n",
      "    games_df_list.append(parse_games_df(games_df))\n",
      "  File \"/var/folders/t6/srtzy2f51db8mxxv7g_63f6h0000gr/T/ipykernel_72356/3212580384.py\", line 18, in parse_games_df\n",
      "    games_df = games_df.astype({\n",
      "  File \"/Users/avliu/opt/anaconda3/envs/hugging-face/lib/python3.10/site-packages/pandas/core/generic.py\", line 5898, in astype\n",
      "    res_col = col.astype(dtype=cdt, copy=copy, errors=errors)\n",
      "  File \"/Users/avliu/opt/anaconda3/envs/hugging-face/lib/python3.10/site-packages/pandas/core/generic.py\", line 5912, in astype\n",
      "    new_data = self._mgr.astype(dtype=dtype, copy=copy, errors=errors)\n",
      "  File \"/Users/avliu/opt/anaconda3/envs/hugging-face/lib/python3.10/site-packages/pandas/core/internals/managers.py\", line 419, in astype\n",
      "    return self.apply(\"astype\", dtype=dtype, copy=copy, errors=errors)\n",
      "  File \"/Users/avliu/opt/anaconda3/envs/hugging-face/lib/python3.10/site-packages/pandas/core/internals/managers.py\", line 304, in apply\n",
      "    applied = getattr(b, f)(**kwargs)\n",
      "  File \"/Users/avliu/opt/anaconda3/envs/hugging-face/lib/python3.10/site-packages/pandas/core/internals/blocks.py\", line 580, in astype\n",
      "    new_values = astype_array_safe(values, dtype, copy=copy, errors=errors)\n",
      "  File \"/Users/avliu/opt/anaconda3/envs/hugging-face/lib/python3.10/site-packages/pandas/core/dtypes/cast.py\", line 1292, in astype_array_safe\n",
      "    new_values = astype_array(values, dtype, copy=copy)\n",
      "  File \"/Users/avliu/opt/anaconda3/envs/hugging-face/lib/python3.10/site-packages/pandas/core/dtypes/cast.py\", line 1237, in astype_array\n",
      "    values = astype_nansafe(values, dtype, copy=copy)\n",
      "  File \"/Users/avliu/opt/anaconda3/envs/hugging-face/lib/python3.10/site-packages/pandas/core/dtypes/cast.py\", line 1154, in astype_nansafe\n",
      "    return lib.astype_intsafe(arr, dtype)\n",
      "  File \"pandas/_libs/lib.pyx\", line 668, in pandas._libs.lib.astype_intsafe\n",
      "ValueError: invalid literal for int() with base 10: 'Rtg'\n"
     ]
    },
    {
     "name": "stdout",
     "output_type": "stream",
     "text": [
      "round: 1\n",
      "invalid literal for int() with base 10: ''\n",
      "tournament_id: 635363\n"
     ]
    },
    {
     "name": "stderr",
     "output_type": "stream",
     "text": [
      "Traceback (most recent call last):\n",
      "  File \"/var/folders/t6/srtzy2f51db8mxxv7g_63f6h0000gr/T/ipykernel_72356/422094622.py\", line 19, in <cell line: 2>\n",
      "    games_df_list.append(parse_games_df(games_df))\n",
      "  File \"/var/folders/t6/srtzy2f51db8mxxv7g_63f6h0000gr/T/ipykernel_72356/3212580384.py\", line 18, in parse_games_df\n",
      "    games_df = games_df.astype({\n",
      "  File \"/Users/avliu/opt/anaconda3/envs/hugging-face/lib/python3.10/site-packages/pandas/core/generic.py\", line 5898, in astype\n",
      "    res_col = col.astype(dtype=cdt, copy=copy, errors=errors)\n",
      "  File \"/Users/avliu/opt/anaconda3/envs/hugging-face/lib/python3.10/site-packages/pandas/core/generic.py\", line 5912, in astype\n",
      "    new_data = self._mgr.astype(dtype=dtype, copy=copy, errors=errors)\n",
      "  File \"/Users/avliu/opt/anaconda3/envs/hugging-face/lib/python3.10/site-packages/pandas/core/internals/managers.py\", line 419, in astype\n",
      "    return self.apply(\"astype\", dtype=dtype, copy=copy, errors=errors)\n",
      "  File \"/Users/avliu/opt/anaconda3/envs/hugging-face/lib/python3.10/site-packages/pandas/core/internals/managers.py\", line 304, in apply\n",
      "    applied = getattr(b, f)(**kwargs)\n",
      "  File \"/Users/avliu/opt/anaconda3/envs/hugging-face/lib/python3.10/site-packages/pandas/core/internals/blocks.py\", line 580, in astype\n",
      "    new_values = astype_array_safe(values, dtype, copy=copy, errors=errors)\n",
      "  File \"/Users/avliu/opt/anaconda3/envs/hugging-face/lib/python3.10/site-packages/pandas/core/dtypes/cast.py\", line 1292, in astype_array_safe\n",
      "    new_values = astype_array(values, dtype, copy=copy)\n",
      "  File \"/Users/avliu/opt/anaconda3/envs/hugging-face/lib/python3.10/site-packages/pandas/core/dtypes/cast.py\", line 1237, in astype_array\n",
      "    values = astype_nansafe(values, dtype, copy=copy)\n",
      "  File \"/Users/avliu/opt/anaconda3/envs/hugging-face/lib/python3.10/site-packages/pandas/core/dtypes/cast.py\", line 1154, in astype_nansafe\n",
      "    return lib.astype_intsafe(arr, dtype)\n",
      "  File \"pandas/_libs/lib.pyx\", line 668, in pandas._libs.lib.astype_intsafe\n",
      "ValueError: invalid literal for int() with base 10: ''\n"
     ]
    },
    {
     "name": "stdout",
     "output_type": "stream",
     "text": [
      "round: 1\n",
      "invalid literal for int() with base 10: 'Rtg'\n",
      "tournament_id: 636369\n"
     ]
    },
    {
     "name": "stderr",
     "output_type": "stream",
     "text": [
      "Traceback (most recent call last):\n",
      "  File \"/var/folders/t6/srtzy2f51db8mxxv7g_63f6h0000gr/T/ipykernel_72356/422094622.py\", line 19, in <cell line: 2>\n",
      "    games_df_list.append(parse_games_df(games_df))\n",
      "  File \"/var/folders/t6/srtzy2f51db8mxxv7g_63f6h0000gr/T/ipykernel_72356/3212580384.py\", line 18, in parse_games_df\n",
      "    games_df = games_df.astype({\n",
      "  File \"/Users/avliu/opt/anaconda3/envs/hugging-face/lib/python3.10/site-packages/pandas/core/generic.py\", line 5898, in astype\n",
      "    res_col = col.astype(dtype=cdt, copy=copy, errors=errors)\n",
      "  File \"/Users/avliu/opt/anaconda3/envs/hugging-face/lib/python3.10/site-packages/pandas/core/generic.py\", line 5912, in astype\n",
      "    new_data = self._mgr.astype(dtype=dtype, copy=copy, errors=errors)\n",
      "  File \"/Users/avliu/opt/anaconda3/envs/hugging-face/lib/python3.10/site-packages/pandas/core/internals/managers.py\", line 419, in astype\n",
      "    return self.apply(\"astype\", dtype=dtype, copy=copy, errors=errors)\n",
      "  File \"/Users/avliu/opt/anaconda3/envs/hugging-face/lib/python3.10/site-packages/pandas/core/internals/managers.py\", line 304, in apply\n",
      "    applied = getattr(b, f)(**kwargs)\n",
      "  File \"/Users/avliu/opt/anaconda3/envs/hugging-face/lib/python3.10/site-packages/pandas/core/internals/blocks.py\", line 580, in astype\n",
      "    new_values = astype_array_safe(values, dtype, copy=copy, errors=errors)\n",
      "  File \"/Users/avliu/opt/anaconda3/envs/hugging-face/lib/python3.10/site-packages/pandas/core/dtypes/cast.py\", line 1292, in astype_array_safe\n",
      "    new_values = astype_array(values, dtype, copy=copy)\n",
      "  File \"/Users/avliu/opt/anaconda3/envs/hugging-face/lib/python3.10/site-packages/pandas/core/dtypes/cast.py\", line 1237, in astype_array\n",
      "    values = astype_nansafe(values, dtype, copy=copy)\n",
      "  File \"/Users/avliu/opt/anaconda3/envs/hugging-face/lib/python3.10/site-packages/pandas/core/dtypes/cast.py\", line 1154, in astype_nansafe\n",
      "    return lib.astype_intsafe(arr, dtype)\n",
      "  File \"pandas/_libs/lib.pyx\", line 668, in pandas._libs.lib.astype_intsafe\n",
      "ValueError: invalid literal for int() with base 10: 'Rtg'\n"
     ]
    },
    {
     "name": "stdout",
     "output_type": "stream",
     "text": [
      "round: 1\n",
      "list index out of range\n",
      "tournament_id: 632638\n"
     ]
    },
    {
     "name": "stderr",
     "output_type": "stream",
     "text": [
      "Traceback (most recent call last):\n",
      "  File \"/var/folders/t6/srtzy2f51db8mxxv7g_63f6h0000gr/T/ipykernel_72356/422094622.py\", line 19, in <cell line: 2>\n",
      "    games_df_list.append(parse_games_df(games_df))\n",
      "  File \"/var/folders/t6/srtzy2f51db8mxxv7g_63f6h0000gr/T/ipykernel_72356/3212580384.py\", line 6, in parse_games_df\n",
      "    games_df.columns.values[name_idxs[0]] = \"left_name\"\n",
      "IndexError: list index out of range\n"
     ]
    },
    {
     "name": "stdout",
     "output_type": "stream",
     "text": [
      "round: 1\n",
      "list index out of range\n",
      "tournament_id: 632511\n"
     ]
    },
    {
     "name": "stderr",
     "output_type": "stream",
     "text": [
      "Traceback (most recent call last):\n",
      "  File \"/var/folders/t6/srtzy2f51db8mxxv7g_63f6h0000gr/T/ipykernel_72356/422094622.py\", line 19, in <cell line: 2>\n",
      "    games_df_list.append(parse_games_df(games_df))\n",
      "  File \"/var/folders/t6/srtzy2f51db8mxxv7g_63f6h0000gr/T/ipykernel_72356/3212580384.py\", line 8, in parse_games_df\n",
      "    games_df.columns.values[rtg_idxs[0]] = \"left_rtg\"\n",
      "IndexError: list index out of range\n"
     ]
    },
    {
     "name": "stdout",
     "output_type": "stream",
     "text": [
      "round: 1\n",
      "list index out of range\n",
      "tournament_id: 632509\n"
     ]
    },
    {
     "name": "stderr",
     "output_type": "stream",
     "text": [
      "Traceback (most recent call last):\n",
      "  File \"/var/folders/t6/srtzy2f51db8mxxv7g_63f6h0000gr/T/ipykernel_72356/422094622.py\", line 19, in <cell line: 2>\n",
      "    games_df_list.append(parse_games_df(games_df))\n",
      "  File \"/var/folders/t6/srtzy2f51db8mxxv7g_63f6h0000gr/T/ipykernel_72356/3212580384.py\", line 8, in parse_games_df\n",
      "    games_df.columns.values[rtg_idxs[0]] = \"left_rtg\"\n",
      "IndexError: list index out of range\n"
     ]
    },
    {
     "name": "stdout",
     "output_type": "stream",
     "text": [
      "round: 1\n",
      "list index out of range\n",
      "tournament_id: 632507\n"
     ]
    },
    {
     "name": "stderr",
     "output_type": "stream",
     "text": [
      "Traceback (most recent call last):\n",
      "  File \"/var/folders/t6/srtzy2f51db8mxxv7g_63f6h0000gr/T/ipykernel_72356/422094622.py\", line 19, in <cell line: 2>\n",
      "    games_df_list.append(parse_games_df(games_df))\n",
      "  File \"/var/folders/t6/srtzy2f51db8mxxv7g_63f6h0000gr/T/ipykernel_72356/3212580384.py\", line 8, in parse_games_df\n",
      "    games_df.columns.values[rtg_idxs[0]] = \"left_rtg\"\n",
      "IndexError: list index out of range\n"
     ]
    },
    {
     "name": "stdout",
     "output_type": "stream",
     "text": [
      "round: 1\n",
      "invalid literal for int() with base 10: ''\n",
      "tournament_id: 632498\n"
     ]
    },
    {
     "name": "stderr",
     "output_type": "stream",
     "text": [
      "Traceback (most recent call last):\n",
      "  File \"/var/folders/t6/srtzy2f51db8mxxv7g_63f6h0000gr/T/ipykernel_72356/422094622.py\", line 19, in <cell line: 2>\n",
      "    games_df_list.append(parse_games_df(games_df))\n",
      "  File \"/var/folders/t6/srtzy2f51db8mxxv7g_63f6h0000gr/T/ipykernel_72356/3212580384.py\", line 18, in parse_games_df\n",
      "    games_df = games_df.astype({\n",
      "  File \"/Users/avliu/opt/anaconda3/envs/hugging-face/lib/python3.10/site-packages/pandas/core/generic.py\", line 5898, in astype\n",
      "    res_col = col.astype(dtype=cdt, copy=copy, errors=errors)\n",
      "  File \"/Users/avliu/opt/anaconda3/envs/hugging-face/lib/python3.10/site-packages/pandas/core/generic.py\", line 5912, in astype\n",
      "    new_data = self._mgr.astype(dtype=dtype, copy=copy, errors=errors)\n",
      "  File \"/Users/avliu/opt/anaconda3/envs/hugging-face/lib/python3.10/site-packages/pandas/core/internals/managers.py\", line 419, in astype\n",
      "    return self.apply(\"astype\", dtype=dtype, copy=copy, errors=errors)\n",
      "  File \"/Users/avliu/opt/anaconda3/envs/hugging-face/lib/python3.10/site-packages/pandas/core/internals/managers.py\", line 304, in apply\n",
      "    applied = getattr(b, f)(**kwargs)\n",
      "  File \"/Users/avliu/opt/anaconda3/envs/hugging-face/lib/python3.10/site-packages/pandas/core/internals/blocks.py\", line 580, in astype\n",
      "    new_values = astype_array_safe(values, dtype, copy=copy, errors=errors)\n",
      "  File \"/Users/avliu/opt/anaconda3/envs/hugging-face/lib/python3.10/site-packages/pandas/core/dtypes/cast.py\", line 1292, in astype_array_safe\n",
      "    new_values = astype_array(values, dtype, copy=copy)\n",
      "  File \"/Users/avliu/opt/anaconda3/envs/hugging-face/lib/python3.10/site-packages/pandas/core/dtypes/cast.py\", line 1237, in astype_array\n",
      "    values = astype_nansafe(values, dtype, copy=copy)\n",
      "  File \"/Users/avliu/opt/anaconda3/envs/hugging-face/lib/python3.10/site-packages/pandas/core/dtypes/cast.py\", line 1154, in astype_nansafe\n",
      "    return lib.astype_intsafe(arr, dtype)\n",
      "  File \"pandas/_libs/lib.pyx\", line 668, in pandas._libs.lib.astype_intsafe\n",
      "ValueError: invalid literal for int() with base 10: ''\n"
     ]
    },
    {
     "name": "stdout",
     "output_type": "stream",
     "text": [
      "round: 1\n",
      "list index out of range\n",
      "tournament_id: 635726\n"
     ]
    },
    {
     "name": "stderr",
     "output_type": "stream",
     "text": [
      "Traceback (most recent call last):\n",
      "  File \"/var/folders/t6/srtzy2f51db8mxxv7g_63f6h0000gr/T/ipykernel_72356/422094622.py\", line 19, in <cell line: 2>\n",
      "    games_df_list.append(parse_games_df(games_df))\n",
      "  File \"/var/folders/t6/srtzy2f51db8mxxv7g_63f6h0000gr/T/ipykernel_72356/3212580384.py\", line 8, in parse_games_df\n",
      "    games_df.columns.values[rtg_idxs[0]] = \"left_rtg\"\n",
      "IndexError: list index out of range\n"
     ]
    },
    {
     "name": "stdout",
     "output_type": "stream",
     "text": [
      "round: 1\n",
      "invalid literal for int() with base 10: ''\n",
      "tournament_id: 635717\n"
     ]
    },
    {
     "name": "stderr",
     "output_type": "stream",
     "text": [
      "Traceback (most recent call last):\n",
      "  File \"/var/folders/t6/srtzy2f51db8mxxv7g_63f6h0000gr/T/ipykernel_72356/422094622.py\", line 19, in <cell line: 2>\n",
      "    games_df_list.append(parse_games_df(games_df))\n",
      "  File \"/var/folders/t6/srtzy2f51db8mxxv7g_63f6h0000gr/T/ipykernel_72356/3212580384.py\", line 18, in parse_games_df\n",
      "    games_df = games_df.astype({\n",
      "  File \"/Users/avliu/opt/anaconda3/envs/hugging-face/lib/python3.10/site-packages/pandas/core/generic.py\", line 5898, in astype\n",
      "    res_col = col.astype(dtype=cdt, copy=copy, errors=errors)\n",
      "  File \"/Users/avliu/opt/anaconda3/envs/hugging-face/lib/python3.10/site-packages/pandas/core/generic.py\", line 5912, in astype\n",
      "    new_data = self._mgr.astype(dtype=dtype, copy=copy, errors=errors)\n",
      "  File \"/Users/avliu/opt/anaconda3/envs/hugging-face/lib/python3.10/site-packages/pandas/core/internals/managers.py\", line 419, in astype\n",
      "    return self.apply(\"astype\", dtype=dtype, copy=copy, errors=errors)\n",
      "  File \"/Users/avliu/opt/anaconda3/envs/hugging-face/lib/python3.10/site-packages/pandas/core/internals/managers.py\", line 304, in apply\n",
      "    applied = getattr(b, f)(**kwargs)\n",
      "  File \"/Users/avliu/opt/anaconda3/envs/hugging-face/lib/python3.10/site-packages/pandas/core/internals/blocks.py\", line 580, in astype\n",
      "    new_values = astype_array_safe(values, dtype, copy=copy, errors=errors)\n",
      "  File \"/Users/avliu/opt/anaconda3/envs/hugging-face/lib/python3.10/site-packages/pandas/core/dtypes/cast.py\", line 1292, in astype_array_safe\n",
      "    new_values = astype_array(values, dtype, copy=copy)\n",
      "  File \"/Users/avliu/opt/anaconda3/envs/hugging-face/lib/python3.10/site-packages/pandas/core/dtypes/cast.py\", line 1237, in astype_array\n",
      "    values = astype_nansafe(values, dtype, copy=copy)\n",
      "  File \"/Users/avliu/opt/anaconda3/envs/hugging-face/lib/python3.10/site-packages/pandas/core/dtypes/cast.py\", line 1154, in astype_nansafe\n",
      "    return lib.astype_intsafe(arr, dtype)\n",
      "  File \"pandas/_libs/lib.pyx\", line 668, in pandas._libs.lib.astype_intsafe\n",
      "ValueError: invalid literal for int() with base 10: ''\n"
     ]
    },
    {
     "name": "stdout",
     "output_type": "stream",
     "text": [
      "round: 1\n",
      "invalid literal for int() with base 10: ''\n",
      "tournament_id: 635708\n"
     ]
    },
    {
     "name": "stderr",
     "output_type": "stream",
     "text": [
      "Traceback (most recent call last):\n",
      "  File \"/var/folders/t6/srtzy2f51db8mxxv7g_63f6h0000gr/T/ipykernel_72356/422094622.py\", line 19, in <cell line: 2>\n",
      "    games_df_list.append(parse_games_df(games_df))\n",
      "  File \"/var/folders/t6/srtzy2f51db8mxxv7g_63f6h0000gr/T/ipykernel_72356/3212580384.py\", line 18, in parse_games_df\n",
      "    games_df = games_df.astype({\n",
      "  File \"/Users/avliu/opt/anaconda3/envs/hugging-face/lib/python3.10/site-packages/pandas/core/generic.py\", line 5898, in astype\n",
      "    res_col = col.astype(dtype=cdt, copy=copy, errors=errors)\n",
      "  File \"/Users/avliu/opt/anaconda3/envs/hugging-face/lib/python3.10/site-packages/pandas/core/generic.py\", line 5912, in astype\n",
      "    new_data = self._mgr.astype(dtype=dtype, copy=copy, errors=errors)\n",
      "  File \"/Users/avliu/opt/anaconda3/envs/hugging-face/lib/python3.10/site-packages/pandas/core/internals/managers.py\", line 419, in astype\n",
      "    return self.apply(\"astype\", dtype=dtype, copy=copy, errors=errors)\n",
      "  File \"/Users/avliu/opt/anaconda3/envs/hugging-face/lib/python3.10/site-packages/pandas/core/internals/managers.py\", line 304, in apply\n",
      "    applied = getattr(b, f)(**kwargs)\n",
      "  File \"/Users/avliu/opt/anaconda3/envs/hugging-face/lib/python3.10/site-packages/pandas/core/internals/blocks.py\", line 580, in astype\n",
      "    new_values = astype_array_safe(values, dtype, copy=copy, errors=errors)\n",
      "  File \"/Users/avliu/opt/anaconda3/envs/hugging-face/lib/python3.10/site-packages/pandas/core/dtypes/cast.py\", line 1292, in astype_array_safe\n",
      "    new_values = astype_array(values, dtype, copy=copy)\n",
      "  File \"/Users/avliu/opt/anaconda3/envs/hugging-face/lib/python3.10/site-packages/pandas/core/dtypes/cast.py\", line 1237, in astype_array\n",
      "    values = astype_nansafe(values, dtype, copy=copy)\n",
      "  File \"/Users/avliu/opt/anaconda3/envs/hugging-face/lib/python3.10/site-packages/pandas/core/dtypes/cast.py\", line 1154, in astype_nansafe\n",
      "    return lib.astype_intsafe(arr, dtype)\n",
      "  File \"pandas/_libs/lib.pyx\", line 668, in pandas._libs.lib.astype_intsafe\n",
      "ValueError: invalid literal for int() with base 10: ''\n"
     ]
    },
    {
     "name": "stdout",
     "output_type": "stream",
     "text": [
      "round: 1\n",
      "invalid literal for int() with base 10: ''\n",
      "tournament_id: 635704\n"
     ]
    },
    {
     "name": "stderr",
     "output_type": "stream",
     "text": [
      "Traceback (most recent call last):\n",
      "  File \"/var/folders/t6/srtzy2f51db8mxxv7g_63f6h0000gr/T/ipykernel_72356/422094622.py\", line 19, in <cell line: 2>\n",
      "    games_df_list.append(parse_games_df(games_df))\n",
      "  File \"/var/folders/t6/srtzy2f51db8mxxv7g_63f6h0000gr/T/ipykernel_72356/3212580384.py\", line 18, in parse_games_df\n",
      "    games_df = games_df.astype({\n",
      "  File \"/Users/avliu/opt/anaconda3/envs/hugging-face/lib/python3.10/site-packages/pandas/core/generic.py\", line 5898, in astype\n",
      "    res_col = col.astype(dtype=cdt, copy=copy, errors=errors)\n",
      "  File \"/Users/avliu/opt/anaconda3/envs/hugging-face/lib/python3.10/site-packages/pandas/core/generic.py\", line 5912, in astype\n",
      "    new_data = self._mgr.astype(dtype=dtype, copy=copy, errors=errors)\n",
      "  File \"/Users/avliu/opt/anaconda3/envs/hugging-face/lib/python3.10/site-packages/pandas/core/internals/managers.py\", line 419, in astype\n",
      "    return self.apply(\"astype\", dtype=dtype, copy=copy, errors=errors)\n",
      "  File \"/Users/avliu/opt/anaconda3/envs/hugging-face/lib/python3.10/site-packages/pandas/core/internals/managers.py\", line 304, in apply\n",
      "    applied = getattr(b, f)(**kwargs)\n",
      "  File \"/Users/avliu/opt/anaconda3/envs/hugging-face/lib/python3.10/site-packages/pandas/core/internals/blocks.py\", line 580, in astype\n",
      "    new_values = astype_array_safe(values, dtype, copy=copy, errors=errors)\n",
      "  File \"/Users/avliu/opt/anaconda3/envs/hugging-face/lib/python3.10/site-packages/pandas/core/dtypes/cast.py\", line 1292, in astype_array_safe\n",
      "    new_values = astype_array(values, dtype, copy=copy)\n",
      "  File \"/Users/avliu/opt/anaconda3/envs/hugging-face/lib/python3.10/site-packages/pandas/core/dtypes/cast.py\", line 1237, in astype_array\n",
      "    values = astype_nansafe(values, dtype, copy=copy)\n",
      "  File \"/Users/avliu/opt/anaconda3/envs/hugging-face/lib/python3.10/site-packages/pandas/core/dtypes/cast.py\", line 1154, in astype_nansafe\n",
      "    return lib.astype_intsafe(arr, dtype)\n",
      "  File \"pandas/_libs/lib.pyx\", line 668, in pandas._libs.lib.astype_intsafe\n",
      "ValueError: invalid literal for int() with base 10: ''\n"
     ]
    },
    {
     "name": "stdout",
     "output_type": "stream",
     "text": [
      "round: 1\n",
      "invalid literal for int() with base 10: ''\n",
      "tournament_id: 635719\n"
     ]
    },
    {
     "name": "stderr",
     "output_type": "stream",
     "text": [
      "Traceback (most recent call last):\n",
      "  File \"/var/folders/t6/srtzy2f51db8mxxv7g_63f6h0000gr/T/ipykernel_72356/422094622.py\", line 19, in <cell line: 2>\n",
      "    games_df_list.append(parse_games_df(games_df))\n",
      "  File \"/var/folders/t6/srtzy2f51db8mxxv7g_63f6h0000gr/T/ipykernel_72356/3212580384.py\", line 18, in parse_games_df\n",
      "    games_df = games_df.astype({\n",
      "  File \"/Users/avliu/opt/anaconda3/envs/hugging-face/lib/python3.10/site-packages/pandas/core/generic.py\", line 5898, in astype\n",
      "    res_col = col.astype(dtype=cdt, copy=copy, errors=errors)\n",
      "  File \"/Users/avliu/opt/anaconda3/envs/hugging-face/lib/python3.10/site-packages/pandas/core/generic.py\", line 5912, in astype\n",
      "    new_data = self._mgr.astype(dtype=dtype, copy=copy, errors=errors)\n",
      "  File \"/Users/avliu/opt/anaconda3/envs/hugging-face/lib/python3.10/site-packages/pandas/core/internals/managers.py\", line 419, in astype\n",
      "    return self.apply(\"astype\", dtype=dtype, copy=copy, errors=errors)\n",
      "  File \"/Users/avliu/opt/anaconda3/envs/hugging-face/lib/python3.10/site-packages/pandas/core/internals/managers.py\", line 304, in apply\n",
      "    applied = getattr(b, f)(**kwargs)\n",
      "  File \"/Users/avliu/opt/anaconda3/envs/hugging-face/lib/python3.10/site-packages/pandas/core/internals/blocks.py\", line 580, in astype\n",
      "    new_values = astype_array_safe(values, dtype, copy=copy, errors=errors)\n",
      "  File \"/Users/avliu/opt/anaconda3/envs/hugging-face/lib/python3.10/site-packages/pandas/core/dtypes/cast.py\", line 1292, in astype_array_safe\n",
      "    new_values = astype_array(values, dtype, copy=copy)\n",
      "  File \"/Users/avliu/opt/anaconda3/envs/hugging-face/lib/python3.10/site-packages/pandas/core/dtypes/cast.py\", line 1237, in astype_array\n",
      "    values = astype_nansafe(values, dtype, copy=copy)\n",
      "  File \"/Users/avliu/opt/anaconda3/envs/hugging-face/lib/python3.10/site-packages/pandas/core/dtypes/cast.py\", line 1154, in astype_nansafe\n",
      "    return lib.astype_intsafe(arr, dtype)\n",
      "  File \"pandas/_libs/lib.pyx\", line 668, in pandas._libs.lib.astype_intsafe\n",
      "ValueError: invalid literal for int() with base 10: ''\n"
     ]
    },
    {
     "name": "stdout",
     "output_type": "stream",
     "text": [
      "round: 1\n",
      "invalid literal for int() with base 10: ''\n",
      "tournament_id: 635713\n"
     ]
    },
    {
     "name": "stderr",
     "output_type": "stream",
     "text": [
      "Traceback (most recent call last):\n",
      "  File \"/var/folders/t6/srtzy2f51db8mxxv7g_63f6h0000gr/T/ipykernel_72356/422094622.py\", line 19, in <cell line: 2>\n",
      "    games_df_list.append(parse_games_df(games_df))\n",
      "  File \"/var/folders/t6/srtzy2f51db8mxxv7g_63f6h0000gr/T/ipykernel_72356/3212580384.py\", line 18, in parse_games_df\n",
      "    games_df = games_df.astype({\n",
      "  File \"/Users/avliu/opt/anaconda3/envs/hugging-face/lib/python3.10/site-packages/pandas/core/generic.py\", line 5898, in astype\n",
      "    res_col = col.astype(dtype=cdt, copy=copy, errors=errors)\n",
      "  File \"/Users/avliu/opt/anaconda3/envs/hugging-face/lib/python3.10/site-packages/pandas/core/generic.py\", line 5912, in astype\n",
      "    new_data = self._mgr.astype(dtype=dtype, copy=copy, errors=errors)\n",
      "  File \"/Users/avliu/opt/anaconda3/envs/hugging-face/lib/python3.10/site-packages/pandas/core/internals/managers.py\", line 419, in astype\n",
      "    return self.apply(\"astype\", dtype=dtype, copy=copy, errors=errors)\n",
      "  File \"/Users/avliu/opt/anaconda3/envs/hugging-face/lib/python3.10/site-packages/pandas/core/internals/managers.py\", line 304, in apply\n",
      "    applied = getattr(b, f)(**kwargs)\n",
      "  File \"/Users/avliu/opt/anaconda3/envs/hugging-face/lib/python3.10/site-packages/pandas/core/internals/blocks.py\", line 580, in astype\n",
      "    new_values = astype_array_safe(values, dtype, copy=copy, errors=errors)\n",
      "  File \"/Users/avliu/opt/anaconda3/envs/hugging-face/lib/python3.10/site-packages/pandas/core/dtypes/cast.py\", line 1292, in astype_array_safe\n",
      "    new_values = astype_array(values, dtype, copy=copy)\n",
      "  File \"/Users/avliu/opt/anaconda3/envs/hugging-face/lib/python3.10/site-packages/pandas/core/dtypes/cast.py\", line 1237, in astype_array\n",
      "    values = astype_nansafe(values, dtype, copy=copy)\n",
      "  File \"/Users/avliu/opt/anaconda3/envs/hugging-face/lib/python3.10/site-packages/pandas/core/dtypes/cast.py\", line 1154, in astype_nansafe\n",
      "    return lib.astype_intsafe(arr, dtype)\n",
      "  File \"pandas/_libs/lib.pyx\", line 668, in pandas._libs.lib.astype_intsafe\n",
      "ValueError: invalid literal for int() with base 10: ''\n"
     ]
    },
    {
     "name": "stdout",
     "output_type": "stream",
     "text": [
      "round: 1\n",
      "invalid literal for int() with base 10: ''\n",
      "tournament_id: 633943\n"
     ]
    },
    {
     "name": "stderr",
     "output_type": "stream",
     "text": [
      "Traceback (most recent call last):\n",
      "  File \"/var/folders/t6/srtzy2f51db8mxxv7g_63f6h0000gr/T/ipykernel_72356/422094622.py\", line 19, in <cell line: 2>\n",
      "    games_df_list.append(parse_games_df(games_df))\n",
      "  File \"/var/folders/t6/srtzy2f51db8mxxv7g_63f6h0000gr/T/ipykernel_72356/3212580384.py\", line 18, in parse_games_df\n",
      "    games_df = games_df.astype({\n",
      "  File \"/Users/avliu/opt/anaconda3/envs/hugging-face/lib/python3.10/site-packages/pandas/core/generic.py\", line 5898, in astype\n",
      "    res_col = col.astype(dtype=cdt, copy=copy, errors=errors)\n",
      "  File \"/Users/avliu/opt/anaconda3/envs/hugging-face/lib/python3.10/site-packages/pandas/core/generic.py\", line 5912, in astype\n",
      "    new_data = self._mgr.astype(dtype=dtype, copy=copy, errors=errors)\n",
      "  File \"/Users/avliu/opt/anaconda3/envs/hugging-face/lib/python3.10/site-packages/pandas/core/internals/managers.py\", line 419, in astype\n",
      "    return self.apply(\"astype\", dtype=dtype, copy=copy, errors=errors)\n",
      "  File \"/Users/avliu/opt/anaconda3/envs/hugging-face/lib/python3.10/site-packages/pandas/core/internals/managers.py\", line 304, in apply\n",
      "    applied = getattr(b, f)(**kwargs)\n",
      "  File \"/Users/avliu/opt/anaconda3/envs/hugging-face/lib/python3.10/site-packages/pandas/core/internals/blocks.py\", line 580, in astype\n",
      "    new_values = astype_array_safe(values, dtype, copy=copy, errors=errors)\n",
      "  File \"/Users/avliu/opt/anaconda3/envs/hugging-face/lib/python3.10/site-packages/pandas/core/dtypes/cast.py\", line 1292, in astype_array_safe\n",
      "    new_values = astype_array(values, dtype, copy=copy)\n",
      "  File \"/Users/avliu/opt/anaconda3/envs/hugging-face/lib/python3.10/site-packages/pandas/core/dtypes/cast.py\", line 1237, in astype_array\n",
      "    values = astype_nansafe(values, dtype, copy=copy)\n",
      "  File \"/Users/avliu/opt/anaconda3/envs/hugging-face/lib/python3.10/site-packages/pandas/core/dtypes/cast.py\", line 1154, in astype_nansafe\n",
      "    return lib.astype_intsafe(arr, dtype)\n",
      "  File \"pandas/_libs/lib.pyx\", line 668, in pandas._libs.lib.astype_intsafe\n",
      "ValueError: invalid literal for int() with base 10: ''\n"
     ]
    },
    {
     "name": "stdout",
     "output_type": "stream",
     "text": [
      "round: 1\n",
      "invalid literal for int() with base 10: 'Rtg'\n",
      "tournament_id: 633941\n"
     ]
    },
    {
     "name": "stderr",
     "output_type": "stream",
     "text": [
      "Traceback (most recent call last):\n",
      "  File \"/var/folders/t6/srtzy2f51db8mxxv7g_63f6h0000gr/T/ipykernel_72356/422094622.py\", line 19, in <cell line: 2>\n",
      "    games_df_list.append(parse_games_df(games_df))\n",
      "  File \"/var/folders/t6/srtzy2f51db8mxxv7g_63f6h0000gr/T/ipykernel_72356/3212580384.py\", line 18, in parse_games_df\n",
      "    games_df = games_df.astype({\n",
      "  File \"/Users/avliu/opt/anaconda3/envs/hugging-face/lib/python3.10/site-packages/pandas/core/generic.py\", line 5898, in astype\n",
      "    res_col = col.astype(dtype=cdt, copy=copy, errors=errors)\n",
      "  File \"/Users/avliu/opt/anaconda3/envs/hugging-face/lib/python3.10/site-packages/pandas/core/generic.py\", line 5912, in astype\n",
      "    new_data = self._mgr.astype(dtype=dtype, copy=copy, errors=errors)\n",
      "  File \"/Users/avliu/opt/anaconda3/envs/hugging-face/lib/python3.10/site-packages/pandas/core/internals/managers.py\", line 419, in astype\n",
      "    return self.apply(\"astype\", dtype=dtype, copy=copy, errors=errors)\n",
      "  File \"/Users/avliu/opt/anaconda3/envs/hugging-face/lib/python3.10/site-packages/pandas/core/internals/managers.py\", line 304, in apply\n",
      "    applied = getattr(b, f)(**kwargs)\n",
      "  File \"/Users/avliu/opt/anaconda3/envs/hugging-face/lib/python3.10/site-packages/pandas/core/internals/blocks.py\", line 580, in astype\n",
      "    new_values = astype_array_safe(values, dtype, copy=copy, errors=errors)\n",
      "  File \"/Users/avliu/opt/anaconda3/envs/hugging-face/lib/python3.10/site-packages/pandas/core/dtypes/cast.py\", line 1292, in astype_array_safe\n",
      "    new_values = astype_array(values, dtype, copy=copy)\n",
      "  File \"/Users/avliu/opt/anaconda3/envs/hugging-face/lib/python3.10/site-packages/pandas/core/dtypes/cast.py\", line 1237, in astype_array\n",
      "    values = astype_nansafe(values, dtype, copy=copy)\n",
      "  File \"/Users/avliu/opt/anaconda3/envs/hugging-face/lib/python3.10/site-packages/pandas/core/dtypes/cast.py\", line 1154, in astype_nansafe\n",
      "    return lib.astype_intsafe(arr, dtype)\n",
      "  File \"pandas/_libs/lib.pyx\", line 668, in pandas._libs.lib.astype_intsafe\n",
      "ValueError: invalid literal for int() with base 10: 'Rtg'\n"
     ]
    },
    {
     "name": "stdout",
     "output_type": "stream",
     "text": [
      "round: 1\n",
      "round: 2\n",
      "round: 3\n",
      "round: 4\n",
      "round: 5\n",
      "round: 6\n",
      "round: 7\n",
      "tournament_id: 633940\n",
      "round: 1\n",
      "invalid literal for int() with base 10: ''\n",
      "tournament_id: 633939\n"
     ]
    },
    {
     "name": "stderr",
     "output_type": "stream",
     "text": [
      "Traceback (most recent call last):\n",
      "  File \"/var/folders/t6/srtzy2f51db8mxxv7g_63f6h0000gr/T/ipykernel_72356/422094622.py\", line 19, in <cell line: 2>\n",
      "    games_df_list.append(parse_games_df(games_df))\n",
      "  File \"/var/folders/t6/srtzy2f51db8mxxv7g_63f6h0000gr/T/ipykernel_72356/3212580384.py\", line 18, in parse_games_df\n",
      "    games_df = games_df.astype({\n",
      "  File \"/Users/avliu/opt/anaconda3/envs/hugging-face/lib/python3.10/site-packages/pandas/core/generic.py\", line 5898, in astype\n",
      "    res_col = col.astype(dtype=cdt, copy=copy, errors=errors)\n",
      "  File \"/Users/avliu/opt/anaconda3/envs/hugging-face/lib/python3.10/site-packages/pandas/core/generic.py\", line 5912, in astype\n",
      "    new_data = self._mgr.astype(dtype=dtype, copy=copy, errors=errors)\n",
      "  File \"/Users/avliu/opt/anaconda3/envs/hugging-face/lib/python3.10/site-packages/pandas/core/internals/managers.py\", line 419, in astype\n",
      "    return self.apply(\"astype\", dtype=dtype, copy=copy, errors=errors)\n",
      "  File \"/Users/avliu/opt/anaconda3/envs/hugging-face/lib/python3.10/site-packages/pandas/core/internals/managers.py\", line 304, in apply\n",
      "    applied = getattr(b, f)(**kwargs)\n",
      "  File \"/Users/avliu/opt/anaconda3/envs/hugging-face/lib/python3.10/site-packages/pandas/core/internals/blocks.py\", line 580, in astype\n",
      "    new_values = astype_array_safe(values, dtype, copy=copy, errors=errors)\n",
      "  File \"/Users/avliu/opt/anaconda3/envs/hugging-face/lib/python3.10/site-packages/pandas/core/dtypes/cast.py\", line 1292, in astype_array_safe\n",
      "    new_values = astype_array(values, dtype, copy=copy)\n",
      "  File \"/Users/avliu/opt/anaconda3/envs/hugging-face/lib/python3.10/site-packages/pandas/core/dtypes/cast.py\", line 1237, in astype_array\n",
      "    values = astype_nansafe(values, dtype, copy=copy)\n",
      "  File \"/Users/avliu/opt/anaconda3/envs/hugging-face/lib/python3.10/site-packages/pandas/core/dtypes/cast.py\", line 1154, in astype_nansafe\n",
      "    return lib.astype_intsafe(arr, dtype)\n",
      "  File \"pandas/_libs/lib.pyx\", line 668, in pandas._libs.lib.astype_intsafe\n",
      "ValueError: invalid literal for int() with base 10: ''\n"
     ]
    },
    {
     "name": "stdout",
     "output_type": "stream",
     "text": [
      "round: 1\n",
      "invalid literal for int() with base 10: ''\n",
      "tournament_id: 633938\n"
     ]
    },
    {
     "name": "stderr",
     "output_type": "stream",
     "text": [
      "Traceback (most recent call last):\n",
      "  File \"/var/folders/t6/srtzy2f51db8mxxv7g_63f6h0000gr/T/ipykernel_72356/422094622.py\", line 19, in <cell line: 2>\n",
      "    games_df_list.append(parse_games_df(games_df))\n",
      "  File \"/var/folders/t6/srtzy2f51db8mxxv7g_63f6h0000gr/T/ipykernel_72356/3212580384.py\", line 18, in parse_games_df\n",
      "    games_df = games_df.astype({\n",
      "  File \"/Users/avliu/opt/anaconda3/envs/hugging-face/lib/python3.10/site-packages/pandas/core/generic.py\", line 5898, in astype\n",
      "    res_col = col.astype(dtype=cdt, copy=copy, errors=errors)\n",
      "  File \"/Users/avliu/opt/anaconda3/envs/hugging-face/lib/python3.10/site-packages/pandas/core/generic.py\", line 5912, in astype\n",
      "    new_data = self._mgr.astype(dtype=dtype, copy=copy, errors=errors)\n",
      "  File \"/Users/avliu/opt/anaconda3/envs/hugging-face/lib/python3.10/site-packages/pandas/core/internals/managers.py\", line 419, in astype\n",
      "    return self.apply(\"astype\", dtype=dtype, copy=copy, errors=errors)\n",
      "  File \"/Users/avliu/opt/anaconda3/envs/hugging-face/lib/python3.10/site-packages/pandas/core/internals/managers.py\", line 304, in apply\n",
      "    applied = getattr(b, f)(**kwargs)\n",
      "  File \"/Users/avliu/opt/anaconda3/envs/hugging-face/lib/python3.10/site-packages/pandas/core/internals/blocks.py\", line 580, in astype\n",
      "    new_values = astype_array_safe(values, dtype, copy=copy, errors=errors)\n",
      "  File \"/Users/avliu/opt/anaconda3/envs/hugging-face/lib/python3.10/site-packages/pandas/core/dtypes/cast.py\", line 1292, in astype_array_safe\n",
      "    new_values = astype_array(values, dtype, copy=copy)\n",
      "  File \"/Users/avliu/opt/anaconda3/envs/hugging-face/lib/python3.10/site-packages/pandas/core/dtypes/cast.py\", line 1237, in astype_array\n",
      "    values = astype_nansafe(values, dtype, copy=copy)\n",
      "  File \"/Users/avliu/opt/anaconda3/envs/hugging-face/lib/python3.10/site-packages/pandas/core/dtypes/cast.py\", line 1154, in astype_nansafe\n",
      "    return lib.astype_intsafe(arr, dtype)\n",
      "  File \"pandas/_libs/lib.pyx\", line 668, in pandas._libs.lib.astype_intsafe\n",
      "ValueError: invalid literal for int() with base 10: ''\n"
     ]
    },
    {
     "name": "stdout",
     "output_type": "stream",
     "text": [
      "round: 1\n",
      "round: 2\n",
      "round: 3\n",
      "round: 4\n",
      "round: 5\n",
      "round: 6\n",
      "round: 7\n",
      "round: 8\n",
      "round: 9\n",
      "tournament_id: 633937\n",
      "round: 1\n",
      "cannot convert float NaN to integer\n",
      "tournament_id: 633936\n"
     ]
    },
    {
     "name": "stderr",
     "output_type": "stream",
     "text": [
      "Traceback (most recent call last):\n",
      "  File \"/var/folders/t6/srtzy2f51db8mxxv7g_63f6h0000gr/T/ipykernel_72356/422094622.py\", line 19, in <cell line: 2>\n",
      "    games_df_list.append(parse_games_df(games_df))\n",
      "  File \"/var/folders/t6/srtzy2f51db8mxxv7g_63f6h0000gr/T/ipykernel_72356/3212580384.py\", line 18, in parse_games_df\n",
      "    games_df = games_df.astype({\n",
      "  File \"/Users/avliu/opt/anaconda3/envs/hugging-face/lib/python3.10/site-packages/pandas/core/generic.py\", line 5898, in astype\n",
      "    res_col = col.astype(dtype=cdt, copy=copy, errors=errors)\n",
      "  File \"/Users/avliu/opt/anaconda3/envs/hugging-face/lib/python3.10/site-packages/pandas/core/generic.py\", line 5912, in astype\n",
      "    new_data = self._mgr.astype(dtype=dtype, copy=copy, errors=errors)\n",
      "  File \"/Users/avliu/opt/anaconda3/envs/hugging-face/lib/python3.10/site-packages/pandas/core/internals/managers.py\", line 419, in astype\n",
      "    return self.apply(\"astype\", dtype=dtype, copy=copy, errors=errors)\n",
      "  File \"/Users/avliu/opt/anaconda3/envs/hugging-face/lib/python3.10/site-packages/pandas/core/internals/managers.py\", line 304, in apply\n",
      "    applied = getattr(b, f)(**kwargs)\n",
      "  File \"/Users/avliu/opt/anaconda3/envs/hugging-face/lib/python3.10/site-packages/pandas/core/internals/blocks.py\", line 580, in astype\n",
      "    new_values = astype_array_safe(values, dtype, copy=copy, errors=errors)\n",
      "  File \"/Users/avliu/opt/anaconda3/envs/hugging-face/lib/python3.10/site-packages/pandas/core/dtypes/cast.py\", line 1292, in astype_array_safe\n",
      "    new_values = astype_array(values, dtype, copy=copy)\n",
      "  File \"/Users/avliu/opt/anaconda3/envs/hugging-face/lib/python3.10/site-packages/pandas/core/dtypes/cast.py\", line 1237, in astype_array\n",
      "    values = astype_nansafe(values, dtype, copy=copy)\n",
      "  File \"/Users/avliu/opt/anaconda3/envs/hugging-face/lib/python3.10/site-packages/pandas/core/dtypes/cast.py\", line 1154, in astype_nansafe\n",
      "    return lib.astype_intsafe(arr, dtype)\n",
      "  File \"pandas/_libs/lib.pyx\", line 668, in pandas._libs.lib.astype_intsafe\n",
      "ValueError: cannot convert float NaN to integer\n"
     ]
    },
    {
     "name": "stdout",
     "output_type": "stream",
     "text": [
      "round: 1\n",
      "invalid literal for int() with base 10: ''\n",
      "tournament_id: 633933\n"
     ]
    },
    {
     "name": "stderr",
     "output_type": "stream",
     "text": [
      "Traceback (most recent call last):\n",
      "  File \"/var/folders/t6/srtzy2f51db8mxxv7g_63f6h0000gr/T/ipykernel_72356/422094622.py\", line 19, in <cell line: 2>\n",
      "    games_df_list.append(parse_games_df(games_df))\n",
      "  File \"/var/folders/t6/srtzy2f51db8mxxv7g_63f6h0000gr/T/ipykernel_72356/3212580384.py\", line 18, in parse_games_df\n",
      "    games_df = games_df.astype({\n",
      "  File \"/Users/avliu/opt/anaconda3/envs/hugging-face/lib/python3.10/site-packages/pandas/core/generic.py\", line 5898, in astype\n",
      "    res_col = col.astype(dtype=cdt, copy=copy, errors=errors)\n",
      "  File \"/Users/avliu/opt/anaconda3/envs/hugging-face/lib/python3.10/site-packages/pandas/core/generic.py\", line 5912, in astype\n",
      "    new_data = self._mgr.astype(dtype=dtype, copy=copy, errors=errors)\n",
      "  File \"/Users/avliu/opt/anaconda3/envs/hugging-face/lib/python3.10/site-packages/pandas/core/internals/managers.py\", line 419, in astype\n",
      "    return self.apply(\"astype\", dtype=dtype, copy=copy, errors=errors)\n",
      "  File \"/Users/avliu/opt/anaconda3/envs/hugging-face/lib/python3.10/site-packages/pandas/core/internals/managers.py\", line 304, in apply\n",
      "    applied = getattr(b, f)(**kwargs)\n",
      "  File \"/Users/avliu/opt/anaconda3/envs/hugging-face/lib/python3.10/site-packages/pandas/core/internals/blocks.py\", line 580, in astype\n",
      "    new_values = astype_array_safe(values, dtype, copy=copy, errors=errors)\n",
      "  File \"/Users/avliu/opt/anaconda3/envs/hugging-face/lib/python3.10/site-packages/pandas/core/dtypes/cast.py\", line 1292, in astype_array_safe\n",
      "    new_values = astype_array(values, dtype, copy=copy)\n",
      "  File \"/Users/avliu/opt/anaconda3/envs/hugging-face/lib/python3.10/site-packages/pandas/core/dtypes/cast.py\", line 1237, in astype_array\n",
      "    values = astype_nansafe(values, dtype, copy=copy)\n",
      "  File \"/Users/avliu/opt/anaconda3/envs/hugging-face/lib/python3.10/site-packages/pandas/core/dtypes/cast.py\", line 1154, in astype_nansafe\n",
      "    return lib.astype_intsafe(arr, dtype)\n",
      "  File \"pandas/_libs/lib.pyx\", line 668, in pandas._libs.lib.astype_intsafe\n",
      "ValueError: invalid literal for int() with base 10: ''\n"
     ]
    },
    {
     "name": "stdout",
     "output_type": "stream",
     "text": [
      "round: 1\n",
      "invalid literal for int() with base 10: ''\n",
      "tournament_id: 633932\n"
     ]
    },
    {
     "name": "stderr",
     "output_type": "stream",
     "text": [
      "Traceback (most recent call last):\n",
      "  File \"/var/folders/t6/srtzy2f51db8mxxv7g_63f6h0000gr/T/ipykernel_72356/422094622.py\", line 19, in <cell line: 2>\n",
      "    games_df_list.append(parse_games_df(games_df))\n",
      "  File \"/var/folders/t6/srtzy2f51db8mxxv7g_63f6h0000gr/T/ipykernel_72356/3212580384.py\", line 18, in parse_games_df\n",
      "    games_df = games_df.astype({\n",
      "  File \"/Users/avliu/opt/anaconda3/envs/hugging-face/lib/python3.10/site-packages/pandas/core/generic.py\", line 5898, in astype\n",
      "    res_col = col.astype(dtype=cdt, copy=copy, errors=errors)\n",
      "  File \"/Users/avliu/opt/anaconda3/envs/hugging-face/lib/python3.10/site-packages/pandas/core/generic.py\", line 5912, in astype\n",
      "    new_data = self._mgr.astype(dtype=dtype, copy=copy, errors=errors)\n",
      "  File \"/Users/avliu/opt/anaconda3/envs/hugging-face/lib/python3.10/site-packages/pandas/core/internals/managers.py\", line 419, in astype\n",
      "    return self.apply(\"astype\", dtype=dtype, copy=copy, errors=errors)\n",
      "  File \"/Users/avliu/opt/anaconda3/envs/hugging-face/lib/python3.10/site-packages/pandas/core/internals/managers.py\", line 304, in apply\n",
      "    applied = getattr(b, f)(**kwargs)\n",
      "  File \"/Users/avliu/opt/anaconda3/envs/hugging-face/lib/python3.10/site-packages/pandas/core/internals/blocks.py\", line 580, in astype\n",
      "    new_values = astype_array_safe(values, dtype, copy=copy, errors=errors)\n",
      "  File \"/Users/avliu/opt/anaconda3/envs/hugging-face/lib/python3.10/site-packages/pandas/core/dtypes/cast.py\", line 1292, in astype_array_safe\n",
      "    new_values = astype_array(values, dtype, copy=copy)\n",
      "  File \"/Users/avliu/opt/anaconda3/envs/hugging-face/lib/python3.10/site-packages/pandas/core/dtypes/cast.py\", line 1237, in astype_array\n",
      "    values = astype_nansafe(values, dtype, copy=copy)\n",
      "  File \"/Users/avliu/opt/anaconda3/envs/hugging-face/lib/python3.10/site-packages/pandas/core/dtypes/cast.py\", line 1154, in astype_nansafe\n",
      "    return lib.astype_intsafe(arr, dtype)\n",
      "  File \"pandas/_libs/lib.pyx\", line 668, in pandas._libs.lib.astype_intsafe\n",
      "ValueError: invalid literal for int() with base 10: ''\n"
     ]
    },
    {
     "name": "stdout",
     "output_type": "stream",
     "text": [
      "round: 1\n",
      "invalid literal for int() with base 10: ''\n",
      "tournament_id: 633931\n"
     ]
    },
    {
     "name": "stderr",
     "output_type": "stream",
     "text": [
      "Traceback (most recent call last):\n",
      "  File \"/var/folders/t6/srtzy2f51db8mxxv7g_63f6h0000gr/T/ipykernel_72356/422094622.py\", line 19, in <cell line: 2>\n",
      "    games_df_list.append(parse_games_df(games_df))\n",
      "  File \"/var/folders/t6/srtzy2f51db8mxxv7g_63f6h0000gr/T/ipykernel_72356/3212580384.py\", line 18, in parse_games_df\n",
      "    games_df = games_df.astype({\n",
      "  File \"/Users/avliu/opt/anaconda3/envs/hugging-face/lib/python3.10/site-packages/pandas/core/generic.py\", line 5898, in astype\n",
      "    res_col = col.astype(dtype=cdt, copy=copy, errors=errors)\n",
      "  File \"/Users/avliu/opt/anaconda3/envs/hugging-face/lib/python3.10/site-packages/pandas/core/generic.py\", line 5912, in astype\n",
      "    new_data = self._mgr.astype(dtype=dtype, copy=copy, errors=errors)\n",
      "  File \"/Users/avliu/opt/anaconda3/envs/hugging-face/lib/python3.10/site-packages/pandas/core/internals/managers.py\", line 419, in astype\n",
      "    return self.apply(\"astype\", dtype=dtype, copy=copy, errors=errors)\n",
      "  File \"/Users/avliu/opt/anaconda3/envs/hugging-face/lib/python3.10/site-packages/pandas/core/internals/managers.py\", line 304, in apply\n",
      "    applied = getattr(b, f)(**kwargs)\n",
      "  File \"/Users/avliu/opt/anaconda3/envs/hugging-face/lib/python3.10/site-packages/pandas/core/internals/blocks.py\", line 580, in astype\n",
      "    new_values = astype_array_safe(values, dtype, copy=copy, errors=errors)\n",
      "  File \"/Users/avliu/opt/anaconda3/envs/hugging-face/lib/python3.10/site-packages/pandas/core/dtypes/cast.py\", line 1292, in astype_array_safe\n",
      "    new_values = astype_array(values, dtype, copy=copy)\n",
      "  File \"/Users/avliu/opt/anaconda3/envs/hugging-face/lib/python3.10/site-packages/pandas/core/dtypes/cast.py\", line 1237, in astype_array\n",
      "    values = astype_nansafe(values, dtype, copy=copy)\n",
      "  File \"/Users/avliu/opt/anaconda3/envs/hugging-face/lib/python3.10/site-packages/pandas/core/dtypes/cast.py\", line 1154, in astype_nansafe\n",
      "    return lib.astype_intsafe(arr, dtype)\n",
      "  File \"pandas/_libs/lib.pyx\", line 668, in pandas._libs.lib.astype_intsafe\n",
      "ValueError: invalid literal for int() with base 10: ''\n"
     ]
    },
    {
     "name": "stdout",
     "output_type": "stream",
     "text": [
      "round: 1\n",
      "invalid literal for int() with base 10: ''\n",
      "tournament_id: 633930\n"
     ]
    },
    {
     "name": "stderr",
     "output_type": "stream",
     "text": [
      "Traceback (most recent call last):\n",
      "  File \"/var/folders/t6/srtzy2f51db8mxxv7g_63f6h0000gr/T/ipykernel_72356/422094622.py\", line 19, in <cell line: 2>\n",
      "    games_df_list.append(parse_games_df(games_df))\n",
      "  File \"/var/folders/t6/srtzy2f51db8mxxv7g_63f6h0000gr/T/ipykernel_72356/3212580384.py\", line 18, in parse_games_df\n",
      "    games_df = games_df.astype({\n",
      "  File \"/Users/avliu/opt/anaconda3/envs/hugging-face/lib/python3.10/site-packages/pandas/core/generic.py\", line 5898, in astype\n",
      "    res_col = col.astype(dtype=cdt, copy=copy, errors=errors)\n",
      "  File \"/Users/avliu/opt/anaconda3/envs/hugging-face/lib/python3.10/site-packages/pandas/core/generic.py\", line 5912, in astype\n",
      "    new_data = self._mgr.astype(dtype=dtype, copy=copy, errors=errors)\n",
      "  File \"/Users/avliu/opt/anaconda3/envs/hugging-face/lib/python3.10/site-packages/pandas/core/internals/managers.py\", line 419, in astype\n",
      "    return self.apply(\"astype\", dtype=dtype, copy=copy, errors=errors)\n",
      "  File \"/Users/avliu/opt/anaconda3/envs/hugging-face/lib/python3.10/site-packages/pandas/core/internals/managers.py\", line 304, in apply\n",
      "    applied = getattr(b, f)(**kwargs)\n",
      "  File \"/Users/avliu/opt/anaconda3/envs/hugging-face/lib/python3.10/site-packages/pandas/core/internals/blocks.py\", line 580, in astype\n",
      "    new_values = astype_array_safe(values, dtype, copy=copy, errors=errors)\n",
      "  File \"/Users/avliu/opt/anaconda3/envs/hugging-face/lib/python3.10/site-packages/pandas/core/dtypes/cast.py\", line 1292, in astype_array_safe\n",
      "    new_values = astype_array(values, dtype, copy=copy)\n",
      "  File \"/Users/avliu/opt/anaconda3/envs/hugging-face/lib/python3.10/site-packages/pandas/core/dtypes/cast.py\", line 1237, in astype_array\n",
      "    values = astype_nansafe(values, dtype, copy=copy)\n",
      "  File \"/Users/avliu/opt/anaconda3/envs/hugging-face/lib/python3.10/site-packages/pandas/core/dtypes/cast.py\", line 1154, in astype_nansafe\n",
      "    return lib.astype_intsafe(arr, dtype)\n",
      "  File \"pandas/_libs/lib.pyx\", line 668, in pandas._libs.lib.astype_intsafe\n",
      "ValueError: invalid literal for int() with base 10: ''\n"
     ]
    },
    {
     "name": "stdout",
     "output_type": "stream",
     "text": [
      "round: 1\n",
      "invalid literal for int() with base 10: ''\n",
      "tournament_id: 633929\n"
     ]
    },
    {
     "name": "stderr",
     "output_type": "stream",
     "text": [
      "Traceback (most recent call last):\n",
      "  File \"/var/folders/t6/srtzy2f51db8mxxv7g_63f6h0000gr/T/ipykernel_72356/422094622.py\", line 19, in <cell line: 2>\n",
      "    games_df_list.append(parse_games_df(games_df))\n",
      "  File \"/var/folders/t6/srtzy2f51db8mxxv7g_63f6h0000gr/T/ipykernel_72356/3212580384.py\", line 18, in parse_games_df\n",
      "    games_df = games_df.astype({\n",
      "  File \"/Users/avliu/opt/anaconda3/envs/hugging-face/lib/python3.10/site-packages/pandas/core/generic.py\", line 5898, in astype\n",
      "    res_col = col.astype(dtype=cdt, copy=copy, errors=errors)\n",
      "  File \"/Users/avliu/opt/anaconda3/envs/hugging-face/lib/python3.10/site-packages/pandas/core/generic.py\", line 5912, in astype\n",
      "    new_data = self._mgr.astype(dtype=dtype, copy=copy, errors=errors)\n",
      "  File \"/Users/avliu/opt/anaconda3/envs/hugging-face/lib/python3.10/site-packages/pandas/core/internals/managers.py\", line 419, in astype\n",
      "    return self.apply(\"astype\", dtype=dtype, copy=copy, errors=errors)\n",
      "  File \"/Users/avliu/opt/anaconda3/envs/hugging-face/lib/python3.10/site-packages/pandas/core/internals/managers.py\", line 304, in apply\n",
      "    applied = getattr(b, f)(**kwargs)\n",
      "  File \"/Users/avliu/opt/anaconda3/envs/hugging-face/lib/python3.10/site-packages/pandas/core/internals/blocks.py\", line 580, in astype\n",
      "    new_values = astype_array_safe(values, dtype, copy=copy, errors=errors)\n",
      "  File \"/Users/avliu/opt/anaconda3/envs/hugging-face/lib/python3.10/site-packages/pandas/core/dtypes/cast.py\", line 1292, in astype_array_safe\n",
      "    new_values = astype_array(values, dtype, copy=copy)\n",
      "  File \"/Users/avliu/opt/anaconda3/envs/hugging-face/lib/python3.10/site-packages/pandas/core/dtypes/cast.py\", line 1237, in astype_array\n",
      "    values = astype_nansafe(values, dtype, copy=copy)\n",
      "  File \"/Users/avliu/opt/anaconda3/envs/hugging-face/lib/python3.10/site-packages/pandas/core/dtypes/cast.py\", line 1154, in astype_nansafe\n",
      "    return lib.astype_intsafe(arr, dtype)\n",
      "  File \"pandas/_libs/lib.pyx\", line 668, in pandas._libs.lib.astype_intsafe\n",
      "ValueError: invalid literal for int() with base 10: ''\n"
     ]
    },
    {
     "name": "stdout",
     "output_type": "stream",
     "text": [
      "round: 1\n",
      "round: 2\n",
      "round: 3\n",
      "round: 4\n",
      "round: 5\n",
      "round: 6\n",
      "round: 7\n",
      "round: 8\n",
      "round: 9\n",
      "tournament_id: 633586\n",
      "round: 1\n",
      "invalid literal for int() with base 10: 'Rtg'\n",
      "tournament_id: 633590\n"
     ]
    },
    {
     "name": "stderr",
     "output_type": "stream",
     "text": [
      "Traceback (most recent call last):\n",
      "  File \"/var/folders/t6/srtzy2f51db8mxxv7g_63f6h0000gr/T/ipykernel_72356/422094622.py\", line 19, in <cell line: 2>\n",
      "    games_df_list.append(parse_games_df(games_df))\n",
      "  File \"/var/folders/t6/srtzy2f51db8mxxv7g_63f6h0000gr/T/ipykernel_72356/3212580384.py\", line 18, in parse_games_df\n",
      "    games_df = games_df.astype({\n",
      "  File \"/Users/avliu/opt/anaconda3/envs/hugging-face/lib/python3.10/site-packages/pandas/core/generic.py\", line 5898, in astype\n",
      "    res_col = col.astype(dtype=cdt, copy=copy, errors=errors)\n",
      "  File \"/Users/avliu/opt/anaconda3/envs/hugging-face/lib/python3.10/site-packages/pandas/core/generic.py\", line 5912, in astype\n",
      "    new_data = self._mgr.astype(dtype=dtype, copy=copy, errors=errors)\n",
      "  File \"/Users/avliu/opt/anaconda3/envs/hugging-face/lib/python3.10/site-packages/pandas/core/internals/managers.py\", line 419, in astype\n",
      "    return self.apply(\"astype\", dtype=dtype, copy=copy, errors=errors)\n",
      "  File \"/Users/avliu/opt/anaconda3/envs/hugging-face/lib/python3.10/site-packages/pandas/core/internals/managers.py\", line 304, in apply\n",
      "    applied = getattr(b, f)(**kwargs)\n",
      "  File \"/Users/avliu/opt/anaconda3/envs/hugging-face/lib/python3.10/site-packages/pandas/core/internals/blocks.py\", line 580, in astype\n",
      "    new_values = astype_array_safe(values, dtype, copy=copy, errors=errors)\n",
      "  File \"/Users/avliu/opt/anaconda3/envs/hugging-face/lib/python3.10/site-packages/pandas/core/dtypes/cast.py\", line 1292, in astype_array_safe\n",
      "    new_values = astype_array(values, dtype, copy=copy)\n",
      "  File \"/Users/avliu/opt/anaconda3/envs/hugging-face/lib/python3.10/site-packages/pandas/core/dtypes/cast.py\", line 1237, in astype_array\n",
      "    values = astype_nansafe(values, dtype, copy=copy)\n",
      "  File \"/Users/avliu/opt/anaconda3/envs/hugging-face/lib/python3.10/site-packages/pandas/core/dtypes/cast.py\", line 1154, in astype_nansafe\n",
      "    return lib.astype_intsafe(arr, dtype)\n",
      "  File \"pandas/_libs/lib.pyx\", line 668, in pandas._libs.lib.astype_intsafe\n",
      "ValueError: invalid literal for int() with base 10: 'Rtg'\n"
     ]
    },
    {
     "name": "stdout",
     "output_type": "stream",
     "text": [
      "round: 1\n",
      "round: 2\n",
      "round: 3\n",
      "round: 4\n",
      "round: 5\n",
      "round: 6\n",
      "round: 7\n",
      "round: 8\n",
      "round: 9\n",
      "tournament_id: 633588\n",
      "round: 1\n",
      "round: 2\n",
      "round: 3\n",
      "round: 4\n",
      "round: 5\n",
      "round: 6\n",
      "round: 7\n",
      "round: 8\n",
      "round: 9\n",
      "tournament_id: 633594\n",
      "round: 1\n",
      "round: 2\n",
      "round: 3\n",
      "round: 4\n",
      "round: 5\n",
      "round: 6\n",
      "round: 7\n",
      "round: 8\n",
      "round: 9\n",
      "tournament_id: 633593\n",
      "round: 1\n",
      "invalid literal for int() with base 10: ''\n",
      "tournament_id: 633595\n"
     ]
    },
    {
     "name": "stderr",
     "output_type": "stream",
     "text": [
      "Traceback (most recent call last):\n",
      "  File \"/var/folders/t6/srtzy2f51db8mxxv7g_63f6h0000gr/T/ipykernel_72356/422094622.py\", line 19, in <cell line: 2>\n",
      "    games_df_list.append(parse_games_df(games_df))\n",
      "  File \"/var/folders/t6/srtzy2f51db8mxxv7g_63f6h0000gr/T/ipykernel_72356/3212580384.py\", line 18, in parse_games_df\n",
      "    games_df = games_df.astype({\n",
      "  File \"/Users/avliu/opt/anaconda3/envs/hugging-face/lib/python3.10/site-packages/pandas/core/generic.py\", line 5898, in astype\n",
      "    res_col = col.astype(dtype=cdt, copy=copy, errors=errors)\n",
      "  File \"/Users/avliu/opt/anaconda3/envs/hugging-face/lib/python3.10/site-packages/pandas/core/generic.py\", line 5912, in astype\n",
      "    new_data = self._mgr.astype(dtype=dtype, copy=copy, errors=errors)\n",
      "  File \"/Users/avliu/opt/anaconda3/envs/hugging-face/lib/python3.10/site-packages/pandas/core/internals/managers.py\", line 419, in astype\n",
      "    return self.apply(\"astype\", dtype=dtype, copy=copy, errors=errors)\n",
      "  File \"/Users/avliu/opt/anaconda3/envs/hugging-face/lib/python3.10/site-packages/pandas/core/internals/managers.py\", line 304, in apply\n",
      "    applied = getattr(b, f)(**kwargs)\n",
      "  File \"/Users/avliu/opt/anaconda3/envs/hugging-face/lib/python3.10/site-packages/pandas/core/internals/blocks.py\", line 580, in astype\n",
      "    new_values = astype_array_safe(values, dtype, copy=copy, errors=errors)\n",
      "  File \"/Users/avliu/opt/anaconda3/envs/hugging-face/lib/python3.10/site-packages/pandas/core/dtypes/cast.py\", line 1292, in astype_array_safe\n",
      "    new_values = astype_array(values, dtype, copy=copy)\n",
      "  File \"/Users/avliu/opt/anaconda3/envs/hugging-face/lib/python3.10/site-packages/pandas/core/dtypes/cast.py\", line 1237, in astype_array\n",
      "    values = astype_nansafe(values, dtype, copy=copy)\n",
      "  File \"/Users/avliu/opt/anaconda3/envs/hugging-face/lib/python3.10/site-packages/pandas/core/dtypes/cast.py\", line 1154, in astype_nansafe\n",
      "    return lib.astype_intsafe(arr, dtype)\n",
      "  File \"pandas/_libs/lib.pyx\", line 668, in pandas._libs.lib.astype_intsafe\n",
      "ValueError: invalid literal for int() with base 10: ''\n"
     ]
    },
    {
     "name": "stdout",
     "output_type": "stream",
     "text": [
      "round: 1\n",
      "round: 2\n",
      "round: 3\n",
      "round: 4\n",
      "round: 5\n",
      "round: 6\n",
      "round: 7\n",
      "round: 8\n",
      "round: 9\n",
      "tournament_id: 633592\n",
      "round: 1\n",
      "round: 2\n",
      "round: 3\n",
      "round: 4\n",
      "round: 5\n",
      "round: 6\n",
      "round: 7\n",
      "round: 8\n",
      "round: 9\n",
      "tournament_id: 633596\n",
      "round: 1\n",
      "round: 2\n",
      "invalid literal for int() with base 10: ''\n",
      "tournament_id: 633597\n"
     ]
    },
    {
     "name": "stderr",
     "output_type": "stream",
     "text": [
      "Traceback (most recent call last):\n",
      "  File \"/var/folders/t6/srtzy2f51db8mxxv7g_63f6h0000gr/T/ipykernel_72356/422094622.py\", line 19, in <cell line: 2>\n",
      "    games_df_list.append(parse_games_df(games_df))\n",
      "  File \"/var/folders/t6/srtzy2f51db8mxxv7g_63f6h0000gr/T/ipykernel_72356/3212580384.py\", line 18, in parse_games_df\n",
      "    games_df = games_df.astype({\n",
      "  File \"/Users/avliu/opt/anaconda3/envs/hugging-face/lib/python3.10/site-packages/pandas/core/generic.py\", line 5898, in astype\n",
      "    res_col = col.astype(dtype=cdt, copy=copy, errors=errors)\n",
      "  File \"/Users/avliu/opt/anaconda3/envs/hugging-face/lib/python3.10/site-packages/pandas/core/generic.py\", line 5912, in astype\n",
      "    new_data = self._mgr.astype(dtype=dtype, copy=copy, errors=errors)\n",
      "  File \"/Users/avliu/opt/anaconda3/envs/hugging-face/lib/python3.10/site-packages/pandas/core/internals/managers.py\", line 419, in astype\n",
      "    return self.apply(\"astype\", dtype=dtype, copy=copy, errors=errors)\n",
      "  File \"/Users/avliu/opt/anaconda3/envs/hugging-face/lib/python3.10/site-packages/pandas/core/internals/managers.py\", line 304, in apply\n",
      "    applied = getattr(b, f)(**kwargs)\n",
      "  File \"/Users/avliu/opt/anaconda3/envs/hugging-face/lib/python3.10/site-packages/pandas/core/internals/blocks.py\", line 580, in astype\n",
      "    new_values = astype_array_safe(values, dtype, copy=copy, errors=errors)\n",
      "  File \"/Users/avliu/opt/anaconda3/envs/hugging-face/lib/python3.10/site-packages/pandas/core/dtypes/cast.py\", line 1292, in astype_array_safe\n",
      "    new_values = astype_array(values, dtype, copy=copy)\n",
      "  File \"/Users/avliu/opt/anaconda3/envs/hugging-face/lib/python3.10/site-packages/pandas/core/dtypes/cast.py\", line 1237, in astype_array\n",
      "    values = astype_nansafe(values, dtype, copy=copy)\n",
      "  File \"/Users/avliu/opt/anaconda3/envs/hugging-face/lib/python3.10/site-packages/pandas/core/dtypes/cast.py\", line 1154, in astype_nansafe\n",
      "    return lib.astype_intsafe(arr, dtype)\n",
      "  File \"pandas/_libs/lib.pyx\", line 668, in pandas._libs.lib.astype_intsafe\n",
      "ValueError: invalid literal for int() with base 10: ''\n"
     ]
    },
    {
     "name": "stdout",
     "output_type": "stream",
     "text": [
      "round: 1\n",
      "invalid literal for int() with base 10: ''\n",
      "tournament_id: 633591\n"
     ]
    },
    {
     "name": "stderr",
     "output_type": "stream",
     "text": [
      "Traceback (most recent call last):\n",
      "  File \"/var/folders/t6/srtzy2f51db8mxxv7g_63f6h0000gr/T/ipykernel_72356/422094622.py\", line 19, in <cell line: 2>\n",
      "    games_df_list.append(parse_games_df(games_df))\n",
      "  File \"/var/folders/t6/srtzy2f51db8mxxv7g_63f6h0000gr/T/ipykernel_72356/3212580384.py\", line 18, in parse_games_df\n",
      "    games_df = games_df.astype({\n",
      "  File \"/Users/avliu/opt/anaconda3/envs/hugging-face/lib/python3.10/site-packages/pandas/core/generic.py\", line 5898, in astype\n",
      "    res_col = col.astype(dtype=cdt, copy=copy, errors=errors)\n",
      "  File \"/Users/avliu/opt/anaconda3/envs/hugging-face/lib/python3.10/site-packages/pandas/core/generic.py\", line 5912, in astype\n",
      "    new_data = self._mgr.astype(dtype=dtype, copy=copy, errors=errors)\n",
      "  File \"/Users/avliu/opt/anaconda3/envs/hugging-face/lib/python3.10/site-packages/pandas/core/internals/managers.py\", line 419, in astype\n",
      "    return self.apply(\"astype\", dtype=dtype, copy=copy, errors=errors)\n",
      "  File \"/Users/avliu/opt/anaconda3/envs/hugging-face/lib/python3.10/site-packages/pandas/core/internals/managers.py\", line 304, in apply\n",
      "    applied = getattr(b, f)(**kwargs)\n",
      "  File \"/Users/avliu/opt/anaconda3/envs/hugging-face/lib/python3.10/site-packages/pandas/core/internals/blocks.py\", line 580, in astype\n",
      "    new_values = astype_array_safe(values, dtype, copy=copy, errors=errors)\n",
      "  File \"/Users/avliu/opt/anaconda3/envs/hugging-face/lib/python3.10/site-packages/pandas/core/dtypes/cast.py\", line 1292, in astype_array_safe\n",
      "    new_values = astype_array(values, dtype, copy=copy)\n",
      "  File \"/Users/avliu/opt/anaconda3/envs/hugging-face/lib/python3.10/site-packages/pandas/core/dtypes/cast.py\", line 1237, in astype_array\n",
      "    values = astype_nansafe(values, dtype, copy=copy)\n",
      "  File \"/Users/avliu/opt/anaconda3/envs/hugging-face/lib/python3.10/site-packages/pandas/core/dtypes/cast.py\", line 1154, in astype_nansafe\n",
      "    return lib.astype_intsafe(arr, dtype)\n",
      "  File \"pandas/_libs/lib.pyx\", line 668, in pandas._libs.lib.astype_intsafe\n",
      "ValueError: invalid literal for int() with base 10: ''\n"
     ]
    },
    {
     "name": "stdout",
     "output_type": "stream",
     "text": [
      "round: 1\n",
      "cannot convert float NaN to integer\n",
      "tournament_id: 633587\n"
     ]
    },
    {
     "name": "stderr",
     "output_type": "stream",
     "text": [
      "Traceback (most recent call last):\n",
      "  File \"/var/folders/t6/srtzy2f51db8mxxv7g_63f6h0000gr/T/ipykernel_72356/422094622.py\", line 19, in <cell line: 2>\n",
      "    games_df_list.append(parse_games_df(games_df))\n",
      "  File \"/var/folders/t6/srtzy2f51db8mxxv7g_63f6h0000gr/T/ipykernel_72356/3212580384.py\", line 18, in parse_games_df\n",
      "    games_df = games_df.astype({\n",
      "  File \"/Users/avliu/opt/anaconda3/envs/hugging-face/lib/python3.10/site-packages/pandas/core/generic.py\", line 5898, in astype\n",
      "    res_col = col.astype(dtype=cdt, copy=copy, errors=errors)\n",
      "  File \"/Users/avliu/opt/anaconda3/envs/hugging-face/lib/python3.10/site-packages/pandas/core/generic.py\", line 5912, in astype\n",
      "    new_data = self._mgr.astype(dtype=dtype, copy=copy, errors=errors)\n",
      "  File \"/Users/avliu/opt/anaconda3/envs/hugging-face/lib/python3.10/site-packages/pandas/core/internals/managers.py\", line 419, in astype\n",
      "    return self.apply(\"astype\", dtype=dtype, copy=copy, errors=errors)\n",
      "  File \"/Users/avliu/opt/anaconda3/envs/hugging-face/lib/python3.10/site-packages/pandas/core/internals/managers.py\", line 304, in apply\n",
      "    applied = getattr(b, f)(**kwargs)\n",
      "  File \"/Users/avliu/opt/anaconda3/envs/hugging-face/lib/python3.10/site-packages/pandas/core/internals/blocks.py\", line 580, in astype\n",
      "    new_values = astype_array_safe(values, dtype, copy=copy, errors=errors)\n",
      "  File \"/Users/avliu/opt/anaconda3/envs/hugging-face/lib/python3.10/site-packages/pandas/core/dtypes/cast.py\", line 1292, in astype_array_safe\n",
      "    new_values = astype_array(values, dtype, copy=copy)\n",
      "  File \"/Users/avliu/opt/anaconda3/envs/hugging-face/lib/python3.10/site-packages/pandas/core/dtypes/cast.py\", line 1237, in astype_array\n",
      "    values = astype_nansafe(values, dtype, copy=copy)\n",
      "  File \"/Users/avliu/opt/anaconda3/envs/hugging-face/lib/python3.10/site-packages/pandas/core/dtypes/cast.py\", line 1154, in astype_nansafe\n",
      "    return lib.astype_intsafe(arr, dtype)\n",
      "  File \"pandas/_libs/lib.pyx\", line 668, in pandas._libs.lib.astype_intsafe\n",
      "ValueError: cannot convert float NaN to integer\n"
     ]
    },
    {
     "name": "stdout",
     "output_type": "stream",
     "text": [
      "round: 1\n",
      "round: 2\n",
      "round: 3\n",
      "round: 4\n",
      "round: 5\n",
      "round: 6\n",
      "round: 7\n",
      "tournament_id: 633589\n",
      "round: 1\n",
      "round: 2\n",
      "round: 3\n",
      "round: 4\n",
      "round: 5\n",
      "round: 6\n",
      "round: 7\n",
      "tournament_id: 619868\n",
      "round: 1\n",
      "invalid literal for int() with base 10: 'Rtg'\n",
      "tournament_id: 610286\n"
     ]
    },
    {
     "name": "stderr",
     "output_type": "stream",
     "text": [
      "Traceback (most recent call last):\n",
      "  File \"/var/folders/t6/srtzy2f51db8mxxv7g_63f6h0000gr/T/ipykernel_72356/422094622.py\", line 19, in <cell line: 2>\n",
      "    games_df_list.append(parse_games_df(games_df))\n",
      "  File \"/var/folders/t6/srtzy2f51db8mxxv7g_63f6h0000gr/T/ipykernel_72356/3212580384.py\", line 18, in parse_games_df\n",
      "    games_df = games_df.astype({\n",
      "  File \"/Users/avliu/opt/anaconda3/envs/hugging-face/lib/python3.10/site-packages/pandas/core/generic.py\", line 5898, in astype\n",
      "    res_col = col.astype(dtype=cdt, copy=copy, errors=errors)\n",
      "  File \"/Users/avliu/opt/anaconda3/envs/hugging-face/lib/python3.10/site-packages/pandas/core/generic.py\", line 5912, in astype\n",
      "    new_data = self._mgr.astype(dtype=dtype, copy=copy, errors=errors)\n",
      "  File \"/Users/avliu/opt/anaconda3/envs/hugging-face/lib/python3.10/site-packages/pandas/core/internals/managers.py\", line 419, in astype\n",
      "    return self.apply(\"astype\", dtype=dtype, copy=copy, errors=errors)\n",
      "  File \"/Users/avliu/opt/anaconda3/envs/hugging-face/lib/python3.10/site-packages/pandas/core/internals/managers.py\", line 304, in apply\n",
      "    applied = getattr(b, f)(**kwargs)\n",
      "  File \"/Users/avliu/opt/anaconda3/envs/hugging-face/lib/python3.10/site-packages/pandas/core/internals/blocks.py\", line 580, in astype\n",
      "    new_values = astype_array_safe(values, dtype, copy=copy, errors=errors)\n",
      "  File \"/Users/avliu/opt/anaconda3/envs/hugging-face/lib/python3.10/site-packages/pandas/core/dtypes/cast.py\", line 1292, in astype_array_safe\n",
      "    new_values = astype_array(values, dtype, copy=copy)\n",
      "  File \"/Users/avliu/opt/anaconda3/envs/hugging-face/lib/python3.10/site-packages/pandas/core/dtypes/cast.py\", line 1237, in astype_array\n",
      "    values = astype_nansafe(values, dtype, copy=copy)\n",
      "  File \"/Users/avliu/opt/anaconda3/envs/hugging-face/lib/python3.10/site-packages/pandas/core/dtypes/cast.py\", line 1154, in astype_nansafe\n",
      "    return lib.astype_intsafe(arr, dtype)\n",
      "  File \"pandas/_libs/lib.pyx\", line 668, in pandas._libs.lib.astype_intsafe\n",
      "ValueError: invalid literal for int() with base 10: 'Rtg'\n"
     ]
    },
    {
     "name": "stdout",
     "output_type": "stream",
     "text": [
      "round: 1\n",
      "cannot convert float NaN to integer\n",
      "tournament_id: 606677\n"
     ]
    },
    {
     "name": "stderr",
     "output_type": "stream",
     "text": [
      "Traceback (most recent call last):\n",
      "  File \"/var/folders/t6/srtzy2f51db8mxxv7g_63f6h0000gr/T/ipykernel_72356/422094622.py\", line 19, in <cell line: 2>\n",
      "    games_df_list.append(parse_games_df(games_df))\n",
      "  File \"/var/folders/t6/srtzy2f51db8mxxv7g_63f6h0000gr/T/ipykernel_72356/3212580384.py\", line 18, in parse_games_df\n",
      "    games_df = games_df.astype({\n",
      "  File \"/Users/avliu/opt/anaconda3/envs/hugging-face/lib/python3.10/site-packages/pandas/core/generic.py\", line 5898, in astype\n",
      "    res_col = col.astype(dtype=cdt, copy=copy, errors=errors)\n",
      "  File \"/Users/avliu/opt/anaconda3/envs/hugging-face/lib/python3.10/site-packages/pandas/core/generic.py\", line 5912, in astype\n",
      "    new_data = self._mgr.astype(dtype=dtype, copy=copy, errors=errors)\n",
      "  File \"/Users/avliu/opt/anaconda3/envs/hugging-face/lib/python3.10/site-packages/pandas/core/internals/managers.py\", line 419, in astype\n",
      "    return self.apply(\"astype\", dtype=dtype, copy=copy, errors=errors)\n",
      "  File \"/Users/avliu/opt/anaconda3/envs/hugging-face/lib/python3.10/site-packages/pandas/core/internals/managers.py\", line 304, in apply\n",
      "    applied = getattr(b, f)(**kwargs)\n",
      "  File \"/Users/avliu/opt/anaconda3/envs/hugging-face/lib/python3.10/site-packages/pandas/core/internals/blocks.py\", line 580, in astype\n",
      "    new_values = astype_array_safe(values, dtype, copy=copy, errors=errors)\n",
      "  File \"/Users/avliu/opt/anaconda3/envs/hugging-face/lib/python3.10/site-packages/pandas/core/dtypes/cast.py\", line 1292, in astype_array_safe\n",
      "    new_values = astype_array(values, dtype, copy=copy)\n",
      "  File \"/Users/avliu/opt/anaconda3/envs/hugging-face/lib/python3.10/site-packages/pandas/core/dtypes/cast.py\", line 1237, in astype_array\n",
      "    values = astype_nansafe(values, dtype, copy=copy)\n",
      "  File \"/Users/avliu/opt/anaconda3/envs/hugging-face/lib/python3.10/site-packages/pandas/core/dtypes/cast.py\", line 1154, in astype_nansafe\n",
      "    return lib.astype_intsafe(arr, dtype)\n",
      "  File \"pandas/_libs/lib.pyx\", line 668, in pandas._libs.lib.astype_intsafe\n",
      "ValueError: cannot convert float NaN to integer\n"
     ]
    },
    {
     "name": "stdout",
     "output_type": "stream",
     "text": [
      "round: 1\n",
      "invalid literal for int() with base 10: ''\n",
      "tournament_id: 605240\n"
     ]
    },
    {
     "name": "stderr",
     "output_type": "stream",
     "text": [
      "Traceback (most recent call last):\n",
      "  File \"/var/folders/t6/srtzy2f51db8mxxv7g_63f6h0000gr/T/ipykernel_72356/422094622.py\", line 19, in <cell line: 2>\n",
      "    games_df_list.append(parse_games_df(games_df))\n",
      "  File \"/var/folders/t6/srtzy2f51db8mxxv7g_63f6h0000gr/T/ipykernel_72356/3212580384.py\", line 18, in parse_games_df\n",
      "    games_df = games_df.astype({\n",
      "  File \"/Users/avliu/opt/anaconda3/envs/hugging-face/lib/python3.10/site-packages/pandas/core/generic.py\", line 5898, in astype\n",
      "    res_col = col.astype(dtype=cdt, copy=copy, errors=errors)\n",
      "  File \"/Users/avliu/opt/anaconda3/envs/hugging-face/lib/python3.10/site-packages/pandas/core/generic.py\", line 5912, in astype\n",
      "    new_data = self._mgr.astype(dtype=dtype, copy=copy, errors=errors)\n",
      "  File \"/Users/avliu/opt/anaconda3/envs/hugging-face/lib/python3.10/site-packages/pandas/core/internals/managers.py\", line 419, in astype\n",
      "    return self.apply(\"astype\", dtype=dtype, copy=copy, errors=errors)\n",
      "  File \"/Users/avliu/opt/anaconda3/envs/hugging-face/lib/python3.10/site-packages/pandas/core/internals/managers.py\", line 304, in apply\n",
      "    applied = getattr(b, f)(**kwargs)\n",
      "  File \"/Users/avliu/opt/anaconda3/envs/hugging-face/lib/python3.10/site-packages/pandas/core/internals/blocks.py\", line 580, in astype\n",
      "    new_values = astype_array_safe(values, dtype, copy=copy, errors=errors)\n",
      "  File \"/Users/avliu/opt/anaconda3/envs/hugging-face/lib/python3.10/site-packages/pandas/core/dtypes/cast.py\", line 1292, in astype_array_safe\n",
      "    new_values = astype_array(values, dtype, copy=copy)\n",
      "  File \"/Users/avliu/opt/anaconda3/envs/hugging-face/lib/python3.10/site-packages/pandas/core/dtypes/cast.py\", line 1237, in astype_array\n",
      "    values = astype_nansafe(values, dtype, copy=copy)\n",
      "  File \"/Users/avliu/opt/anaconda3/envs/hugging-face/lib/python3.10/site-packages/pandas/core/dtypes/cast.py\", line 1154, in astype_nansafe\n",
      "    return lib.astype_intsafe(arr, dtype)\n",
      "  File \"pandas/_libs/lib.pyx\", line 668, in pandas._libs.lib.astype_intsafe\n",
      "ValueError: invalid literal for int() with base 10: ''\n"
     ]
    },
    {
     "name": "stdout",
     "output_type": "stream",
     "text": [
      "round: 1\n",
      "round: 2\n",
      "round: 3\n",
      "round: 4\n",
      "round: 5\n",
      "round: 6\n",
      "tournament_id: 605233\n",
      "round: 1\n",
      "invalid literal for int() with base 10: ''\n",
      "tournament_id: 600854\n"
     ]
    },
    {
     "name": "stderr",
     "output_type": "stream",
     "text": [
      "Traceback (most recent call last):\n",
      "  File \"/var/folders/t6/srtzy2f51db8mxxv7g_63f6h0000gr/T/ipykernel_72356/422094622.py\", line 19, in <cell line: 2>\n",
      "    games_df_list.append(parse_games_df(games_df))\n",
      "  File \"/var/folders/t6/srtzy2f51db8mxxv7g_63f6h0000gr/T/ipykernel_72356/3212580384.py\", line 18, in parse_games_df\n",
      "    games_df = games_df.astype({\n",
      "  File \"/Users/avliu/opt/anaconda3/envs/hugging-face/lib/python3.10/site-packages/pandas/core/generic.py\", line 5898, in astype\n",
      "    res_col = col.astype(dtype=cdt, copy=copy, errors=errors)\n",
      "  File \"/Users/avliu/opt/anaconda3/envs/hugging-face/lib/python3.10/site-packages/pandas/core/generic.py\", line 5912, in astype\n",
      "    new_data = self._mgr.astype(dtype=dtype, copy=copy, errors=errors)\n",
      "  File \"/Users/avliu/opt/anaconda3/envs/hugging-face/lib/python3.10/site-packages/pandas/core/internals/managers.py\", line 419, in astype\n",
      "    return self.apply(\"astype\", dtype=dtype, copy=copy, errors=errors)\n",
      "  File \"/Users/avliu/opt/anaconda3/envs/hugging-face/lib/python3.10/site-packages/pandas/core/internals/managers.py\", line 304, in apply\n",
      "    applied = getattr(b, f)(**kwargs)\n",
      "  File \"/Users/avliu/opt/anaconda3/envs/hugging-face/lib/python3.10/site-packages/pandas/core/internals/blocks.py\", line 580, in astype\n",
      "    new_values = astype_array_safe(values, dtype, copy=copy, errors=errors)\n",
      "  File \"/Users/avliu/opt/anaconda3/envs/hugging-face/lib/python3.10/site-packages/pandas/core/dtypes/cast.py\", line 1292, in astype_array_safe\n",
      "    new_values = astype_array(values, dtype, copy=copy)\n",
      "  File \"/Users/avliu/opt/anaconda3/envs/hugging-face/lib/python3.10/site-packages/pandas/core/dtypes/cast.py\", line 1237, in astype_array\n",
      "    values = astype_nansafe(values, dtype, copy=copy)\n",
      "  File \"/Users/avliu/opt/anaconda3/envs/hugging-face/lib/python3.10/site-packages/pandas/core/dtypes/cast.py\", line 1154, in astype_nansafe\n",
      "    return lib.astype_intsafe(arr, dtype)\n",
      "  File \"pandas/_libs/lib.pyx\", line 668, in pandas._libs.lib.astype_intsafe\n",
      "ValueError: invalid literal for int() with base 10: ''\n"
     ]
    },
    {
     "name": "stdout",
     "output_type": "stream",
     "text": [
      "round: 1\n",
      "invalid literal for int() with base 10: ''\n",
      "tournament_id: 600855\n"
     ]
    },
    {
     "name": "stderr",
     "output_type": "stream",
     "text": [
      "Traceback (most recent call last):\n",
      "  File \"/var/folders/t6/srtzy2f51db8mxxv7g_63f6h0000gr/T/ipykernel_72356/422094622.py\", line 19, in <cell line: 2>\n",
      "    games_df_list.append(parse_games_df(games_df))\n",
      "  File \"/var/folders/t6/srtzy2f51db8mxxv7g_63f6h0000gr/T/ipykernel_72356/3212580384.py\", line 18, in parse_games_df\n",
      "    games_df = games_df.astype({\n",
      "  File \"/Users/avliu/opt/anaconda3/envs/hugging-face/lib/python3.10/site-packages/pandas/core/generic.py\", line 5898, in astype\n",
      "    res_col = col.astype(dtype=cdt, copy=copy, errors=errors)\n",
      "  File \"/Users/avliu/opt/anaconda3/envs/hugging-face/lib/python3.10/site-packages/pandas/core/generic.py\", line 5912, in astype\n",
      "    new_data = self._mgr.astype(dtype=dtype, copy=copy, errors=errors)\n",
      "  File \"/Users/avliu/opt/anaconda3/envs/hugging-face/lib/python3.10/site-packages/pandas/core/internals/managers.py\", line 419, in astype\n",
      "    return self.apply(\"astype\", dtype=dtype, copy=copy, errors=errors)\n",
      "  File \"/Users/avliu/opt/anaconda3/envs/hugging-face/lib/python3.10/site-packages/pandas/core/internals/managers.py\", line 304, in apply\n",
      "    applied = getattr(b, f)(**kwargs)\n",
      "  File \"/Users/avliu/opt/anaconda3/envs/hugging-face/lib/python3.10/site-packages/pandas/core/internals/blocks.py\", line 580, in astype\n",
      "    new_values = astype_array_safe(values, dtype, copy=copy, errors=errors)\n",
      "  File \"/Users/avliu/opt/anaconda3/envs/hugging-face/lib/python3.10/site-packages/pandas/core/dtypes/cast.py\", line 1292, in astype_array_safe\n",
      "    new_values = astype_array(values, dtype, copy=copy)\n",
      "  File \"/Users/avliu/opt/anaconda3/envs/hugging-face/lib/python3.10/site-packages/pandas/core/dtypes/cast.py\", line 1237, in astype_array\n",
      "    values = astype_nansafe(values, dtype, copy=copy)\n",
      "  File \"/Users/avliu/opt/anaconda3/envs/hugging-face/lib/python3.10/site-packages/pandas/core/dtypes/cast.py\", line 1154, in astype_nansafe\n",
      "    return lib.astype_intsafe(arr, dtype)\n",
      "  File \"pandas/_libs/lib.pyx\", line 668, in pandas._libs.lib.astype_intsafe\n",
      "ValueError: invalid literal for int() with base 10: ''\n"
     ]
    },
    {
     "name": "stdout",
     "output_type": "stream",
     "text": [
      "round: 1\n",
      "invalid literal for int() with base 10: ''\n",
      "tournament_id: 600852\n"
     ]
    },
    {
     "name": "stderr",
     "output_type": "stream",
     "text": [
      "Traceback (most recent call last):\n",
      "  File \"/var/folders/t6/srtzy2f51db8mxxv7g_63f6h0000gr/T/ipykernel_72356/422094622.py\", line 19, in <cell line: 2>\n",
      "    games_df_list.append(parse_games_df(games_df))\n",
      "  File \"/var/folders/t6/srtzy2f51db8mxxv7g_63f6h0000gr/T/ipykernel_72356/3212580384.py\", line 18, in parse_games_df\n",
      "    games_df = games_df.astype({\n",
      "  File \"/Users/avliu/opt/anaconda3/envs/hugging-face/lib/python3.10/site-packages/pandas/core/generic.py\", line 5898, in astype\n",
      "    res_col = col.astype(dtype=cdt, copy=copy, errors=errors)\n",
      "  File \"/Users/avliu/opt/anaconda3/envs/hugging-face/lib/python3.10/site-packages/pandas/core/generic.py\", line 5912, in astype\n",
      "    new_data = self._mgr.astype(dtype=dtype, copy=copy, errors=errors)\n",
      "  File \"/Users/avliu/opt/anaconda3/envs/hugging-face/lib/python3.10/site-packages/pandas/core/internals/managers.py\", line 419, in astype\n",
      "    return self.apply(\"astype\", dtype=dtype, copy=copy, errors=errors)\n",
      "  File \"/Users/avliu/opt/anaconda3/envs/hugging-face/lib/python3.10/site-packages/pandas/core/internals/managers.py\", line 304, in apply\n",
      "    applied = getattr(b, f)(**kwargs)\n",
      "  File \"/Users/avliu/opt/anaconda3/envs/hugging-face/lib/python3.10/site-packages/pandas/core/internals/blocks.py\", line 580, in astype\n",
      "    new_values = astype_array_safe(values, dtype, copy=copy, errors=errors)\n",
      "  File \"/Users/avliu/opt/anaconda3/envs/hugging-face/lib/python3.10/site-packages/pandas/core/dtypes/cast.py\", line 1292, in astype_array_safe\n",
      "    new_values = astype_array(values, dtype, copy=copy)\n",
      "  File \"/Users/avliu/opt/anaconda3/envs/hugging-face/lib/python3.10/site-packages/pandas/core/dtypes/cast.py\", line 1237, in astype_array\n",
      "    values = astype_nansafe(values, dtype, copy=copy)\n",
      "  File \"/Users/avliu/opt/anaconda3/envs/hugging-face/lib/python3.10/site-packages/pandas/core/dtypes/cast.py\", line 1154, in astype_nansafe\n",
      "    return lib.astype_intsafe(arr, dtype)\n",
      "  File \"pandas/_libs/lib.pyx\", line 668, in pandas._libs.lib.astype_intsafe\n",
      "ValueError: invalid literal for int() with base 10: ''\n"
     ]
    },
    {
     "name": "stdout",
     "output_type": "stream",
     "text": [
      "round: 1\n",
      "cannot convert float NaN to integer\n",
      "tournament_id: 600853\n"
     ]
    },
    {
     "name": "stderr",
     "output_type": "stream",
     "text": [
      "Traceback (most recent call last):\n",
      "  File \"/var/folders/t6/srtzy2f51db8mxxv7g_63f6h0000gr/T/ipykernel_72356/422094622.py\", line 19, in <cell line: 2>\n",
      "    games_df_list.append(parse_games_df(games_df))\n",
      "  File \"/var/folders/t6/srtzy2f51db8mxxv7g_63f6h0000gr/T/ipykernel_72356/3212580384.py\", line 18, in parse_games_df\n",
      "    games_df = games_df.astype({\n",
      "  File \"/Users/avliu/opt/anaconda3/envs/hugging-face/lib/python3.10/site-packages/pandas/core/generic.py\", line 5898, in astype\n",
      "    res_col = col.astype(dtype=cdt, copy=copy, errors=errors)\n",
      "  File \"/Users/avliu/opt/anaconda3/envs/hugging-face/lib/python3.10/site-packages/pandas/core/generic.py\", line 5912, in astype\n",
      "    new_data = self._mgr.astype(dtype=dtype, copy=copy, errors=errors)\n",
      "  File \"/Users/avliu/opt/anaconda3/envs/hugging-face/lib/python3.10/site-packages/pandas/core/internals/managers.py\", line 419, in astype\n",
      "    return self.apply(\"astype\", dtype=dtype, copy=copy, errors=errors)\n",
      "  File \"/Users/avliu/opt/anaconda3/envs/hugging-face/lib/python3.10/site-packages/pandas/core/internals/managers.py\", line 304, in apply\n",
      "    applied = getattr(b, f)(**kwargs)\n",
      "  File \"/Users/avliu/opt/anaconda3/envs/hugging-face/lib/python3.10/site-packages/pandas/core/internals/blocks.py\", line 580, in astype\n",
      "    new_values = astype_array_safe(values, dtype, copy=copy, errors=errors)\n",
      "  File \"/Users/avliu/opt/anaconda3/envs/hugging-face/lib/python3.10/site-packages/pandas/core/dtypes/cast.py\", line 1292, in astype_array_safe\n",
      "    new_values = astype_array(values, dtype, copy=copy)\n",
      "  File \"/Users/avliu/opt/anaconda3/envs/hugging-face/lib/python3.10/site-packages/pandas/core/dtypes/cast.py\", line 1237, in astype_array\n",
      "    values = astype_nansafe(values, dtype, copy=copy)\n",
      "  File \"/Users/avliu/opt/anaconda3/envs/hugging-face/lib/python3.10/site-packages/pandas/core/dtypes/cast.py\", line 1154, in astype_nansafe\n",
      "    return lib.astype_intsafe(arr, dtype)\n",
      "  File \"pandas/_libs/lib.pyx\", line 668, in pandas._libs.lib.astype_intsafe\n",
      "ValueError: cannot convert float NaN to integer\n"
     ]
    },
    {
     "name": "stdout",
     "output_type": "stream",
     "text": [
      "round: 1\n",
      "invalid literal for int() with base 10: ''\n",
      "tournament_id: 600928\n"
     ]
    },
    {
     "name": "stderr",
     "output_type": "stream",
     "text": [
      "Traceback (most recent call last):\n",
      "  File \"/var/folders/t6/srtzy2f51db8mxxv7g_63f6h0000gr/T/ipykernel_72356/422094622.py\", line 19, in <cell line: 2>\n",
      "    games_df_list.append(parse_games_df(games_df))\n",
      "  File \"/var/folders/t6/srtzy2f51db8mxxv7g_63f6h0000gr/T/ipykernel_72356/3212580384.py\", line 18, in parse_games_df\n",
      "    games_df = games_df.astype({\n",
      "  File \"/Users/avliu/opt/anaconda3/envs/hugging-face/lib/python3.10/site-packages/pandas/core/generic.py\", line 5898, in astype\n",
      "    res_col = col.astype(dtype=cdt, copy=copy, errors=errors)\n",
      "  File \"/Users/avliu/opt/anaconda3/envs/hugging-face/lib/python3.10/site-packages/pandas/core/generic.py\", line 5912, in astype\n",
      "    new_data = self._mgr.astype(dtype=dtype, copy=copy, errors=errors)\n",
      "  File \"/Users/avliu/opt/anaconda3/envs/hugging-face/lib/python3.10/site-packages/pandas/core/internals/managers.py\", line 419, in astype\n",
      "    return self.apply(\"astype\", dtype=dtype, copy=copy, errors=errors)\n",
      "  File \"/Users/avliu/opt/anaconda3/envs/hugging-face/lib/python3.10/site-packages/pandas/core/internals/managers.py\", line 304, in apply\n",
      "    applied = getattr(b, f)(**kwargs)\n",
      "  File \"/Users/avliu/opt/anaconda3/envs/hugging-face/lib/python3.10/site-packages/pandas/core/internals/blocks.py\", line 580, in astype\n",
      "    new_values = astype_array_safe(values, dtype, copy=copy, errors=errors)\n",
      "  File \"/Users/avliu/opt/anaconda3/envs/hugging-face/lib/python3.10/site-packages/pandas/core/dtypes/cast.py\", line 1292, in astype_array_safe\n",
      "    new_values = astype_array(values, dtype, copy=copy)\n",
      "  File \"/Users/avliu/opt/anaconda3/envs/hugging-face/lib/python3.10/site-packages/pandas/core/dtypes/cast.py\", line 1237, in astype_array\n",
      "    values = astype_nansafe(values, dtype, copy=copy)\n",
      "  File \"/Users/avliu/opt/anaconda3/envs/hugging-face/lib/python3.10/site-packages/pandas/core/dtypes/cast.py\", line 1154, in astype_nansafe\n",
      "    return lib.astype_intsafe(arr, dtype)\n",
      "  File \"pandas/_libs/lib.pyx\", line 668, in pandas._libs.lib.astype_intsafe\n",
      "ValueError: invalid literal for int() with base 10: ''\n"
     ]
    },
    {
     "name": "stdout",
     "output_type": "stream",
     "text": [
      "round: 1\n",
      "invalid literal for int() with base 10: ''\n",
      "tournament_id: 591762\n"
     ]
    },
    {
     "name": "stderr",
     "output_type": "stream",
     "text": [
      "Traceback (most recent call last):\n",
      "  File \"/var/folders/t6/srtzy2f51db8mxxv7g_63f6h0000gr/T/ipykernel_72356/422094622.py\", line 19, in <cell line: 2>\n",
      "    games_df_list.append(parse_games_df(games_df))\n",
      "  File \"/var/folders/t6/srtzy2f51db8mxxv7g_63f6h0000gr/T/ipykernel_72356/3212580384.py\", line 18, in parse_games_df\n",
      "    games_df = games_df.astype({\n",
      "  File \"/Users/avliu/opt/anaconda3/envs/hugging-face/lib/python3.10/site-packages/pandas/core/generic.py\", line 5898, in astype\n",
      "    res_col = col.astype(dtype=cdt, copy=copy, errors=errors)\n",
      "  File \"/Users/avliu/opt/anaconda3/envs/hugging-face/lib/python3.10/site-packages/pandas/core/generic.py\", line 5912, in astype\n",
      "    new_data = self._mgr.astype(dtype=dtype, copy=copy, errors=errors)\n",
      "  File \"/Users/avliu/opt/anaconda3/envs/hugging-face/lib/python3.10/site-packages/pandas/core/internals/managers.py\", line 419, in astype\n",
      "    return self.apply(\"astype\", dtype=dtype, copy=copy, errors=errors)\n",
      "  File \"/Users/avliu/opt/anaconda3/envs/hugging-face/lib/python3.10/site-packages/pandas/core/internals/managers.py\", line 304, in apply\n",
      "    applied = getattr(b, f)(**kwargs)\n",
      "  File \"/Users/avliu/opt/anaconda3/envs/hugging-face/lib/python3.10/site-packages/pandas/core/internals/blocks.py\", line 580, in astype\n",
      "    new_values = astype_array_safe(values, dtype, copy=copy, errors=errors)\n",
      "  File \"/Users/avliu/opt/anaconda3/envs/hugging-face/lib/python3.10/site-packages/pandas/core/dtypes/cast.py\", line 1292, in astype_array_safe\n",
      "    new_values = astype_array(values, dtype, copy=copy)\n",
      "  File \"/Users/avliu/opt/anaconda3/envs/hugging-face/lib/python3.10/site-packages/pandas/core/dtypes/cast.py\", line 1237, in astype_array\n",
      "    values = astype_nansafe(values, dtype, copy=copy)\n",
      "  File \"/Users/avliu/opt/anaconda3/envs/hugging-face/lib/python3.10/site-packages/pandas/core/dtypes/cast.py\", line 1154, in astype_nansafe\n",
      "    return lib.astype_intsafe(arr, dtype)\n",
      "  File \"pandas/_libs/lib.pyx\", line 668, in pandas._libs.lib.astype_intsafe\n",
      "ValueError: invalid literal for int() with base 10: ''\n"
     ]
    },
    {
     "name": "stdout",
     "output_type": "stream",
     "text": [
      "round: 1\n",
      "list index out of range\n",
      "tournament_id: 591821\n"
     ]
    },
    {
     "name": "stderr",
     "output_type": "stream",
     "text": [
      "Traceback (most recent call last):\n",
      "  File \"/var/folders/t6/srtzy2f51db8mxxv7g_63f6h0000gr/T/ipykernel_72356/422094622.py\", line 19, in <cell line: 2>\n",
      "    games_df_list.append(parse_games_df(games_df))\n",
      "  File \"/var/folders/t6/srtzy2f51db8mxxv7g_63f6h0000gr/T/ipykernel_72356/3212580384.py\", line 6, in parse_games_df\n",
      "    games_df.columns.values[name_idxs[0]] = \"left_name\"\n",
      "IndexError: list index out of range\n"
     ]
    },
    {
     "name": "stdout",
     "output_type": "stream",
     "text": [
      "round: 1\n",
      "list index out of range\n",
      "tournament_id: 598842\n"
     ]
    },
    {
     "name": "stderr",
     "output_type": "stream",
     "text": [
      "Traceback (most recent call last):\n",
      "  File \"/var/folders/t6/srtzy2f51db8mxxv7g_63f6h0000gr/T/ipykernel_72356/422094622.py\", line 19, in <cell line: 2>\n",
      "    games_df_list.append(parse_games_df(games_df))\n",
      "  File \"/var/folders/t6/srtzy2f51db8mxxv7g_63f6h0000gr/T/ipykernel_72356/3212580384.py\", line 6, in parse_games_df\n",
      "    games_df.columns.values[name_idxs[0]] = \"left_name\"\n",
      "IndexError: list index out of range\n"
     ]
    },
    {
     "name": "stdout",
     "output_type": "stream",
     "text": [
      "round: 1\n",
      "invalid literal for int() with base 10: ''\n",
      "tournament_id: 598377\n"
     ]
    },
    {
     "name": "stderr",
     "output_type": "stream",
     "text": [
      "Traceback (most recent call last):\n",
      "  File \"/var/folders/t6/srtzy2f51db8mxxv7g_63f6h0000gr/T/ipykernel_72356/422094622.py\", line 19, in <cell line: 2>\n",
      "    games_df_list.append(parse_games_df(games_df))\n",
      "  File \"/var/folders/t6/srtzy2f51db8mxxv7g_63f6h0000gr/T/ipykernel_72356/3212580384.py\", line 18, in parse_games_df\n",
      "    games_df = games_df.astype({\n",
      "  File \"/Users/avliu/opt/anaconda3/envs/hugging-face/lib/python3.10/site-packages/pandas/core/generic.py\", line 5898, in astype\n",
      "    res_col = col.astype(dtype=cdt, copy=copy, errors=errors)\n",
      "  File \"/Users/avliu/opt/anaconda3/envs/hugging-face/lib/python3.10/site-packages/pandas/core/generic.py\", line 5912, in astype\n",
      "    new_data = self._mgr.astype(dtype=dtype, copy=copy, errors=errors)\n",
      "  File \"/Users/avliu/opt/anaconda3/envs/hugging-face/lib/python3.10/site-packages/pandas/core/internals/managers.py\", line 419, in astype\n",
      "    return self.apply(\"astype\", dtype=dtype, copy=copy, errors=errors)\n",
      "  File \"/Users/avliu/opt/anaconda3/envs/hugging-face/lib/python3.10/site-packages/pandas/core/internals/managers.py\", line 304, in apply\n",
      "    applied = getattr(b, f)(**kwargs)\n",
      "  File \"/Users/avliu/opt/anaconda3/envs/hugging-face/lib/python3.10/site-packages/pandas/core/internals/blocks.py\", line 580, in astype\n",
      "    new_values = astype_array_safe(values, dtype, copy=copy, errors=errors)\n",
      "  File \"/Users/avliu/opt/anaconda3/envs/hugging-face/lib/python3.10/site-packages/pandas/core/dtypes/cast.py\", line 1292, in astype_array_safe\n",
      "    new_values = astype_array(values, dtype, copy=copy)\n",
      "  File \"/Users/avliu/opt/anaconda3/envs/hugging-face/lib/python3.10/site-packages/pandas/core/dtypes/cast.py\", line 1237, in astype_array\n",
      "    values = astype_nansafe(values, dtype, copy=copy)\n",
      "  File \"/Users/avliu/opt/anaconda3/envs/hugging-face/lib/python3.10/site-packages/pandas/core/dtypes/cast.py\", line 1154, in astype_nansafe\n",
      "    return lib.astype_intsafe(arr, dtype)\n",
      "  File \"pandas/_libs/lib.pyx\", line 668, in pandas._libs.lib.astype_intsafe\n",
      "ValueError: invalid literal for int() with base 10: ''\n"
     ]
    },
    {
     "name": "stdout",
     "output_type": "stream",
     "text": [
      "round: 1\n",
      "invalid literal for int() with base 10: ''\n",
      "tournament_id: 596852\n"
     ]
    },
    {
     "name": "stderr",
     "output_type": "stream",
     "text": [
      "Traceback (most recent call last):\n",
      "  File \"/var/folders/t6/srtzy2f51db8mxxv7g_63f6h0000gr/T/ipykernel_72356/422094622.py\", line 19, in <cell line: 2>\n",
      "    games_df_list.append(parse_games_df(games_df))\n",
      "  File \"/var/folders/t6/srtzy2f51db8mxxv7g_63f6h0000gr/T/ipykernel_72356/3212580384.py\", line 18, in parse_games_df\n",
      "    games_df = games_df.astype({\n",
      "  File \"/Users/avliu/opt/anaconda3/envs/hugging-face/lib/python3.10/site-packages/pandas/core/generic.py\", line 5898, in astype\n",
      "    res_col = col.astype(dtype=cdt, copy=copy, errors=errors)\n",
      "  File \"/Users/avliu/opt/anaconda3/envs/hugging-face/lib/python3.10/site-packages/pandas/core/generic.py\", line 5912, in astype\n",
      "    new_data = self._mgr.astype(dtype=dtype, copy=copy, errors=errors)\n",
      "  File \"/Users/avliu/opt/anaconda3/envs/hugging-face/lib/python3.10/site-packages/pandas/core/internals/managers.py\", line 419, in astype\n",
      "    return self.apply(\"astype\", dtype=dtype, copy=copy, errors=errors)\n",
      "  File \"/Users/avliu/opt/anaconda3/envs/hugging-face/lib/python3.10/site-packages/pandas/core/internals/managers.py\", line 304, in apply\n",
      "    applied = getattr(b, f)(**kwargs)\n",
      "  File \"/Users/avliu/opt/anaconda3/envs/hugging-face/lib/python3.10/site-packages/pandas/core/internals/blocks.py\", line 580, in astype\n",
      "    new_values = astype_array_safe(values, dtype, copy=copy, errors=errors)\n",
      "  File \"/Users/avliu/opt/anaconda3/envs/hugging-face/lib/python3.10/site-packages/pandas/core/dtypes/cast.py\", line 1292, in astype_array_safe\n",
      "    new_values = astype_array(values, dtype, copy=copy)\n",
      "  File \"/Users/avliu/opt/anaconda3/envs/hugging-face/lib/python3.10/site-packages/pandas/core/dtypes/cast.py\", line 1237, in astype_array\n",
      "    values = astype_nansafe(values, dtype, copy=copy)\n",
      "  File \"/Users/avliu/opt/anaconda3/envs/hugging-face/lib/python3.10/site-packages/pandas/core/dtypes/cast.py\", line 1154, in astype_nansafe\n",
      "    return lib.astype_intsafe(arr, dtype)\n",
      "  File \"pandas/_libs/lib.pyx\", line 668, in pandas._libs.lib.astype_intsafe\n",
      "ValueError: invalid literal for int() with base 10: ''\n"
     ]
    },
    {
     "name": "stdout",
     "output_type": "stream",
     "text": [
      "round: 1\n",
      "cannot convert float NaN to integer\n",
      "tournament_id: 596853\n"
     ]
    },
    {
     "name": "stderr",
     "output_type": "stream",
     "text": [
      "Traceback (most recent call last):\n",
      "  File \"/var/folders/t6/srtzy2f51db8mxxv7g_63f6h0000gr/T/ipykernel_72356/422094622.py\", line 19, in <cell line: 2>\n",
      "    games_df_list.append(parse_games_df(games_df))\n",
      "  File \"/var/folders/t6/srtzy2f51db8mxxv7g_63f6h0000gr/T/ipykernel_72356/3212580384.py\", line 18, in parse_games_df\n",
      "    games_df = games_df.astype({\n",
      "  File \"/Users/avliu/opt/anaconda3/envs/hugging-face/lib/python3.10/site-packages/pandas/core/generic.py\", line 5898, in astype\n",
      "    res_col = col.astype(dtype=cdt, copy=copy, errors=errors)\n",
      "  File \"/Users/avliu/opt/anaconda3/envs/hugging-face/lib/python3.10/site-packages/pandas/core/generic.py\", line 5912, in astype\n",
      "    new_data = self._mgr.astype(dtype=dtype, copy=copy, errors=errors)\n",
      "  File \"/Users/avliu/opt/anaconda3/envs/hugging-face/lib/python3.10/site-packages/pandas/core/internals/managers.py\", line 419, in astype\n",
      "    return self.apply(\"astype\", dtype=dtype, copy=copy, errors=errors)\n",
      "  File \"/Users/avliu/opt/anaconda3/envs/hugging-face/lib/python3.10/site-packages/pandas/core/internals/managers.py\", line 304, in apply\n",
      "    applied = getattr(b, f)(**kwargs)\n",
      "  File \"/Users/avliu/opt/anaconda3/envs/hugging-face/lib/python3.10/site-packages/pandas/core/internals/blocks.py\", line 580, in astype\n",
      "    new_values = astype_array_safe(values, dtype, copy=copy, errors=errors)\n",
      "  File \"/Users/avliu/opt/anaconda3/envs/hugging-face/lib/python3.10/site-packages/pandas/core/dtypes/cast.py\", line 1292, in astype_array_safe\n",
      "    new_values = astype_array(values, dtype, copy=copy)\n",
      "  File \"/Users/avliu/opt/anaconda3/envs/hugging-face/lib/python3.10/site-packages/pandas/core/dtypes/cast.py\", line 1237, in astype_array\n",
      "    values = astype_nansafe(values, dtype, copy=copy)\n",
      "  File \"/Users/avliu/opt/anaconda3/envs/hugging-face/lib/python3.10/site-packages/pandas/core/dtypes/cast.py\", line 1154, in astype_nansafe\n",
      "    return lib.astype_intsafe(arr, dtype)\n",
      "  File \"pandas/_libs/lib.pyx\", line 668, in pandas._libs.lib.astype_intsafe\n",
      "ValueError: cannot convert float NaN to integer\n"
     ]
    },
    {
     "name": "stdout",
     "output_type": "stream",
     "text": [
      "round: 1\n",
      "cannot convert float NaN to integer\n",
      "tournament_id: 596992\n"
     ]
    },
    {
     "name": "stderr",
     "output_type": "stream",
     "text": [
      "Traceback (most recent call last):\n",
      "  File \"/var/folders/t6/srtzy2f51db8mxxv7g_63f6h0000gr/T/ipykernel_72356/422094622.py\", line 19, in <cell line: 2>\n",
      "    games_df_list.append(parse_games_df(games_df))\n",
      "  File \"/var/folders/t6/srtzy2f51db8mxxv7g_63f6h0000gr/T/ipykernel_72356/3212580384.py\", line 18, in parse_games_df\n",
      "    games_df = games_df.astype({\n",
      "  File \"/Users/avliu/opt/anaconda3/envs/hugging-face/lib/python3.10/site-packages/pandas/core/generic.py\", line 5898, in astype\n",
      "    res_col = col.astype(dtype=cdt, copy=copy, errors=errors)\n",
      "  File \"/Users/avliu/opt/anaconda3/envs/hugging-face/lib/python3.10/site-packages/pandas/core/generic.py\", line 5912, in astype\n",
      "    new_data = self._mgr.astype(dtype=dtype, copy=copy, errors=errors)\n",
      "  File \"/Users/avliu/opt/anaconda3/envs/hugging-face/lib/python3.10/site-packages/pandas/core/internals/managers.py\", line 419, in astype\n",
      "    return self.apply(\"astype\", dtype=dtype, copy=copy, errors=errors)\n",
      "  File \"/Users/avliu/opt/anaconda3/envs/hugging-face/lib/python3.10/site-packages/pandas/core/internals/managers.py\", line 304, in apply\n",
      "    applied = getattr(b, f)(**kwargs)\n",
      "  File \"/Users/avliu/opt/anaconda3/envs/hugging-face/lib/python3.10/site-packages/pandas/core/internals/blocks.py\", line 580, in astype\n",
      "    new_values = astype_array_safe(values, dtype, copy=copy, errors=errors)\n",
      "  File \"/Users/avliu/opt/anaconda3/envs/hugging-face/lib/python3.10/site-packages/pandas/core/dtypes/cast.py\", line 1292, in astype_array_safe\n",
      "    new_values = astype_array(values, dtype, copy=copy)\n",
      "  File \"/Users/avliu/opt/anaconda3/envs/hugging-face/lib/python3.10/site-packages/pandas/core/dtypes/cast.py\", line 1237, in astype_array\n",
      "    values = astype_nansafe(values, dtype, copy=copy)\n",
      "  File \"/Users/avliu/opt/anaconda3/envs/hugging-face/lib/python3.10/site-packages/pandas/core/dtypes/cast.py\", line 1154, in astype_nansafe\n",
      "    return lib.astype_intsafe(arr, dtype)\n",
      "  File \"pandas/_libs/lib.pyx\", line 668, in pandas._libs.lib.astype_intsafe\n",
      "ValueError: cannot convert float NaN to integer\n"
     ]
    },
    {
     "name": "stdout",
     "output_type": "stream",
     "text": [
      "round: 1\n",
      "invalid literal for int() with base 10: 'Rtg'\n",
      "tournament_id: 594651\n"
     ]
    },
    {
     "name": "stderr",
     "output_type": "stream",
     "text": [
      "Traceback (most recent call last):\n",
      "  File \"/var/folders/t6/srtzy2f51db8mxxv7g_63f6h0000gr/T/ipykernel_72356/422094622.py\", line 19, in <cell line: 2>\n",
      "    games_df_list.append(parse_games_df(games_df))\n",
      "  File \"/var/folders/t6/srtzy2f51db8mxxv7g_63f6h0000gr/T/ipykernel_72356/3212580384.py\", line 18, in parse_games_df\n",
      "    games_df = games_df.astype({\n",
      "  File \"/Users/avliu/opt/anaconda3/envs/hugging-face/lib/python3.10/site-packages/pandas/core/generic.py\", line 5898, in astype\n",
      "    res_col = col.astype(dtype=cdt, copy=copy, errors=errors)\n",
      "  File \"/Users/avliu/opt/anaconda3/envs/hugging-face/lib/python3.10/site-packages/pandas/core/generic.py\", line 5912, in astype\n",
      "    new_data = self._mgr.astype(dtype=dtype, copy=copy, errors=errors)\n",
      "  File \"/Users/avliu/opt/anaconda3/envs/hugging-face/lib/python3.10/site-packages/pandas/core/internals/managers.py\", line 419, in astype\n",
      "    return self.apply(\"astype\", dtype=dtype, copy=copy, errors=errors)\n",
      "  File \"/Users/avliu/opt/anaconda3/envs/hugging-face/lib/python3.10/site-packages/pandas/core/internals/managers.py\", line 304, in apply\n",
      "    applied = getattr(b, f)(**kwargs)\n",
      "  File \"/Users/avliu/opt/anaconda3/envs/hugging-face/lib/python3.10/site-packages/pandas/core/internals/blocks.py\", line 580, in astype\n",
      "    new_values = astype_array_safe(values, dtype, copy=copy, errors=errors)\n",
      "  File \"/Users/avliu/opt/anaconda3/envs/hugging-face/lib/python3.10/site-packages/pandas/core/dtypes/cast.py\", line 1292, in astype_array_safe\n",
      "    new_values = astype_array(values, dtype, copy=copy)\n",
      "  File \"/Users/avliu/opt/anaconda3/envs/hugging-face/lib/python3.10/site-packages/pandas/core/dtypes/cast.py\", line 1237, in astype_array\n",
      "    values = astype_nansafe(values, dtype, copy=copy)\n",
      "  File \"/Users/avliu/opt/anaconda3/envs/hugging-face/lib/python3.10/site-packages/pandas/core/dtypes/cast.py\", line 1154, in astype_nansafe\n",
      "    return lib.astype_intsafe(arr, dtype)\n",
      "  File \"pandas/_libs/lib.pyx\", line 668, in pandas._libs.lib.astype_intsafe\n",
      "ValueError: invalid literal for int() with base 10: 'Rtg'\n"
     ]
    },
    {
     "name": "stdout",
     "output_type": "stream",
     "text": [
      "round: 1\n",
      "invalid literal for int() with base 10: 'Rtg'\n",
      "tournament_id: 594497\n"
     ]
    },
    {
     "name": "stderr",
     "output_type": "stream",
     "text": [
      "Traceback (most recent call last):\n",
      "  File \"/var/folders/t6/srtzy2f51db8mxxv7g_63f6h0000gr/T/ipykernel_72356/422094622.py\", line 19, in <cell line: 2>\n",
      "    games_df_list.append(parse_games_df(games_df))\n",
      "  File \"/var/folders/t6/srtzy2f51db8mxxv7g_63f6h0000gr/T/ipykernel_72356/3212580384.py\", line 18, in parse_games_df\n",
      "    games_df = games_df.astype({\n",
      "  File \"/Users/avliu/opt/anaconda3/envs/hugging-face/lib/python3.10/site-packages/pandas/core/generic.py\", line 5898, in astype\n",
      "    res_col = col.astype(dtype=cdt, copy=copy, errors=errors)\n",
      "  File \"/Users/avliu/opt/anaconda3/envs/hugging-face/lib/python3.10/site-packages/pandas/core/generic.py\", line 5912, in astype\n",
      "    new_data = self._mgr.astype(dtype=dtype, copy=copy, errors=errors)\n",
      "  File \"/Users/avliu/opt/anaconda3/envs/hugging-face/lib/python3.10/site-packages/pandas/core/internals/managers.py\", line 419, in astype\n",
      "    return self.apply(\"astype\", dtype=dtype, copy=copy, errors=errors)\n",
      "  File \"/Users/avliu/opt/anaconda3/envs/hugging-face/lib/python3.10/site-packages/pandas/core/internals/managers.py\", line 304, in apply\n",
      "    applied = getattr(b, f)(**kwargs)\n",
      "  File \"/Users/avliu/opt/anaconda3/envs/hugging-face/lib/python3.10/site-packages/pandas/core/internals/blocks.py\", line 580, in astype\n",
      "    new_values = astype_array_safe(values, dtype, copy=copy, errors=errors)\n",
      "  File \"/Users/avliu/opt/anaconda3/envs/hugging-face/lib/python3.10/site-packages/pandas/core/dtypes/cast.py\", line 1292, in astype_array_safe\n",
      "    new_values = astype_array(values, dtype, copy=copy)\n",
      "  File \"/Users/avliu/opt/anaconda3/envs/hugging-face/lib/python3.10/site-packages/pandas/core/dtypes/cast.py\", line 1237, in astype_array\n",
      "    values = astype_nansafe(values, dtype, copy=copy)\n",
      "  File \"/Users/avliu/opt/anaconda3/envs/hugging-face/lib/python3.10/site-packages/pandas/core/dtypes/cast.py\", line 1154, in astype_nansafe\n",
      "    return lib.astype_intsafe(arr, dtype)\n",
      "  File \"pandas/_libs/lib.pyx\", line 668, in pandas._libs.lib.astype_intsafe\n",
      "ValueError: invalid literal for int() with base 10: 'Rtg'\n"
     ]
    },
    {
     "name": "stdout",
     "output_type": "stream",
     "text": [
      "round: 1\n",
      "invalid literal for int() with base 10: ''\n",
      "tournament_id: 596194\n"
     ]
    },
    {
     "name": "stderr",
     "output_type": "stream",
     "text": [
      "Traceback (most recent call last):\n",
      "  File \"/var/folders/t6/srtzy2f51db8mxxv7g_63f6h0000gr/T/ipykernel_72356/422094622.py\", line 19, in <cell line: 2>\n",
      "    games_df_list.append(parse_games_df(games_df))\n",
      "  File \"/var/folders/t6/srtzy2f51db8mxxv7g_63f6h0000gr/T/ipykernel_72356/3212580384.py\", line 18, in parse_games_df\n",
      "    games_df = games_df.astype({\n",
      "  File \"/Users/avliu/opt/anaconda3/envs/hugging-face/lib/python3.10/site-packages/pandas/core/generic.py\", line 5898, in astype\n",
      "    res_col = col.astype(dtype=cdt, copy=copy, errors=errors)\n",
      "  File \"/Users/avliu/opt/anaconda3/envs/hugging-face/lib/python3.10/site-packages/pandas/core/generic.py\", line 5912, in astype\n",
      "    new_data = self._mgr.astype(dtype=dtype, copy=copy, errors=errors)\n",
      "  File \"/Users/avliu/opt/anaconda3/envs/hugging-face/lib/python3.10/site-packages/pandas/core/internals/managers.py\", line 419, in astype\n",
      "    return self.apply(\"astype\", dtype=dtype, copy=copy, errors=errors)\n",
      "  File \"/Users/avliu/opt/anaconda3/envs/hugging-face/lib/python3.10/site-packages/pandas/core/internals/managers.py\", line 304, in apply\n",
      "    applied = getattr(b, f)(**kwargs)\n",
      "  File \"/Users/avliu/opt/anaconda3/envs/hugging-face/lib/python3.10/site-packages/pandas/core/internals/blocks.py\", line 580, in astype\n",
      "    new_values = astype_array_safe(values, dtype, copy=copy, errors=errors)\n",
      "  File \"/Users/avliu/opt/anaconda3/envs/hugging-face/lib/python3.10/site-packages/pandas/core/dtypes/cast.py\", line 1292, in astype_array_safe\n",
      "    new_values = astype_array(values, dtype, copy=copy)\n",
      "  File \"/Users/avliu/opt/anaconda3/envs/hugging-face/lib/python3.10/site-packages/pandas/core/dtypes/cast.py\", line 1237, in astype_array\n",
      "    values = astype_nansafe(values, dtype, copy=copy)\n",
      "  File \"/Users/avliu/opt/anaconda3/envs/hugging-face/lib/python3.10/site-packages/pandas/core/dtypes/cast.py\", line 1154, in astype_nansafe\n",
      "    return lib.astype_intsafe(arr, dtype)\n",
      "  File \"pandas/_libs/lib.pyx\", line 668, in pandas._libs.lib.astype_intsafe\n",
      "ValueError: invalid literal for int() with base 10: ''\n"
     ]
    },
    {
     "name": "stdout",
     "output_type": "stream",
     "text": [
      "round: 1\n",
      "invalid literal for int() with base 10: 'Rtg'\n",
      "tournament_id: 596193\n"
     ]
    },
    {
     "name": "stderr",
     "output_type": "stream",
     "text": [
      "Traceback (most recent call last):\n",
      "  File \"/var/folders/t6/srtzy2f51db8mxxv7g_63f6h0000gr/T/ipykernel_72356/422094622.py\", line 19, in <cell line: 2>\n",
      "    games_df_list.append(parse_games_df(games_df))\n",
      "  File \"/var/folders/t6/srtzy2f51db8mxxv7g_63f6h0000gr/T/ipykernel_72356/3212580384.py\", line 18, in parse_games_df\n",
      "    games_df = games_df.astype({\n",
      "  File \"/Users/avliu/opt/anaconda3/envs/hugging-face/lib/python3.10/site-packages/pandas/core/generic.py\", line 5898, in astype\n",
      "    res_col = col.astype(dtype=cdt, copy=copy, errors=errors)\n",
      "  File \"/Users/avliu/opt/anaconda3/envs/hugging-face/lib/python3.10/site-packages/pandas/core/generic.py\", line 5912, in astype\n",
      "    new_data = self._mgr.astype(dtype=dtype, copy=copy, errors=errors)\n",
      "  File \"/Users/avliu/opt/anaconda3/envs/hugging-face/lib/python3.10/site-packages/pandas/core/internals/managers.py\", line 419, in astype\n",
      "    return self.apply(\"astype\", dtype=dtype, copy=copy, errors=errors)\n",
      "  File \"/Users/avliu/opt/anaconda3/envs/hugging-face/lib/python3.10/site-packages/pandas/core/internals/managers.py\", line 304, in apply\n",
      "    applied = getattr(b, f)(**kwargs)\n",
      "  File \"/Users/avliu/opt/anaconda3/envs/hugging-face/lib/python3.10/site-packages/pandas/core/internals/blocks.py\", line 580, in astype\n",
      "    new_values = astype_array_safe(values, dtype, copy=copy, errors=errors)\n",
      "  File \"/Users/avliu/opt/anaconda3/envs/hugging-face/lib/python3.10/site-packages/pandas/core/dtypes/cast.py\", line 1292, in astype_array_safe\n",
      "    new_values = astype_array(values, dtype, copy=copy)\n",
      "  File \"/Users/avliu/opt/anaconda3/envs/hugging-face/lib/python3.10/site-packages/pandas/core/dtypes/cast.py\", line 1237, in astype_array\n",
      "    values = astype_nansafe(values, dtype, copy=copy)\n",
      "  File \"/Users/avliu/opt/anaconda3/envs/hugging-face/lib/python3.10/site-packages/pandas/core/dtypes/cast.py\", line 1154, in astype_nansafe\n",
      "    return lib.astype_intsafe(arr, dtype)\n",
      "  File \"pandas/_libs/lib.pyx\", line 668, in pandas._libs.lib.astype_intsafe\n",
      "ValueError: invalid literal for int() with base 10: 'Rtg'\n"
     ]
    },
    {
     "name": "stdout",
     "output_type": "stream",
     "text": [
      "round: 1\n",
      "invalid literal for int() with base 10: 'Rtg'\n",
      "tournament_id: 596171\n"
     ]
    },
    {
     "name": "stderr",
     "output_type": "stream",
     "text": [
      "Traceback (most recent call last):\n",
      "  File \"/var/folders/t6/srtzy2f51db8mxxv7g_63f6h0000gr/T/ipykernel_72356/422094622.py\", line 19, in <cell line: 2>\n",
      "    games_df_list.append(parse_games_df(games_df))\n",
      "  File \"/var/folders/t6/srtzy2f51db8mxxv7g_63f6h0000gr/T/ipykernel_72356/3212580384.py\", line 18, in parse_games_df\n",
      "    games_df = games_df.astype({\n",
      "  File \"/Users/avliu/opt/anaconda3/envs/hugging-face/lib/python3.10/site-packages/pandas/core/generic.py\", line 5898, in astype\n",
      "    res_col = col.astype(dtype=cdt, copy=copy, errors=errors)\n",
      "  File \"/Users/avliu/opt/anaconda3/envs/hugging-face/lib/python3.10/site-packages/pandas/core/generic.py\", line 5912, in astype\n",
      "    new_data = self._mgr.astype(dtype=dtype, copy=copy, errors=errors)\n",
      "  File \"/Users/avliu/opt/anaconda3/envs/hugging-face/lib/python3.10/site-packages/pandas/core/internals/managers.py\", line 419, in astype\n",
      "    return self.apply(\"astype\", dtype=dtype, copy=copy, errors=errors)\n",
      "  File \"/Users/avliu/opt/anaconda3/envs/hugging-face/lib/python3.10/site-packages/pandas/core/internals/managers.py\", line 304, in apply\n",
      "    applied = getattr(b, f)(**kwargs)\n",
      "  File \"/Users/avliu/opt/anaconda3/envs/hugging-face/lib/python3.10/site-packages/pandas/core/internals/blocks.py\", line 580, in astype\n",
      "    new_values = astype_array_safe(values, dtype, copy=copy, errors=errors)\n",
      "  File \"/Users/avliu/opt/anaconda3/envs/hugging-face/lib/python3.10/site-packages/pandas/core/dtypes/cast.py\", line 1292, in astype_array_safe\n",
      "    new_values = astype_array(values, dtype, copy=copy)\n",
      "  File \"/Users/avliu/opt/anaconda3/envs/hugging-face/lib/python3.10/site-packages/pandas/core/dtypes/cast.py\", line 1237, in astype_array\n",
      "    values = astype_nansafe(values, dtype, copy=copy)\n",
      "  File \"/Users/avliu/opt/anaconda3/envs/hugging-face/lib/python3.10/site-packages/pandas/core/dtypes/cast.py\", line 1154, in astype_nansafe\n",
      "    return lib.astype_intsafe(arr, dtype)\n",
      "  File \"pandas/_libs/lib.pyx\", line 668, in pandas._libs.lib.astype_intsafe\n",
      "ValueError: invalid literal for int() with base 10: 'Rtg'\n"
     ]
    },
    {
     "name": "stdout",
     "output_type": "stream",
     "text": [
      "round: 1\n",
      "invalid literal for int() with base 10: 'Rtg'\n",
      "tournament_id: 596176\n"
     ]
    },
    {
     "name": "stderr",
     "output_type": "stream",
     "text": [
      "Traceback (most recent call last):\n",
      "  File \"/var/folders/t6/srtzy2f51db8mxxv7g_63f6h0000gr/T/ipykernel_72356/422094622.py\", line 19, in <cell line: 2>\n",
      "    games_df_list.append(parse_games_df(games_df))\n",
      "  File \"/var/folders/t6/srtzy2f51db8mxxv7g_63f6h0000gr/T/ipykernel_72356/3212580384.py\", line 18, in parse_games_df\n",
      "    games_df = games_df.astype({\n",
      "  File \"/Users/avliu/opt/anaconda3/envs/hugging-face/lib/python3.10/site-packages/pandas/core/generic.py\", line 5898, in astype\n",
      "    res_col = col.astype(dtype=cdt, copy=copy, errors=errors)\n",
      "  File \"/Users/avliu/opt/anaconda3/envs/hugging-face/lib/python3.10/site-packages/pandas/core/generic.py\", line 5912, in astype\n",
      "    new_data = self._mgr.astype(dtype=dtype, copy=copy, errors=errors)\n",
      "  File \"/Users/avliu/opt/anaconda3/envs/hugging-face/lib/python3.10/site-packages/pandas/core/internals/managers.py\", line 419, in astype\n",
      "    return self.apply(\"astype\", dtype=dtype, copy=copy, errors=errors)\n",
      "  File \"/Users/avliu/opt/anaconda3/envs/hugging-face/lib/python3.10/site-packages/pandas/core/internals/managers.py\", line 304, in apply\n",
      "    applied = getattr(b, f)(**kwargs)\n",
      "  File \"/Users/avliu/opt/anaconda3/envs/hugging-face/lib/python3.10/site-packages/pandas/core/internals/blocks.py\", line 580, in astype\n",
      "    new_values = astype_array_safe(values, dtype, copy=copy, errors=errors)\n",
      "  File \"/Users/avliu/opt/anaconda3/envs/hugging-face/lib/python3.10/site-packages/pandas/core/dtypes/cast.py\", line 1292, in astype_array_safe\n",
      "    new_values = astype_array(values, dtype, copy=copy)\n",
      "  File \"/Users/avliu/opt/anaconda3/envs/hugging-face/lib/python3.10/site-packages/pandas/core/dtypes/cast.py\", line 1237, in astype_array\n",
      "    values = astype_nansafe(values, dtype, copy=copy)\n",
      "  File \"/Users/avliu/opt/anaconda3/envs/hugging-face/lib/python3.10/site-packages/pandas/core/dtypes/cast.py\", line 1154, in astype_nansafe\n",
      "    return lib.astype_intsafe(arr, dtype)\n",
      "  File \"pandas/_libs/lib.pyx\", line 668, in pandas._libs.lib.astype_intsafe\n",
      "ValueError: invalid literal for int() with base 10: 'Rtg'\n"
     ]
    },
    {
     "name": "stdout",
     "output_type": "stream",
     "text": [
      "round: 1\n",
      "invalid literal for int() with base 10: 'Rtg'\n",
      "tournament_id: 594347\n"
     ]
    },
    {
     "name": "stderr",
     "output_type": "stream",
     "text": [
      "Traceback (most recent call last):\n",
      "  File \"/var/folders/t6/srtzy2f51db8mxxv7g_63f6h0000gr/T/ipykernel_72356/422094622.py\", line 19, in <cell line: 2>\n",
      "    games_df_list.append(parse_games_df(games_df))\n",
      "  File \"/var/folders/t6/srtzy2f51db8mxxv7g_63f6h0000gr/T/ipykernel_72356/3212580384.py\", line 18, in parse_games_df\n",
      "    games_df = games_df.astype({\n",
      "  File \"/Users/avliu/opt/anaconda3/envs/hugging-face/lib/python3.10/site-packages/pandas/core/generic.py\", line 5898, in astype\n",
      "    res_col = col.astype(dtype=cdt, copy=copy, errors=errors)\n",
      "  File \"/Users/avliu/opt/anaconda3/envs/hugging-face/lib/python3.10/site-packages/pandas/core/generic.py\", line 5912, in astype\n",
      "    new_data = self._mgr.astype(dtype=dtype, copy=copy, errors=errors)\n",
      "  File \"/Users/avliu/opt/anaconda3/envs/hugging-face/lib/python3.10/site-packages/pandas/core/internals/managers.py\", line 419, in astype\n",
      "    return self.apply(\"astype\", dtype=dtype, copy=copy, errors=errors)\n",
      "  File \"/Users/avliu/opt/anaconda3/envs/hugging-face/lib/python3.10/site-packages/pandas/core/internals/managers.py\", line 304, in apply\n",
      "    applied = getattr(b, f)(**kwargs)\n",
      "  File \"/Users/avliu/opt/anaconda3/envs/hugging-face/lib/python3.10/site-packages/pandas/core/internals/blocks.py\", line 580, in astype\n",
      "    new_values = astype_array_safe(values, dtype, copy=copy, errors=errors)\n",
      "  File \"/Users/avliu/opt/anaconda3/envs/hugging-face/lib/python3.10/site-packages/pandas/core/dtypes/cast.py\", line 1292, in astype_array_safe\n",
      "    new_values = astype_array(values, dtype, copy=copy)\n",
      "  File \"/Users/avliu/opt/anaconda3/envs/hugging-face/lib/python3.10/site-packages/pandas/core/dtypes/cast.py\", line 1237, in astype_array\n",
      "    values = astype_nansafe(values, dtype, copy=copy)\n",
      "  File \"/Users/avliu/opt/anaconda3/envs/hugging-face/lib/python3.10/site-packages/pandas/core/dtypes/cast.py\", line 1154, in astype_nansafe\n",
      "    return lib.astype_intsafe(arr, dtype)\n",
      "  File \"pandas/_libs/lib.pyx\", line 668, in pandas._libs.lib.astype_intsafe\n",
      "ValueError: invalid literal for int() with base 10: 'Rtg'\n"
     ]
    },
    {
     "name": "stdout",
     "output_type": "stream",
     "text": [
      "round: 1\n",
      "list index out of range\n",
      "tournament_id: 593802\n"
     ]
    },
    {
     "name": "stderr",
     "output_type": "stream",
     "text": [
      "Traceback (most recent call last):\n",
      "  File \"/var/folders/t6/srtzy2f51db8mxxv7g_63f6h0000gr/T/ipykernel_72356/422094622.py\", line 19, in <cell line: 2>\n",
      "    games_df_list.append(parse_games_df(games_df))\n",
      "  File \"/var/folders/t6/srtzy2f51db8mxxv7g_63f6h0000gr/T/ipykernel_72356/3212580384.py\", line 6, in parse_games_df\n",
      "    games_df.columns.values[name_idxs[0]] = \"left_name\"\n",
      "IndexError: list index out of range\n"
     ]
    },
    {
     "name": "stdout",
     "output_type": "stream",
     "text": [
      "round: 1\n",
      "list index out of range\n",
      "tournament_id: 593451\n"
     ]
    },
    {
     "name": "stderr",
     "output_type": "stream",
     "text": [
      "Traceback (most recent call last):\n",
      "  File \"/var/folders/t6/srtzy2f51db8mxxv7g_63f6h0000gr/T/ipykernel_72356/422094622.py\", line 19, in <cell line: 2>\n",
      "    games_df_list.append(parse_games_df(games_df))\n",
      "  File \"/var/folders/t6/srtzy2f51db8mxxv7g_63f6h0000gr/T/ipykernel_72356/3212580384.py\", line 6, in parse_games_df\n",
      "    games_df.columns.values[name_idxs[0]] = \"left_name\"\n",
      "IndexError: list index out of range\n"
     ]
    },
    {
     "name": "stdout",
     "output_type": "stream",
     "text": [
      "round: 1\n",
      "list index out of range\n",
      "tournament_id: 584201\n"
     ]
    },
    {
     "name": "stderr",
     "output_type": "stream",
     "text": [
      "Traceback (most recent call last):\n",
      "  File \"/var/folders/t6/srtzy2f51db8mxxv7g_63f6h0000gr/T/ipykernel_72356/422094622.py\", line 19, in <cell line: 2>\n",
      "    games_df_list.append(parse_games_df(games_df))\n",
      "  File \"/var/folders/t6/srtzy2f51db8mxxv7g_63f6h0000gr/T/ipykernel_72356/3212580384.py\", line 6, in parse_games_df\n",
      "    games_df.columns.values[name_idxs[0]] = \"left_name\"\n",
      "IndexError: list index out of range\n"
     ]
    },
    {
     "name": "stdout",
     "output_type": "stream",
     "text": [
      "round: 1\n",
      "invalid literal for int() with base 10: ''\n",
      "tournament_id: 575342\n"
     ]
    },
    {
     "name": "stderr",
     "output_type": "stream",
     "text": [
      "Traceback (most recent call last):\n",
      "  File \"/var/folders/t6/srtzy2f51db8mxxv7g_63f6h0000gr/T/ipykernel_72356/422094622.py\", line 19, in <cell line: 2>\n",
      "    games_df_list.append(parse_games_df(games_df))\n",
      "  File \"/var/folders/t6/srtzy2f51db8mxxv7g_63f6h0000gr/T/ipykernel_72356/3212580384.py\", line 18, in parse_games_df\n",
      "    games_df = games_df.astype({\n",
      "  File \"/Users/avliu/opt/anaconda3/envs/hugging-face/lib/python3.10/site-packages/pandas/core/generic.py\", line 5898, in astype\n",
      "    res_col = col.astype(dtype=cdt, copy=copy, errors=errors)\n",
      "  File \"/Users/avliu/opt/anaconda3/envs/hugging-face/lib/python3.10/site-packages/pandas/core/generic.py\", line 5912, in astype\n",
      "    new_data = self._mgr.astype(dtype=dtype, copy=copy, errors=errors)\n",
      "  File \"/Users/avliu/opt/anaconda3/envs/hugging-face/lib/python3.10/site-packages/pandas/core/internals/managers.py\", line 419, in astype\n",
      "    return self.apply(\"astype\", dtype=dtype, copy=copy, errors=errors)\n",
      "  File \"/Users/avliu/opt/anaconda3/envs/hugging-face/lib/python3.10/site-packages/pandas/core/internals/managers.py\", line 304, in apply\n",
      "    applied = getattr(b, f)(**kwargs)\n",
      "  File \"/Users/avliu/opt/anaconda3/envs/hugging-face/lib/python3.10/site-packages/pandas/core/internals/blocks.py\", line 580, in astype\n",
      "    new_values = astype_array_safe(values, dtype, copy=copy, errors=errors)\n",
      "  File \"/Users/avliu/opt/anaconda3/envs/hugging-face/lib/python3.10/site-packages/pandas/core/dtypes/cast.py\", line 1292, in astype_array_safe\n",
      "    new_values = astype_array(values, dtype, copy=copy)\n",
      "  File \"/Users/avliu/opt/anaconda3/envs/hugging-face/lib/python3.10/site-packages/pandas/core/dtypes/cast.py\", line 1237, in astype_array\n",
      "    values = astype_nansafe(values, dtype, copy=copy)\n",
      "  File \"/Users/avliu/opt/anaconda3/envs/hugging-face/lib/python3.10/site-packages/pandas/core/dtypes/cast.py\", line 1154, in astype_nansafe\n",
      "    return lib.astype_intsafe(arr, dtype)\n",
      "  File \"pandas/_libs/lib.pyx\", line 668, in pandas._libs.lib.astype_intsafe\n",
      "ValueError: invalid literal for int() with base 10: ''\n"
     ]
    },
    {
     "name": "stdout",
     "output_type": "stream",
     "text": [
      "round: 1\n",
      "round: 2\n",
      "round: 3\n",
      "round: 4\n",
      "round: 5\n",
      "round: 6\n",
      "round: 7\n",
      "round: 8\n",
      "round: 9\n",
      "tournament_id: 584876\n",
      "round: 1\n",
      "invalid literal for int() with base 10: ''\n",
      "tournament_id: 584877\n"
     ]
    },
    {
     "name": "stderr",
     "output_type": "stream",
     "text": [
      "Traceback (most recent call last):\n",
      "  File \"/var/folders/t6/srtzy2f51db8mxxv7g_63f6h0000gr/T/ipykernel_72356/422094622.py\", line 19, in <cell line: 2>\n",
      "    games_df_list.append(parse_games_df(games_df))\n",
      "  File \"/var/folders/t6/srtzy2f51db8mxxv7g_63f6h0000gr/T/ipykernel_72356/3212580384.py\", line 18, in parse_games_df\n",
      "    games_df = games_df.astype({\n",
      "  File \"/Users/avliu/opt/anaconda3/envs/hugging-face/lib/python3.10/site-packages/pandas/core/generic.py\", line 5898, in astype\n",
      "    res_col = col.astype(dtype=cdt, copy=copy, errors=errors)\n",
      "  File \"/Users/avliu/opt/anaconda3/envs/hugging-face/lib/python3.10/site-packages/pandas/core/generic.py\", line 5912, in astype\n",
      "    new_data = self._mgr.astype(dtype=dtype, copy=copy, errors=errors)\n",
      "  File \"/Users/avliu/opt/anaconda3/envs/hugging-face/lib/python3.10/site-packages/pandas/core/internals/managers.py\", line 419, in astype\n",
      "    return self.apply(\"astype\", dtype=dtype, copy=copy, errors=errors)\n",
      "  File \"/Users/avliu/opt/anaconda3/envs/hugging-face/lib/python3.10/site-packages/pandas/core/internals/managers.py\", line 304, in apply\n",
      "    applied = getattr(b, f)(**kwargs)\n",
      "  File \"/Users/avliu/opt/anaconda3/envs/hugging-face/lib/python3.10/site-packages/pandas/core/internals/blocks.py\", line 580, in astype\n",
      "    new_values = astype_array_safe(values, dtype, copy=copy, errors=errors)\n",
      "  File \"/Users/avliu/opt/anaconda3/envs/hugging-face/lib/python3.10/site-packages/pandas/core/dtypes/cast.py\", line 1292, in astype_array_safe\n",
      "    new_values = astype_array(values, dtype, copy=copy)\n",
      "  File \"/Users/avliu/opt/anaconda3/envs/hugging-face/lib/python3.10/site-packages/pandas/core/dtypes/cast.py\", line 1237, in astype_array\n",
      "    values = astype_nansafe(values, dtype, copy=copy)\n",
      "  File \"/Users/avliu/opt/anaconda3/envs/hugging-face/lib/python3.10/site-packages/pandas/core/dtypes/cast.py\", line 1154, in astype_nansafe\n",
      "    return lib.astype_intsafe(arr, dtype)\n",
      "  File \"pandas/_libs/lib.pyx\", line 668, in pandas._libs.lib.astype_intsafe\n",
      "ValueError: invalid literal for int() with base 10: ''\n"
     ]
    },
    {
     "name": "stdout",
     "output_type": "stream",
     "text": [
      "round: 1\n",
      "invalid literal for int() with base 10: ''\n",
      "tournament_id: 581976\n"
     ]
    },
    {
     "name": "stderr",
     "output_type": "stream",
     "text": [
      "Traceback (most recent call last):\n",
      "  File \"/var/folders/t6/srtzy2f51db8mxxv7g_63f6h0000gr/T/ipykernel_72356/422094622.py\", line 19, in <cell line: 2>\n",
      "    games_df_list.append(parse_games_df(games_df))\n",
      "  File \"/var/folders/t6/srtzy2f51db8mxxv7g_63f6h0000gr/T/ipykernel_72356/3212580384.py\", line 18, in parse_games_df\n",
      "    games_df = games_df.astype({\n",
      "  File \"/Users/avliu/opt/anaconda3/envs/hugging-face/lib/python3.10/site-packages/pandas/core/generic.py\", line 5898, in astype\n",
      "    res_col = col.astype(dtype=cdt, copy=copy, errors=errors)\n",
      "  File \"/Users/avliu/opt/anaconda3/envs/hugging-face/lib/python3.10/site-packages/pandas/core/generic.py\", line 5912, in astype\n",
      "    new_data = self._mgr.astype(dtype=dtype, copy=copy, errors=errors)\n",
      "  File \"/Users/avliu/opt/anaconda3/envs/hugging-face/lib/python3.10/site-packages/pandas/core/internals/managers.py\", line 419, in astype\n",
      "    return self.apply(\"astype\", dtype=dtype, copy=copy, errors=errors)\n",
      "  File \"/Users/avliu/opt/anaconda3/envs/hugging-face/lib/python3.10/site-packages/pandas/core/internals/managers.py\", line 304, in apply\n",
      "    applied = getattr(b, f)(**kwargs)\n",
      "  File \"/Users/avliu/opt/anaconda3/envs/hugging-face/lib/python3.10/site-packages/pandas/core/internals/blocks.py\", line 580, in astype\n",
      "    new_values = astype_array_safe(values, dtype, copy=copy, errors=errors)\n",
      "  File \"/Users/avliu/opt/anaconda3/envs/hugging-face/lib/python3.10/site-packages/pandas/core/dtypes/cast.py\", line 1292, in astype_array_safe\n",
      "    new_values = astype_array(values, dtype, copy=copy)\n",
      "  File \"/Users/avliu/opt/anaconda3/envs/hugging-face/lib/python3.10/site-packages/pandas/core/dtypes/cast.py\", line 1237, in astype_array\n",
      "    values = astype_nansafe(values, dtype, copy=copy)\n",
      "  File \"/Users/avliu/opt/anaconda3/envs/hugging-face/lib/python3.10/site-packages/pandas/core/dtypes/cast.py\", line 1154, in astype_nansafe\n",
      "    return lib.astype_intsafe(arr, dtype)\n",
      "  File \"pandas/_libs/lib.pyx\", line 668, in pandas._libs.lib.astype_intsafe\n",
      "ValueError: invalid literal for int() with base 10: ''\n"
     ]
    },
    {
     "name": "stdout",
     "output_type": "stream",
     "text": [
      "round: 1\n",
      "cannot convert float NaN to integer\n",
      "tournament_id: 584878\n"
     ]
    },
    {
     "name": "stderr",
     "output_type": "stream",
     "text": [
      "Traceback (most recent call last):\n",
      "  File \"/var/folders/t6/srtzy2f51db8mxxv7g_63f6h0000gr/T/ipykernel_72356/422094622.py\", line 19, in <cell line: 2>\n",
      "    games_df_list.append(parse_games_df(games_df))\n",
      "  File \"/var/folders/t6/srtzy2f51db8mxxv7g_63f6h0000gr/T/ipykernel_72356/3212580384.py\", line 18, in parse_games_df\n",
      "    games_df = games_df.astype({\n",
      "  File \"/Users/avliu/opt/anaconda3/envs/hugging-face/lib/python3.10/site-packages/pandas/core/generic.py\", line 5898, in astype\n",
      "    res_col = col.astype(dtype=cdt, copy=copy, errors=errors)\n",
      "  File \"/Users/avliu/opt/anaconda3/envs/hugging-face/lib/python3.10/site-packages/pandas/core/generic.py\", line 5912, in astype\n",
      "    new_data = self._mgr.astype(dtype=dtype, copy=copy, errors=errors)\n",
      "  File \"/Users/avliu/opt/anaconda3/envs/hugging-face/lib/python3.10/site-packages/pandas/core/internals/managers.py\", line 419, in astype\n",
      "    return self.apply(\"astype\", dtype=dtype, copy=copy, errors=errors)\n",
      "  File \"/Users/avliu/opt/anaconda3/envs/hugging-face/lib/python3.10/site-packages/pandas/core/internals/managers.py\", line 304, in apply\n",
      "    applied = getattr(b, f)(**kwargs)\n",
      "  File \"/Users/avliu/opt/anaconda3/envs/hugging-face/lib/python3.10/site-packages/pandas/core/internals/blocks.py\", line 580, in astype\n",
      "    new_values = astype_array_safe(values, dtype, copy=copy, errors=errors)\n",
      "  File \"/Users/avliu/opt/anaconda3/envs/hugging-face/lib/python3.10/site-packages/pandas/core/dtypes/cast.py\", line 1292, in astype_array_safe\n",
      "    new_values = astype_array(values, dtype, copy=copy)\n",
      "  File \"/Users/avliu/opt/anaconda3/envs/hugging-face/lib/python3.10/site-packages/pandas/core/dtypes/cast.py\", line 1237, in astype_array\n",
      "    values = astype_nansafe(values, dtype, copy=copy)\n",
      "  File \"/Users/avliu/opt/anaconda3/envs/hugging-face/lib/python3.10/site-packages/pandas/core/dtypes/cast.py\", line 1154, in astype_nansafe\n",
      "    return lib.astype_intsafe(arr, dtype)\n",
      "  File \"pandas/_libs/lib.pyx\", line 668, in pandas._libs.lib.astype_intsafe\n",
      "ValueError: cannot convert float NaN to integer\n"
     ]
    },
    {
     "name": "stdout",
     "output_type": "stream",
     "text": [
      "round: 1\n",
      "cannot convert float NaN to integer\n",
      "tournament_id: 582183\n"
     ]
    },
    {
     "name": "stderr",
     "output_type": "stream",
     "text": [
      "Traceback (most recent call last):\n",
      "  File \"/var/folders/t6/srtzy2f51db8mxxv7g_63f6h0000gr/T/ipykernel_72356/422094622.py\", line 19, in <cell line: 2>\n",
      "    games_df_list.append(parse_games_df(games_df))\n",
      "  File \"/var/folders/t6/srtzy2f51db8mxxv7g_63f6h0000gr/T/ipykernel_72356/3212580384.py\", line 18, in parse_games_df\n",
      "    games_df = games_df.astype({\n",
      "  File \"/Users/avliu/opt/anaconda3/envs/hugging-face/lib/python3.10/site-packages/pandas/core/generic.py\", line 5898, in astype\n",
      "    res_col = col.astype(dtype=cdt, copy=copy, errors=errors)\n",
      "  File \"/Users/avliu/opt/anaconda3/envs/hugging-face/lib/python3.10/site-packages/pandas/core/generic.py\", line 5912, in astype\n",
      "    new_data = self._mgr.astype(dtype=dtype, copy=copy, errors=errors)\n",
      "  File \"/Users/avliu/opt/anaconda3/envs/hugging-face/lib/python3.10/site-packages/pandas/core/internals/managers.py\", line 419, in astype\n",
      "    return self.apply(\"astype\", dtype=dtype, copy=copy, errors=errors)\n",
      "  File \"/Users/avliu/opt/anaconda3/envs/hugging-face/lib/python3.10/site-packages/pandas/core/internals/managers.py\", line 304, in apply\n",
      "    applied = getattr(b, f)(**kwargs)\n",
      "  File \"/Users/avliu/opt/anaconda3/envs/hugging-face/lib/python3.10/site-packages/pandas/core/internals/blocks.py\", line 580, in astype\n",
      "    new_values = astype_array_safe(values, dtype, copy=copy, errors=errors)\n",
      "  File \"/Users/avliu/opt/anaconda3/envs/hugging-face/lib/python3.10/site-packages/pandas/core/dtypes/cast.py\", line 1292, in astype_array_safe\n",
      "    new_values = astype_array(values, dtype, copy=copy)\n",
      "  File \"/Users/avliu/opt/anaconda3/envs/hugging-face/lib/python3.10/site-packages/pandas/core/dtypes/cast.py\", line 1237, in astype_array\n",
      "    values = astype_nansafe(values, dtype, copy=copy)\n",
      "  File \"/Users/avliu/opt/anaconda3/envs/hugging-face/lib/python3.10/site-packages/pandas/core/dtypes/cast.py\", line 1154, in astype_nansafe\n",
      "    return lib.astype_intsafe(arr, dtype)\n",
      "  File \"pandas/_libs/lib.pyx\", line 668, in pandas._libs.lib.astype_intsafe\n",
      "ValueError: cannot convert float NaN to integer\n"
     ]
    },
    {
     "name": "stdout",
     "output_type": "stream",
     "text": [
      "round: 1\n",
      "cannot convert float NaN to integer\n",
      "tournament_id: 582202\n"
     ]
    },
    {
     "name": "stderr",
     "output_type": "stream",
     "text": [
      "Traceback (most recent call last):\n",
      "  File \"/var/folders/t6/srtzy2f51db8mxxv7g_63f6h0000gr/T/ipykernel_72356/422094622.py\", line 19, in <cell line: 2>\n",
      "    games_df_list.append(parse_games_df(games_df))\n",
      "  File \"/var/folders/t6/srtzy2f51db8mxxv7g_63f6h0000gr/T/ipykernel_72356/3212580384.py\", line 18, in parse_games_df\n",
      "    games_df = games_df.astype({\n",
      "  File \"/Users/avliu/opt/anaconda3/envs/hugging-face/lib/python3.10/site-packages/pandas/core/generic.py\", line 5898, in astype\n",
      "    res_col = col.astype(dtype=cdt, copy=copy, errors=errors)\n",
      "  File \"/Users/avliu/opt/anaconda3/envs/hugging-face/lib/python3.10/site-packages/pandas/core/generic.py\", line 5912, in astype\n",
      "    new_data = self._mgr.astype(dtype=dtype, copy=copy, errors=errors)\n",
      "  File \"/Users/avliu/opt/anaconda3/envs/hugging-face/lib/python3.10/site-packages/pandas/core/internals/managers.py\", line 419, in astype\n",
      "    return self.apply(\"astype\", dtype=dtype, copy=copy, errors=errors)\n",
      "  File \"/Users/avliu/opt/anaconda3/envs/hugging-face/lib/python3.10/site-packages/pandas/core/internals/managers.py\", line 304, in apply\n",
      "    applied = getattr(b, f)(**kwargs)\n",
      "  File \"/Users/avliu/opt/anaconda3/envs/hugging-face/lib/python3.10/site-packages/pandas/core/internals/blocks.py\", line 580, in astype\n",
      "    new_values = astype_array_safe(values, dtype, copy=copy, errors=errors)\n",
      "  File \"/Users/avliu/opt/anaconda3/envs/hugging-face/lib/python3.10/site-packages/pandas/core/dtypes/cast.py\", line 1292, in astype_array_safe\n",
      "    new_values = astype_array(values, dtype, copy=copy)\n",
      "  File \"/Users/avliu/opt/anaconda3/envs/hugging-face/lib/python3.10/site-packages/pandas/core/dtypes/cast.py\", line 1237, in astype_array\n",
      "    values = astype_nansafe(values, dtype, copy=copy)\n",
      "  File \"/Users/avliu/opt/anaconda3/envs/hugging-face/lib/python3.10/site-packages/pandas/core/dtypes/cast.py\", line 1154, in astype_nansafe\n",
      "    return lib.astype_intsafe(arr, dtype)\n",
      "  File \"pandas/_libs/lib.pyx\", line 668, in pandas._libs.lib.astype_intsafe\n",
      "ValueError: cannot convert float NaN to integer\n"
     ]
    },
    {
     "name": "stdout",
     "output_type": "stream",
     "text": [
      "round: 1\n",
      "invalid literal for int() with base 10: ''\n",
      "tournament_id: 582214\n"
     ]
    },
    {
     "name": "stderr",
     "output_type": "stream",
     "text": [
      "Traceback (most recent call last):\n",
      "  File \"/var/folders/t6/srtzy2f51db8mxxv7g_63f6h0000gr/T/ipykernel_72356/422094622.py\", line 19, in <cell line: 2>\n",
      "    games_df_list.append(parse_games_df(games_df))\n",
      "  File \"/var/folders/t6/srtzy2f51db8mxxv7g_63f6h0000gr/T/ipykernel_72356/3212580384.py\", line 18, in parse_games_df\n",
      "    games_df = games_df.astype({\n",
      "  File \"/Users/avliu/opt/anaconda3/envs/hugging-face/lib/python3.10/site-packages/pandas/core/generic.py\", line 5898, in astype\n",
      "    res_col = col.astype(dtype=cdt, copy=copy, errors=errors)\n",
      "  File \"/Users/avliu/opt/anaconda3/envs/hugging-face/lib/python3.10/site-packages/pandas/core/generic.py\", line 5912, in astype\n",
      "    new_data = self._mgr.astype(dtype=dtype, copy=copy, errors=errors)\n",
      "  File \"/Users/avliu/opt/anaconda3/envs/hugging-face/lib/python3.10/site-packages/pandas/core/internals/managers.py\", line 419, in astype\n",
      "    return self.apply(\"astype\", dtype=dtype, copy=copy, errors=errors)\n",
      "  File \"/Users/avliu/opt/anaconda3/envs/hugging-face/lib/python3.10/site-packages/pandas/core/internals/managers.py\", line 304, in apply\n",
      "    applied = getattr(b, f)(**kwargs)\n",
      "  File \"/Users/avliu/opt/anaconda3/envs/hugging-face/lib/python3.10/site-packages/pandas/core/internals/blocks.py\", line 580, in astype\n",
      "    new_values = astype_array_safe(values, dtype, copy=copy, errors=errors)\n",
      "  File \"/Users/avliu/opt/anaconda3/envs/hugging-face/lib/python3.10/site-packages/pandas/core/dtypes/cast.py\", line 1292, in astype_array_safe\n",
      "    new_values = astype_array(values, dtype, copy=copy)\n",
      "  File \"/Users/avliu/opt/anaconda3/envs/hugging-face/lib/python3.10/site-packages/pandas/core/dtypes/cast.py\", line 1237, in astype_array\n",
      "    values = astype_nansafe(values, dtype, copy=copy)\n",
      "  File \"/Users/avliu/opt/anaconda3/envs/hugging-face/lib/python3.10/site-packages/pandas/core/dtypes/cast.py\", line 1154, in astype_nansafe\n",
      "    return lib.astype_intsafe(arr, dtype)\n",
      "  File \"pandas/_libs/lib.pyx\", line 668, in pandas._libs.lib.astype_intsafe\n",
      "ValueError: invalid literal for int() with base 10: ''\n"
     ]
    },
    {
     "name": "stdout",
     "output_type": "stream",
     "text": [
      "round: 1\n",
      "invalid literal for int() with base 10: 'Rtg'\n",
      "tournament_id: 582175\n"
     ]
    },
    {
     "name": "stderr",
     "output_type": "stream",
     "text": [
      "Traceback (most recent call last):\n",
      "  File \"/var/folders/t6/srtzy2f51db8mxxv7g_63f6h0000gr/T/ipykernel_72356/422094622.py\", line 19, in <cell line: 2>\n",
      "    games_df_list.append(parse_games_df(games_df))\n",
      "  File \"/var/folders/t6/srtzy2f51db8mxxv7g_63f6h0000gr/T/ipykernel_72356/3212580384.py\", line 18, in parse_games_df\n",
      "    games_df = games_df.astype({\n",
      "  File \"/Users/avliu/opt/anaconda3/envs/hugging-face/lib/python3.10/site-packages/pandas/core/generic.py\", line 5898, in astype\n",
      "    res_col = col.astype(dtype=cdt, copy=copy, errors=errors)\n",
      "  File \"/Users/avliu/opt/anaconda3/envs/hugging-face/lib/python3.10/site-packages/pandas/core/generic.py\", line 5912, in astype\n",
      "    new_data = self._mgr.astype(dtype=dtype, copy=copy, errors=errors)\n",
      "  File \"/Users/avliu/opt/anaconda3/envs/hugging-face/lib/python3.10/site-packages/pandas/core/internals/managers.py\", line 419, in astype\n",
      "    return self.apply(\"astype\", dtype=dtype, copy=copy, errors=errors)\n",
      "  File \"/Users/avliu/opt/anaconda3/envs/hugging-face/lib/python3.10/site-packages/pandas/core/internals/managers.py\", line 304, in apply\n",
      "    applied = getattr(b, f)(**kwargs)\n",
      "  File \"/Users/avliu/opt/anaconda3/envs/hugging-face/lib/python3.10/site-packages/pandas/core/internals/blocks.py\", line 580, in astype\n",
      "    new_values = astype_array_safe(values, dtype, copy=copy, errors=errors)\n",
      "  File \"/Users/avliu/opt/anaconda3/envs/hugging-face/lib/python3.10/site-packages/pandas/core/dtypes/cast.py\", line 1292, in astype_array_safe\n",
      "    new_values = astype_array(values, dtype, copy=copy)\n",
      "  File \"/Users/avliu/opt/anaconda3/envs/hugging-face/lib/python3.10/site-packages/pandas/core/dtypes/cast.py\", line 1237, in astype_array\n",
      "    values = astype_nansafe(values, dtype, copy=copy)\n",
      "  File \"/Users/avliu/opt/anaconda3/envs/hugging-face/lib/python3.10/site-packages/pandas/core/dtypes/cast.py\", line 1154, in astype_nansafe\n",
      "    return lib.astype_intsafe(arr, dtype)\n",
      "  File \"pandas/_libs/lib.pyx\", line 668, in pandas._libs.lib.astype_intsafe\n",
      "ValueError: invalid literal for int() with base 10: 'Rtg'\n"
     ]
    },
    {
     "name": "stdout",
     "output_type": "stream",
     "text": [
      "round: 1\n",
      "invalid literal for int() with base 10: ''\n",
      "tournament_id: 582144\n"
     ]
    },
    {
     "name": "stderr",
     "output_type": "stream",
     "text": [
      "Traceback (most recent call last):\n",
      "  File \"/var/folders/t6/srtzy2f51db8mxxv7g_63f6h0000gr/T/ipykernel_72356/422094622.py\", line 19, in <cell line: 2>\n",
      "    games_df_list.append(parse_games_df(games_df))\n",
      "  File \"/var/folders/t6/srtzy2f51db8mxxv7g_63f6h0000gr/T/ipykernel_72356/3212580384.py\", line 18, in parse_games_df\n",
      "    games_df = games_df.astype({\n",
      "  File \"/Users/avliu/opt/anaconda3/envs/hugging-face/lib/python3.10/site-packages/pandas/core/generic.py\", line 5898, in astype\n",
      "    res_col = col.astype(dtype=cdt, copy=copy, errors=errors)\n",
      "  File \"/Users/avliu/opt/anaconda3/envs/hugging-face/lib/python3.10/site-packages/pandas/core/generic.py\", line 5912, in astype\n",
      "    new_data = self._mgr.astype(dtype=dtype, copy=copy, errors=errors)\n",
      "  File \"/Users/avliu/opt/anaconda3/envs/hugging-face/lib/python3.10/site-packages/pandas/core/internals/managers.py\", line 419, in astype\n",
      "    return self.apply(\"astype\", dtype=dtype, copy=copy, errors=errors)\n",
      "  File \"/Users/avliu/opt/anaconda3/envs/hugging-face/lib/python3.10/site-packages/pandas/core/internals/managers.py\", line 304, in apply\n",
      "    applied = getattr(b, f)(**kwargs)\n",
      "  File \"/Users/avliu/opt/anaconda3/envs/hugging-face/lib/python3.10/site-packages/pandas/core/internals/blocks.py\", line 580, in astype\n",
      "    new_values = astype_array_safe(values, dtype, copy=copy, errors=errors)\n",
      "  File \"/Users/avliu/opt/anaconda3/envs/hugging-face/lib/python3.10/site-packages/pandas/core/dtypes/cast.py\", line 1292, in astype_array_safe\n",
      "    new_values = astype_array(values, dtype, copy=copy)\n",
      "  File \"/Users/avliu/opt/anaconda3/envs/hugging-face/lib/python3.10/site-packages/pandas/core/dtypes/cast.py\", line 1237, in astype_array\n",
      "    values = astype_nansafe(values, dtype, copy=copy)\n",
      "  File \"/Users/avliu/opt/anaconda3/envs/hugging-face/lib/python3.10/site-packages/pandas/core/dtypes/cast.py\", line 1154, in astype_nansafe\n",
      "    return lib.astype_intsafe(arr, dtype)\n",
      "  File \"pandas/_libs/lib.pyx\", line 668, in pandas._libs.lib.astype_intsafe\n",
      "ValueError: invalid literal for int() with base 10: ''\n"
     ]
    },
    {
     "name": "stdout",
     "output_type": "stream",
     "text": [
      "round: 1\n",
      "invalid literal for int() with base 10: 'Rtg'\n",
      "tournament_id: 582192\n"
     ]
    },
    {
     "name": "stderr",
     "output_type": "stream",
     "text": [
      "Traceback (most recent call last):\n",
      "  File \"/var/folders/t6/srtzy2f51db8mxxv7g_63f6h0000gr/T/ipykernel_72356/422094622.py\", line 19, in <cell line: 2>\n",
      "    games_df_list.append(parse_games_df(games_df))\n",
      "  File \"/var/folders/t6/srtzy2f51db8mxxv7g_63f6h0000gr/T/ipykernel_72356/3212580384.py\", line 18, in parse_games_df\n",
      "    games_df = games_df.astype({\n",
      "  File \"/Users/avliu/opt/anaconda3/envs/hugging-face/lib/python3.10/site-packages/pandas/core/generic.py\", line 5898, in astype\n",
      "    res_col = col.astype(dtype=cdt, copy=copy, errors=errors)\n",
      "  File \"/Users/avliu/opt/anaconda3/envs/hugging-face/lib/python3.10/site-packages/pandas/core/generic.py\", line 5912, in astype\n",
      "    new_data = self._mgr.astype(dtype=dtype, copy=copy, errors=errors)\n",
      "  File \"/Users/avliu/opt/anaconda3/envs/hugging-face/lib/python3.10/site-packages/pandas/core/internals/managers.py\", line 419, in astype\n",
      "    return self.apply(\"astype\", dtype=dtype, copy=copy, errors=errors)\n",
      "  File \"/Users/avliu/opt/anaconda3/envs/hugging-face/lib/python3.10/site-packages/pandas/core/internals/managers.py\", line 304, in apply\n",
      "    applied = getattr(b, f)(**kwargs)\n",
      "  File \"/Users/avliu/opt/anaconda3/envs/hugging-face/lib/python3.10/site-packages/pandas/core/internals/blocks.py\", line 580, in astype\n",
      "    new_values = astype_array_safe(values, dtype, copy=copy, errors=errors)\n",
      "  File \"/Users/avliu/opt/anaconda3/envs/hugging-face/lib/python3.10/site-packages/pandas/core/dtypes/cast.py\", line 1292, in astype_array_safe\n",
      "    new_values = astype_array(values, dtype, copy=copy)\n",
      "  File \"/Users/avliu/opt/anaconda3/envs/hugging-face/lib/python3.10/site-packages/pandas/core/dtypes/cast.py\", line 1237, in astype_array\n",
      "    values = astype_nansafe(values, dtype, copy=copy)\n",
      "  File \"/Users/avliu/opt/anaconda3/envs/hugging-face/lib/python3.10/site-packages/pandas/core/dtypes/cast.py\", line 1154, in astype_nansafe\n",
      "    return lib.astype_intsafe(arr, dtype)\n",
      "  File \"pandas/_libs/lib.pyx\", line 668, in pandas._libs.lib.astype_intsafe\n",
      "ValueError: invalid literal for int() with base 10: 'Rtg'\n"
     ]
    },
    {
     "name": "stdout",
     "output_type": "stream",
     "text": [
      "round: 1\n",
      "cannot convert float NaN to integer\n",
      "tournament_id: 582222\n"
     ]
    },
    {
     "name": "stderr",
     "output_type": "stream",
     "text": [
      "Traceback (most recent call last):\n",
      "  File \"/var/folders/t6/srtzy2f51db8mxxv7g_63f6h0000gr/T/ipykernel_72356/422094622.py\", line 19, in <cell line: 2>\n",
      "    games_df_list.append(parse_games_df(games_df))\n",
      "  File \"/var/folders/t6/srtzy2f51db8mxxv7g_63f6h0000gr/T/ipykernel_72356/3212580384.py\", line 18, in parse_games_df\n",
      "    games_df = games_df.astype({\n",
      "  File \"/Users/avliu/opt/anaconda3/envs/hugging-face/lib/python3.10/site-packages/pandas/core/generic.py\", line 5898, in astype\n",
      "    res_col = col.astype(dtype=cdt, copy=copy, errors=errors)\n",
      "  File \"/Users/avliu/opt/anaconda3/envs/hugging-face/lib/python3.10/site-packages/pandas/core/generic.py\", line 5912, in astype\n",
      "    new_data = self._mgr.astype(dtype=dtype, copy=copy, errors=errors)\n",
      "  File \"/Users/avliu/opt/anaconda3/envs/hugging-face/lib/python3.10/site-packages/pandas/core/internals/managers.py\", line 419, in astype\n",
      "    return self.apply(\"astype\", dtype=dtype, copy=copy, errors=errors)\n",
      "  File \"/Users/avliu/opt/anaconda3/envs/hugging-face/lib/python3.10/site-packages/pandas/core/internals/managers.py\", line 304, in apply\n",
      "    applied = getattr(b, f)(**kwargs)\n",
      "  File \"/Users/avliu/opt/anaconda3/envs/hugging-face/lib/python3.10/site-packages/pandas/core/internals/blocks.py\", line 580, in astype\n",
      "    new_values = astype_array_safe(values, dtype, copy=copy, errors=errors)\n",
      "  File \"/Users/avliu/opt/anaconda3/envs/hugging-face/lib/python3.10/site-packages/pandas/core/dtypes/cast.py\", line 1292, in astype_array_safe\n",
      "    new_values = astype_array(values, dtype, copy=copy)\n",
      "  File \"/Users/avliu/opt/anaconda3/envs/hugging-face/lib/python3.10/site-packages/pandas/core/dtypes/cast.py\", line 1237, in astype_array\n",
      "    values = astype_nansafe(values, dtype, copy=copy)\n",
      "  File \"/Users/avliu/opt/anaconda3/envs/hugging-face/lib/python3.10/site-packages/pandas/core/dtypes/cast.py\", line 1154, in astype_nansafe\n",
      "    return lib.astype_intsafe(arr, dtype)\n",
      "  File \"pandas/_libs/lib.pyx\", line 668, in pandas._libs.lib.astype_intsafe\n",
      "ValueError: cannot convert float NaN to integer\n"
     ]
    },
    {
     "name": "stdout",
     "output_type": "stream",
     "text": [
      "round: 1\n",
      "cannot convert float NaN to integer\n",
      "tournament_id: 582415\n"
     ]
    },
    {
     "name": "stderr",
     "output_type": "stream",
     "text": [
      "Traceback (most recent call last):\n",
      "  File \"/var/folders/t6/srtzy2f51db8mxxv7g_63f6h0000gr/T/ipykernel_72356/422094622.py\", line 19, in <cell line: 2>\n",
      "    games_df_list.append(parse_games_df(games_df))\n",
      "  File \"/var/folders/t6/srtzy2f51db8mxxv7g_63f6h0000gr/T/ipykernel_72356/3212580384.py\", line 18, in parse_games_df\n",
      "    games_df = games_df.astype({\n",
      "  File \"/Users/avliu/opt/anaconda3/envs/hugging-face/lib/python3.10/site-packages/pandas/core/generic.py\", line 5898, in astype\n",
      "    res_col = col.astype(dtype=cdt, copy=copy, errors=errors)\n",
      "  File \"/Users/avliu/opt/anaconda3/envs/hugging-face/lib/python3.10/site-packages/pandas/core/generic.py\", line 5912, in astype\n",
      "    new_data = self._mgr.astype(dtype=dtype, copy=copy, errors=errors)\n",
      "  File \"/Users/avliu/opt/anaconda3/envs/hugging-face/lib/python3.10/site-packages/pandas/core/internals/managers.py\", line 419, in astype\n",
      "    return self.apply(\"astype\", dtype=dtype, copy=copy, errors=errors)\n",
      "  File \"/Users/avliu/opt/anaconda3/envs/hugging-face/lib/python3.10/site-packages/pandas/core/internals/managers.py\", line 304, in apply\n",
      "    applied = getattr(b, f)(**kwargs)\n",
      "  File \"/Users/avliu/opt/anaconda3/envs/hugging-face/lib/python3.10/site-packages/pandas/core/internals/blocks.py\", line 580, in astype\n",
      "    new_values = astype_array_safe(values, dtype, copy=copy, errors=errors)\n",
      "  File \"/Users/avliu/opt/anaconda3/envs/hugging-face/lib/python3.10/site-packages/pandas/core/dtypes/cast.py\", line 1292, in astype_array_safe\n",
      "    new_values = astype_array(values, dtype, copy=copy)\n",
      "  File \"/Users/avliu/opt/anaconda3/envs/hugging-face/lib/python3.10/site-packages/pandas/core/dtypes/cast.py\", line 1237, in astype_array\n",
      "    values = astype_nansafe(values, dtype, copy=copy)\n",
      "  File \"/Users/avliu/opt/anaconda3/envs/hugging-face/lib/python3.10/site-packages/pandas/core/dtypes/cast.py\", line 1154, in astype_nansafe\n",
      "    return lib.astype_intsafe(arr, dtype)\n",
      "  File \"pandas/_libs/lib.pyx\", line 668, in pandas._libs.lib.astype_intsafe\n",
      "ValueError: cannot convert float NaN to integer\n"
     ]
    },
    {
     "name": "stdout",
     "output_type": "stream",
     "text": [
      "round: 1\n",
      "cannot convert float NaN to integer\n",
      "tournament_id: 582730\n"
     ]
    },
    {
     "name": "stderr",
     "output_type": "stream",
     "text": [
      "Traceback (most recent call last):\n",
      "  File \"/var/folders/t6/srtzy2f51db8mxxv7g_63f6h0000gr/T/ipykernel_72356/422094622.py\", line 19, in <cell line: 2>\n",
      "    games_df_list.append(parse_games_df(games_df))\n",
      "  File \"/var/folders/t6/srtzy2f51db8mxxv7g_63f6h0000gr/T/ipykernel_72356/3212580384.py\", line 18, in parse_games_df\n",
      "    games_df = games_df.astype({\n",
      "  File \"/Users/avliu/opt/anaconda3/envs/hugging-face/lib/python3.10/site-packages/pandas/core/generic.py\", line 5898, in astype\n",
      "    res_col = col.astype(dtype=cdt, copy=copy, errors=errors)\n",
      "  File \"/Users/avliu/opt/anaconda3/envs/hugging-face/lib/python3.10/site-packages/pandas/core/generic.py\", line 5912, in astype\n",
      "    new_data = self._mgr.astype(dtype=dtype, copy=copy, errors=errors)\n",
      "  File \"/Users/avliu/opt/anaconda3/envs/hugging-face/lib/python3.10/site-packages/pandas/core/internals/managers.py\", line 419, in astype\n",
      "    return self.apply(\"astype\", dtype=dtype, copy=copy, errors=errors)\n",
      "  File \"/Users/avliu/opt/anaconda3/envs/hugging-face/lib/python3.10/site-packages/pandas/core/internals/managers.py\", line 304, in apply\n",
      "    applied = getattr(b, f)(**kwargs)\n",
      "  File \"/Users/avliu/opt/anaconda3/envs/hugging-face/lib/python3.10/site-packages/pandas/core/internals/blocks.py\", line 580, in astype\n",
      "    new_values = astype_array_safe(values, dtype, copy=copy, errors=errors)\n",
      "  File \"/Users/avliu/opt/anaconda3/envs/hugging-face/lib/python3.10/site-packages/pandas/core/dtypes/cast.py\", line 1292, in astype_array_safe\n",
      "    new_values = astype_array(values, dtype, copy=copy)\n",
      "  File \"/Users/avliu/opt/anaconda3/envs/hugging-face/lib/python3.10/site-packages/pandas/core/dtypes/cast.py\", line 1237, in astype_array\n",
      "    values = astype_nansafe(values, dtype, copy=copy)\n",
      "  File \"/Users/avliu/opt/anaconda3/envs/hugging-face/lib/python3.10/site-packages/pandas/core/dtypes/cast.py\", line 1154, in astype_nansafe\n",
      "    return lib.astype_intsafe(arr, dtype)\n",
      "  File \"pandas/_libs/lib.pyx\", line 668, in pandas._libs.lib.astype_intsafe\n",
      "ValueError: cannot convert float NaN to integer\n"
     ]
    },
    {
     "name": "stdout",
     "output_type": "stream",
     "text": [
      "round: 1\n",
      "list index out of range\n",
      "tournament_id: 582630\n"
     ]
    },
    {
     "name": "stderr",
     "output_type": "stream",
     "text": [
      "Traceback (most recent call last):\n",
      "  File \"/var/folders/t6/srtzy2f51db8mxxv7g_63f6h0000gr/T/ipykernel_72356/422094622.py\", line 19, in <cell line: 2>\n",
      "    games_df_list.append(parse_games_df(games_df))\n",
      "  File \"/var/folders/t6/srtzy2f51db8mxxv7g_63f6h0000gr/T/ipykernel_72356/3212580384.py\", line 6, in parse_games_df\n",
      "    games_df.columns.values[name_idxs[0]] = \"left_name\"\n",
      "IndexError: list index out of range\n"
     ]
    },
    {
     "name": "stdout",
     "output_type": "stream",
     "text": [
      "tournament_id: 582033\n",
      "round: 1\n",
      "list index out of range\n",
      "tournament_id: 581719\n"
     ]
    },
    {
     "name": "stderr",
     "output_type": "stream",
     "text": [
      "Traceback (most recent call last):\n",
      "  File \"/var/folders/t6/srtzy2f51db8mxxv7g_63f6h0000gr/T/ipykernel_72356/422094622.py\", line 19, in <cell line: 2>\n",
      "    games_df_list.append(parse_games_df(games_df))\n",
      "  File \"/var/folders/t6/srtzy2f51db8mxxv7g_63f6h0000gr/T/ipykernel_72356/3212580384.py\", line 6, in parse_games_df\n",
      "    games_df.columns.values[name_idxs[0]] = \"left_name\"\n",
      "IndexError: list index out of range\n"
     ]
    },
    {
     "name": "stdout",
     "output_type": "stream",
     "text": [
      "round: 1\n",
      "list index out of range\n",
      "tournament_id: 581527\n"
     ]
    },
    {
     "name": "stderr",
     "output_type": "stream",
     "text": [
      "Traceback (most recent call last):\n",
      "  File \"/var/folders/t6/srtzy2f51db8mxxv7g_63f6h0000gr/T/ipykernel_72356/422094622.py\", line 19, in <cell line: 2>\n",
      "    games_df_list.append(parse_games_df(games_df))\n",
      "  File \"/var/folders/t6/srtzy2f51db8mxxv7g_63f6h0000gr/T/ipykernel_72356/3212580384.py\", line 6, in parse_games_df\n",
      "    games_df.columns.values[name_idxs[0]] = \"left_name\"\n",
      "IndexError: list index out of range\n"
     ]
    },
    {
     "name": "stdout",
     "output_type": "stream",
     "text": [
      "round: 1\n",
      "list index out of range\n",
      "tournament_id: 580185\n"
     ]
    },
    {
     "name": "stderr",
     "output_type": "stream",
     "text": [
      "Traceback (most recent call last):\n",
      "  File \"/var/folders/t6/srtzy2f51db8mxxv7g_63f6h0000gr/T/ipykernel_72356/422094622.py\", line 19, in <cell line: 2>\n",
      "    games_df_list.append(parse_games_df(games_df))\n",
      "  File \"/var/folders/t6/srtzy2f51db8mxxv7g_63f6h0000gr/T/ipykernel_72356/3212580384.py\", line 6, in parse_games_df\n",
      "    games_df.columns.values[name_idxs[0]] = \"left_name\"\n",
      "IndexError: list index out of range\n"
     ]
    },
    {
     "name": "stdout",
     "output_type": "stream",
     "text": [
      "round: 1\n",
      "list index out of range\n",
      "tournament_id: 581526\n"
     ]
    },
    {
     "name": "stderr",
     "output_type": "stream",
     "text": [
      "Traceback (most recent call last):\n",
      "  File \"/var/folders/t6/srtzy2f51db8mxxv7g_63f6h0000gr/T/ipykernel_72356/422094622.py\", line 19, in <cell line: 2>\n",
      "    games_df_list.append(parse_games_df(games_df))\n",
      "  File \"/var/folders/t6/srtzy2f51db8mxxv7g_63f6h0000gr/T/ipykernel_72356/3212580384.py\", line 6, in parse_games_df\n",
      "    games_df.columns.values[name_idxs[0]] = \"left_name\"\n",
      "IndexError: list index out of range\n"
     ]
    },
    {
     "name": "stdout",
     "output_type": "stream",
     "text": [
      "round: 1\n",
      "list index out of range\n",
      "tournament_id: 580184\n"
     ]
    },
    {
     "name": "stderr",
     "output_type": "stream",
     "text": [
      "Traceback (most recent call last):\n",
      "  File \"/var/folders/t6/srtzy2f51db8mxxv7g_63f6h0000gr/T/ipykernel_72356/422094622.py\", line 19, in <cell line: 2>\n",
      "    games_df_list.append(parse_games_df(games_df))\n",
      "  File \"/var/folders/t6/srtzy2f51db8mxxv7g_63f6h0000gr/T/ipykernel_72356/3212580384.py\", line 6, in parse_games_df\n",
      "    games_df.columns.values[name_idxs[0]] = \"left_name\"\n",
      "IndexError: list index out of range\n"
     ]
    },
    {
     "name": "stdout",
     "output_type": "stream",
     "text": [
      "round: 1\n",
      "list index out of range\n",
      "tournament_id: 578380\n"
     ]
    },
    {
     "name": "stderr",
     "output_type": "stream",
     "text": [
      "Traceback (most recent call last):\n",
      "  File \"/var/folders/t6/srtzy2f51db8mxxv7g_63f6h0000gr/T/ipykernel_72356/422094622.py\", line 19, in <cell line: 2>\n",
      "    games_df_list.append(parse_games_df(games_df))\n",
      "  File \"/var/folders/t6/srtzy2f51db8mxxv7g_63f6h0000gr/T/ipykernel_72356/3212580384.py\", line 6, in parse_games_df\n",
      "    games_df.columns.values[name_idxs[0]] = \"left_name\"\n",
      "IndexError: list index out of range\n"
     ]
    },
    {
     "name": "stdout",
     "output_type": "stream",
     "text": [
      "round: 1\n",
      "invalid literal for int() with base 10: ''\n",
      "tournament_id: 578381\n"
     ]
    },
    {
     "name": "stderr",
     "output_type": "stream",
     "text": [
      "Traceback (most recent call last):\n",
      "  File \"/var/folders/t6/srtzy2f51db8mxxv7g_63f6h0000gr/T/ipykernel_72356/422094622.py\", line 19, in <cell line: 2>\n",
      "    games_df_list.append(parse_games_df(games_df))\n",
      "  File \"/var/folders/t6/srtzy2f51db8mxxv7g_63f6h0000gr/T/ipykernel_72356/3212580384.py\", line 18, in parse_games_df\n",
      "    games_df = games_df.astype({\n",
      "  File \"/Users/avliu/opt/anaconda3/envs/hugging-face/lib/python3.10/site-packages/pandas/core/generic.py\", line 5898, in astype\n",
      "    res_col = col.astype(dtype=cdt, copy=copy, errors=errors)\n",
      "  File \"/Users/avliu/opt/anaconda3/envs/hugging-face/lib/python3.10/site-packages/pandas/core/generic.py\", line 5912, in astype\n",
      "    new_data = self._mgr.astype(dtype=dtype, copy=copy, errors=errors)\n",
      "  File \"/Users/avliu/opt/anaconda3/envs/hugging-face/lib/python3.10/site-packages/pandas/core/internals/managers.py\", line 419, in astype\n",
      "    return self.apply(\"astype\", dtype=dtype, copy=copy, errors=errors)\n",
      "  File \"/Users/avliu/opt/anaconda3/envs/hugging-face/lib/python3.10/site-packages/pandas/core/internals/managers.py\", line 304, in apply\n",
      "    applied = getattr(b, f)(**kwargs)\n",
      "  File \"/Users/avliu/opt/anaconda3/envs/hugging-face/lib/python3.10/site-packages/pandas/core/internals/blocks.py\", line 580, in astype\n",
      "    new_values = astype_array_safe(values, dtype, copy=copy, errors=errors)\n",
      "  File \"/Users/avliu/opt/anaconda3/envs/hugging-face/lib/python3.10/site-packages/pandas/core/dtypes/cast.py\", line 1292, in astype_array_safe\n",
      "    new_values = astype_array(values, dtype, copy=copy)\n",
      "  File \"/Users/avliu/opt/anaconda3/envs/hugging-face/lib/python3.10/site-packages/pandas/core/dtypes/cast.py\", line 1237, in astype_array\n",
      "    values = astype_nansafe(values, dtype, copy=copy)\n",
      "  File \"/Users/avliu/opt/anaconda3/envs/hugging-face/lib/python3.10/site-packages/pandas/core/dtypes/cast.py\", line 1154, in astype_nansafe\n",
      "    return lib.astype_intsafe(arr, dtype)\n",
      "  File \"pandas/_libs/lib.pyx\", line 668, in pandas._libs.lib.astype_intsafe\n",
      "ValueError: invalid literal for int() with base 10: ''\n"
     ]
    },
    {
     "name": "stdout",
     "output_type": "stream",
     "text": [
      "round: 1\n",
      "round: 2\n",
      "round: 3\n",
      "round: 4\n",
      "round: 5\n",
      "tournament_id: 578382\n",
      "round: 1\n",
      "invalid literal for int() with base 10: ''\n",
      "tournament_id: 575090\n"
     ]
    },
    {
     "name": "stderr",
     "output_type": "stream",
     "text": [
      "Traceback (most recent call last):\n",
      "  File \"/var/folders/t6/srtzy2f51db8mxxv7g_63f6h0000gr/T/ipykernel_72356/422094622.py\", line 19, in <cell line: 2>\n",
      "    games_df_list.append(parse_games_df(games_df))\n",
      "  File \"/var/folders/t6/srtzy2f51db8mxxv7g_63f6h0000gr/T/ipykernel_72356/3212580384.py\", line 18, in parse_games_df\n",
      "    games_df = games_df.astype({\n",
      "  File \"/Users/avliu/opt/anaconda3/envs/hugging-face/lib/python3.10/site-packages/pandas/core/generic.py\", line 5898, in astype\n",
      "    res_col = col.astype(dtype=cdt, copy=copy, errors=errors)\n",
      "  File \"/Users/avliu/opt/anaconda3/envs/hugging-face/lib/python3.10/site-packages/pandas/core/generic.py\", line 5912, in astype\n",
      "    new_data = self._mgr.astype(dtype=dtype, copy=copy, errors=errors)\n",
      "  File \"/Users/avliu/opt/anaconda3/envs/hugging-face/lib/python3.10/site-packages/pandas/core/internals/managers.py\", line 419, in astype\n",
      "    return self.apply(\"astype\", dtype=dtype, copy=copy, errors=errors)\n",
      "  File \"/Users/avliu/opt/anaconda3/envs/hugging-face/lib/python3.10/site-packages/pandas/core/internals/managers.py\", line 304, in apply\n",
      "    applied = getattr(b, f)(**kwargs)\n",
      "  File \"/Users/avliu/opt/anaconda3/envs/hugging-face/lib/python3.10/site-packages/pandas/core/internals/blocks.py\", line 580, in astype\n",
      "    new_values = astype_array_safe(values, dtype, copy=copy, errors=errors)\n",
      "  File \"/Users/avliu/opt/anaconda3/envs/hugging-face/lib/python3.10/site-packages/pandas/core/dtypes/cast.py\", line 1292, in astype_array_safe\n",
      "    new_values = astype_array(values, dtype, copy=copy)\n",
      "  File \"/Users/avliu/opt/anaconda3/envs/hugging-face/lib/python3.10/site-packages/pandas/core/dtypes/cast.py\", line 1237, in astype_array\n",
      "    values = astype_nansafe(values, dtype, copy=copy)\n",
      "  File \"/Users/avliu/opt/anaconda3/envs/hugging-face/lib/python3.10/site-packages/pandas/core/dtypes/cast.py\", line 1154, in astype_nansafe\n",
      "    return lib.astype_intsafe(arr, dtype)\n",
      "  File \"pandas/_libs/lib.pyx\", line 668, in pandas._libs.lib.astype_intsafe\n",
      "ValueError: invalid literal for int() with base 10: ''\n"
     ]
    },
    {
     "name": "stdout",
     "output_type": "stream",
     "text": [
      "round: 1\n",
      "round: 2\n",
      "round: 3\n",
      "round: 4\n",
      "round: 5\n",
      "round: 6\n",
      "round: 7\n",
      "round: 8\n",
      "tournament_id: 575089\n",
      "round: 1\n",
      "round: 2\n",
      "round: 3\n",
      "round: 4\n",
      "round: 5\n",
      "round: 6\n",
      "round: 7\n",
      "round: 8\n",
      "tournament_id: 575088\n",
      "round: 1\n",
      "round: 2\n",
      "round: 3\n",
      "round: 4\n",
      "round: 5\n",
      "round: 6\n",
      "round: 7\n",
      "round: 8\n",
      "tournament_id: 575086\n",
      "round: 1\n",
      "round: 2\n",
      "round: 3\n",
      "round: 4\n",
      "round: 5\n",
      "round: 6\n",
      "round: 7\n",
      "round: 8\n",
      "tournament_id: 575085\n",
      "round: 1\n",
      "round: 2\n",
      "round: 3\n",
      "round: 4\n",
      "round: 5\n",
      "round: 6\n",
      "round: 7\n",
      "invalid literal for int() with base 10: ''\n",
      "tournament_id: 575084\n"
     ]
    },
    {
     "name": "stderr",
     "output_type": "stream",
     "text": [
      "Traceback (most recent call last):\n",
      "  File \"/var/folders/t6/srtzy2f51db8mxxv7g_63f6h0000gr/T/ipykernel_72356/422094622.py\", line 19, in <cell line: 2>\n",
      "    games_df_list.append(parse_games_df(games_df))\n",
      "  File \"/var/folders/t6/srtzy2f51db8mxxv7g_63f6h0000gr/T/ipykernel_72356/3212580384.py\", line 18, in parse_games_df\n",
      "    games_df = games_df.astype({\n",
      "  File \"/Users/avliu/opt/anaconda3/envs/hugging-face/lib/python3.10/site-packages/pandas/core/generic.py\", line 5898, in astype\n",
      "    res_col = col.astype(dtype=cdt, copy=copy, errors=errors)\n",
      "  File \"/Users/avliu/opt/anaconda3/envs/hugging-face/lib/python3.10/site-packages/pandas/core/generic.py\", line 5912, in astype\n",
      "    new_data = self._mgr.astype(dtype=dtype, copy=copy, errors=errors)\n",
      "  File \"/Users/avliu/opt/anaconda3/envs/hugging-face/lib/python3.10/site-packages/pandas/core/internals/managers.py\", line 419, in astype\n",
      "    return self.apply(\"astype\", dtype=dtype, copy=copy, errors=errors)\n",
      "  File \"/Users/avliu/opt/anaconda3/envs/hugging-face/lib/python3.10/site-packages/pandas/core/internals/managers.py\", line 304, in apply\n",
      "    applied = getattr(b, f)(**kwargs)\n",
      "  File \"/Users/avliu/opt/anaconda3/envs/hugging-face/lib/python3.10/site-packages/pandas/core/internals/blocks.py\", line 580, in astype\n",
      "    new_values = astype_array_safe(values, dtype, copy=copy, errors=errors)\n",
      "  File \"/Users/avliu/opt/anaconda3/envs/hugging-face/lib/python3.10/site-packages/pandas/core/dtypes/cast.py\", line 1292, in astype_array_safe\n",
      "    new_values = astype_array(values, dtype, copy=copy)\n",
      "  File \"/Users/avliu/opt/anaconda3/envs/hugging-face/lib/python3.10/site-packages/pandas/core/dtypes/cast.py\", line 1237, in astype_array\n",
      "    values = astype_nansafe(values, dtype, copy=copy)\n",
      "  File \"/Users/avliu/opt/anaconda3/envs/hugging-face/lib/python3.10/site-packages/pandas/core/dtypes/cast.py\", line 1154, in astype_nansafe\n",
      "    return lib.astype_intsafe(arr, dtype)\n",
      "  File \"pandas/_libs/lib.pyx\", line 668, in pandas._libs.lib.astype_intsafe\n",
      "ValueError: invalid literal for int() with base 10: ''\n"
     ]
    },
    {
     "name": "stdout",
     "output_type": "stream",
     "text": [
      "round: 1\n",
      "round: 2\n",
      "round: 3\n",
      "round: 4\n",
      "round: 5\n",
      "round: 6\n",
      "round: 7\n",
      "round: 8\n",
      "tournament_id: 575083\n",
      "round: 1\n",
      "round: 2\n",
      "round: 3\n",
      "round: 4\n",
      "round: 5\n",
      "round: 6\n",
      "round: 7\n",
      "round: 8\n",
      "tournament_id: 575082\n",
      "round: 1\n",
      "round: 2\n",
      "round: 3\n",
      "round: 4\n",
      "round: 5\n",
      "round: 6\n",
      "round: 7\n",
      "round: 8\n",
      "tournament_id: 575081\n",
      "round: 1\n",
      "round: 2\n",
      "round: 3\n",
      "round: 4\n",
      "round: 5\n",
      "round: 6\n",
      "round: 7\n",
      "round: 8\n",
      "tournament_id: 575080\n",
      "round: 1\n",
      "round: 2\n",
      "round: 3\n",
      "round: 4\n",
      "round: 5\n",
      "round: 6\n",
      "round: 7\n",
      "round: 8\n",
      "tournament_id: 573956\n",
      "round: 1\n",
      "cannot convert float NaN to integer\n",
      "tournament_id: 565787\n"
     ]
    },
    {
     "name": "stderr",
     "output_type": "stream",
     "text": [
      "Traceback (most recent call last):\n",
      "  File \"/var/folders/t6/srtzy2f51db8mxxv7g_63f6h0000gr/T/ipykernel_72356/422094622.py\", line 19, in <cell line: 2>\n",
      "    games_df_list.append(parse_games_df(games_df))\n",
      "  File \"/var/folders/t6/srtzy2f51db8mxxv7g_63f6h0000gr/T/ipykernel_72356/3212580384.py\", line 18, in parse_games_df\n",
      "    games_df = games_df.astype({\n",
      "  File \"/Users/avliu/opt/anaconda3/envs/hugging-face/lib/python3.10/site-packages/pandas/core/generic.py\", line 5898, in astype\n",
      "    res_col = col.astype(dtype=cdt, copy=copy, errors=errors)\n",
      "  File \"/Users/avliu/opt/anaconda3/envs/hugging-face/lib/python3.10/site-packages/pandas/core/generic.py\", line 5912, in astype\n",
      "    new_data = self._mgr.astype(dtype=dtype, copy=copy, errors=errors)\n",
      "  File \"/Users/avliu/opt/anaconda3/envs/hugging-face/lib/python3.10/site-packages/pandas/core/internals/managers.py\", line 419, in astype\n",
      "    return self.apply(\"astype\", dtype=dtype, copy=copy, errors=errors)\n",
      "  File \"/Users/avliu/opt/anaconda3/envs/hugging-face/lib/python3.10/site-packages/pandas/core/internals/managers.py\", line 304, in apply\n",
      "    applied = getattr(b, f)(**kwargs)\n",
      "  File \"/Users/avliu/opt/anaconda3/envs/hugging-face/lib/python3.10/site-packages/pandas/core/internals/blocks.py\", line 580, in astype\n",
      "    new_values = astype_array_safe(values, dtype, copy=copy, errors=errors)\n",
      "  File \"/Users/avliu/opt/anaconda3/envs/hugging-face/lib/python3.10/site-packages/pandas/core/dtypes/cast.py\", line 1292, in astype_array_safe\n",
      "    new_values = astype_array(values, dtype, copy=copy)\n",
      "  File \"/Users/avliu/opt/anaconda3/envs/hugging-face/lib/python3.10/site-packages/pandas/core/dtypes/cast.py\", line 1237, in astype_array\n",
      "    values = astype_nansafe(values, dtype, copy=copy)\n",
      "  File \"/Users/avliu/opt/anaconda3/envs/hugging-face/lib/python3.10/site-packages/pandas/core/dtypes/cast.py\", line 1154, in astype_nansafe\n",
      "    return lib.astype_intsafe(arr, dtype)\n",
      "  File \"pandas/_libs/lib.pyx\", line 668, in pandas._libs.lib.astype_intsafe\n",
      "ValueError: cannot convert float NaN to integer\n"
     ]
    },
    {
     "name": "stdout",
     "output_type": "stream",
     "text": [
      "round: 1\n",
      "cannot convert float NaN to integer\n",
      "tournament_id: 565788\n"
     ]
    },
    {
     "name": "stderr",
     "output_type": "stream",
     "text": [
      "Traceback (most recent call last):\n",
      "  File \"/var/folders/t6/srtzy2f51db8mxxv7g_63f6h0000gr/T/ipykernel_72356/422094622.py\", line 19, in <cell line: 2>\n",
      "    games_df_list.append(parse_games_df(games_df))\n",
      "  File \"/var/folders/t6/srtzy2f51db8mxxv7g_63f6h0000gr/T/ipykernel_72356/3212580384.py\", line 18, in parse_games_df\n",
      "    games_df = games_df.astype({\n",
      "  File \"/Users/avliu/opt/anaconda3/envs/hugging-face/lib/python3.10/site-packages/pandas/core/generic.py\", line 5898, in astype\n",
      "    res_col = col.astype(dtype=cdt, copy=copy, errors=errors)\n",
      "  File \"/Users/avliu/opt/anaconda3/envs/hugging-face/lib/python3.10/site-packages/pandas/core/generic.py\", line 5912, in astype\n",
      "    new_data = self._mgr.astype(dtype=dtype, copy=copy, errors=errors)\n",
      "  File \"/Users/avliu/opt/anaconda3/envs/hugging-face/lib/python3.10/site-packages/pandas/core/internals/managers.py\", line 419, in astype\n",
      "    return self.apply(\"astype\", dtype=dtype, copy=copy, errors=errors)\n",
      "  File \"/Users/avliu/opt/anaconda3/envs/hugging-face/lib/python3.10/site-packages/pandas/core/internals/managers.py\", line 304, in apply\n",
      "    applied = getattr(b, f)(**kwargs)\n",
      "  File \"/Users/avliu/opt/anaconda3/envs/hugging-face/lib/python3.10/site-packages/pandas/core/internals/blocks.py\", line 580, in astype\n",
      "    new_values = astype_array_safe(values, dtype, copy=copy, errors=errors)\n",
      "  File \"/Users/avliu/opt/anaconda3/envs/hugging-face/lib/python3.10/site-packages/pandas/core/dtypes/cast.py\", line 1292, in astype_array_safe\n",
      "    new_values = astype_array(values, dtype, copy=copy)\n",
      "  File \"/Users/avliu/opt/anaconda3/envs/hugging-face/lib/python3.10/site-packages/pandas/core/dtypes/cast.py\", line 1237, in astype_array\n",
      "    values = astype_nansafe(values, dtype, copy=copy)\n",
      "  File \"/Users/avliu/opt/anaconda3/envs/hugging-face/lib/python3.10/site-packages/pandas/core/dtypes/cast.py\", line 1154, in astype_nansafe\n",
      "    return lib.astype_intsafe(arr, dtype)\n",
      "  File \"pandas/_libs/lib.pyx\", line 668, in pandas._libs.lib.astype_intsafe\n",
      "ValueError: cannot convert float NaN to integer\n"
     ]
    },
    {
     "name": "stdout",
     "output_type": "stream",
     "text": [
      "round: 1\n",
      "invalid literal for int() with base 10: ''\n",
      "tournament_id: 565785\n"
     ]
    },
    {
     "name": "stderr",
     "output_type": "stream",
     "text": [
      "Traceback (most recent call last):\n",
      "  File \"/var/folders/t6/srtzy2f51db8mxxv7g_63f6h0000gr/T/ipykernel_72356/422094622.py\", line 19, in <cell line: 2>\n",
      "    games_df_list.append(parse_games_df(games_df))\n",
      "  File \"/var/folders/t6/srtzy2f51db8mxxv7g_63f6h0000gr/T/ipykernel_72356/3212580384.py\", line 18, in parse_games_df\n",
      "    games_df = games_df.astype({\n",
      "  File \"/Users/avliu/opt/anaconda3/envs/hugging-face/lib/python3.10/site-packages/pandas/core/generic.py\", line 5898, in astype\n",
      "    res_col = col.astype(dtype=cdt, copy=copy, errors=errors)\n",
      "  File \"/Users/avliu/opt/anaconda3/envs/hugging-face/lib/python3.10/site-packages/pandas/core/generic.py\", line 5912, in astype\n",
      "    new_data = self._mgr.astype(dtype=dtype, copy=copy, errors=errors)\n",
      "  File \"/Users/avliu/opt/anaconda3/envs/hugging-face/lib/python3.10/site-packages/pandas/core/internals/managers.py\", line 419, in astype\n",
      "    return self.apply(\"astype\", dtype=dtype, copy=copy, errors=errors)\n",
      "  File \"/Users/avliu/opt/anaconda3/envs/hugging-face/lib/python3.10/site-packages/pandas/core/internals/managers.py\", line 304, in apply\n",
      "    applied = getattr(b, f)(**kwargs)\n",
      "  File \"/Users/avliu/opt/anaconda3/envs/hugging-face/lib/python3.10/site-packages/pandas/core/internals/blocks.py\", line 580, in astype\n",
      "    new_values = astype_array_safe(values, dtype, copy=copy, errors=errors)\n",
      "  File \"/Users/avliu/opt/anaconda3/envs/hugging-face/lib/python3.10/site-packages/pandas/core/dtypes/cast.py\", line 1292, in astype_array_safe\n",
      "    new_values = astype_array(values, dtype, copy=copy)\n",
      "  File \"/Users/avliu/opt/anaconda3/envs/hugging-face/lib/python3.10/site-packages/pandas/core/dtypes/cast.py\", line 1237, in astype_array\n",
      "    values = astype_nansafe(values, dtype, copy=copy)\n",
      "  File \"/Users/avliu/opt/anaconda3/envs/hugging-face/lib/python3.10/site-packages/pandas/core/dtypes/cast.py\", line 1154, in astype_nansafe\n",
      "    return lib.astype_intsafe(arr, dtype)\n",
      "  File \"pandas/_libs/lib.pyx\", line 668, in pandas._libs.lib.astype_intsafe\n",
      "ValueError: invalid literal for int() with base 10: ''\n"
     ]
    },
    {
     "name": "stdout",
     "output_type": "stream",
     "text": [
      "round: 1\n",
      "cannot convert float NaN to integer\n",
      "tournament_id: 565786\n"
     ]
    },
    {
     "name": "stderr",
     "output_type": "stream",
     "text": [
      "Traceback (most recent call last):\n",
      "  File \"/var/folders/t6/srtzy2f51db8mxxv7g_63f6h0000gr/T/ipykernel_72356/422094622.py\", line 19, in <cell line: 2>\n",
      "    games_df_list.append(parse_games_df(games_df))\n",
      "  File \"/var/folders/t6/srtzy2f51db8mxxv7g_63f6h0000gr/T/ipykernel_72356/3212580384.py\", line 18, in parse_games_df\n",
      "    games_df = games_df.astype({\n",
      "  File \"/Users/avliu/opt/anaconda3/envs/hugging-face/lib/python3.10/site-packages/pandas/core/generic.py\", line 5898, in astype\n",
      "    res_col = col.astype(dtype=cdt, copy=copy, errors=errors)\n",
      "  File \"/Users/avliu/opt/anaconda3/envs/hugging-face/lib/python3.10/site-packages/pandas/core/generic.py\", line 5912, in astype\n",
      "    new_data = self._mgr.astype(dtype=dtype, copy=copy, errors=errors)\n",
      "  File \"/Users/avliu/opt/anaconda3/envs/hugging-face/lib/python3.10/site-packages/pandas/core/internals/managers.py\", line 419, in astype\n",
      "    return self.apply(\"astype\", dtype=dtype, copy=copy, errors=errors)\n",
      "  File \"/Users/avliu/opt/anaconda3/envs/hugging-face/lib/python3.10/site-packages/pandas/core/internals/managers.py\", line 304, in apply\n",
      "    applied = getattr(b, f)(**kwargs)\n",
      "  File \"/Users/avliu/opt/anaconda3/envs/hugging-face/lib/python3.10/site-packages/pandas/core/internals/blocks.py\", line 580, in astype\n",
      "    new_values = astype_array_safe(values, dtype, copy=copy, errors=errors)\n",
      "  File \"/Users/avliu/opt/anaconda3/envs/hugging-face/lib/python3.10/site-packages/pandas/core/dtypes/cast.py\", line 1292, in astype_array_safe\n",
      "    new_values = astype_array(values, dtype, copy=copy)\n",
      "  File \"/Users/avliu/opt/anaconda3/envs/hugging-face/lib/python3.10/site-packages/pandas/core/dtypes/cast.py\", line 1237, in astype_array\n",
      "    values = astype_nansafe(values, dtype, copy=copy)\n",
      "  File \"/Users/avliu/opt/anaconda3/envs/hugging-face/lib/python3.10/site-packages/pandas/core/dtypes/cast.py\", line 1154, in astype_nansafe\n",
      "    return lib.astype_intsafe(arr, dtype)\n",
      "  File \"pandas/_libs/lib.pyx\", line 668, in pandas._libs.lib.astype_intsafe\n",
      "ValueError: cannot convert float NaN to integer\n"
     ]
    },
    {
     "name": "stdout",
     "output_type": "stream",
     "text": [
      "round: 1\n",
      "invalid literal for int() with base 10: ''\n",
      "tournament_id: 568701\n"
     ]
    },
    {
     "name": "stderr",
     "output_type": "stream",
     "text": [
      "Traceback (most recent call last):\n",
      "  File \"/var/folders/t6/srtzy2f51db8mxxv7g_63f6h0000gr/T/ipykernel_72356/422094622.py\", line 19, in <cell line: 2>\n",
      "    games_df_list.append(parse_games_df(games_df))\n",
      "  File \"/var/folders/t6/srtzy2f51db8mxxv7g_63f6h0000gr/T/ipykernel_72356/3212580384.py\", line 18, in parse_games_df\n",
      "    games_df = games_df.astype({\n",
      "  File \"/Users/avliu/opt/anaconda3/envs/hugging-face/lib/python3.10/site-packages/pandas/core/generic.py\", line 5898, in astype\n",
      "    res_col = col.astype(dtype=cdt, copy=copy, errors=errors)\n",
      "  File \"/Users/avliu/opt/anaconda3/envs/hugging-face/lib/python3.10/site-packages/pandas/core/generic.py\", line 5912, in astype\n",
      "    new_data = self._mgr.astype(dtype=dtype, copy=copy, errors=errors)\n",
      "  File \"/Users/avliu/opt/anaconda3/envs/hugging-face/lib/python3.10/site-packages/pandas/core/internals/managers.py\", line 419, in astype\n",
      "    return self.apply(\"astype\", dtype=dtype, copy=copy, errors=errors)\n",
      "  File \"/Users/avliu/opt/anaconda3/envs/hugging-face/lib/python3.10/site-packages/pandas/core/internals/managers.py\", line 304, in apply\n",
      "    applied = getattr(b, f)(**kwargs)\n",
      "  File \"/Users/avliu/opt/anaconda3/envs/hugging-face/lib/python3.10/site-packages/pandas/core/internals/blocks.py\", line 580, in astype\n",
      "    new_values = astype_array_safe(values, dtype, copy=copy, errors=errors)\n",
      "  File \"/Users/avliu/opt/anaconda3/envs/hugging-face/lib/python3.10/site-packages/pandas/core/dtypes/cast.py\", line 1292, in astype_array_safe\n",
      "    new_values = astype_array(values, dtype, copy=copy)\n",
      "  File \"/Users/avliu/opt/anaconda3/envs/hugging-face/lib/python3.10/site-packages/pandas/core/dtypes/cast.py\", line 1237, in astype_array\n",
      "    values = astype_nansafe(values, dtype, copy=copy)\n",
      "  File \"/Users/avliu/opt/anaconda3/envs/hugging-face/lib/python3.10/site-packages/pandas/core/dtypes/cast.py\", line 1154, in astype_nansafe\n",
      "    return lib.astype_intsafe(arr, dtype)\n",
      "  File \"pandas/_libs/lib.pyx\", line 668, in pandas._libs.lib.astype_intsafe\n",
      "ValueError: invalid literal for int() with base 10: ''\n"
     ]
    },
    {
     "name": "stdout",
     "output_type": "stream",
     "text": [
      "round: 1\n",
      "invalid literal for int() with base 10: ''\n",
      "tournament_id: 565789\n"
     ]
    },
    {
     "name": "stderr",
     "output_type": "stream",
     "text": [
      "Traceback (most recent call last):\n",
      "  File \"/var/folders/t6/srtzy2f51db8mxxv7g_63f6h0000gr/T/ipykernel_72356/422094622.py\", line 19, in <cell line: 2>\n",
      "    games_df_list.append(parse_games_df(games_df))\n",
      "  File \"/var/folders/t6/srtzy2f51db8mxxv7g_63f6h0000gr/T/ipykernel_72356/3212580384.py\", line 18, in parse_games_df\n",
      "    games_df = games_df.astype({\n",
      "  File \"/Users/avliu/opt/anaconda3/envs/hugging-face/lib/python3.10/site-packages/pandas/core/generic.py\", line 5898, in astype\n",
      "    res_col = col.astype(dtype=cdt, copy=copy, errors=errors)\n",
      "  File \"/Users/avliu/opt/anaconda3/envs/hugging-face/lib/python3.10/site-packages/pandas/core/generic.py\", line 5912, in astype\n",
      "    new_data = self._mgr.astype(dtype=dtype, copy=copy, errors=errors)\n",
      "  File \"/Users/avliu/opt/anaconda3/envs/hugging-face/lib/python3.10/site-packages/pandas/core/internals/managers.py\", line 419, in astype\n",
      "    return self.apply(\"astype\", dtype=dtype, copy=copy, errors=errors)\n",
      "  File \"/Users/avliu/opt/anaconda3/envs/hugging-face/lib/python3.10/site-packages/pandas/core/internals/managers.py\", line 304, in apply\n",
      "    applied = getattr(b, f)(**kwargs)\n",
      "  File \"/Users/avliu/opt/anaconda3/envs/hugging-face/lib/python3.10/site-packages/pandas/core/internals/blocks.py\", line 580, in astype\n",
      "    new_values = astype_array_safe(values, dtype, copy=copy, errors=errors)\n",
      "  File \"/Users/avliu/opt/anaconda3/envs/hugging-face/lib/python3.10/site-packages/pandas/core/dtypes/cast.py\", line 1292, in astype_array_safe\n",
      "    new_values = astype_array(values, dtype, copy=copy)\n",
      "  File \"/Users/avliu/opt/anaconda3/envs/hugging-face/lib/python3.10/site-packages/pandas/core/dtypes/cast.py\", line 1237, in astype_array\n",
      "    values = astype_nansafe(values, dtype, copy=copy)\n",
      "  File \"/Users/avliu/opt/anaconda3/envs/hugging-face/lib/python3.10/site-packages/pandas/core/dtypes/cast.py\", line 1154, in astype_nansafe\n",
      "    return lib.astype_intsafe(arr, dtype)\n",
      "  File \"pandas/_libs/lib.pyx\", line 668, in pandas._libs.lib.astype_intsafe\n",
      "ValueError: invalid literal for int() with base 10: ''\n"
     ]
    },
    {
     "name": "stdout",
     "output_type": "stream",
     "text": [
      "round: 1\n",
      "invalid literal for int() with base 10: ''\n",
      "tournament_id: 565784\n"
     ]
    },
    {
     "name": "stderr",
     "output_type": "stream",
     "text": [
      "Traceback (most recent call last):\n",
      "  File \"/var/folders/t6/srtzy2f51db8mxxv7g_63f6h0000gr/T/ipykernel_72356/422094622.py\", line 19, in <cell line: 2>\n",
      "    games_df_list.append(parse_games_df(games_df))\n",
      "  File \"/var/folders/t6/srtzy2f51db8mxxv7g_63f6h0000gr/T/ipykernel_72356/3212580384.py\", line 18, in parse_games_df\n",
      "    games_df = games_df.astype({\n",
      "  File \"/Users/avliu/opt/anaconda3/envs/hugging-face/lib/python3.10/site-packages/pandas/core/generic.py\", line 5898, in astype\n",
      "    res_col = col.astype(dtype=cdt, copy=copy, errors=errors)\n",
      "  File \"/Users/avliu/opt/anaconda3/envs/hugging-face/lib/python3.10/site-packages/pandas/core/generic.py\", line 5912, in astype\n",
      "    new_data = self._mgr.astype(dtype=dtype, copy=copy, errors=errors)\n",
      "  File \"/Users/avliu/opt/anaconda3/envs/hugging-face/lib/python3.10/site-packages/pandas/core/internals/managers.py\", line 419, in astype\n",
      "    return self.apply(\"astype\", dtype=dtype, copy=copy, errors=errors)\n",
      "  File \"/Users/avliu/opt/anaconda3/envs/hugging-face/lib/python3.10/site-packages/pandas/core/internals/managers.py\", line 304, in apply\n",
      "    applied = getattr(b, f)(**kwargs)\n",
      "  File \"/Users/avliu/opt/anaconda3/envs/hugging-face/lib/python3.10/site-packages/pandas/core/internals/blocks.py\", line 580, in astype\n",
      "    new_values = astype_array_safe(values, dtype, copy=copy, errors=errors)\n",
      "  File \"/Users/avliu/opt/anaconda3/envs/hugging-face/lib/python3.10/site-packages/pandas/core/dtypes/cast.py\", line 1292, in astype_array_safe\n",
      "    new_values = astype_array(values, dtype, copy=copy)\n",
      "  File \"/Users/avliu/opt/anaconda3/envs/hugging-face/lib/python3.10/site-packages/pandas/core/dtypes/cast.py\", line 1237, in astype_array\n",
      "    values = astype_nansafe(values, dtype, copy=copy)\n",
      "  File \"/Users/avliu/opt/anaconda3/envs/hugging-face/lib/python3.10/site-packages/pandas/core/dtypes/cast.py\", line 1154, in astype_nansafe\n",
      "    return lib.astype_intsafe(arr, dtype)\n",
      "  File \"pandas/_libs/lib.pyx\", line 668, in pandas._libs.lib.astype_intsafe\n",
      "ValueError: invalid literal for int() with base 10: ''\n"
     ]
    },
    {
     "name": "stdout",
     "output_type": "stream",
     "text": [
      "round: 1\n",
      "cannot convert float NaN to integer\n",
      "tournament_id: 565790\n"
     ]
    },
    {
     "name": "stderr",
     "output_type": "stream",
     "text": [
      "Traceback (most recent call last):\n",
      "  File \"/var/folders/t6/srtzy2f51db8mxxv7g_63f6h0000gr/T/ipykernel_72356/422094622.py\", line 19, in <cell line: 2>\n",
      "    games_df_list.append(parse_games_df(games_df))\n",
      "  File \"/var/folders/t6/srtzy2f51db8mxxv7g_63f6h0000gr/T/ipykernel_72356/3212580384.py\", line 18, in parse_games_df\n",
      "    games_df = games_df.astype({\n",
      "  File \"/Users/avliu/opt/anaconda3/envs/hugging-face/lib/python3.10/site-packages/pandas/core/generic.py\", line 5898, in astype\n",
      "    res_col = col.astype(dtype=cdt, copy=copy, errors=errors)\n",
      "  File \"/Users/avliu/opt/anaconda3/envs/hugging-face/lib/python3.10/site-packages/pandas/core/generic.py\", line 5912, in astype\n",
      "    new_data = self._mgr.astype(dtype=dtype, copy=copy, errors=errors)\n",
      "  File \"/Users/avliu/opt/anaconda3/envs/hugging-face/lib/python3.10/site-packages/pandas/core/internals/managers.py\", line 419, in astype\n",
      "    return self.apply(\"astype\", dtype=dtype, copy=copy, errors=errors)\n",
      "  File \"/Users/avliu/opt/anaconda3/envs/hugging-face/lib/python3.10/site-packages/pandas/core/internals/managers.py\", line 304, in apply\n",
      "    applied = getattr(b, f)(**kwargs)\n",
      "  File \"/Users/avliu/opt/anaconda3/envs/hugging-face/lib/python3.10/site-packages/pandas/core/internals/blocks.py\", line 580, in astype\n",
      "    new_values = astype_array_safe(values, dtype, copy=copy, errors=errors)\n",
      "  File \"/Users/avliu/opt/anaconda3/envs/hugging-face/lib/python3.10/site-packages/pandas/core/dtypes/cast.py\", line 1292, in astype_array_safe\n",
      "    new_values = astype_array(values, dtype, copy=copy)\n",
      "  File \"/Users/avliu/opt/anaconda3/envs/hugging-face/lib/python3.10/site-packages/pandas/core/dtypes/cast.py\", line 1237, in astype_array\n",
      "    values = astype_nansafe(values, dtype, copy=copy)\n",
      "  File \"/Users/avliu/opt/anaconda3/envs/hugging-face/lib/python3.10/site-packages/pandas/core/dtypes/cast.py\", line 1154, in astype_nansafe\n",
      "    return lib.astype_intsafe(arr, dtype)\n",
      "  File \"pandas/_libs/lib.pyx\", line 668, in pandas._libs.lib.astype_intsafe\n",
      "ValueError: cannot convert float NaN to integer\n"
     ]
    },
    {
     "name": "stdout",
     "output_type": "stream",
     "text": [
      "round: 1\n",
      "round: 2\n",
      "invalid literal for int() with base 10: ''\n",
      "tournament_id: 565783\n"
     ]
    },
    {
     "name": "stderr",
     "output_type": "stream",
     "text": [
      "Traceback (most recent call last):\n",
      "  File \"/var/folders/t6/srtzy2f51db8mxxv7g_63f6h0000gr/T/ipykernel_72356/422094622.py\", line 19, in <cell line: 2>\n",
      "    games_df_list.append(parse_games_df(games_df))\n",
      "  File \"/var/folders/t6/srtzy2f51db8mxxv7g_63f6h0000gr/T/ipykernel_72356/3212580384.py\", line 18, in parse_games_df\n",
      "    games_df = games_df.astype({\n",
      "  File \"/Users/avliu/opt/anaconda3/envs/hugging-face/lib/python3.10/site-packages/pandas/core/generic.py\", line 5898, in astype\n",
      "    res_col = col.astype(dtype=cdt, copy=copy, errors=errors)\n",
      "  File \"/Users/avliu/opt/anaconda3/envs/hugging-face/lib/python3.10/site-packages/pandas/core/generic.py\", line 5912, in astype\n",
      "    new_data = self._mgr.astype(dtype=dtype, copy=copy, errors=errors)\n",
      "  File \"/Users/avliu/opt/anaconda3/envs/hugging-face/lib/python3.10/site-packages/pandas/core/internals/managers.py\", line 419, in astype\n",
      "    return self.apply(\"astype\", dtype=dtype, copy=copy, errors=errors)\n",
      "  File \"/Users/avliu/opt/anaconda3/envs/hugging-face/lib/python3.10/site-packages/pandas/core/internals/managers.py\", line 304, in apply\n",
      "    applied = getattr(b, f)(**kwargs)\n",
      "  File \"/Users/avliu/opt/anaconda3/envs/hugging-face/lib/python3.10/site-packages/pandas/core/internals/blocks.py\", line 580, in astype\n",
      "    new_values = astype_array_safe(values, dtype, copy=copy, errors=errors)\n",
      "  File \"/Users/avliu/opt/anaconda3/envs/hugging-face/lib/python3.10/site-packages/pandas/core/dtypes/cast.py\", line 1292, in astype_array_safe\n",
      "    new_values = astype_array(values, dtype, copy=copy)\n",
      "  File \"/Users/avliu/opt/anaconda3/envs/hugging-face/lib/python3.10/site-packages/pandas/core/dtypes/cast.py\", line 1237, in astype_array\n",
      "    values = astype_nansafe(values, dtype, copy=copy)\n",
      "  File \"/Users/avliu/opt/anaconda3/envs/hugging-face/lib/python3.10/site-packages/pandas/core/dtypes/cast.py\", line 1154, in astype_nansafe\n",
      "    return lib.astype_intsafe(arr, dtype)\n",
      "  File \"pandas/_libs/lib.pyx\", line 668, in pandas._libs.lib.astype_intsafe\n",
      "ValueError: invalid literal for int() with base 10: ''\n"
     ]
    },
    {
     "name": "stdout",
     "output_type": "stream",
     "text": [
      "round: 1\n",
      "invalid literal for int() with base 10: ''\n",
      "tournament_id: 565791\n"
     ]
    },
    {
     "name": "stderr",
     "output_type": "stream",
     "text": [
      "Traceback (most recent call last):\n",
      "  File \"/var/folders/t6/srtzy2f51db8mxxv7g_63f6h0000gr/T/ipykernel_72356/422094622.py\", line 19, in <cell line: 2>\n",
      "    games_df_list.append(parse_games_df(games_df))\n",
      "  File \"/var/folders/t6/srtzy2f51db8mxxv7g_63f6h0000gr/T/ipykernel_72356/3212580384.py\", line 18, in parse_games_df\n",
      "    games_df = games_df.astype({\n",
      "  File \"/Users/avliu/opt/anaconda3/envs/hugging-face/lib/python3.10/site-packages/pandas/core/generic.py\", line 5898, in astype\n",
      "    res_col = col.astype(dtype=cdt, copy=copy, errors=errors)\n",
      "  File \"/Users/avliu/opt/anaconda3/envs/hugging-face/lib/python3.10/site-packages/pandas/core/generic.py\", line 5912, in astype\n",
      "    new_data = self._mgr.astype(dtype=dtype, copy=copy, errors=errors)\n",
      "  File \"/Users/avliu/opt/anaconda3/envs/hugging-face/lib/python3.10/site-packages/pandas/core/internals/managers.py\", line 419, in astype\n",
      "    return self.apply(\"astype\", dtype=dtype, copy=copy, errors=errors)\n",
      "  File \"/Users/avliu/opt/anaconda3/envs/hugging-face/lib/python3.10/site-packages/pandas/core/internals/managers.py\", line 304, in apply\n",
      "    applied = getattr(b, f)(**kwargs)\n",
      "  File \"/Users/avliu/opt/anaconda3/envs/hugging-face/lib/python3.10/site-packages/pandas/core/internals/blocks.py\", line 580, in astype\n",
      "    new_values = astype_array_safe(values, dtype, copy=copy, errors=errors)\n",
      "  File \"/Users/avliu/opt/anaconda3/envs/hugging-face/lib/python3.10/site-packages/pandas/core/dtypes/cast.py\", line 1292, in astype_array_safe\n",
      "    new_values = astype_array(values, dtype, copy=copy)\n",
      "  File \"/Users/avliu/opt/anaconda3/envs/hugging-face/lib/python3.10/site-packages/pandas/core/dtypes/cast.py\", line 1237, in astype_array\n",
      "    values = astype_nansafe(values, dtype, copy=copy)\n",
      "  File \"/Users/avliu/opt/anaconda3/envs/hugging-face/lib/python3.10/site-packages/pandas/core/dtypes/cast.py\", line 1154, in astype_nansafe\n",
      "    return lib.astype_intsafe(arr, dtype)\n",
      "  File \"pandas/_libs/lib.pyx\", line 668, in pandas._libs.lib.astype_intsafe\n",
      "ValueError: invalid literal for int() with base 10: ''\n"
     ]
    },
    {
     "name": "stdout",
     "output_type": "stream",
     "text": [
      "round: 1\n",
      "round: 2\n",
      "invalid literal for int() with base 10: ''\n",
      "tournament_id: 565782\n"
     ]
    },
    {
     "name": "stderr",
     "output_type": "stream",
     "text": [
      "Traceback (most recent call last):\n",
      "  File \"/var/folders/t6/srtzy2f51db8mxxv7g_63f6h0000gr/T/ipykernel_72356/422094622.py\", line 19, in <cell line: 2>\n",
      "    games_df_list.append(parse_games_df(games_df))\n",
      "  File \"/var/folders/t6/srtzy2f51db8mxxv7g_63f6h0000gr/T/ipykernel_72356/3212580384.py\", line 18, in parse_games_df\n",
      "    games_df = games_df.astype({\n",
      "  File \"/Users/avliu/opt/anaconda3/envs/hugging-face/lib/python3.10/site-packages/pandas/core/generic.py\", line 5898, in astype\n",
      "    res_col = col.astype(dtype=cdt, copy=copy, errors=errors)\n",
      "  File \"/Users/avliu/opt/anaconda3/envs/hugging-face/lib/python3.10/site-packages/pandas/core/generic.py\", line 5912, in astype\n",
      "    new_data = self._mgr.astype(dtype=dtype, copy=copy, errors=errors)\n",
      "  File \"/Users/avliu/opt/anaconda3/envs/hugging-face/lib/python3.10/site-packages/pandas/core/internals/managers.py\", line 419, in astype\n",
      "    return self.apply(\"astype\", dtype=dtype, copy=copy, errors=errors)\n",
      "  File \"/Users/avliu/opt/anaconda3/envs/hugging-face/lib/python3.10/site-packages/pandas/core/internals/managers.py\", line 304, in apply\n",
      "    applied = getattr(b, f)(**kwargs)\n",
      "  File \"/Users/avliu/opt/anaconda3/envs/hugging-face/lib/python3.10/site-packages/pandas/core/internals/blocks.py\", line 580, in astype\n",
      "    new_values = astype_array_safe(values, dtype, copy=copy, errors=errors)\n",
      "  File \"/Users/avliu/opt/anaconda3/envs/hugging-face/lib/python3.10/site-packages/pandas/core/dtypes/cast.py\", line 1292, in astype_array_safe\n",
      "    new_values = astype_array(values, dtype, copy=copy)\n",
      "  File \"/Users/avliu/opt/anaconda3/envs/hugging-face/lib/python3.10/site-packages/pandas/core/dtypes/cast.py\", line 1237, in astype_array\n",
      "    values = astype_nansafe(values, dtype, copy=copy)\n",
      "  File \"/Users/avliu/opt/anaconda3/envs/hugging-face/lib/python3.10/site-packages/pandas/core/dtypes/cast.py\", line 1154, in astype_nansafe\n",
      "    return lib.astype_intsafe(arr, dtype)\n",
      "  File \"pandas/_libs/lib.pyx\", line 668, in pandas._libs.lib.astype_intsafe\n",
      "ValueError: invalid literal for int() with base 10: ''\n"
     ]
    },
    {
     "name": "stdout",
     "output_type": "stream",
     "text": [
      "round: 1\n",
      "invalid literal for int() with base 10: ''\n",
      "tournament_id: 571249\n"
     ]
    },
    {
     "name": "stderr",
     "output_type": "stream",
     "text": [
      "Traceback (most recent call last):\n",
      "  File \"/var/folders/t6/srtzy2f51db8mxxv7g_63f6h0000gr/T/ipykernel_72356/422094622.py\", line 19, in <cell line: 2>\n",
      "    games_df_list.append(parse_games_df(games_df))\n",
      "  File \"/var/folders/t6/srtzy2f51db8mxxv7g_63f6h0000gr/T/ipykernel_72356/3212580384.py\", line 18, in parse_games_df\n",
      "    games_df = games_df.astype({\n",
      "  File \"/Users/avliu/opt/anaconda3/envs/hugging-face/lib/python3.10/site-packages/pandas/core/generic.py\", line 5898, in astype\n",
      "    res_col = col.astype(dtype=cdt, copy=copy, errors=errors)\n",
      "  File \"/Users/avliu/opt/anaconda3/envs/hugging-face/lib/python3.10/site-packages/pandas/core/generic.py\", line 5912, in astype\n",
      "    new_data = self._mgr.astype(dtype=dtype, copy=copy, errors=errors)\n",
      "  File \"/Users/avliu/opt/anaconda3/envs/hugging-face/lib/python3.10/site-packages/pandas/core/internals/managers.py\", line 419, in astype\n",
      "    return self.apply(\"astype\", dtype=dtype, copy=copy, errors=errors)\n",
      "  File \"/Users/avliu/opt/anaconda3/envs/hugging-face/lib/python3.10/site-packages/pandas/core/internals/managers.py\", line 304, in apply\n",
      "    applied = getattr(b, f)(**kwargs)\n",
      "  File \"/Users/avliu/opt/anaconda3/envs/hugging-face/lib/python3.10/site-packages/pandas/core/internals/blocks.py\", line 580, in astype\n",
      "    new_values = astype_array_safe(values, dtype, copy=copy, errors=errors)\n",
      "  File \"/Users/avliu/opt/anaconda3/envs/hugging-face/lib/python3.10/site-packages/pandas/core/dtypes/cast.py\", line 1292, in astype_array_safe\n",
      "    new_values = astype_array(values, dtype, copy=copy)\n",
      "  File \"/Users/avliu/opt/anaconda3/envs/hugging-face/lib/python3.10/site-packages/pandas/core/dtypes/cast.py\", line 1237, in astype_array\n",
      "    values = astype_nansafe(values, dtype, copy=copy)\n",
      "  File \"/Users/avliu/opt/anaconda3/envs/hugging-face/lib/python3.10/site-packages/pandas/core/dtypes/cast.py\", line 1154, in astype_nansafe\n",
      "    return lib.astype_intsafe(arr, dtype)\n",
      "  File \"pandas/_libs/lib.pyx\", line 668, in pandas._libs.lib.astype_intsafe\n",
      "ValueError: invalid literal for int() with base 10: ''\n"
     ]
    },
    {
     "name": "stdout",
     "output_type": "stream",
     "text": [
      "round: 1\n",
      "invalid literal for int() with base 10: 'Rtg'\n",
      "tournament_id: 571252\n"
     ]
    },
    {
     "name": "stderr",
     "output_type": "stream",
     "text": [
      "Traceback (most recent call last):\n",
      "  File \"/var/folders/t6/srtzy2f51db8mxxv7g_63f6h0000gr/T/ipykernel_72356/422094622.py\", line 19, in <cell line: 2>\n",
      "    games_df_list.append(parse_games_df(games_df))\n",
      "  File \"/var/folders/t6/srtzy2f51db8mxxv7g_63f6h0000gr/T/ipykernel_72356/3212580384.py\", line 18, in parse_games_df\n",
      "    games_df = games_df.astype({\n",
      "  File \"/Users/avliu/opt/anaconda3/envs/hugging-face/lib/python3.10/site-packages/pandas/core/generic.py\", line 5898, in astype\n",
      "    res_col = col.astype(dtype=cdt, copy=copy, errors=errors)\n",
      "  File \"/Users/avliu/opt/anaconda3/envs/hugging-face/lib/python3.10/site-packages/pandas/core/generic.py\", line 5912, in astype\n",
      "    new_data = self._mgr.astype(dtype=dtype, copy=copy, errors=errors)\n",
      "  File \"/Users/avliu/opt/anaconda3/envs/hugging-face/lib/python3.10/site-packages/pandas/core/internals/managers.py\", line 419, in astype\n",
      "    return self.apply(\"astype\", dtype=dtype, copy=copy, errors=errors)\n",
      "  File \"/Users/avliu/opt/anaconda3/envs/hugging-face/lib/python3.10/site-packages/pandas/core/internals/managers.py\", line 304, in apply\n",
      "    applied = getattr(b, f)(**kwargs)\n",
      "  File \"/Users/avliu/opt/anaconda3/envs/hugging-face/lib/python3.10/site-packages/pandas/core/internals/blocks.py\", line 580, in astype\n",
      "    new_values = astype_array_safe(values, dtype, copy=copy, errors=errors)\n",
      "  File \"/Users/avliu/opt/anaconda3/envs/hugging-face/lib/python3.10/site-packages/pandas/core/dtypes/cast.py\", line 1292, in astype_array_safe\n",
      "    new_values = astype_array(values, dtype, copy=copy)\n",
      "  File \"/Users/avliu/opt/anaconda3/envs/hugging-face/lib/python3.10/site-packages/pandas/core/dtypes/cast.py\", line 1237, in astype_array\n",
      "    values = astype_nansafe(values, dtype, copy=copy)\n",
      "  File \"/Users/avliu/opt/anaconda3/envs/hugging-face/lib/python3.10/site-packages/pandas/core/dtypes/cast.py\", line 1154, in astype_nansafe\n",
      "    return lib.astype_intsafe(arr, dtype)\n",
      "  File \"pandas/_libs/lib.pyx\", line 668, in pandas._libs.lib.astype_intsafe\n",
      "ValueError: invalid literal for int() with base 10: 'Rtg'\n"
     ]
    },
    {
     "name": "stdout",
     "output_type": "stream",
     "text": [
      "round: 1\n",
      "invalid literal for int() with base 10: 'Rtg'\n",
      "tournament_id: 571250\n"
     ]
    },
    {
     "name": "stderr",
     "output_type": "stream",
     "text": [
      "Traceback (most recent call last):\n",
      "  File \"/var/folders/t6/srtzy2f51db8mxxv7g_63f6h0000gr/T/ipykernel_72356/422094622.py\", line 19, in <cell line: 2>\n",
      "    games_df_list.append(parse_games_df(games_df))\n",
      "  File \"/var/folders/t6/srtzy2f51db8mxxv7g_63f6h0000gr/T/ipykernel_72356/3212580384.py\", line 18, in parse_games_df\n",
      "    games_df = games_df.astype({\n",
      "  File \"/Users/avliu/opt/anaconda3/envs/hugging-face/lib/python3.10/site-packages/pandas/core/generic.py\", line 5898, in astype\n",
      "    res_col = col.astype(dtype=cdt, copy=copy, errors=errors)\n",
      "  File \"/Users/avliu/opt/anaconda3/envs/hugging-face/lib/python3.10/site-packages/pandas/core/generic.py\", line 5912, in astype\n",
      "    new_data = self._mgr.astype(dtype=dtype, copy=copy, errors=errors)\n",
      "  File \"/Users/avliu/opt/anaconda3/envs/hugging-face/lib/python3.10/site-packages/pandas/core/internals/managers.py\", line 419, in astype\n",
      "    return self.apply(\"astype\", dtype=dtype, copy=copy, errors=errors)\n",
      "  File \"/Users/avliu/opt/anaconda3/envs/hugging-face/lib/python3.10/site-packages/pandas/core/internals/managers.py\", line 304, in apply\n",
      "    applied = getattr(b, f)(**kwargs)\n",
      "  File \"/Users/avliu/opt/anaconda3/envs/hugging-face/lib/python3.10/site-packages/pandas/core/internals/blocks.py\", line 580, in astype\n",
      "    new_values = astype_array_safe(values, dtype, copy=copy, errors=errors)\n",
      "  File \"/Users/avliu/opt/anaconda3/envs/hugging-face/lib/python3.10/site-packages/pandas/core/dtypes/cast.py\", line 1292, in astype_array_safe\n",
      "    new_values = astype_array(values, dtype, copy=copy)\n",
      "  File \"/Users/avliu/opt/anaconda3/envs/hugging-face/lib/python3.10/site-packages/pandas/core/dtypes/cast.py\", line 1237, in astype_array\n",
      "    values = astype_nansafe(values, dtype, copy=copy)\n",
      "  File \"/Users/avliu/opt/anaconda3/envs/hugging-face/lib/python3.10/site-packages/pandas/core/dtypes/cast.py\", line 1154, in astype_nansafe\n",
      "    return lib.astype_intsafe(arr, dtype)\n",
      "  File \"pandas/_libs/lib.pyx\", line 668, in pandas._libs.lib.astype_intsafe\n",
      "ValueError: invalid literal for int() with base 10: 'Rtg'\n"
     ]
    },
    {
     "name": "stdout",
     "output_type": "stream",
     "text": [
      "round: 1\n",
      "invalid literal for int() with base 10: 'Rtg'\n",
      "tournament_id: 571251\n"
     ]
    },
    {
     "name": "stderr",
     "output_type": "stream",
     "text": [
      "Traceback (most recent call last):\n",
      "  File \"/var/folders/t6/srtzy2f51db8mxxv7g_63f6h0000gr/T/ipykernel_72356/422094622.py\", line 19, in <cell line: 2>\n",
      "    games_df_list.append(parse_games_df(games_df))\n",
      "  File \"/var/folders/t6/srtzy2f51db8mxxv7g_63f6h0000gr/T/ipykernel_72356/3212580384.py\", line 18, in parse_games_df\n",
      "    games_df = games_df.astype({\n",
      "  File \"/Users/avliu/opt/anaconda3/envs/hugging-face/lib/python3.10/site-packages/pandas/core/generic.py\", line 5898, in astype\n",
      "    res_col = col.astype(dtype=cdt, copy=copy, errors=errors)\n",
      "  File \"/Users/avliu/opt/anaconda3/envs/hugging-face/lib/python3.10/site-packages/pandas/core/generic.py\", line 5912, in astype\n",
      "    new_data = self._mgr.astype(dtype=dtype, copy=copy, errors=errors)\n",
      "  File \"/Users/avliu/opt/anaconda3/envs/hugging-face/lib/python3.10/site-packages/pandas/core/internals/managers.py\", line 419, in astype\n",
      "    return self.apply(\"astype\", dtype=dtype, copy=copy, errors=errors)\n",
      "  File \"/Users/avliu/opt/anaconda3/envs/hugging-face/lib/python3.10/site-packages/pandas/core/internals/managers.py\", line 304, in apply\n",
      "    applied = getattr(b, f)(**kwargs)\n",
      "  File \"/Users/avliu/opt/anaconda3/envs/hugging-face/lib/python3.10/site-packages/pandas/core/internals/blocks.py\", line 580, in astype\n",
      "    new_values = astype_array_safe(values, dtype, copy=copy, errors=errors)\n",
      "  File \"/Users/avliu/opt/anaconda3/envs/hugging-face/lib/python3.10/site-packages/pandas/core/dtypes/cast.py\", line 1292, in astype_array_safe\n",
      "    new_values = astype_array(values, dtype, copy=copy)\n",
      "  File \"/Users/avliu/opt/anaconda3/envs/hugging-face/lib/python3.10/site-packages/pandas/core/dtypes/cast.py\", line 1237, in astype_array\n",
      "    values = astype_nansafe(values, dtype, copy=copy)\n",
      "  File \"/Users/avliu/opt/anaconda3/envs/hugging-face/lib/python3.10/site-packages/pandas/core/dtypes/cast.py\", line 1154, in astype_nansafe\n",
      "    return lib.astype_intsafe(arr, dtype)\n",
      "  File \"pandas/_libs/lib.pyx\", line 668, in pandas._libs.lib.astype_intsafe\n",
      "ValueError: invalid literal for int() with base 10: 'Rtg'\n"
     ]
    },
    {
     "name": "stdout",
     "output_type": "stream",
     "text": [
      "round: 1\n",
      "invalid literal for int() with base 10: 'Rtg'\n",
      "tournament_id: 570585\n"
     ]
    },
    {
     "name": "stderr",
     "output_type": "stream",
     "text": [
      "Traceback (most recent call last):\n",
      "  File \"/var/folders/t6/srtzy2f51db8mxxv7g_63f6h0000gr/T/ipykernel_72356/422094622.py\", line 19, in <cell line: 2>\n",
      "    games_df_list.append(parse_games_df(games_df))\n",
      "  File \"/var/folders/t6/srtzy2f51db8mxxv7g_63f6h0000gr/T/ipykernel_72356/3212580384.py\", line 18, in parse_games_df\n",
      "    games_df = games_df.astype({\n",
      "  File \"/Users/avliu/opt/anaconda3/envs/hugging-face/lib/python3.10/site-packages/pandas/core/generic.py\", line 5898, in astype\n",
      "    res_col = col.astype(dtype=cdt, copy=copy, errors=errors)\n",
      "  File \"/Users/avliu/opt/anaconda3/envs/hugging-face/lib/python3.10/site-packages/pandas/core/generic.py\", line 5912, in astype\n",
      "    new_data = self._mgr.astype(dtype=dtype, copy=copy, errors=errors)\n",
      "  File \"/Users/avliu/opt/anaconda3/envs/hugging-face/lib/python3.10/site-packages/pandas/core/internals/managers.py\", line 419, in astype\n",
      "    return self.apply(\"astype\", dtype=dtype, copy=copy, errors=errors)\n",
      "  File \"/Users/avliu/opt/anaconda3/envs/hugging-face/lib/python3.10/site-packages/pandas/core/internals/managers.py\", line 304, in apply\n",
      "    applied = getattr(b, f)(**kwargs)\n",
      "  File \"/Users/avliu/opt/anaconda3/envs/hugging-face/lib/python3.10/site-packages/pandas/core/internals/blocks.py\", line 580, in astype\n",
      "    new_values = astype_array_safe(values, dtype, copy=copy, errors=errors)\n",
      "  File \"/Users/avliu/opt/anaconda3/envs/hugging-face/lib/python3.10/site-packages/pandas/core/dtypes/cast.py\", line 1292, in astype_array_safe\n",
      "    new_values = astype_array(values, dtype, copy=copy)\n",
      "  File \"/Users/avliu/opt/anaconda3/envs/hugging-face/lib/python3.10/site-packages/pandas/core/dtypes/cast.py\", line 1237, in astype_array\n",
      "    values = astype_nansafe(values, dtype, copy=copy)\n",
      "  File \"/Users/avliu/opt/anaconda3/envs/hugging-face/lib/python3.10/site-packages/pandas/core/dtypes/cast.py\", line 1154, in astype_nansafe\n",
      "    return lib.astype_intsafe(arr, dtype)\n",
      "  File \"pandas/_libs/lib.pyx\", line 668, in pandas._libs.lib.astype_intsafe\n",
      "ValueError: invalid literal for int() with base 10: 'Rtg'\n"
     ]
    },
    {
     "name": "stdout",
     "output_type": "stream",
     "text": [
      "round: 1\n",
      "invalid literal for int() with base 10: 'Rtg'\n",
      "tournament_id: 570219\n"
     ]
    },
    {
     "name": "stderr",
     "output_type": "stream",
     "text": [
      "Traceback (most recent call last):\n",
      "  File \"/var/folders/t6/srtzy2f51db8mxxv7g_63f6h0000gr/T/ipykernel_72356/422094622.py\", line 19, in <cell line: 2>\n",
      "    games_df_list.append(parse_games_df(games_df))\n",
      "  File \"/var/folders/t6/srtzy2f51db8mxxv7g_63f6h0000gr/T/ipykernel_72356/3212580384.py\", line 18, in parse_games_df\n",
      "    games_df = games_df.astype({\n",
      "  File \"/Users/avliu/opt/anaconda3/envs/hugging-face/lib/python3.10/site-packages/pandas/core/generic.py\", line 5898, in astype\n",
      "    res_col = col.astype(dtype=cdt, copy=copy, errors=errors)\n",
      "  File \"/Users/avliu/opt/anaconda3/envs/hugging-face/lib/python3.10/site-packages/pandas/core/generic.py\", line 5912, in astype\n",
      "    new_data = self._mgr.astype(dtype=dtype, copy=copy, errors=errors)\n",
      "  File \"/Users/avliu/opt/anaconda3/envs/hugging-face/lib/python3.10/site-packages/pandas/core/internals/managers.py\", line 419, in astype\n",
      "    return self.apply(\"astype\", dtype=dtype, copy=copy, errors=errors)\n",
      "  File \"/Users/avliu/opt/anaconda3/envs/hugging-face/lib/python3.10/site-packages/pandas/core/internals/managers.py\", line 304, in apply\n",
      "    applied = getattr(b, f)(**kwargs)\n",
      "  File \"/Users/avliu/opt/anaconda3/envs/hugging-face/lib/python3.10/site-packages/pandas/core/internals/blocks.py\", line 580, in astype\n",
      "    new_values = astype_array_safe(values, dtype, copy=copy, errors=errors)\n",
      "  File \"/Users/avliu/opt/anaconda3/envs/hugging-face/lib/python3.10/site-packages/pandas/core/dtypes/cast.py\", line 1292, in astype_array_safe\n",
      "    new_values = astype_array(values, dtype, copy=copy)\n",
      "  File \"/Users/avliu/opt/anaconda3/envs/hugging-face/lib/python3.10/site-packages/pandas/core/dtypes/cast.py\", line 1237, in astype_array\n",
      "    values = astype_nansafe(values, dtype, copy=copy)\n",
      "  File \"/Users/avliu/opt/anaconda3/envs/hugging-face/lib/python3.10/site-packages/pandas/core/dtypes/cast.py\", line 1154, in astype_nansafe\n",
      "    return lib.astype_intsafe(arr, dtype)\n",
      "  File \"pandas/_libs/lib.pyx\", line 668, in pandas._libs.lib.astype_intsafe\n",
      "ValueError: invalid literal for int() with base 10: 'Rtg'\n"
     ]
    },
    {
     "name": "stdout",
     "output_type": "stream",
     "text": [
      "round: 1\n",
      "invalid literal for int() with base 10: ''\n",
      "tournament_id: 570215\n"
     ]
    },
    {
     "name": "stderr",
     "output_type": "stream",
     "text": [
      "Traceback (most recent call last):\n",
      "  File \"/var/folders/t6/srtzy2f51db8mxxv7g_63f6h0000gr/T/ipykernel_72356/422094622.py\", line 19, in <cell line: 2>\n",
      "    games_df_list.append(parse_games_df(games_df))\n",
      "  File \"/var/folders/t6/srtzy2f51db8mxxv7g_63f6h0000gr/T/ipykernel_72356/3212580384.py\", line 18, in parse_games_df\n",
      "    games_df = games_df.astype({\n",
      "  File \"/Users/avliu/opt/anaconda3/envs/hugging-face/lib/python3.10/site-packages/pandas/core/generic.py\", line 5898, in astype\n",
      "    res_col = col.astype(dtype=cdt, copy=copy, errors=errors)\n",
      "  File \"/Users/avliu/opt/anaconda3/envs/hugging-face/lib/python3.10/site-packages/pandas/core/generic.py\", line 5912, in astype\n",
      "    new_data = self._mgr.astype(dtype=dtype, copy=copy, errors=errors)\n",
      "  File \"/Users/avliu/opt/anaconda3/envs/hugging-face/lib/python3.10/site-packages/pandas/core/internals/managers.py\", line 419, in astype\n",
      "    return self.apply(\"astype\", dtype=dtype, copy=copy, errors=errors)\n",
      "  File \"/Users/avliu/opt/anaconda3/envs/hugging-face/lib/python3.10/site-packages/pandas/core/internals/managers.py\", line 304, in apply\n",
      "    applied = getattr(b, f)(**kwargs)\n",
      "  File \"/Users/avliu/opt/anaconda3/envs/hugging-face/lib/python3.10/site-packages/pandas/core/internals/blocks.py\", line 580, in astype\n",
      "    new_values = astype_array_safe(values, dtype, copy=copy, errors=errors)\n",
      "  File \"/Users/avliu/opt/anaconda3/envs/hugging-face/lib/python3.10/site-packages/pandas/core/dtypes/cast.py\", line 1292, in astype_array_safe\n",
      "    new_values = astype_array(values, dtype, copy=copy)\n",
      "  File \"/Users/avliu/opt/anaconda3/envs/hugging-face/lib/python3.10/site-packages/pandas/core/dtypes/cast.py\", line 1237, in astype_array\n",
      "    values = astype_nansafe(values, dtype, copy=copy)\n",
      "  File \"/Users/avliu/opt/anaconda3/envs/hugging-face/lib/python3.10/site-packages/pandas/core/dtypes/cast.py\", line 1154, in astype_nansafe\n",
      "    return lib.astype_intsafe(arr, dtype)\n",
      "  File \"pandas/_libs/lib.pyx\", line 668, in pandas._libs.lib.astype_intsafe\n",
      "ValueError: invalid literal for int() with base 10: ''\n"
     ]
    },
    {
     "name": "stdout",
     "output_type": "stream",
     "text": [
      "round: 1\n",
      "invalid literal for int() with base 10: 'Rtg'\n",
      "tournament_id: 570223\n"
     ]
    },
    {
     "name": "stderr",
     "output_type": "stream",
     "text": [
      "Traceback (most recent call last):\n",
      "  File \"/var/folders/t6/srtzy2f51db8mxxv7g_63f6h0000gr/T/ipykernel_72356/422094622.py\", line 19, in <cell line: 2>\n",
      "    games_df_list.append(parse_games_df(games_df))\n",
      "  File \"/var/folders/t6/srtzy2f51db8mxxv7g_63f6h0000gr/T/ipykernel_72356/3212580384.py\", line 18, in parse_games_df\n",
      "    games_df = games_df.astype({\n",
      "  File \"/Users/avliu/opt/anaconda3/envs/hugging-face/lib/python3.10/site-packages/pandas/core/generic.py\", line 5898, in astype\n",
      "    res_col = col.astype(dtype=cdt, copy=copy, errors=errors)\n",
      "  File \"/Users/avliu/opt/anaconda3/envs/hugging-face/lib/python3.10/site-packages/pandas/core/generic.py\", line 5912, in astype\n",
      "    new_data = self._mgr.astype(dtype=dtype, copy=copy, errors=errors)\n",
      "  File \"/Users/avliu/opt/anaconda3/envs/hugging-face/lib/python3.10/site-packages/pandas/core/internals/managers.py\", line 419, in astype\n",
      "    return self.apply(\"astype\", dtype=dtype, copy=copy, errors=errors)\n",
      "  File \"/Users/avliu/opt/anaconda3/envs/hugging-face/lib/python3.10/site-packages/pandas/core/internals/managers.py\", line 304, in apply\n",
      "    applied = getattr(b, f)(**kwargs)\n",
      "  File \"/Users/avliu/opt/anaconda3/envs/hugging-face/lib/python3.10/site-packages/pandas/core/internals/blocks.py\", line 580, in astype\n",
      "    new_values = astype_array_safe(values, dtype, copy=copy, errors=errors)\n",
      "  File \"/Users/avliu/opt/anaconda3/envs/hugging-face/lib/python3.10/site-packages/pandas/core/dtypes/cast.py\", line 1292, in astype_array_safe\n",
      "    new_values = astype_array(values, dtype, copy=copy)\n",
      "  File \"/Users/avliu/opt/anaconda3/envs/hugging-face/lib/python3.10/site-packages/pandas/core/dtypes/cast.py\", line 1237, in astype_array\n",
      "    values = astype_nansafe(values, dtype, copy=copy)\n",
      "  File \"/Users/avliu/opt/anaconda3/envs/hugging-face/lib/python3.10/site-packages/pandas/core/dtypes/cast.py\", line 1154, in astype_nansafe\n",
      "    return lib.astype_intsafe(arr, dtype)\n",
      "  File \"pandas/_libs/lib.pyx\", line 668, in pandas._libs.lib.astype_intsafe\n",
      "ValueError: invalid literal for int() with base 10: 'Rtg'\n"
     ]
    },
    {
     "name": "stdout",
     "output_type": "stream",
     "text": [
      "round: 1\n",
      "invalid literal for int() with base 10: 'Rtg'\n",
      "tournament_id: 570234\n"
     ]
    },
    {
     "name": "stderr",
     "output_type": "stream",
     "text": [
      "Traceback (most recent call last):\n",
      "  File \"/var/folders/t6/srtzy2f51db8mxxv7g_63f6h0000gr/T/ipykernel_72356/422094622.py\", line 19, in <cell line: 2>\n",
      "    games_df_list.append(parse_games_df(games_df))\n",
      "  File \"/var/folders/t6/srtzy2f51db8mxxv7g_63f6h0000gr/T/ipykernel_72356/3212580384.py\", line 18, in parse_games_df\n",
      "    games_df = games_df.astype({\n",
      "  File \"/Users/avliu/opt/anaconda3/envs/hugging-face/lib/python3.10/site-packages/pandas/core/generic.py\", line 5898, in astype\n",
      "    res_col = col.astype(dtype=cdt, copy=copy, errors=errors)\n",
      "  File \"/Users/avliu/opt/anaconda3/envs/hugging-face/lib/python3.10/site-packages/pandas/core/generic.py\", line 5912, in astype\n",
      "    new_data = self._mgr.astype(dtype=dtype, copy=copy, errors=errors)\n",
      "  File \"/Users/avliu/opt/anaconda3/envs/hugging-face/lib/python3.10/site-packages/pandas/core/internals/managers.py\", line 419, in astype\n",
      "    return self.apply(\"astype\", dtype=dtype, copy=copy, errors=errors)\n",
      "  File \"/Users/avliu/opt/anaconda3/envs/hugging-face/lib/python3.10/site-packages/pandas/core/internals/managers.py\", line 304, in apply\n",
      "    applied = getattr(b, f)(**kwargs)\n",
      "  File \"/Users/avliu/opt/anaconda3/envs/hugging-face/lib/python3.10/site-packages/pandas/core/internals/blocks.py\", line 580, in astype\n",
      "    new_values = astype_array_safe(values, dtype, copy=copy, errors=errors)\n",
      "  File \"/Users/avliu/opt/anaconda3/envs/hugging-face/lib/python3.10/site-packages/pandas/core/dtypes/cast.py\", line 1292, in astype_array_safe\n",
      "    new_values = astype_array(values, dtype, copy=copy)\n",
      "  File \"/Users/avliu/opt/anaconda3/envs/hugging-face/lib/python3.10/site-packages/pandas/core/dtypes/cast.py\", line 1237, in astype_array\n",
      "    values = astype_nansafe(values, dtype, copy=copy)\n",
      "  File \"/Users/avliu/opt/anaconda3/envs/hugging-face/lib/python3.10/site-packages/pandas/core/dtypes/cast.py\", line 1154, in astype_nansafe\n",
      "    return lib.astype_intsafe(arr, dtype)\n",
      "  File \"pandas/_libs/lib.pyx\", line 668, in pandas._libs.lib.astype_intsafe\n",
      "ValueError: invalid literal for int() with base 10: 'Rtg'\n"
     ]
    },
    {
     "name": "stdout",
     "output_type": "stream",
     "text": [
      "round: 1\n",
      "invalid literal for int() with base 10: 'Rtg'\n",
      "tournament_id: 570232\n"
     ]
    },
    {
     "name": "stderr",
     "output_type": "stream",
     "text": [
      "Traceback (most recent call last):\n",
      "  File \"/var/folders/t6/srtzy2f51db8mxxv7g_63f6h0000gr/T/ipykernel_72356/422094622.py\", line 19, in <cell line: 2>\n",
      "    games_df_list.append(parse_games_df(games_df))\n",
      "  File \"/var/folders/t6/srtzy2f51db8mxxv7g_63f6h0000gr/T/ipykernel_72356/3212580384.py\", line 18, in parse_games_df\n",
      "    games_df = games_df.astype({\n",
      "  File \"/Users/avliu/opt/anaconda3/envs/hugging-face/lib/python3.10/site-packages/pandas/core/generic.py\", line 5898, in astype\n",
      "    res_col = col.astype(dtype=cdt, copy=copy, errors=errors)\n",
      "  File \"/Users/avliu/opt/anaconda3/envs/hugging-face/lib/python3.10/site-packages/pandas/core/generic.py\", line 5912, in astype\n",
      "    new_data = self._mgr.astype(dtype=dtype, copy=copy, errors=errors)\n",
      "  File \"/Users/avliu/opt/anaconda3/envs/hugging-face/lib/python3.10/site-packages/pandas/core/internals/managers.py\", line 419, in astype\n",
      "    return self.apply(\"astype\", dtype=dtype, copy=copy, errors=errors)\n",
      "  File \"/Users/avliu/opt/anaconda3/envs/hugging-face/lib/python3.10/site-packages/pandas/core/internals/managers.py\", line 304, in apply\n",
      "    applied = getattr(b, f)(**kwargs)\n",
      "  File \"/Users/avliu/opt/anaconda3/envs/hugging-face/lib/python3.10/site-packages/pandas/core/internals/blocks.py\", line 580, in astype\n",
      "    new_values = astype_array_safe(values, dtype, copy=copy, errors=errors)\n",
      "  File \"/Users/avliu/opt/anaconda3/envs/hugging-face/lib/python3.10/site-packages/pandas/core/dtypes/cast.py\", line 1292, in astype_array_safe\n",
      "    new_values = astype_array(values, dtype, copy=copy)\n",
      "  File \"/Users/avliu/opt/anaconda3/envs/hugging-face/lib/python3.10/site-packages/pandas/core/dtypes/cast.py\", line 1237, in astype_array\n",
      "    values = astype_nansafe(values, dtype, copy=copy)\n",
      "  File \"/Users/avliu/opt/anaconda3/envs/hugging-face/lib/python3.10/site-packages/pandas/core/dtypes/cast.py\", line 1154, in astype_nansafe\n",
      "    return lib.astype_intsafe(arr, dtype)\n",
      "  File \"pandas/_libs/lib.pyx\", line 668, in pandas._libs.lib.astype_intsafe\n",
      "ValueError: invalid literal for int() with base 10: 'Rtg'\n"
     ]
    },
    {
     "name": "stdout",
     "output_type": "stream",
     "text": [
      "round: 1\n",
      "invalid literal for int() with base 10: 'Rtg'\n",
      "tournament_id: 570211\n"
     ]
    },
    {
     "name": "stderr",
     "output_type": "stream",
     "text": [
      "Traceback (most recent call last):\n",
      "  File \"/var/folders/t6/srtzy2f51db8mxxv7g_63f6h0000gr/T/ipykernel_72356/422094622.py\", line 19, in <cell line: 2>\n",
      "    games_df_list.append(parse_games_df(games_df))\n",
      "  File \"/var/folders/t6/srtzy2f51db8mxxv7g_63f6h0000gr/T/ipykernel_72356/3212580384.py\", line 18, in parse_games_df\n",
      "    games_df = games_df.astype({\n",
      "  File \"/Users/avliu/opt/anaconda3/envs/hugging-face/lib/python3.10/site-packages/pandas/core/generic.py\", line 5898, in astype\n",
      "    res_col = col.astype(dtype=cdt, copy=copy, errors=errors)\n",
      "  File \"/Users/avliu/opt/anaconda3/envs/hugging-face/lib/python3.10/site-packages/pandas/core/generic.py\", line 5912, in astype\n",
      "    new_data = self._mgr.astype(dtype=dtype, copy=copy, errors=errors)\n",
      "  File \"/Users/avliu/opt/anaconda3/envs/hugging-face/lib/python3.10/site-packages/pandas/core/internals/managers.py\", line 419, in astype\n",
      "    return self.apply(\"astype\", dtype=dtype, copy=copy, errors=errors)\n",
      "  File \"/Users/avliu/opt/anaconda3/envs/hugging-face/lib/python3.10/site-packages/pandas/core/internals/managers.py\", line 304, in apply\n",
      "    applied = getattr(b, f)(**kwargs)\n",
      "  File \"/Users/avliu/opt/anaconda3/envs/hugging-face/lib/python3.10/site-packages/pandas/core/internals/blocks.py\", line 580, in astype\n",
      "    new_values = astype_array_safe(values, dtype, copy=copy, errors=errors)\n",
      "  File \"/Users/avliu/opt/anaconda3/envs/hugging-face/lib/python3.10/site-packages/pandas/core/dtypes/cast.py\", line 1292, in astype_array_safe\n",
      "    new_values = astype_array(values, dtype, copy=copy)\n",
      "  File \"/Users/avliu/opt/anaconda3/envs/hugging-face/lib/python3.10/site-packages/pandas/core/dtypes/cast.py\", line 1237, in astype_array\n",
      "    values = astype_nansafe(values, dtype, copy=copy)\n",
      "  File \"/Users/avliu/opt/anaconda3/envs/hugging-face/lib/python3.10/site-packages/pandas/core/dtypes/cast.py\", line 1154, in astype_nansafe\n",
      "    return lib.astype_intsafe(arr, dtype)\n",
      "  File \"pandas/_libs/lib.pyx\", line 668, in pandas._libs.lib.astype_intsafe\n",
      "ValueError: invalid literal for int() with base 10: 'Rtg'\n"
     ]
    },
    {
     "name": "stdout",
     "output_type": "stream",
     "text": [
      "round: 1\n",
      "invalid literal for int() with base 10: 'Rtg'\n",
      "tournament_id: 570213\n"
     ]
    },
    {
     "name": "stderr",
     "output_type": "stream",
     "text": [
      "Traceback (most recent call last):\n",
      "  File \"/var/folders/t6/srtzy2f51db8mxxv7g_63f6h0000gr/T/ipykernel_72356/422094622.py\", line 19, in <cell line: 2>\n",
      "    games_df_list.append(parse_games_df(games_df))\n",
      "  File \"/var/folders/t6/srtzy2f51db8mxxv7g_63f6h0000gr/T/ipykernel_72356/3212580384.py\", line 18, in parse_games_df\n",
      "    games_df = games_df.astype({\n",
      "  File \"/Users/avliu/opt/anaconda3/envs/hugging-face/lib/python3.10/site-packages/pandas/core/generic.py\", line 5898, in astype\n",
      "    res_col = col.astype(dtype=cdt, copy=copy, errors=errors)\n",
      "  File \"/Users/avliu/opt/anaconda3/envs/hugging-face/lib/python3.10/site-packages/pandas/core/generic.py\", line 5912, in astype\n",
      "    new_data = self._mgr.astype(dtype=dtype, copy=copy, errors=errors)\n",
      "  File \"/Users/avliu/opt/anaconda3/envs/hugging-face/lib/python3.10/site-packages/pandas/core/internals/managers.py\", line 419, in astype\n",
      "    return self.apply(\"astype\", dtype=dtype, copy=copy, errors=errors)\n",
      "  File \"/Users/avliu/opt/anaconda3/envs/hugging-face/lib/python3.10/site-packages/pandas/core/internals/managers.py\", line 304, in apply\n",
      "    applied = getattr(b, f)(**kwargs)\n",
      "  File \"/Users/avliu/opt/anaconda3/envs/hugging-face/lib/python3.10/site-packages/pandas/core/internals/blocks.py\", line 580, in astype\n",
      "    new_values = astype_array_safe(values, dtype, copy=copy, errors=errors)\n",
      "  File \"/Users/avliu/opt/anaconda3/envs/hugging-face/lib/python3.10/site-packages/pandas/core/dtypes/cast.py\", line 1292, in astype_array_safe\n",
      "    new_values = astype_array(values, dtype, copy=copy)\n",
      "  File \"/Users/avliu/opt/anaconda3/envs/hugging-face/lib/python3.10/site-packages/pandas/core/dtypes/cast.py\", line 1237, in astype_array\n",
      "    values = astype_nansafe(values, dtype, copy=copy)\n",
      "  File \"/Users/avliu/opt/anaconda3/envs/hugging-face/lib/python3.10/site-packages/pandas/core/dtypes/cast.py\", line 1154, in astype_nansafe\n",
      "    return lib.astype_intsafe(arr, dtype)\n",
      "  File \"pandas/_libs/lib.pyx\", line 668, in pandas._libs.lib.astype_intsafe\n",
      "ValueError: invalid literal for int() with base 10: 'Rtg'\n"
     ]
    },
    {
     "name": "stdout",
     "output_type": "stream",
     "text": [
      "round: 1\n",
      "invalid literal for int() with base 10: 'Rtg'\n",
      "tournament_id: 568055\n"
     ]
    },
    {
     "name": "stderr",
     "output_type": "stream",
     "text": [
      "Traceback (most recent call last):\n",
      "  File \"/var/folders/t6/srtzy2f51db8mxxv7g_63f6h0000gr/T/ipykernel_72356/422094622.py\", line 19, in <cell line: 2>\n",
      "    games_df_list.append(parse_games_df(games_df))\n",
      "  File \"/var/folders/t6/srtzy2f51db8mxxv7g_63f6h0000gr/T/ipykernel_72356/3212580384.py\", line 18, in parse_games_df\n",
      "    games_df = games_df.astype({\n",
      "  File \"/Users/avliu/opt/anaconda3/envs/hugging-face/lib/python3.10/site-packages/pandas/core/generic.py\", line 5898, in astype\n",
      "    res_col = col.astype(dtype=cdt, copy=copy, errors=errors)\n",
      "  File \"/Users/avliu/opt/anaconda3/envs/hugging-face/lib/python3.10/site-packages/pandas/core/generic.py\", line 5912, in astype\n",
      "    new_data = self._mgr.astype(dtype=dtype, copy=copy, errors=errors)\n",
      "  File \"/Users/avliu/opt/anaconda3/envs/hugging-face/lib/python3.10/site-packages/pandas/core/internals/managers.py\", line 419, in astype\n",
      "    return self.apply(\"astype\", dtype=dtype, copy=copy, errors=errors)\n",
      "  File \"/Users/avliu/opt/anaconda3/envs/hugging-face/lib/python3.10/site-packages/pandas/core/internals/managers.py\", line 304, in apply\n",
      "    applied = getattr(b, f)(**kwargs)\n",
      "  File \"/Users/avliu/opt/anaconda3/envs/hugging-face/lib/python3.10/site-packages/pandas/core/internals/blocks.py\", line 580, in astype\n",
      "    new_values = astype_array_safe(values, dtype, copy=copy, errors=errors)\n",
      "  File \"/Users/avliu/opt/anaconda3/envs/hugging-face/lib/python3.10/site-packages/pandas/core/dtypes/cast.py\", line 1292, in astype_array_safe\n",
      "    new_values = astype_array(values, dtype, copy=copy)\n",
      "  File \"/Users/avliu/opt/anaconda3/envs/hugging-face/lib/python3.10/site-packages/pandas/core/dtypes/cast.py\", line 1237, in astype_array\n",
      "    values = astype_nansafe(values, dtype, copy=copy)\n",
      "  File \"/Users/avliu/opt/anaconda3/envs/hugging-face/lib/python3.10/site-packages/pandas/core/dtypes/cast.py\", line 1154, in astype_nansafe\n",
      "    return lib.astype_intsafe(arr, dtype)\n",
      "  File \"pandas/_libs/lib.pyx\", line 668, in pandas._libs.lib.astype_intsafe\n",
      "ValueError: invalid literal for int() with base 10: 'Rtg'\n"
     ]
    },
    {
     "name": "stdout",
     "output_type": "stream",
     "text": [
      "round: 1\n",
      "invalid literal for int() with base 10: ''\n",
      "tournament_id: 568054\n"
     ]
    },
    {
     "name": "stderr",
     "output_type": "stream",
     "text": [
      "Traceback (most recent call last):\n",
      "  File \"/var/folders/t6/srtzy2f51db8mxxv7g_63f6h0000gr/T/ipykernel_72356/422094622.py\", line 19, in <cell line: 2>\n",
      "    games_df_list.append(parse_games_df(games_df))\n",
      "  File \"/var/folders/t6/srtzy2f51db8mxxv7g_63f6h0000gr/T/ipykernel_72356/3212580384.py\", line 18, in parse_games_df\n",
      "    games_df = games_df.astype({\n",
      "  File \"/Users/avliu/opt/anaconda3/envs/hugging-face/lib/python3.10/site-packages/pandas/core/generic.py\", line 5898, in astype\n",
      "    res_col = col.astype(dtype=cdt, copy=copy, errors=errors)\n",
      "  File \"/Users/avliu/opt/anaconda3/envs/hugging-face/lib/python3.10/site-packages/pandas/core/generic.py\", line 5912, in astype\n",
      "    new_data = self._mgr.astype(dtype=dtype, copy=copy, errors=errors)\n",
      "  File \"/Users/avliu/opt/anaconda3/envs/hugging-face/lib/python3.10/site-packages/pandas/core/internals/managers.py\", line 419, in astype\n",
      "    return self.apply(\"astype\", dtype=dtype, copy=copy, errors=errors)\n",
      "  File \"/Users/avliu/opt/anaconda3/envs/hugging-face/lib/python3.10/site-packages/pandas/core/internals/managers.py\", line 304, in apply\n",
      "    applied = getattr(b, f)(**kwargs)\n",
      "  File \"/Users/avliu/opt/anaconda3/envs/hugging-face/lib/python3.10/site-packages/pandas/core/internals/blocks.py\", line 580, in astype\n",
      "    new_values = astype_array_safe(values, dtype, copy=copy, errors=errors)\n",
      "  File \"/Users/avliu/opt/anaconda3/envs/hugging-face/lib/python3.10/site-packages/pandas/core/dtypes/cast.py\", line 1292, in astype_array_safe\n",
      "    new_values = astype_array(values, dtype, copy=copy)\n",
      "  File \"/Users/avliu/opt/anaconda3/envs/hugging-face/lib/python3.10/site-packages/pandas/core/dtypes/cast.py\", line 1237, in astype_array\n",
      "    values = astype_nansafe(values, dtype, copy=copy)\n",
      "  File \"/Users/avliu/opt/anaconda3/envs/hugging-face/lib/python3.10/site-packages/pandas/core/dtypes/cast.py\", line 1154, in astype_nansafe\n",
      "    return lib.astype_intsafe(arr, dtype)\n",
      "  File \"pandas/_libs/lib.pyx\", line 668, in pandas._libs.lib.astype_intsafe\n",
      "ValueError: invalid literal for int() with base 10: ''\n"
     ]
    },
    {
     "name": "stdout",
     "output_type": "stream",
     "text": [
      "round: 1\n",
      "invalid literal for int() with base 10: ''\n",
      "tournament_id: 565317\n"
     ]
    },
    {
     "name": "stderr",
     "output_type": "stream",
     "text": [
      "Traceback (most recent call last):\n",
      "  File \"/var/folders/t6/srtzy2f51db8mxxv7g_63f6h0000gr/T/ipykernel_72356/422094622.py\", line 19, in <cell line: 2>\n",
      "    games_df_list.append(parse_games_df(games_df))\n",
      "  File \"/var/folders/t6/srtzy2f51db8mxxv7g_63f6h0000gr/T/ipykernel_72356/3212580384.py\", line 18, in parse_games_df\n",
      "    games_df = games_df.astype({\n",
      "  File \"/Users/avliu/opt/anaconda3/envs/hugging-face/lib/python3.10/site-packages/pandas/core/generic.py\", line 5898, in astype\n",
      "    res_col = col.astype(dtype=cdt, copy=copy, errors=errors)\n",
      "  File \"/Users/avliu/opt/anaconda3/envs/hugging-face/lib/python3.10/site-packages/pandas/core/generic.py\", line 5912, in astype\n",
      "    new_data = self._mgr.astype(dtype=dtype, copy=copy, errors=errors)\n",
      "  File \"/Users/avliu/opt/anaconda3/envs/hugging-face/lib/python3.10/site-packages/pandas/core/internals/managers.py\", line 419, in astype\n",
      "    return self.apply(\"astype\", dtype=dtype, copy=copy, errors=errors)\n",
      "  File \"/Users/avliu/opt/anaconda3/envs/hugging-face/lib/python3.10/site-packages/pandas/core/internals/managers.py\", line 304, in apply\n",
      "    applied = getattr(b, f)(**kwargs)\n",
      "  File \"/Users/avliu/opt/anaconda3/envs/hugging-face/lib/python3.10/site-packages/pandas/core/internals/blocks.py\", line 580, in astype\n",
      "    new_values = astype_array_safe(values, dtype, copy=copy, errors=errors)\n",
      "  File \"/Users/avliu/opt/anaconda3/envs/hugging-face/lib/python3.10/site-packages/pandas/core/dtypes/cast.py\", line 1292, in astype_array_safe\n",
      "    new_values = astype_array(values, dtype, copy=copy)\n",
      "  File \"/Users/avliu/opt/anaconda3/envs/hugging-face/lib/python3.10/site-packages/pandas/core/dtypes/cast.py\", line 1237, in astype_array\n",
      "    values = astype_nansafe(values, dtype, copy=copy)\n",
      "  File \"/Users/avliu/opt/anaconda3/envs/hugging-face/lib/python3.10/site-packages/pandas/core/dtypes/cast.py\", line 1154, in astype_nansafe\n",
      "    return lib.astype_intsafe(arr, dtype)\n",
      "  File \"pandas/_libs/lib.pyx\", line 668, in pandas._libs.lib.astype_intsafe\n",
      "ValueError: invalid literal for int() with base 10: ''\n"
     ]
    },
    {
     "name": "stdout",
     "output_type": "stream",
     "text": [
      "round: 1\n",
      "invalid literal for int() with base 10: 'Rtg'\n",
      "tournament_id: 565322\n"
     ]
    },
    {
     "name": "stderr",
     "output_type": "stream",
     "text": [
      "Traceback (most recent call last):\n",
      "  File \"/var/folders/t6/srtzy2f51db8mxxv7g_63f6h0000gr/T/ipykernel_72356/422094622.py\", line 19, in <cell line: 2>\n",
      "    games_df_list.append(parse_games_df(games_df))\n",
      "  File \"/var/folders/t6/srtzy2f51db8mxxv7g_63f6h0000gr/T/ipykernel_72356/3212580384.py\", line 18, in parse_games_df\n",
      "    games_df = games_df.astype({\n",
      "  File \"/Users/avliu/opt/anaconda3/envs/hugging-face/lib/python3.10/site-packages/pandas/core/generic.py\", line 5898, in astype\n",
      "    res_col = col.astype(dtype=cdt, copy=copy, errors=errors)\n",
      "  File \"/Users/avliu/opt/anaconda3/envs/hugging-face/lib/python3.10/site-packages/pandas/core/generic.py\", line 5912, in astype\n",
      "    new_data = self._mgr.astype(dtype=dtype, copy=copy, errors=errors)\n",
      "  File \"/Users/avliu/opt/anaconda3/envs/hugging-face/lib/python3.10/site-packages/pandas/core/internals/managers.py\", line 419, in astype\n",
      "    return self.apply(\"astype\", dtype=dtype, copy=copy, errors=errors)\n",
      "  File \"/Users/avliu/opt/anaconda3/envs/hugging-face/lib/python3.10/site-packages/pandas/core/internals/managers.py\", line 304, in apply\n",
      "    applied = getattr(b, f)(**kwargs)\n",
      "  File \"/Users/avliu/opt/anaconda3/envs/hugging-face/lib/python3.10/site-packages/pandas/core/internals/blocks.py\", line 580, in astype\n",
      "    new_values = astype_array_safe(values, dtype, copy=copy, errors=errors)\n",
      "  File \"/Users/avliu/opt/anaconda3/envs/hugging-face/lib/python3.10/site-packages/pandas/core/dtypes/cast.py\", line 1292, in astype_array_safe\n",
      "    new_values = astype_array(values, dtype, copy=copy)\n",
      "  File \"/Users/avliu/opt/anaconda3/envs/hugging-face/lib/python3.10/site-packages/pandas/core/dtypes/cast.py\", line 1237, in astype_array\n",
      "    values = astype_nansafe(values, dtype, copy=copy)\n",
      "  File \"/Users/avliu/opt/anaconda3/envs/hugging-face/lib/python3.10/site-packages/pandas/core/dtypes/cast.py\", line 1154, in astype_nansafe\n",
      "    return lib.astype_intsafe(arr, dtype)\n",
      "  File \"pandas/_libs/lib.pyx\", line 668, in pandas._libs.lib.astype_intsafe\n",
      "ValueError: invalid literal for int() with base 10: 'Rtg'\n"
     ]
    },
    {
     "name": "stdout",
     "output_type": "stream",
     "text": [
      "round: 1\n",
      "invalid literal for int() with base 10: 'Rtg'\n",
      "tournament_id: 565325\n"
     ]
    },
    {
     "name": "stderr",
     "output_type": "stream",
     "text": [
      "Traceback (most recent call last):\n",
      "  File \"/var/folders/t6/srtzy2f51db8mxxv7g_63f6h0000gr/T/ipykernel_72356/422094622.py\", line 19, in <cell line: 2>\n",
      "    games_df_list.append(parse_games_df(games_df))\n",
      "  File \"/var/folders/t6/srtzy2f51db8mxxv7g_63f6h0000gr/T/ipykernel_72356/3212580384.py\", line 18, in parse_games_df\n",
      "    games_df = games_df.astype({\n",
      "  File \"/Users/avliu/opt/anaconda3/envs/hugging-face/lib/python3.10/site-packages/pandas/core/generic.py\", line 5898, in astype\n",
      "    res_col = col.astype(dtype=cdt, copy=copy, errors=errors)\n",
      "  File \"/Users/avliu/opt/anaconda3/envs/hugging-face/lib/python3.10/site-packages/pandas/core/generic.py\", line 5912, in astype\n",
      "    new_data = self._mgr.astype(dtype=dtype, copy=copy, errors=errors)\n",
      "  File \"/Users/avliu/opt/anaconda3/envs/hugging-face/lib/python3.10/site-packages/pandas/core/internals/managers.py\", line 419, in astype\n",
      "    return self.apply(\"astype\", dtype=dtype, copy=copy, errors=errors)\n",
      "  File \"/Users/avliu/opt/anaconda3/envs/hugging-face/lib/python3.10/site-packages/pandas/core/internals/managers.py\", line 304, in apply\n",
      "    applied = getattr(b, f)(**kwargs)\n",
      "  File \"/Users/avliu/opt/anaconda3/envs/hugging-face/lib/python3.10/site-packages/pandas/core/internals/blocks.py\", line 580, in astype\n",
      "    new_values = astype_array_safe(values, dtype, copy=copy, errors=errors)\n",
      "  File \"/Users/avliu/opt/anaconda3/envs/hugging-face/lib/python3.10/site-packages/pandas/core/dtypes/cast.py\", line 1292, in astype_array_safe\n",
      "    new_values = astype_array(values, dtype, copy=copy)\n",
      "  File \"/Users/avliu/opt/anaconda3/envs/hugging-face/lib/python3.10/site-packages/pandas/core/dtypes/cast.py\", line 1237, in astype_array\n",
      "    values = astype_nansafe(values, dtype, copy=copy)\n",
      "  File \"/Users/avliu/opt/anaconda3/envs/hugging-face/lib/python3.10/site-packages/pandas/core/dtypes/cast.py\", line 1154, in astype_nansafe\n",
      "    return lib.astype_intsafe(arr, dtype)\n",
      "  File \"pandas/_libs/lib.pyx\", line 668, in pandas._libs.lib.astype_intsafe\n",
      "ValueError: invalid literal for int() with base 10: 'Rtg'\n"
     ]
    },
    {
     "name": "stdout",
     "output_type": "stream",
     "text": [
      "round: 1\n",
      "invalid literal for int() with base 10: ''\n",
      "tournament_id: 565320\n"
     ]
    },
    {
     "name": "stderr",
     "output_type": "stream",
     "text": [
      "Traceback (most recent call last):\n",
      "  File \"/var/folders/t6/srtzy2f51db8mxxv7g_63f6h0000gr/T/ipykernel_72356/422094622.py\", line 19, in <cell line: 2>\n",
      "    games_df_list.append(parse_games_df(games_df))\n",
      "  File \"/var/folders/t6/srtzy2f51db8mxxv7g_63f6h0000gr/T/ipykernel_72356/3212580384.py\", line 18, in parse_games_df\n",
      "    games_df = games_df.astype({\n",
      "  File \"/Users/avliu/opt/anaconda3/envs/hugging-face/lib/python3.10/site-packages/pandas/core/generic.py\", line 5898, in astype\n",
      "    res_col = col.astype(dtype=cdt, copy=copy, errors=errors)\n",
      "  File \"/Users/avliu/opt/anaconda3/envs/hugging-face/lib/python3.10/site-packages/pandas/core/generic.py\", line 5912, in astype\n",
      "    new_data = self._mgr.astype(dtype=dtype, copy=copy, errors=errors)\n",
      "  File \"/Users/avliu/opt/anaconda3/envs/hugging-face/lib/python3.10/site-packages/pandas/core/internals/managers.py\", line 419, in astype\n",
      "    return self.apply(\"astype\", dtype=dtype, copy=copy, errors=errors)\n",
      "  File \"/Users/avliu/opt/anaconda3/envs/hugging-face/lib/python3.10/site-packages/pandas/core/internals/managers.py\", line 304, in apply\n",
      "    applied = getattr(b, f)(**kwargs)\n",
      "  File \"/Users/avliu/opt/anaconda3/envs/hugging-face/lib/python3.10/site-packages/pandas/core/internals/blocks.py\", line 580, in astype\n",
      "    new_values = astype_array_safe(values, dtype, copy=copy, errors=errors)\n",
      "  File \"/Users/avliu/opt/anaconda3/envs/hugging-face/lib/python3.10/site-packages/pandas/core/dtypes/cast.py\", line 1292, in astype_array_safe\n",
      "    new_values = astype_array(values, dtype, copy=copy)\n",
      "  File \"/Users/avliu/opt/anaconda3/envs/hugging-face/lib/python3.10/site-packages/pandas/core/dtypes/cast.py\", line 1237, in astype_array\n",
      "    values = astype_nansafe(values, dtype, copy=copy)\n",
      "  File \"/Users/avliu/opt/anaconda3/envs/hugging-face/lib/python3.10/site-packages/pandas/core/dtypes/cast.py\", line 1154, in astype_nansafe\n",
      "    return lib.astype_intsafe(arr, dtype)\n",
      "  File \"pandas/_libs/lib.pyx\", line 668, in pandas._libs.lib.astype_intsafe\n",
      "ValueError: invalid literal for int() with base 10: ''\n"
     ]
    },
    {
     "name": "stdout",
     "output_type": "stream",
     "text": [
      "round: 1\n",
      "invalid literal for int() with base 10: 'Rtg'\n",
      "tournament_id: 565318\n"
     ]
    },
    {
     "name": "stderr",
     "output_type": "stream",
     "text": [
      "Traceback (most recent call last):\n",
      "  File \"/var/folders/t6/srtzy2f51db8mxxv7g_63f6h0000gr/T/ipykernel_72356/422094622.py\", line 19, in <cell line: 2>\n",
      "    games_df_list.append(parse_games_df(games_df))\n",
      "  File \"/var/folders/t6/srtzy2f51db8mxxv7g_63f6h0000gr/T/ipykernel_72356/3212580384.py\", line 18, in parse_games_df\n",
      "    games_df = games_df.astype({\n",
      "  File \"/Users/avliu/opt/anaconda3/envs/hugging-face/lib/python3.10/site-packages/pandas/core/generic.py\", line 5898, in astype\n",
      "    res_col = col.astype(dtype=cdt, copy=copy, errors=errors)\n",
      "  File \"/Users/avliu/opt/anaconda3/envs/hugging-face/lib/python3.10/site-packages/pandas/core/generic.py\", line 5912, in astype\n",
      "    new_data = self._mgr.astype(dtype=dtype, copy=copy, errors=errors)\n",
      "  File \"/Users/avliu/opt/anaconda3/envs/hugging-face/lib/python3.10/site-packages/pandas/core/internals/managers.py\", line 419, in astype\n",
      "    return self.apply(\"astype\", dtype=dtype, copy=copy, errors=errors)\n",
      "  File \"/Users/avliu/opt/anaconda3/envs/hugging-face/lib/python3.10/site-packages/pandas/core/internals/managers.py\", line 304, in apply\n",
      "    applied = getattr(b, f)(**kwargs)\n",
      "  File \"/Users/avliu/opt/anaconda3/envs/hugging-face/lib/python3.10/site-packages/pandas/core/internals/blocks.py\", line 580, in astype\n",
      "    new_values = astype_array_safe(values, dtype, copy=copy, errors=errors)\n",
      "  File \"/Users/avliu/opt/anaconda3/envs/hugging-face/lib/python3.10/site-packages/pandas/core/dtypes/cast.py\", line 1292, in astype_array_safe\n",
      "    new_values = astype_array(values, dtype, copy=copy)\n",
      "  File \"/Users/avliu/opt/anaconda3/envs/hugging-face/lib/python3.10/site-packages/pandas/core/dtypes/cast.py\", line 1237, in astype_array\n",
      "    values = astype_nansafe(values, dtype, copy=copy)\n",
      "  File \"/Users/avliu/opt/anaconda3/envs/hugging-face/lib/python3.10/site-packages/pandas/core/dtypes/cast.py\", line 1154, in astype_nansafe\n",
      "    return lib.astype_intsafe(arr, dtype)\n",
      "  File \"pandas/_libs/lib.pyx\", line 668, in pandas._libs.lib.astype_intsafe\n",
      "ValueError: invalid literal for int() with base 10: 'Rtg'\n"
     ]
    },
    {
     "name": "stdout",
     "output_type": "stream",
     "text": [
      "round: 1\n",
      "invalid literal for int() with base 10: 'Rtg'\n",
      "tournament_id: 565326\n"
     ]
    },
    {
     "name": "stderr",
     "output_type": "stream",
     "text": [
      "Traceback (most recent call last):\n",
      "  File \"/var/folders/t6/srtzy2f51db8mxxv7g_63f6h0000gr/T/ipykernel_72356/422094622.py\", line 19, in <cell line: 2>\n",
      "    games_df_list.append(parse_games_df(games_df))\n",
      "  File \"/var/folders/t6/srtzy2f51db8mxxv7g_63f6h0000gr/T/ipykernel_72356/3212580384.py\", line 18, in parse_games_df\n",
      "    games_df = games_df.astype({\n",
      "  File \"/Users/avliu/opt/anaconda3/envs/hugging-face/lib/python3.10/site-packages/pandas/core/generic.py\", line 5898, in astype\n",
      "    res_col = col.astype(dtype=cdt, copy=copy, errors=errors)\n",
      "  File \"/Users/avliu/opt/anaconda3/envs/hugging-face/lib/python3.10/site-packages/pandas/core/generic.py\", line 5912, in astype\n",
      "    new_data = self._mgr.astype(dtype=dtype, copy=copy, errors=errors)\n",
      "  File \"/Users/avliu/opt/anaconda3/envs/hugging-face/lib/python3.10/site-packages/pandas/core/internals/managers.py\", line 419, in astype\n",
      "    return self.apply(\"astype\", dtype=dtype, copy=copy, errors=errors)\n",
      "  File \"/Users/avliu/opt/anaconda3/envs/hugging-face/lib/python3.10/site-packages/pandas/core/internals/managers.py\", line 304, in apply\n",
      "    applied = getattr(b, f)(**kwargs)\n",
      "  File \"/Users/avliu/opt/anaconda3/envs/hugging-face/lib/python3.10/site-packages/pandas/core/internals/blocks.py\", line 580, in astype\n",
      "    new_values = astype_array_safe(values, dtype, copy=copy, errors=errors)\n",
      "  File \"/Users/avliu/opt/anaconda3/envs/hugging-face/lib/python3.10/site-packages/pandas/core/dtypes/cast.py\", line 1292, in astype_array_safe\n",
      "    new_values = astype_array(values, dtype, copy=copy)\n",
      "  File \"/Users/avliu/opt/anaconda3/envs/hugging-face/lib/python3.10/site-packages/pandas/core/dtypes/cast.py\", line 1237, in astype_array\n",
      "    values = astype_nansafe(values, dtype, copy=copy)\n",
      "  File \"/Users/avliu/opt/anaconda3/envs/hugging-face/lib/python3.10/site-packages/pandas/core/dtypes/cast.py\", line 1154, in astype_nansafe\n",
      "    return lib.astype_intsafe(arr, dtype)\n",
      "  File \"pandas/_libs/lib.pyx\", line 668, in pandas._libs.lib.astype_intsafe\n",
      "ValueError: invalid literal for int() with base 10: 'Rtg'\n"
     ]
    },
    {
     "name": "stdout",
     "output_type": "stream",
     "text": [
      "round: 1\n",
      "invalid literal for int() with base 10: 'Rtg'\n",
      "tournament_id: 565327\n"
     ]
    },
    {
     "name": "stderr",
     "output_type": "stream",
     "text": [
      "Traceback (most recent call last):\n",
      "  File \"/var/folders/t6/srtzy2f51db8mxxv7g_63f6h0000gr/T/ipykernel_72356/422094622.py\", line 19, in <cell line: 2>\n",
      "    games_df_list.append(parse_games_df(games_df))\n",
      "  File \"/var/folders/t6/srtzy2f51db8mxxv7g_63f6h0000gr/T/ipykernel_72356/3212580384.py\", line 18, in parse_games_df\n",
      "    games_df = games_df.astype({\n",
      "  File \"/Users/avliu/opt/anaconda3/envs/hugging-face/lib/python3.10/site-packages/pandas/core/generic.py\", line 5898, in astype\n",
      "    res_col = col.astype(dtype=cdt, copy=copy, errors=errors)\n",
      "  File \"/Users/avliu/opt/anaconda3/envs/hugging-face/lib/python3.10/site-packages/pandas/core/generic.py\", line 5912, in astype\n",
      "    new_data = self._mgr.astype(dtype=dtype, copy=copy, errors=errors)\n",
      "  File \"/Users/avliu/opt/anaconda3/envs/hugging-face/lib/python3.10/site-packages/pandas/core/internals/managers.py\", line 419, in astype\n",
      "    return self.apply(\"astype\", dtype=dtype, copy=copy, errors=errors)\n",
      "  File \"/Users/avliu/opt/anaconda3/envs/hugging-face/lib/python3.10/site-packages/pandas/core/internals/managers.py\", line 304, in apply\n",
      "    applied = getattr(b, f)(**kwargs)\n",
      "  File \"/Users/avliu/opt/anaconda3/envs/hugging-face/lib/python3.10/site-packages/pandas/core/internals/blocks.py\", line 580, in astype\n",
      "    new_values = astype_array_safe(values, dtype, copy=copy, errors=errors)\n",
      "  File \"/Users/avliu/opt/anaconda3/envs/hugging-face/lib/python3.10/site-packages/pandas/core/dtypes/cast.py\", line 1292, in astype_array_safe\n",
      "    new_values = astype_array(values, dtype, copy=copy)\n",
      "  File \"/Users/avliu/opt/anaconda3/envs/hugging-face/lib/python3.10/site-packages/pandas/core/dtypes/cast.py\", line 1237, in astype_array\n",
      "    values = astype_nansafe(values, dtype, copy=copy)\n",
      "  File \"/Users/avliu/opt/anaconda3/envs/hugging-face/lib/python3.10/site-packages/pandas/core/dtypes/cast.py\", line 1154, in astype_nansafe\n",
      "    return lib.astype_intsafe(arr, dtype)\n",
      "  File \"pandas/_libs/lib.pyx\", line 668, in pandas._libs.lib.astype_intsafe\n",
      "ValueError: invalid literal for int() with base 10: 'Rtg'\n"
     ]
    },
    {
     "name": "stdout",
     "output_type": "stream",
     "text": [
      "round: 1\n",
      "invalid literal for int() with base 10: 'Rtg'\n",
      "tournament_id: 563344\n"
     ]
    },
    {
     "name": "stderr",
     "output_type": "stream",
     "text": [
      "Traceback (most recent call last):\n",
      "  File \"/var/folders/t6/srtzy2f51db8mxxv7g_63f6h0000gr/T/ipykernel_72356/422094622.py\", line 19, in <cell line: 2>\n",
      "    games_df_list.append(parse_games_df(games_df))\n",
      "  File \"/var/folders/t6/srtzy2f51db8mxxv7g_63f6h0000gr/T/ipykernel_72356/3212580384.py\", line 18, in parse_games_df\n",
      "    games_df = games_df.astype({\n",
      "  File \"/Users/avliu/opt/anaconda3/envs/hugging-face/lib/python3.10/site-packages/pandas/core/generic.py\", line 5898, in astype\n",
      "    res_col = col.astype(dtype=cdt, copy=copy, errors=errors)\n",
      "  File \"/Users/avliu/opt/anaconda3/envs/hugging-face/lib/python3.10/site-packages/pandas/core/generic.py\", line 5912, in astype\n",
      "    new_data = self._mgr.astype(dtype=dtype, copy=copy, errors=errors)\n",
      "  File \"/Users/avliu/opt/anaconda3/envs/hugging-face/lib/python3.10/site-packages/pandas/core/internals/managers.py\", line 419, in astype\n",
      "    return self.apply(\"astype\", dtype=dtype, copy=copy, errors=errors)\n",
      "  File \"/Users/avliu/opt/anaconda3/envs/hugging-face/lib/python3.10/site-packages/pandas/core/internals/managers.py\", line 304, in apply\n",
      "    applied = getattr(b, f)(**kwargs)\n",
      "  File \"/Users/avliu/opt/anaconda3/envs/hugging-face/lib/python3.10/site-packages/pandas/core/internals/blocks.py\", line 580, in astype\n",
      "    new_values = astype_array_safe(values, dtype, copy=copy, errors=errors)\n",
      "  File \"/Users/avliu/opt/anaconda3/envs/hugging-face/lib/python3.10/site-packages/pandas/core/dtypes/cast.py\", line 1292, in astype_array_safe\n",
      "    new_values = astype_array(values, dtype, copy=copy)\n",
      "  File \"/Users/avliu/opt/anaconda3/envs/hugging-face/lib/python3.10/site-packages/pandas/core/dtypes/cast.py\", line 1237, in astype_array\n",
      "    values = astype_nansafe(values, dtype, copy=copy)\n",
      "  File \"/Users/avliu/opt/anaconda3/envs/hugging-face/lib/python3.10/site-packages/pandas/core/dtypes/cast.py\", line 1154, in astype_nansafe\n",
      "    return lib.astype_intsafe(arr, dtype)\n",
      "  File \"pandas/_libs/lib.pyx\", line 668, in pandas._libs.lib.astype_intsafe\n",
      "ValueError: invalid literal for int() with base 10: 'Rtg'\n"
     ]
    },
    {
     "name": "stdout",
     "output_type": "stream",
     "text": [
      "round: 1\n",
      "invalid literal for int() with base 10: 'Rtg'\n",
      "tournament_id: 563648\n"
     ]
    },
    {
     "name": "stderr",
     "output_type": "stream",
     "text": [
      "Traceback (most recent call last):\n",
      "  File \"/var/folders/t6/srtzy2f51db8mxxv7g_63f6h0000gr/T/ipykernel_72356/422094622.py\", line 19, in <cell line: 2>\n",
      "    games_df_list.append(parse_games_df(games_df))\n",
      "  File \"/var/folders/t6/srtzy2f51db8mxxv7g_63f6h0000gr/T/ipykernel_72356/3212580384.py\", line 18, in parse_games_df\n",
      "    games_df = games_df.astype({\n",
      "  File \"/Users/avliu/opt/anaconda3/envs/hugging-face/lib/python3.10/site-packages/pandas/core/generic.py\", line 5898, in astype\n",
      "    res_col = col.astype(dtype=cdt, copy=copy, errors=errors)\n",
      "  File \"/Users/avliu/opt/anaconda3/envs/hugging-face/lib/python3.10/site-packages/pandas/core/generic.py\", line 5912, in astype\n",
      "    new_data = self._mgr.astype(dtype=dtype, copy=copy, errors=errors)\n",
      "  File \"/Users/avliu/opt/anaconda3/envs/hugging-face/lib/python3.10/site-packages/pandas/core/internals/managers.py\", line 419, in astype\n",
      "    return self.apply(\"astype\", dtype=dtype, copy=copy, errors=errors)\n",
      "  File \"/Users/avliu/opt/anaconda3/envs/hugging-face/lib/python3.10/site-packages/pandas/core/internals/managers.py\", line 304, in apply\n",
      "    applied = getattr(b, f)(**kwargs)\n",
      "  File \"/Users/avliu/opt/anaconda3/envs/hugging-face/lib/python3.10/site-packages/pandas/core/internals/blocks.py\", line 580, in astype\n",
      "    new_values = astype_array_safe(values, dtype, copy=copy, errors=errors)\n",
      "  File \"/Users/avliu/opt/anaconda3/envs/hugging-face/lib/python3.10/site-packages/pandas/core/dtypes/cast.py\", line 1292, in astype_array_safe\n",
      "    new_values = astype_array(values, dtype, copy=copy)\n",
      "  File \"/Users/avliu/opt/anaconda3/envs/hugging-face/lib/python3.10/site-packages/pandas/core/dtypes/cast.py\", line 1237, in astype_array\n",
      "    values = astype_nansafe(values, dtype, copy=copy)\n",
      "  File \"/Users/avliu/opt/anaconda3/envs/hugging-face/lib/python3.10/site-packages/pandas/core/dtypes/cast.py\", line 1154, in astype_nansafe\n",
      "    return lib.astype_intsafe(arr, dtype)\n",
      "  File \"pandas/_libs/lib.pyx\", line 668, in pandas._libs.lib.astype_intsafe\n",
      "ValueError: invalid literal for int() with base 10: 'Rtg'\n"
     ]
    },
    {
     "name": "stdout",
     "output_type": "stream",
     "text": [
      "round: 1\n",
      "invalid literal for int() with base 10: ''\n",
      "tournament_id: 558411\n"
     ]
    },
    {
     "name": "stderr",
     "output_type": "stream",
     "text": [
      "Traceback (most recent call last):\n",
      "  File \"/var/folders/t6/srtzy2f51db8mxxv7g_63f6h0000gr/T/ipykernel_72356/422094622.py\", line 19, in <cell line: 2>\n",
      "    games_df_list.append(parse_games_df(games_df))\n",
      "  File \"/var/folders/t6/srtzy2f51db8mxxv7g_63f6h0000gr/T/ipykernel_72356/3212580384.py\", line 18, in parse_games_df\n",
      "    games_df = games_df.astype({\n",
      "  File \"/Users/avliu/opt/anaconda3/envs/hugging-face/lib/python3.10/site-packages/pandas/core/generic.py\", line 5898, in astype\n",
      "    res_col = col.astype(dtype=cdt, copy=copy, errors=errors)\n",
      "  File \"/Users/avliu/opt/anaconda3/envs/hugging-face/lib/python3.10/site-packages/pandas/core/generic.py\", line 5912, in astype\n",
      "    new_data = self._mgr.astype(dtype=dtype, copy=copy, errors=errors)\n",
      "  File \"/Users/avliu/opt/anaconda3/envs/hugging-face/lib/python3.10/site-packages/pandas/core/internals/managers.py\", line 419, in astype\n",
      "    return self.apply(\"astype\", dtype=dtype, copy=copy, errors=errors)\n",
      "  File \"/Users/avliu/opt/anaconda3/envs/hugging-face/lib/python3.10/site-packages/pandas/core/internals/managers.py\", line 304, in apply\n",
      "    applied = getattr(b, f)(**kwargs)\n",
      "  File \"/Users/avliu/opt/anaconda3/envs/hugging-face/lib/python3.10/site-packages/pandas/core/internals/blocks.py\", line 580, in astype\n",
      "    new_values = astype_array_safe(values, dtype, copy=copy, errors=errors)\n",
      "  File \"/Users/avliu/opt/anaconda3/envs/hugging-face/lib/python3.10/site-packages/pandas/core/dtypes/cast.py\", line 1292, in astype_array_safe\n",
      "    new_values = astype_array(values, dtype, copy=copy)\n",
      "  File \"/Users/avliu/opt/anaconda3/envs/hugging-face/lib/python3.10/site-packages/pandas/core/dtypes/cast.py\", line 1237, in astype_array\n",
      "    values = astype_nansafe(values, dtype, copy=copy)\n",
      "  File \"/Users/avliu/opt/anaconda3/envs/hugging-face/lib/python3.10/site-packages/pandas/core/dtypes/cast.py\", line 1154, in astype_nansafe\n",
      "    return lib.astype_intsafe(arr, dtype)\n",
      "  File \"pandas/_libs/lib.pyx\", line 668, in pandas._libs.lib.astype_intsafe\n",
      "ValueError: invalid literal for int() with base 10: ''\n"
     ]
    },
    {
     "name": "stdout",
     "output_type": "stream",
     "text": [
      "round: 1\n",
      "invalid literal for int() with base 10: 'Rtg'\n",
      "tournament_id: 562217\n"
     ]
    },
    {
     "name": "stderr",
     "output_type": "stream",
     "text": [
      "Traceback (most recent call last):\n",
      "  File \"/var/folders/t6/srtzy2f51db8mxxv7g_63f6h0000gr/T/ipykernel_72356/422094622.py\", line 19, in <cell line: 2>\n",
      "    games_df_list.append(parse_games_df(games_df))\n",
      "  File \"/var/folders/t6/srtzy2f51db8mxxv7g_63f6h0000gr/T/ipykernel_72356/3212580384.py\", line 18, in parse_games_df\n",
      "    games_df = games_df.astype({\n",
      "  File \"/Users/avliu/opt/anaconda3/envs/hugging-face/lib/python3.10/site-packages/pandas/core/generic.py\", line 5898, in astype\n",
      "    res_col = col.astype(dtype=cdt, copy=copy, errors=errors)\n",
      "  File \"/Users/avliu/opt/anaconda3/envs/hugging-face/lib/python3.10/site-packages/pandas/core/generic.py\", line 5912, in astype\n",
      "    new_data = self._mgr.astype(dtype=dtype, copy=copy, errors=errors)\n",
      "  File \"/Users/avliu/opt/anaconda3/envs/hugging-face/lib/python3.10/site-packages/pandas/core/internals/managers.py\", line 419, in astype\n",
      "    return self.apply(\"astype\", dtype=dtype, copy=copy, errors=errors)\n",
      "  File \"/Users/avliu/opt/anaconda3/envs/hugging-face/lib/python3.10/site-packages/pandas/core/internals/managers.py\", line 304, in apply\n",
      "    applied = getattr(b, f)(**kwargs)\n",
      "  File \"/Users/avliu/opt/anaconda3/envs/hugging-face/lib/python3.10/site-packages/pandas/core/internals/blocks.py\", line 580, in astype\n",
      "    new_values = astype_array_safe(values, dtype, copy=copy, errors=errors)\n",
      "  File \"/Users/avliu/opt/anaconda3/envs/hugging-face/lib/python3.10/site-packages/pandas/core/dtypes/cast.py\", line 1292, in astype_array_safe\n",
      "    new_values = astype_array(values, dtype, copy=copy)\n",
      "  File \"/Users/avliu/opt/anaconda3/envs/hugging-face/lib/python3.10/site-packages/pandas/core/dtypes/cast.py\", line 1237, in astype_array\n",
      "    values = astype_nansafe(values, dtype, copy=copy)\n",
      "  File \"/Users/avliu/opt/anaconda3/envs/hugging-face/lib/python3.10/site-packages/pandas/core/dtypes/cast.py\", line 1154, in astype_nansafe\n",
      "    return lib.astype_intsafe(arr, dtype)\n",
      "  File \"pandas/_libs/lib.pyx\", line 668, in pandas._libs.lib.astype_intsafe\n",
      "ValueError: invalid literal for int() with base 10: 'Rtg'\n"
     ]
    },
    {
     "name": "stdout",
     "output_type": "stream",
     "text": [
      "round: 1\n",
      "invalid literal for int() with base 10: 'Rtg'\n",
      "tournament_id: 561543\n"
     ]
    },
    {
     "name": "stderr",
     "output_type": "stream",
     "text": [
      "Traceback (most recent call last):\n",
      "  File \"/var/folders/t6/srtzy2f51db8mxxv7g_63f6h0000gr/T/ipykernel_72356/422094622.py\", line 19, in <cell line: 2>\n",
      "    games_df_list.append(parse_games_df(games_df))\n",
      "  File \"/var/folders/t6/srtzy2f51db8mxxv7g_63f6h0000gr/T/ipykernel_72356/3212580384.py\", line 18, in parse_games_df\n",
      "    games_df = games_df.astype({\n",
      "  File \"/Users/avliu/opt/anaconda3/envs/hugging-face/lib/python3.10/site-packages/pandas/core/generic.py\", line 5898, in astype\n",
      "    res_col = col.astype(dtype=cdt, copy=copy, errors=errors)\n",
      "  File \"/Users/avliu/opt/anaconda3/envs/hugging-face/lib/python3.10/site-packages/pandas/core/generic.py\", line 5912, in astype\n",
      "    new_data = self._mgr.astype(dtype=dtype, copy=copy, errors=errors)\n",
      "  File \"/Users/avliu/opt/anaconda3/envs/hugging-face/lib/python3.10/site-packages/pandas/core/internals/managers.py\", line 419, in astype\n",
      "    return self.apply(\"astype\", dtype=dtype, copy=copy, errors=errors)\n",
      "  File \"/Users/avliu/opt/anaconda3/envs/hugging-face/lib/python3.10/site-packages/pandas/core/internals/managers.py\", line 304, in apply\n",
      "    applied = getattr(b, f)(**kwargs)\n",
      "  File \"/Users/avliu/opt/anaconda3/envs/hugging-face/lib/python3.10/site-packages/pandas/core/internals/blocks.py\", line 580, in astype\n",
      "    new_values = astype_array_safe(values, dtype, copy=copy, errors=errors)\n",
      "  File \"/Users/avliu/opt/anaconda3/envs/hugging-face/lib/python3.10/site-packages/pandas/core/dtypes/cast.py\", line 1292, in astype_array_safe\n",
      "    new_values = astype_array(values, dtype, copy=copy)\n",
      "  File \"/Users/avliu/opt/anaconda3/envs/hugging-face/lib/python3.10/site-packages/pandas/core/dtypes/cast.py\", line 1237, in astype_array\n",
      "    values = astype_nansafe(values, dtype, copy=copy)\n",
      "  File \"/Users/avliu/opt/anaconda3/envs/hugging-face/lib/python3.10/site-packages/pandas/core/dtypes/cast.py\", line 1154, in astype_nansafe\n",
      "    return lib.astype_intsafe(arr, dtype)\n",
      "  File \"pandas/_libs/lib.pyx\", line 668, in pandas._libs.lib.astype_intsafe\n",
      "ValueError: invalid literal for int() with base 10: 'Rtg'\n"
     ]
    },
    {
     "name": "stdout",
     "output_type": "stream",
     "text": [
      "round: 1\n",
      "invalid literal for int() with base 10: ''\n",
      "tournament_id: 561541\n"
     ]
    },
    {
     "name": "stderr",
     "output_type": "stream",
     "text": [
      "Traceback (most recent call last):\n",
      "  File \"/var/folders/t6/srtzy2f51db8mxxv7g_63f6h0000gr/T/ipykernel_72356/422094622.py\", line 19, in <cell line: 2>\n",
      "    games_df_list.append(parse_games_df(games_df))\n",
      "  File \"/var/folders/t6/srtzy2f51db8mxxv7g_63f6h0000gr/T/ipykernel_72356/3212580384.py\", line 18, in parse_games_df\n",
      "    games_df = games_df.astype({\n",
      "  File \"/Users/avliu/opt/anaconda3/envs/hugging-face/lib/python3.10/site-packages/pandas/core/generic.py\", line 5898, in astype\n",
      "    res_col = col.astype(dtype=cdt, copy=copy, errors=errors)\n",
      "  File \"/Users/avliu/opt/anaconda3/envs/hugging-face/lib/python3.10/site-packages/pandas/core/generic.py\", line 5912, in astype\n",
      "    new_data = self._mgr.astype(dtype=dtype, copy=copy, errors=errors)\n",
      "  File \"/Users/avliu/opt/anaconda3/envs/hugging-face/lib/python3.10/site-packages/pandas/core/internals/managers.py\", line 419, in astype\n",
      "    return self.apply(\"astype\", dtype=dtype, copy=copy, errors=errors)\n",
      "  File \"/Users/avliu/opt/anaconda3/envs/hugging-face/lib/python3.10/site-packages/pandas/core/internals/managers.py\", line 304, in apply\n",
      "    applied = getattr(b, f)(**kwargs)\n",
      "  File \"/Users/avliu/opt/anaconda3/envs/hugging-face/lib/python3.10/site-packages/pandas/core/internals/blocks.py\", line 580, in astype\n",
      "    new_values = astype_array_safe(values, dtype, copy=copy, errors=errors)\n",
      "  File \"/Users/avliu/opt/anaconda3/envs/hugging-face/lib/python3.10/site-packages/pandas/core/dtypes/cast.py\", line 1292, in astype_array_safe\n",
      "    new_values = astype_array(values, dtype, copy=copy)\n",
      "  File \"/Users/avliu/opt/anaconda3/envs/hugging-face/lib/python3.10/site-packages/pandas/core/dtypes/cast.py\", line 1237, in astype_array\n",
      "    values = astype_nansafe(values, dtype, copy=copy)\n",
      "  File \"/Users/avliu/opt/anaconda3/envs/hugging-face/lib/python3.10/site-packages/pandas/core/dtypes/cast.py\", line 1154, in astype_nansafe\n",
      "    return lib.astype_intsafe(arr, dtype)\n",
      "  File \"pandas/_libs/lib.pyx\", line 668, in pandas._libs.lib.astype_intsafe\n",
      "ValueError: invalid literal for int() with base 10: ''\n"
     ]
    },
    {
     "name": "stdout",
     "output_type": "stream",
     "text": [
      "round: 1\n",
      "invalid literal for int() with base 10: ''\n",
      "tournament_id: 561546\n"
     ]
    },
    {
     "name": "stderr",
     "output_type": "stream",
     "text": [
      "Traceback (most recent call last):\n",
      "  File \"/var/folders/t6/srtzy2f51db8mxxv7g_63f6h0000gr/T/ipykernel_72356/422094622.py\", line 19, in <cell line: 2>\n",
      "    games_df_list.append(parse_games_df(games_df))\n",
      "  File \"/var/folders/t6/srtzy2f51db8mxxv7g_63f6h0000gr/T/ipykernel_72356/3212580384.py\", line 18, in parse_games_df\n",
      "    games_df = games_df.astype({\n",
      "  File \"/Users/avliu/opt/anaconda3/envs/hugging-face/lib/python3.10/site-packages/pandas/core/generic.py\", line 5898, in astype\n",
      "    res_col = col.astype(dtype=cdt, copy=copy, errors=errors)\n",
      "  File \"/Users/avliu/opt/anaconda3/envs/hugging-face/lib/python3.10/site-packages/pandas/core/generic.py\", line 5912, in astype\n",
      "    new_data = self._mgr.astype(dtype=dtype, copy=copy, errors=errors)\n",
      "  File \"/Users/avliu/opt/anaconda3/envs/hugging-face/lib/python3.10/site-packages/pandas/core/internals/managers.py\", line 419, in astype\n",
      "    return self.apply(\"astype\", dtype=dtype, copy=copy, errors=errors)\n",
      "  File \"/Users/avliu/opt/anaconda3/envs/hugging-face/lib/python3.10/site-packages/pandas/core/internals/managers.py\", line 304, in apply\n",
      "    applied = getattr(b, f)(**kwargs)\n",
      "  File \"/Users/avliu/opt/anaconda3/envs/hugging-face/lib/python3.10/site-packages/pandas/core/internals/blocks.py\", line 580, in astype\n",
      "    new_values = astype_array_safe(values, dtype, copy=copy, errors=errors)\n",
      "  File \"/Users/avliu/opt/anaconda3/envs/hugging-face/lib/python3.10/site-packages/pandas/core/dtypes/cast.py\", line 1292, in astype_array_safe\n",
      "    new_values = astype_array(values, dtype, copy=copy)\n",
      "  File \"/Users/avliu/opt/anaconda3/envs/hugging-face/lib/python3.10/site-packages/pandas/core/dtypes/cast.py\", line 1237, in astype_array\n",
      "    values = astype_nansafe(values, dtype, copy=copy)\n",
      "  File \"/Users/avliu/opt/anaconda3/envs/hugging-face/lib/python3.10/site-packages/pandas/core/dtypes/cast.py\", line 1154, in astype_nansafe\n",
      "    return lib.astype_intsafe(arr, dtype)\n",
      "  File \"pandas/_libs/lib.pyx\", line 668, in pandas._libs.lib.astype_intsafe\n",
      "ValueError: invalid literal for int() with base 10: ''\n"
     ]
    },
    {
     "name": "stdout",
     "output_type": "stream",
     "text": [
      "round: 1\n",
      "invalid literal for int() with base 10: ''\n",
      "tournament_id: 561545\n"
     ]
    },
    {
     "name": "stderr",
     "output_type": "stream",
     "text": [
      "Traceback (most recent call last):\n",
      "  File \"/var/folders/t6/srtzy2f51db8mxxv7g_63f6h0000gr/T/ipykernel_72356/422094622.py\", line 19, in <cell line: 2>\n",
      "    games_df_list.append(parse_games_df(games_df))\n",
      "  File \"/var/folders/t6/srtzy2f51db8mxxv7g_63f6h0000gr/T/ipykernel_72356/3212580384.py\", line 18, in parse_games_df\n",
      "    games_df = games_df.astype({\n",
      "  File \"/Users/avliu/opt/anaconda3/envs/hugging-face/lib/python3.10/site-packages/pandas/core/generic.py\", line 5898, in astype\n",
      "    res_col = col.astype(dtype=cdt, copy=copy, errors=errors)\n",
      "  File \"/Users/avliu/opt/anaconda3/envs/hugging-face/lib/python3.10/site-packages/pandas/core/generic.py\", line 5912, in astype\n",
      "    new_data = self._mgr.astype(dtype=dtype, copy=copy, errors=errors)\n",
      "  File \"/Users/avliu/opt/anaconda3/envs/hugging-face/lib/python3.10/site-packages/pandas/core/internals/managers.py\", line 419, in astype\n",
      "    return self.apply(\"astype\", dtype=dtype, copy=copy, errors=errors)\n",
      "  File \"/Users/avliu/opt/anaconda3/envs/hugging-face/lib/python3.10/site-packages/pandas/core/internals/managers.py\", line 304, in apply\n",
      "    applied = getattr(b, f)(**kwargs)\n",
      "  File \"/Users/avliu/opt/anaconda3/envs/hugging-face/lib/python3.10/site-packages/pandas/core/internals/blocks.py\", line 580, in astype\n",
      "    new_values = astype_array_safe(values, dtype, copy=copy, errors=errors)\n",
      "  File \"/Users/avliu/opt/anaconda3/envs/hugging-face/lib/python3.10/site-packages/pandas/core/dtypes/cast.py\", line 1292, in astype_array_safe\n",
      "    new_values = astype_array(values, dtype, copy=copy)\n",
      "  File \"/Users/avliu/opt/anaconda3/envs/hugging-face/lib/python3.10/site-packages/pandas/core/dtypes/cast.py\", line 1237, in astype_array\n",
      "    values = astype_nansafe(values, dtype, copy=copy)\n",
      "  File \"/Users/avliu/opt/anaconda3/envs/hugging-face/lib/python3.10/site-packages/pandas/core/dtypes/cast.py\", line 1154, in astype_nansafe\n",
      "    return lib.astype_intsafe(arr, dtype)\n",
      "  File \"pandas/_libs/lib.pyx\", line 668, in pandas._libs.lib.astype_intsafe\n",
      "ValueError: invalid literal for int() with base 10: ''\n"
     ]
    },
    {
     "name": "stdout",
     "output_type": "stream",
     "text": [
      "round: 1\n",
      "invalid literal for int() with base 10: ''\n",
      "tournament_id: 561547\n"
     ]
    },
    {
     "name": "stderr",
     "output_type": "stream",
     "text": [
      "Traceback (most recent call last):\n",
      "  File \"/var/folders/t6/srtzy2f51db8mxxv7g_63f6h0000gr/T/ipykernel_72356/422094622.py\", line 19, in <cell line: 2>\n",
      "    games_df_list.append(parse_games_df(games_df))\n",
      "  File \"/var/folders/t6/srtzy2f51db8mxxv7g_63f6h0000gr/T/ipykernel_72356/3212580384.py\", line 18, in parse_games_df\n",
      "    games_df = games_df.astype({\n",
      "  File \"/Users/avliu/opt/anaconda3/envs/hugging-face/lib/python3.10/site-packages/pandas/core/generic.py\", line 5898, in astype\n",
      "    res_col = col.astype(dtype=cdt, copy=copy, errors=errors)\n",
      "  File \"/Users/avliu/opt/anaconda3/envs/hugging-face/lib/python3.10/site-packages/pandas/core/generic.py\", line 5912, in astype\n",
      "    new_data = self._mgr.astype(dtype=dtype, copy=copy, errors=errors)\n",
      "  File \"/Users/avliu/opt/anaconda3/envs/hugging-face/lib/python3.10/site-packages/pandas/core/internals/managers.py\", line 419, in astype\n",
      "    return self.apply(\"astype\", dtype=dtype, copy=copy, errors=errors)\n",
      "  File \"/Users/avliu/opt/anaconda3/envs/hugging-face/lib/python3.10/site-packages/pandas/core/internals/managers.py\", line 304, in apply\n",
      "    applied = getattr(b, f)(**kwargs)\n",
      "  File \"/Users/avliu/opt/anaconda3/envs/hugging-face/lib/python3.10/site-packages/pandas/core/internals/blocks.py\", line 580, in astype\n",
      "    new_values = astype_array_safe(values, dtype, copy=copy, errors=errors)\n",
      "  File \"/Users/avliu/opt/anaconda3/envs/hugging-face/lib/python3.10/site-packages/pandas/core/dtypes/cast.py\", line 1292, in astype_array_safe\n",
      "    new_values = astype_array(values, dtype, copy=copy)\n",
      "  File \"/Users/avliu/opt/anaconda3/envs/hugging-face/lib/python3.10/site-packages/pandas/core/dtypes/cast.py\", line 1237, in astype_array\n",
      "    values = astype_nansafe(values, dtype, copy=copy)\n",
      "  File \"/Users/avliu/opt/anaconda3/envs/hugging-face/lib/python3.10/site-packages/pandas/core/dtypes/cast.py\", line 1154, in astype_nansafe\n",
      "    return lib.astype_intsafe(arr, dtype)\n",
      "  File \"pandas/_libs/lib.pyx\", line 668, in pandas._libs.lib.astype_intsafe\n",
      "ValueError: invalid literal for int() with base 10: ''\n"
     ]
    },
    {
     "name": "stdout",
     "output_type": "stream",
     "text": [
      "round: 1\n",
      "invalid literal for int() with base 10: ''\n",
      "tournament_id: 561548\n"
     ]
    },
    {
     "name": "stderr",
     "output_type": "stream",
     "text": [
      "Traceback (most recent call last):\n",
      "  File \"/var/folders/t6/srtzy2f51db8mxxv7g_63f6h0000gr/T/ipykernel_72356/422094622.py\", line 19, in <cell line: 2>\n",
      "    games_df_list.append(parse_games_df(games_df))\n",
      "  File \"/var/folders/t6/srtzy2f51db8mxxv7g_63f6h0000gr/T/ipykernel_72356/3212580384.py\", line 18, in parse_games_df\n",
      "    games_df = games_df.astype({\n",
      "  File \"/Users/avliu/opt/anaconda3/envs/hugging-face/lib/python3.10/site-packages/pandas/core/generic.py\", line 5898, in astype\n",
      "    res_col = col.astype(dtype=cdt, copy=copy, errors=errors)\n",
      "  File \"/Users/avliu/opt/anaconda3/envs/hugging-face/lib/python3.10/site-packages/pandas/core/generic.py\", line 5912, in astype\n",
      "    new_data = self._mgr.astype(dtype=dtype, copy=copy, errors=errors)\n",
      "  File \"/Users/avliu/opt/anaconda3/envs/hugging-face/lib/python3.10/site-packages/pandas/core/internals/managers.py\", line 419, in astype\n",
      "    return self.apply(\"astype\", dtype=dtype, copy=copy, errors=errors)\n",
      "  File \"/Users/avliu/opt/anaconda3/envs/hugging-face/lib/python3.10/site-packages/pandas/core/internals/managers.py\", line 304, in apply\n",
      "    applied = getattr(b, f)(**kwargs)\n",
      "  File \"/Users/avliu/opt/anaconda3/envs/hugging-face/lib/python3.10/site-packages/pandas/core/internals/blocks.py\", line 580, in astype\n",
      "    new_values = astype_array_safe(values, dtype, copy=copy, errors=errors)\n",
      "  File \"/Users/avliu/opt/anaconda3/envs/hugging-face/lib/python3.10/site-packages/pandas/core/dtypes/cast.py\", line 1292, in astype_array_safe\n",
      "    new_values = astype_array(values, dtype, copy=copy)\n",
      "  File \"/Users/avliu/opt/anaconda3/envs/hugging-face/lib/python3.10/site-packages/pandas/core/dtypes/cast.py\", line 1237, in astype_array\n",
      "    values = astype_nansafe(values, dtype, copy=copy)\n",
      "  File \"/Users/avliu/opt/anaconda3/envs/hugging-face/lib/python3.10/site-packages/pandas/core/dtypes/cast.py\", line 1154, in astype_nansafe\n",
      "    return lib.astype_intsafe(arr, dtype)\n",
      "  File \"pandas/_libs/lib.pyx\", line 668, in pandas._libs.lib.astype_intsafe\n",
      "ValueError: invalid literal for int() with base 10: ''\n"
     ]
    },
    {
     "name": "stdout",
     "output_type": "stream",
     "text": [
      "round: 1\n",
      "invalid literal for int() with base 10: ''\n",
      "tournament_id: 561542\n"
     ]
    },
    {
     "name": "stderr",
     "output_type": "stream",
     "text": [
      "Traceback (most recent call last):\n",
      "  File \"/var/folders/t6/srtzy2f51db8mxxv7g_63f6h0000gr/T/ipykernel_72356/422094622.py\", line 19, in <cell line: 2>\n",
      "    games_df_list.append(parse_games_df(games_df))\n",
      "  File \"/var/folders/t6/srtzy2f51db8mxxv7g_63f6h0000gr/T/ipykernel_72356/3212580384.py\", line 18, in parse_games_df\n",
      "    games_df = games_df.astype({\n",
      "  File \"/Users/avliu/opt/anaconda3/envs/hugging-face/lib/python3.10/site-packages/pandas/core/generic.py\", line 5898, in astype\n",
      "    res_col = col.astype(dtype=cdt, copy=copy, errors=errors)\n",
      "  File \"/Users/avliu/opt/anaconda3/envs/hugging-face/lib/python3.10/site-packages/pandas/core/generic.py\", line 5912, in astype\n",
      "    new_data = self._mgr.astype(dtype=dtype, copy=copy, errors=errors)\n",
      "  File \"/Users/avliu/opt/anaconda3/envs/hugging-face/lib/python3.10/site-packages/pandas/core/internals/managers.py\", line 419, in astype\n",
      "    return self.apply(\"astype\", dtype=dtype, copy=copy, errors=errors)\n",
      "  File \"/Users/avliu/opt/anaconda3/envs/hugging-face/lib/python3.10/site-packages/pandas/core/internals/managers.py\", line 304, in apply\n",
      "    applied = getattr(b, f)(**kwargs)\n",
      "  File \"/Users/avliu/opt/anaconda3/envs/hugging-face/lib/python3.10/site-packages/pandas/core/internals/blocks.py\", line 580, in astype\n",
      "    new_values = astype_array_safe(values, dtype, copy=copy, errors=errors)\n",
      "  File \"/Users/avliu/opt/anaconda3/envs/hugging-face/lib/python3.10/site-packages/pandas/core/dtypes/cast.py\", line 1292, in astype_array_safe\n",
      "    new_values = astype_array(values, dtype, copy=copy)\n",
      "  File \"/Users/avliu/opt/anaconda3/envs/hugging-face/lib/python3.10/site-packages/pandas/core/dtypes/cast.py\", line 1237, in astype_array\n",
      "    values = astype_nansafe(values, dtype, copy=copy)\n",
      "  File \"/Users/avliu/opt/anaconda3/envs/hugging-face/lib/python3.10/site-packages/pandas/core/dtypes/cast.py\", line 1154, in astype_nansafe\n",
      "    return lib.astype_intsafe(arr, dtype)\n",
      "  File \"pandas/_libs/lib.pyx\", line 668, in pandas._libs.lib.astype_intsafe\n",
      "ValueError: invalid literal for int() with base 10: ''\n"
     ]
    },
    {
     "name": "stdout",
     "output_type": "stream",
     "text": [
      "round: 1\n",
      "invalid literal for int() with base 10: ''\n",
      "tournament_id: 561544\n"
     ]
    },
    {
     "name": "stderr",
     "output_type": "stream",
     "text": [
      "Traceback (most recent call last):\n",
      "  File \"/var/folders/t6/srtzy2f51db8mxxv7g_63f6h0000gr/T/ipykernel_72356/422094622.py\", line 19, in <cell line: 2>\n",
      "    games_df_list.append(parse_games_df(games_df))\n",
      "  File \"/var/folders/t6/srtzy2f51db8mxxv7g_63f6h0000gr/T/ipykernel_72356/3212580384.py\", line 18, in parse_games_df\n",
      "    games_df = games_df.astype({\n",
      "  File \"/Users/avliu/opt/anaconda3/envs/hugging-face/lib/python3.10/site-packages/pandas/core/generic.py\", line 5898, in astype\n",
      "    res_col = col.astype(dtype=cdt, copy=copy, errors=errors)\n",
      "  File \"/Users/avliu/opt/anaconda3/envs/hugging-face/lib/python3.10/site-packages/pandas/core/generic.py\", line 5912, in astype\n",
      "    new_data = self._mgr.astype(dtype=dtype, copy=copy, errors=errors)\n",
      "  File \"/Users/avliu/opt/anaconda3/envs/hugging-face/lib/python3.10/site-packages/pandas/core/internals/managers.py\", line 419, in astype\n",
      "    return self.apply(\"astype\", dtype=dtype, copy=copy, errors=errors)\n",
      "  File \"/Users/avliu/opt/anaconda3/envs/hugging-face/lib/python3.10/site-packages/pandas/core/internals/managers.py\", line 304, in apply\n",
      "    applied = getattr(b, f)(**kwargs)\n",
      "  File \"/Users/avliu/opt/anaconda3/envs/hugging-face/lib/python3.10/site-packages/pandas/core/internals/blocks.py\", line 580, in astype\n",
      "    new_values = astype_array_safe(values, dtype, copy=copy, errors=errors)\n",
      "  File \"/Users/avliu/opt/anaconda3/envs/hugging-face/lib/python3.10/site-packages/pandas/core/dtypes/cast.py\", line 1292, in astype_array_safe\n",
      "    new_values = astype_array(values, dtype, copy=copy)\n",
      "  File \"/Users/avliu/opt/anaconda3/envs/hugging-face/lib/python3.10/site-packages/pandas/core/dtypes/cast.py\", line 1237, in astype_array\n",
      "    values = astype_nansafe(values, dtype, copy=copy)\n",
      "  File \"/Users/avliu/opt/anaconda3/envs/hugging-face/lib/python3.10/site-packages/pandas/core/dtypes/cast.py\", line 1154, in astype_nansafe\n",
      "    return lib.astype_intsafe(arr, dtype)\n",
      "  File \"pandas/_libs/lib.pyx\", line 668, in pandas._libs.lib.astype_intsafe\n",
      "ValueError: invalid literal for int() with base 10: ''\n"
     ]
    },
    {
     "name": "stdout",
     "output_type": "stream",
     "text": [
      "round: 1\n",
      "invalid literal for int() with base 10: ''\n",
      "tournament_id: 561696\n"
     ]
    },
    {
     "name": "stderr",
     "output_type": "stream",
     "text": [
      "Traceback (most recent call last):\n",
      "  File \"/var/folders/t6/srtzy2f51db8mxxv7g_63f6h0000gr/T/ipykernel_72356/422094622.py\", line 19, in <cell line: 2>\n",
      "    games_df_list.append(parse_games_df(games_df))\n",
      "  File \"/var/folders/t6/srtzy2f51db8mxxv7g_63f6h0000gr/T/ipykernel_72356/3212580384.py\", line 18, in parse_games_df\n",
      "    games_df = games_df.astype({\n",
      "  File \"/Users/avliu/opt/anaconda3/envs/hugging-face/lib/python3.10/site-packages/pandas/core/generic.py\", line 5898, in astype\n",
      "    res_col = col.astype(dtype=cdt, copy=copy, errors=errors)\n",
      "  File \"/Users/avliu/opt/anaconda3/envs/hugging-face/lib/python3.10/site-packages/pandas/core/generic.py\", line 5912, in astype\n",
      "    new_data = self._mgr.astype(dtype=dtype, copy=copy, errors=errors)\n",
      "  File \"/Users/avliu/opt/anaconda3/envs/hugging-face/lib/python3.10/site-packages/pandas/core/internals/managers.py\", line 419, in astype\n",
      "    return self.apply(\"astype\", dtype=dtype, copy=copy, errors=errors)\n",
      "  File \"/Users/avliu/opt/anaconda3/envs/hugging-face/lib/python3.10/site-packages/pandas/core/internals/managers.py\", line 304, in apply\n",
      "    applied = getattr(b, f)(**kwargs)\n",
      "  File \"/Users/avliu/opt/anaconda3/envs/hugging-face/lib/python3.10/site-packages/pandas/core/internals/blocks.py\", line 580, in astype\n",
      "    new_values = astype_array_safe(values, dtype, copy=copy, errors=errors)\n",
      "  File \"/Users/avliu/opt/anaconda3/envs/hugging-face/lib/python3.10/site-packages/pandas/core/dtypes/cast.py\", line 1292, in astype_array_safe\n",
      "    new_values = astype_array(values, dtype, copy=copy)\n",
      "  File \"/Users/avliu/opt/anaconda3/envs/hugging-face/lib/python3.10/site-packages/pandas/core/dtypes/cast.py\", line 1237, in astype_array\n",
      "    values = astype_nansafe(values, dtype, copy=copy)\n",
      "  File \"/Users/avliu/opt/anaconda3/envs/hugging-face/lib/python3.10/site-packages/pandas/core/dtypes/cast.py\", line 1154, in astype_nansafe\n",
      "    return lib.astype_intsafe(arr, dtype)\n",
      "  File \"pandas/_libs/lib.pyx\", line 668, in pandas._libs.lib.astype_intsafe\n",
      "ValueError: invalid literal for int() with base 10: ''\n"
     ]
    },
    {
     "name": "stdout",
     "output_type": "stream",
     "text": [
      "round: 1\n",
      "invalid literal for int() with base 10: 'Rtg'\n",
      "tournament_id: 560498\n"
     ]
    },
    {
     "name": "stderr",
     "output_type": "stream",
     "text": [
      "Traceback (most recent call last):\n",
      "  File \"/var/folders/t6/srtzy2f51db8mxxv7g_63f6h0000gr/T/ipykernel_72356/422094622.py\", line 19, in <cell line: 2>\n",
      "    games_df_list.append(parse_games_df(games_df))\n",
      "  File \"/var/folders/t6/srtzy2f51db8mxxv7g_63f6h0000gr/T/ipykernel_72356/3212580384.py\", line 18, in parse_games_df\n",
      "    games_df = games_df.astype({\n",
      "  File \"/Users/avliu/opt/anaconda3/envs/hugging-face/lib/python3.10/site-packages/pandas/core/generic.py\", line 5898, in astype\n",
      "    res_col = col.astype(dtype=cdt, copy=copy, errors=errors)\n",
      "  File \"/Users/avliu/opt/anaconda3/envs/hugging-face/lib/python3.10/site-packages/pandas/core/generic.py\", line 5912, in astype\n",
      "    new_data = self._mgr.astype(dtype=dtype, copy=copy, errors=errors)\n",
      "  File \"/Users/avliu/opt/anaconda3/envs/hugging-face/lib/python3.10/site-packages/pandas/core/internals/managers.py\", line 419, in astype\n",
      "    return self.apply(\"astype\", dtype=dtype, copy=copy, errors=errors)\n",
      "  File \"/Users/avliu/opt/anaconda3/envs/hugging-face/lib/python3.10/site-packages/pandas/core/internals/managers.py\", line 304, in apply\n",
      "    applied = getattr(b, f)(**kwargs)\n",
      "  File \"/Users/avliu/opt/anaconda3/envs/hugging-face/lib/python3.10/site-packages/pandas/core/internals/blocks.py\", line 580, in astype\n",
      "    new_values = astype_array_safe(values, dtype, copy=copy, errors=errors)\n",
      "  File \"/Users/avliu/opt/anaconda3/envs/hugging-face/lib/python3.10/site-packages/pandas/core/dtypes/cast.py\", line 1292, in astype_array_safe\n",
      "    new_values = astype_array(values, dtype, copy=copy)\n",
      "  File \"/Users/avliu/opt/anaconda3/envs/hugging-face/lib/python3.10/site-packages/pandas/core/dtypes/cast.py\", line 1237, in astype_array\n",
      "    values = astype_nansafe(values, dtype, copy=copy)\n",
      "  File \"/Users/avliu/opt/anaconda3/envs/hugging-face/lib/python3.10/site-packages/pandas/core/dtypes/cast.py\", line 1154, in astype_nansafe\n",
      "    return lib.astype_intsafe(arr, dtype)\n",
      "  File \"pandas/_libs/lib.pyx\", line 668, in pandas._libs.lib.astype_intsafe\n",
      "ValueError: invalid literal for int() with base 10: 'Rtg'\n"
     ]
    },
    {
     "name": "stdout",
     "output_type": "stream",
     "text": [
      "round: 1\n",
      "round: 2\n",
      "round: 3\n",
      "invalid literal for int() with base 10: ''\n",
      "tournament_id: 559890\n"
     ]
    },
    {
     "name": "stderr",
     "output_type": "stream",
     "text": [
      "Traceback (most recent call last):\n",
      "  File \"/var/folders/t6/srtzy2f51db8mxxv7g_63f6h0000gr/T/ipykernel_72356/422094622.py\", line 19, in <cell line: 2>\n",
      "    games_df_list.append(parse_games_df(games_df))\n",
      "  File \"/var/folders/t6/srtzy2f51db8mxxv7g_63f6h0000gr/T/ipykernel_72356/3212580384.py\", line 18, in parse_games_df\n",
      "    games_df = games_df.astype({\n",
      "  File \"/Users/avliu/opt/anaconda3/envs/hugging-face/lib/python3.10/site-packages/pandas/core/generic.py\", line 5898, in astype\n",
      "    res_col = col.astype(dtype=cdt, copy=copy, errors=errors)\n",
      "  File \"/Users/avliu/opt/anaconda3/envs/hugging-face/lib/python3.10/site-packages/pandas/core/generic.py\", line 5912, in astype\n",
      "    new_data = self._mgr.astype(dtype=dtype, copy=copy, errors=errors)\n",
      "  File \"/Users/avliu/opt/anaconda3/envs/hugging-face/lib/python3.10/site-packages/pandas/core/internals/managers.py\", line 419, in astype\n",
      "    return self.apply(\"astype\", dtype=dtype, copy=copy, errors=errors)\n",
      "  File \"/Users/avliu/opt/anaconda3/envs/hugging-face/lib/python3.10/site-packages/pandas/core/internals/managers.py\", line 304, in apply\n",
      "    applied = getattr(b, f)(**kwargs)\n",
      "  File \"/Users/avliu/opt/anaconda3/envs/hugging-face/lib/python3.10/site-packages/pandas/core/internals/blocks.py\", line 580, in astype\n",
      "    new_values = astype_array_safe(values, dtype, copy=copy, errors=errors)\n",
      "  File \"/Users/avliu/opt/anaconda3/envs/hugging-face/lib/python3.10/site-packages/pandas/core/dtypes/cast.py\", line 1292, in astype_array_safe\n",
      "    new_values = astype_array(values, dtype, copy=copy)\n",
      "  File \"/Users/avliu/opt/anaconda3/envs/hugging-face/lib/python3.10/site-packages/pandas/core/dtypes/cast.py\", line 1237, in astype_array\n",
      "    values = astype_nansafe(values, dtype, copy=copy)\n",
      "  File \"/Users/avliu/opt/anaconda3/envs/hugging-face/lib/python3.10/site-packages/pandas/core/dtypes/cast.py\", line 1154, in astype_nansafe\n",
      "    return lib.astype_intsafe(arr, dtype)\n",
      "  File \"pandas/_libs/lib.pyx\", line 668, in pandas._libs.lib.astype_intsafe\n",
      "ValueError: invalid literal for int() with base 10: ''\n"
     ]
    },
    {
     "name": "stdout",
     "output_type": "stream",
     "text": [
      "round: 1\n",
      "invalid literal for int() with base 10: 'Rtg'\n",
      "tournament_id: 558425\n"
     ]
    },
    {
     "name": "stderr",
     "output_type": "stream",
     "text": [
      "Traceback (most recent call last):\n",
      "  File \"/var/folders/t6/srtzy2f51db8mxxv7g_63f6h0000gr/T/ipykernel_72356/422094622.py\", line 19, in <cell line: 2>\n",
      "    games_df_list.append(parse_games_df(games_df))\n",
      "  File \"/var/folders/t6/srtzy2f51db8mxxv7g_63f6h0000gr/T/ipykernel_72356/3212580384.py\", line 18, in parse_games_df\n",
      "    games_df = games_df.astype({\n",
      "  File \"/Users/avliu/opt/anaconda3/envs/hugging-face/lib/python3.10/site-packages/pandas/core/generic.py\", line 5898, in astype\n",
      "    res_col = col.astype(dtype=cdt, copy=copy, errors=errors)\n",
      "  File \"/Users/avliu/opt/anaconda3/envs/hugging-face/lib/python3.10/site-packages/pandas/core/generic.py\", line 5912, in astype\n",
      "    new_data = self._mgr.astype(dtype=dtype, copy=copy, errors=errors)\n",
      "  File \"/Users/avliu/opt/anaconda3/envs/hugging-face/lib/python3.10/site-packages/pandas/core/internals/managers.py\", line 419, in astype\n",
      "    return self.apply(\"astype\", dtype=dtype, copy=copy, errors=errors)\n",
      "  File \"/Users/avliu/opt/anaconda3/envs/hugging-face/lib/python3.10/site-packages/pandas/core/internals/managers.py\", line 304, in apply\n",
      "    applied = getattr(b, f)(**kwargs)\n",
      "  File \"/Users/avliu/opt/anaconda3/envs/hugging-face/lib/python3.10/site-packages/pandas/core/internals/blocks.py\", line 580, in astype\n",
      "    new_values = astype_array_safe(values, dtype, copy=copy, errors=errors)\n",
      "  File \"/Users/avliu/opt/anaconda3/envs/hugging-face/lib/python3.10/site-packages/pandas/core/dtypes/cast.py\", line 1292, in astype_array_safe\n",
      "    new_values = astype_array(values, dtype, copy=copy)\n",
      "  File \"/Users/avliu/opt/anaconda3/envs/hugging-face/lib/python3.10/site-packages/pandas/core/dtypes/cast.py\", line 1237, in astype_array\n",
      "    values = astype_nansafe(values, dtype, copy=copy)\n",
      "  File \"/Users/avliu/opt/anaconda3/envs/hugging-face/lib/python3.10/site-packages/pandas/core/dtypes/cast.py\", line 1154, in astype_nansafe\n",
      "    return lib.astype_intsafe(arr, dtype)\n",
      "  File \"pandas/_libs/lib.pyx\", line 668, in pandas._libs.lib.astype_intsafe\n",
      "ValueError: invalid literal for int() with base 10: 'Rtg'\n"
     ]
    },
    {
     "name": "stdout",
     "output_type": "stream",
     "text": [
      "round: 1\n",
      "invalid literal for int() with base 10: ''\n",
      "tournament_id: 557461\n"
     ]
    },
    {
     "name": "stderr",
     "output_type": "stream",
     "text": [
      "Traceback (most recent call last):\n",
      "  File \"/var/folders/t6/srtzy2f51db8mxxv7g_63f6h0000gr/T/ipykernel_72356/422094622.py\", line 19, in <cell line: 2>\n",
      "    games_df_list.append(parse_games_df(games_df))\n",
      "  File \"/var/folders/t6/srtzy2f51db8mxxv7g_63f6h0000gr/T/ipykernel_72356/3212580384.py\", line 18, in parse_games_df\n",
      "    games_df = games_df.astype({\n",
      "  File \"/Users/avliu/opt/anaconda3/envs/hugging-face/lib/python3.10/site-packages/pandas/core/generic.py\", line 5898, in astype\n",
      "    res_col = col.astype(dtype=cdt, copy=copy, errors=errors)\n",
      "  File \"/Users/avliu/opt/anaconda3/envs/hugging-face/lib/python3.10/site-packages/pandas/core/generic.py\", line 5912, in astype\n",
      "    new_data = self._mgr.astype(dtype=dtype, copy=copy, errors=errors)\n",
      "  File \"/Users/avliu/opt/anaconda3/envs/hugging-face/lib/python3.10/site-packages/pandas/core/internals/managers.py\", line 419, in astype\n",
      "    return self.apply(\"astype\", dtype=dtype, copy=copy, errors=errors)\n",
      "  File \"/Users/avliu/opt/anaconda3/envs/hugging-face/lib/python3.10/site-packages/pandas/core/internals/managers.py\", line 304, in apply\n",
      "    applied = getattr(b, f)(**kwargs)\n",
      "  File \"/Users/avliu/opt/anaconda3/envs/hugging-face/lib/python3.10/site-packages/pandas/core/internals/blocks.py\", line 580, in astype\n",
      "    new_values = astype_array_safe(values, dtype, copy=copy, errors=errors)\n",
      "  File \"/Users/avliu/opt/anaconda3/envs/hugging-face/lib/python3.10/site-packages/pandas/core/dtypes/cast.py\", line 1292, in astype_array_safe\n",
      "    new_values = astype_array(values, dtype, copy=copy)\n",
      "  File \"/Users/avliu/opt/anaconda3/envs/hugging-face/lib/python3.10/site-packages/pandas/core/dtypes/cast.py\", line 1237, in astype_array\n",
      "    values = astype_nansafe(values, dtype, copy=copy)\n",
      "  File \"/Users/avliu/opt/anaconda3/envs/hugging-face/lib/python3.10/site-packages/pandas/core/dtypes/cast.py\", line 1154, in astype_nansafe\n",
      "    return lib.astype_intsafe(arr, dtype)\n",
      "  File \"pandas/_libs/lib.pyx\", line 668, in pandas._libs.lib.astype_intsafe\n",
      "ValueError: invalid literal for int() with base 10: ''\n"
     ]
    },
    {
     "name": "stdout",
     "output_type": "stream",
     "text": [
      "round: 1\n",
      "invalid literal for int() with base 10: 'Rtg'\n",
      "tournament_id: 557637\n"
     ]
    },
    {
     "name": "stderr",
     "output_type": "stream",
     "text": [
      "Traceback (most recent call last):\n",
      "  File \"/var/folders/t6/srtzy2f51db8mxxv7g_63f6h0000gr/T/ipykernel_72356/422094622.py\", line 19, in <cell line: 2>\n",
      "    games_df_list.append(parse_games_df(games_df))\n",
      "  File \"/var/folders/t6/srtzy2f51db8mxxv7g_63f6h0000gr/T/ipykernel_72356/3212580384.py\", line 18, in parse_games_df\n",
      "    games_df = games_df.astype({\n",
      "  File \"/Users/avliu/opt/anaconda3/envs/hugging-face/lib/python3.10/site-packages/pandas/core/generic.py\", line 5898, in astype\n",
      "    res_col = col.astype(dtype=cdt, copy=copy, errors=errors)\n",
      "  File \"/Users/avliu/opt/anaconda3/envs/hugging-face/lib/python3.10/site-packages/pandas/core/generic.py\", line 5912, in astype\n",
      "    new_data = self._mgr.astype(dtype=dtype, copy=copy, errors=errors)\n",
      "  File \"/Users/avliu/opt/anaconda3/envs/hugging-face/lib/python3.10/site-packages/pandas/core/internals/managers.py\", line 419, in astype\n",
      "    return self.apply(\"astype\", dtype=dtype, copy=copy, errors=errors)\n",
      "  File \"/Users/avliu/opt/anaconda3/envs/hugging-face/lib/python3.10/site-packages/pandas/core/internals/managers.py\", line 304, in apply\n",
      "    applied = getattr(b, f)(**kwargs)\n",
      "  File \"/Users/avliu/opt/anaconda3/envs/hugging-face/lib/python3.10/site-packages/pandas/core/internals/blocks.py\", line 580, in astype\n",
      "    new_values = astype_array_safe(values, dtype, copy=copy, errors=errors)\n",
      "  File \"/Users/avliu/opt/anaconda3/envs/hugging-face/lib/python3.10/site-packages/pandas/core/dtypes/cast.py\", line 1292, in astype_array_safe\n",
      "    new_values = astype_array(values, dtype, copy=copy)\n",
      "  File \"/Users/avliu/opt/anaconda3/envs/hugging-face/lib/python3.10/site-packages/pandas/core/dtypes/cast.py\", line 1237, in astype_array\n",
      "    values = astype_nansafe(values, dtype, copy=copy)\n",
      "  File \"/Users/avliu/opt/anaconda3/envs/hugging-face/lib/python3.10/site-packages/pandas/core/dtypes/cast.py\", line 1154, in astype_nansafe\n",
      "    return lib.astype_intsafe(arr, dtype)\n",
      "  File \"pandas/_libs/lib.pyx\", line 668, in pandas._libs.lib.astype_intsafe\n",
      "ValueError: invalid literal for int() with base 10: 'Rtg'\n"
     ]
    },
    {
     "name": "stdout",
     "output_type": "stream",
     "text": [
      "round: 1\n",
      "invalid literal for int() with base 10: 'Rtg'\n",
      "tournament_id: 557360\n"
     ]
    },
    {
     "name": "stderr",
     "output_type": "stream",
     "text": [
      "Traceback (most recent call last):\n",
      "  File \"/var/folders/t6/srtzy2f51db8mxxv7g_63f6h0000gr/T/ipykernel_72356/422094622.py\", line 19, in <cell line: 2>\n",
      "    games_df_list.append(parse_games_df(games_df))\n",
      "  File \"/var/folders/t6/srtzy2f51db8mxxv7g_63f6h0000gr/T/ipykernel_72356/3212580384.py\", line 18, in parse_games_df\n",
      "    games_df = games_df.astype({\n",
      "  File \"/Users/avliu/opt/anaconda3/envs/hugging-face/lib/python3.10/site-packages/pandas/core/generic.py\", line 5898, in astype\n",
      "    res_col = col.astype(dtype=cdt, copy=copy, errors=errors)\n",
      "  File \"/Users/avliu/opt/anaconda3/envs/hugging-face/lib/python3.10/site-packages/pandas/core/generic.py\", line 5912, in astype\n",
      "    new_data = self._mgr.astype(dtype=dtype, copy=copy, errors=errors)\n",
      "  File \"/Users/avliu/opt/anaconda3/envs/hugging-face/lib/python3.10/site-packages/pandas/core/internals/managers.py\", line 419, in astype\n",
      "    return self.apply(\"astype\", dtype=dtype, copy=copy, errors=errors)\n",
      "  File \"/Users/avliu/opt/anaconda3/envs/hugging-face/lib/python3.10/site-packages/pandas/core/internals/managers.py\", line 304, in apply\n",
      "    applied = getattr(b, f)(**kwargs)\n",
      "  File \"/Users/avliu/opt/anaconda3/envs/hugging-face/lib/python3.10/site-packages/pandas/core/internals/blocks.py\", line 580, in astype\n",
      "    new_values = astype_array_safe(values, dtype, copy=copy, errors=errors)\n",
      "  File \"/Users/avliu/opt/anaconda3/envs/hugging-face/lib/python3.10/site-packages/pandas/core/dtypes/cast.py\", line 1292, in astype_array_safe\n",
      "    new_values = astype_array(values, dtype, copy=copy)\n",
      "  File \"/Users/avliu/opt/anaconda3/envs/hugging-face/lib/python3.10/site-packages/pandas/core/dtypes/cast.py\", line 1237, in astype_array\n",
      "    values = astype_nansafe(values, dtype, copy=copy)\n",
      "  File \"/Users/avliu/opt/anaconda3/envs/hugging-face/lib/python3.10/site-packages/pandas/core/dtypes/cast.py\", line 1154, in astype_nansafe\n",
      "    return lib.astype_intsafe(arr, dtype)\n",
      "  File \"pandas/_libs/lib.pyx\", line 668, in pandas._libs.lib.astype_intsafe\n",
      "ValueError: invalid literal for int() with base 10: 'Rtg'\n"
     ]
    },
    {
     "name": "stdout",
     "output_type": "stream",
     "text": [
      "round: 1\n",
      "invalid literal for int() with base 10: ''\n",
      "tournament_id: 553014\n"
     ]
    },
    {
     "name": "stderr",
     "output_type": "stream",
     "text": [
      "Traceback (most recent call last):\n",
      "  File \"/var/folders/t6/srtzy2f51db8mxxv7g_63f6h0000gr/T/ipykernel_72356/422094622.py\", line 19, in <cell line: 2>\n",
      "    games_df_list.append(parse_games_df(games_df))\n",
      "  File \"/var/folders/t6/srtzy2f51db8mxxv7g_63f6h0000gr/T/ipykernel_72356/3212580384.py\", line 18, in parse_games_df\n",
      "    games_df = games_df.astype({\n",
      "  File \"/Users/avliu/opt/anaconda3/envs/hugging-face/lib/python3.10/site-packages/pandas/core/generic.py\", line 5898, in astype\n",
      "    res_col = col.astype(dtype=cdt, copy=copy, errors=errors)\n",
      "  File \"/Users/avliu/opt/anaconda3/envs/hugging-face/lib/python3.10/site-packages/pandas/core/generic.py\", line 5912, in astype\n",
      "    new_data = self._mgr.astype(dtype=dtype, copy=copy, errors=errors)\n",
      "  File \"/Users/avliu/opt/anaconda3/envs/hugging-face/lib/python3.10/site-packages/pandas/core/internals/managers.py\", line 419, in astype\n",
      "    return self.apply(\"astype\", dtype=dtype, copy=copy, errors=errors)\n",
      "  File \"/Users/avliu/opt/anaconda3/envs/hugging-face/lib/python3.10/site-packages/pandas/core/internals/managers.py\", line 304, in apply\n",
      "    applied = getattr(b, f)(**kwargs)\n",
      "  File \"/Users/avliu/opt/anaconda3/envs/hugging-face/lib/python3.10/site-packages/pandas/core/internals/blocks.py\", line 580, in astype\n",
      "    new_values = astype_array_safe(values, dtype, copy=copy, errors=errors)\n",
      "  File \"/Users/avliu/opt/anaconda3/envs/hugging-face/lib/python3.10/site-packages/pandas/core/dtypes/cast.py\", line 1292, in astype_array_safe\n",
      "    new_values = astype_array(values, dtype, copy=copy)\n",
      "  File \"/Users/avliu/opt/anaconda3/envs/hugging-face/lib/python3.10/site-packages/pandas/core/dtypes/cast.py\", line 1237, in astype_array\n",
      "    values = astype_nansafe(values, dtype, copy=copy)\n",
      "  File \"/Users/avliu/opt/anaconda3/envs/hugging-face/lib/python3.10/site-packages/pandas/core/dtypes/cast.py\", line 1154, in astype_nansafe\n",
      "    return lib.astype_intsafe(arr, dtype)\n",
      "  File \"pandas/_libs/lib.pyx\", line 668, in pandas._libs.lib.astype_intsafe\n",
      "ValueError: invalid literal for int() with base 10: ''\n"
     ]
    },
    {
     "name": "stdout",
     "output_type": "stream",
     "text": [
      "round: 1\n",
      "invalid literal for int() with base 10: ''\n",
      "tournament_id: 553013\n"
     ]
    },
    {
     "name": "stderr",
     "output_type": "stream",
     "text": [
      "Traceback (most recent call last):\n",
      "  File \"/var/folders/t6/srtzy2f51db8mxxv7g_63f6h0000gr/T/ipykernel_72356/422094622.py\", line 19, in <cell line: 2>\n",
      "    games_df_list.append(parse_games_df(games_df))\n",
      "  File \"/var/folders/t6/srtzy2f51db8mxxv7g_63f6h0000gr/T/ipykernel_72356/3212580384.py\", line 18, in parse_games_df\n",
      "    games_df = games_df.astype({\n",
      "  File \"/Users/avliu/opt/anaconda3/envs/hugging-face/lib/python3.10/site-packages/pandas/core/generic.py\", line 5898, in astype\n",
      "    res_col = col.astype(dtype=cdt, copy=copy, errors=errors)\n",
      "  File \"/Users/avliu/opt/anaconda3/envs/hugging-face/lib/python3.10/site-packages/pandas/core/generic.py\", line 5912, in astype\n",
      "    new_data = self._mgr.astype(dtype=dtype, copy=copy, errors=errors)\n",
      "  File \"/Users/avliu/opt/anaconda3/envs/hugging-face/lib/python3.10/site-packages/pandas/core/internals/managers.py\", line 419, in astype\n",
      "    return self.apply(\"astype\", dtype=dtype, copy=copy, errors=errors)\n",
      "  File \"/Users/avliu/opt/anaconda3/envs/hugging-face/lib/python3.10/site-packages/pandas/core/internals/managers.py\", line 304, in apply\n",
      "    applied = getattr(b, f)(**kwargs)\n",
      "  File \"/Users/avliu/opt/anaconda3/envs/hugging-face/lib/python3.10/site-packages/pandas/core/internals/blocks.py\", line 580, in astype\n",
      "    new_values = astype_array_safe(values, dtype, copy=copy, errors=errors)\n",
      "  File \"/Users/avliu/opt/anaconda3/envs/hugging-face/lib/python3.10/site-packages/pandas/core/dtypes/cast.py\", line 1292, in astype_array_safe\n",
      "    new_values = astype_array(values, dtype, copy=copy)\n",
      "  File \"/Users/avliu/opt/anaconda3/envs/hugging-face/lib/python3.10/site-packages/pandas/core/dtypes/cast.py\", line 1237, in astype_array\n",
      "    values = astype_nansafe(values, dtype, copy=copy)\n",
      "  File \"/Users/avliu/opt/anaconda3/envs/hugging-face/lib/python3.10/site-packages/pandas/core/dtypes/cast.py\", line 1154, in astype_nansafe\n",
      "    return lib.astype_intsafe(arr, dtype)\n",
      "  File \"pandas/_libs/lib.pyx\", line 668, in pandas._libs.lib.astype_intsafe\n",
      "ValueError: invalid literal for int() with base 10: ''\n"
     ]
    },
    {
     "name": "stdout",
     "output_type": "stream",
     "text": [
      "round: 1\n",
      "invalid literal for int() with base 10: ''\n",
      "tournament_id: 553012\n"
     ]
    },
    {
     "name": "stderr",
     "output_type": "stream",
     "text": [
      "Traceback (most recent call last):\n",
      "  File \"/var/folders/t6/srtzy2f51db8mxxv7g_63f6h0000gr/T/ipykernel_72356/422094622.py\", line 19, in <cell line: 2>\n",
      "    games_df_list.append(parse_games_df(games_df))\n",
      "  File \"/var/folders/t6/srtzy2f51db8mxxv7g_63f6h0000gr/T/ipykernel_72356/3212580384.py\", line 18, in parse_games_df\n",
      "    games_df = games_df.astype({\n",
      "  File \"/Users/avliu/opt/anaconda3/envs/hugging-face/lib/python3.10/site-packages/pandas/core/generic.py\", line 5898, in astype\n",
      "    res_col = col.astype(dtype=cdt, copy=copy, errors=errors)\n",
      "  File \"/Users/avliu/opt/anaconda3/envs/hugging-face/lib/python3.10/site-packages/pandas/core/generic.py\", line 5912, in astype\n",
      "    new_data = self._mgr.astype(dtype=dtype, copy=copy, errors=errors)\n",
      "  File \"/Users/avliu/opt/anaconda3/envs/hugging-face/lib/python3.10/site-packages/pandas/core/internals/managers.py\", line 419, in astype\n",
      "    return self.apply(\"astype\", dtype=dtype, copy=copy, errors=errors)\n",
      "  File \"/Users/avliu/opt/anaconda3/envs/hugging-face/lib/python3.10/site-packages/pandas/core/internals/managers.py\", line 304, in apply\n",
      "    applied = getattr(b, f)(**kwargs)\n",
      "  File \"/Users/avliu/opt/anaconda3/envs/hugging-face/lib/python3.10/site-packages/pandas/core/internals/blocks.py\", line 580, in astype\n",
      "    new_values = astype_array_safe(values, dtype, copy=copy, errors=errors)\n",
      "  File \"/Users/avliu/opt/anaconda3/envs/hugging-face/lib/python3.10/site-packages/pandas/core/dtypes/cast.py\", line 1292, in astype_array_safe\n",
      "    new_values = astype_array(values, dtype, copy=copy)\n",
      "  File \"/Users/avliu/opt/anaconda3/envs/hugging-face/lib/python3.10/site-packages/pandas/core/dtypes/cast.py\", line 1237, in astype_array\n",
      "    values = astype_nansafe(values, dtype, copy=copy)\n",
      "  File \"/Users/avliu/opt/anaconda3/envs/hugging-face/lib/python3.10/site-packages/pandas/core/dtypes/cast.py\", line 1154, in astype_nansafe\n",
      "    return lib.astype_intsafe(arr, dtype)\n",
      "  File \"pandas/_libs/lib.pyx\", line 668, in pandas._libs.lib.astype_intsafe\n",
      "ValueError: invalid literal for int() with base 10: ''\n"
     ]
    },
    {
     "name": "stdout",
     "output_type": "stream",
     "text": [
      "round: 1\n",
      "invalid literal for int() with base 10: ''\n",
      "tournament_id: 553011\n"
     ]
    },
    {
     "name": "stderr",
     "output_type": "stream",
     "text": [
      "Traceback (most recent call last):\n",
      "  File \"/var/folders/t6/srtzy2f51db8mxxv7g_63f6h0000gr/T/ipykernel_72356/422094622.py\", line 19, in <cell line: 2>\n",
      "    games_df_list.append(parse_games_df(games_df))\n",
      "  File \"/var/folders/t6/srtzy2f51db8mxxv7g_63f6h0000gr/T/ipykernel_72356/3212580384.py\", line 18, in parse_games_df\n",
      "    games_df = games_df.astype({\n",
      "  File \"/Users/avliu/opt/anaconda3/envs/hugging-face/lib/python3.10/site-packages/pandas/core/generic.py\", line 5898, in astype\n",
      "    res_col = col.astype(dtype=cdt, copy=copy, errors=errors)\n",
      "  File \"/Users/avliu/opt/anaconda3/envs/hugging-face/lib/python3.10/site-packages/pandas/core/generic.py\", line 5912, in astype\n",
      "    new_data = self._mgr.astype(dtype=dtype, copy=copy, errors=errors)\n",
      "  File \"/Users/avliu/opt/anaconda3/envs/hugging-face/lib/python3.10/site-packages/pandas/core/internals/managers.py\", line 419, in astype\n",
      "    return self.apply(\"astype\", dtype=dtype, copy=copy, errors=errors)\n",
      "  File \"/Users/avliu/opt/anaconda3/envs/hugging-face/lib/python3.10/site-packages/pandas/core/internals/managers.py\", line 304, in apply\n",
      "    applied = getattr(b, f)(**kwargs)\n",
      "  File \"/Users/avliu/opt/anaconda3/envs/hugging-face/lib/python3.10/site-packages/pandas/core/internals/blocks.py\", line 580, in astype\n",
      "    new_values = astype_array_safe(values, dtype, copy=copy, errors=errors)\n",
      "  File \"/Users/avliu/opt/anaconda3/envs/hugging-face/lib/python3.10/site-packages/pandas/core/dtypes/cast.py\", line 1292, in astype_array_safe\n",
      "    new_values = astype_array(values, dtype, copy=copy)\n",
      "  File \"/Users/avliu/opt/anaconda3/envs/hugging-face/lib/python3.10/site-packages/pandas/core/dtypes/cast.py\", line 1237, in astype_array\n",
      "    values = astype_nansafe(values, dtype, copy=copy)\n",
      "  File \"/Users/avliu/opt/anaconda3/envs/hugging-face/lib/python3.10/site-packages/pandas/core/dtypes/cast.py\", line 1154, in astype_nansafe\n",
      "    return lib.astype_intsafe(arr, dtype)\n",
      "  File \"pandas/_libs/lib.pyx\", line 668, in pandas._libs.lib.astype_intsafe\n",
      "ValueError: invalid literal for int() with base 10: ''\n"
     ]
    },
    {
     "name": "stdout",
     "output_type": "stream",
     "text": [
      "round: 1\n",
      "invalid literal for int() with base 10: ''\n",
      "tournament_id: 553010\n"
     ]
    },
    {
     "name": "stderr",
     "output_type": "stream",
     "text": [
      "Traceback (most recent call last):\n",
      "  File \"/var/folders/t6/srtzy2f51db8mxxv7g_63f6h0000gr/T/ipykernel_72356/422094622.py\", line 19, in <cell line: 2>\n",
      "    games_df_list.append(parse_games_df(games_df))\n",
      "  File \"/var/folders/t6/srtzy2f51db8mxxv7g_63f6h0000gr/T/ipykernel_72356/3212580384.py\", line 18, in parse_games_df\n",
      "    games_df = games_df.astype({\n",
      "  File \"/Users/avliu/opt/anaconda3/envs/hugging-face/lib/python3.10/site-packages/pandas/core/generic.py\", line 5898, in astype\n",
      "    res_col = col.astype(dtype=cdt, copy=copy, errors=errors)\n",
      "  File \"/Users/avliu/opt/anaconda3/envs/hugging-face/lib/python3.10/site-packages/pandas/core/generic.py\", line 5912, in astype\n",
      "    new_data = self._mgr.astype(dtype=dtype, copy=copy, errors=errors)\n",
      "  File \"/Users/avliu/opt/anaconda3/envs/hugging-face/lib/python3.10/site-packages/pandas/core/internals/managers.py\", line 419, in astype\n",
      "    return self.apply(\"astype\", dtype=dtype, copy=copy, errors=errors)\n",
      "  File \"/Users/avliu/opt/anaconda3/envs/hugging-face/lib/python3.10/site-packages/pandas/core/internals/managers.py\", line 304, in apply\n",
      "    applied = getattr(b, f)(**kwargs)\n",
      "  File \"/Users/avliu/opt/anaconda3/envs/hugging-face/lib/python3.10/site-packages/pandas/core/internals/blocks.py\", line 580, in astype\n",
      "    new_values = astype_array_safe(values, dtype, copy=copy, errors=errors)\n",
      "  File \"/Users/avliu/opt/anaconda3/envs/hugging-face/lib/python3.10/site-packages/pandas/core/dtypes/cast.py\", line 1292, in astype_array_safe\n",
      "    new_values = astype_array(values, dtype, copy=copy)\n",
      "  File \"/Users/avliu/opt/anaconda3/envs/hugging-face/lib/python3.10/site-packages/pandas/core/dtypes/cast.py\", line 1237, in astype_array\n",
      "    values = astype_nansafe(values, dtype, copy=copy)\n",
      "  File \"/Users/avliu/opt/anaconda3/envs/hugging-face/lib/python3.10/site-packages/pandas/core/dtypes/cast.py\", line 1154, in astype_nansafe\n",
      "    return lib.astype_intsafe(arr, dtype)\n",
      "  File \"pandas/_libs/lib.pyx\", line 668, in pandas._libs.lib.astype_intsafe\n",
      "ValueError: invalid literal for int() with base 10: ''\n"
     ]
    },
    {
     "name": "stdout",
     "output_type": "stream",
     "text": [
      "round: 1\n",
      "invalid literal for int() with base 10: ''\n",
      "tournament_id: 553009\n"
     ]
    },
    {
     "name": "stderr",
     "output_type": "stream",
     "text": [
      "Traceback (most recent call last):\n",
      "  File \"/var/folders/t6/srtzy2f51db8mxxv7g_63f6h0000gr/T/ipykernel_72356/422094622.py\", line 19, in <cell line: 2>\n",
      "    games_df_list.append(parse_games_df(games_df))\n",
      "  File \"/var/folders/t6/srtzy2f51db8mxxv7g_63f6h0000gr/T/ipykernel_72356/3212580384.py\", line 18, in parse_games_df\n",
      "    games_df = games_df.astype({\n",
      "  File \"/Users/avliu/opt/anaconda3/envs/hugging-face/lib/python3.10/site-packages/pandas/core/generic.py\", line 5898, in astype\n",
      "    res_col = col.astype(dtype=cdt, copy=copy, errors=errors)\n",
      "  File \"/Users/avliu/opt/anaconda3/envs/hugging-face/lib/python3.10/site-packages/pandas/core/generic.py\", line 5912, in astype\n",
      "    new_data = self._mgr.astype(dtype=dtype, copy=copy, errors=errors)\n",
      "  File \"/Users/avliu/opt/anaconda3/envs/hugging-face/lib/python3.10/site-packages/pandas/core/internals/managers.py\", line 419, in astype\n",
      "    return self.apply(\"astype\", dtype=dtype, copy=copy, errors=errors)\n",
      "  File \"/Users/avliu/opt/anaconda3/envs/hugging-face/lib/python3.10/site-packages/pandas/core/internals/managers.py\", line 304, in apply\n",
      "    applied = getattr(b, f)(**kwargs)\n",
      "  File \"/Users/avliu/opt/anaconda3/envs/hugging-face/lib/python3.10/site-packages/pandas/core/internals/blocks.py\", line 580, in astype\n",
      "    new_values = astype_array_safe(values, dtype, copy=copy, errors=errors)\n",
      "  File \"/Users/avliu/opt/anaconda3/envs/hugging-face/lib/python3.10/site-packages/pandas/core/dtypes/cast.py\", line 1292, in astype_array_safe\n",
      "    new_values = astype_array(values, dtype, copy=copy)\n",
      "  File \"/Users/avliu/opt/anaconda3/envs/hugging-face/lib/python3.10/site-packages/pandas/core/dtypes/cast.py\", line 1237, in astype_array\n",
      "    values = astype_nansafe(values, dtype, copy=copy)\n",
      "  File \"/Users/avliu/opt/anaconda3/envs/hugging-face/lib/python3.10/site-packages/pandas/core/dtypes/cast.py\", line 1154, in astype_nansafe\n",
      "    return lib.astype_intsafe(arr, dtype)\n",
      "  File \"pandas/_libs/lib.pyx\", line 668, in pandas._libs.lib.astype_intsafe\n",
      "ValueError: invalid literal for int() with base 10: ''\n"
     ]
    },
    {
     "name": "stdout",
     "output_type": "stream",
     "text": [
      "round: 1\n",
      "invalid literal for int() with base 10: ''\n",
      "tournament_id: 555195\n"
     ]
    },
    {
     "name": "stderr",
     "output_type": "stream",
     "text": [
      "Traceback (most recent call last):\n",
      "  File \"/var/folders/t6/srtzy2f51db8mxxv7g_63f6h0000gr/T/ipykernel_72356/422094622.py\", line 19, in <cell line: 2>\n",
      "    games_df_list.append(parse_games_df(games_df))\n",
      "  File \"/var/folders/t6/srtzy2f51db8mxxv7g_63f6h0000gr/T/ipykernel_72356/3212580384.py\", line 18, in parse_games_df\n",
      "    games_df = games_df.astype({\n",
      "  File \"/Users/avliu/opt/anaconda3/envs/hugging-face/lib/python3.10/site-packages/pandas/core/generic.py\", line 5898, in astype\n",
      "    res_col = col.astype(dtype=cdt, copy=copy, errors=errors)\n",
      "  File \"/Users/avliu/opt/anaconda3/envs/hugging-face/lib/python3.10/site-packages/pandas/core/generic.py\", line 5912, in astype\n",
      "    new_data = self._mgr.astype(dtype=dtype, copy=copy, errors=errors)\n",
      "  File \"/Users/avliu/opt/anaconda3/envs/hugging-face/lib/python3.10/site-packages/pandas/core/internals/managers.py\", line 419, in astype\n",
      "    return self.apply(\"astype\", dtype=dtype, copy=copy, errors=errors)\n",
      "  File \"/Users/avliu/opt/anaconda3/envs/hugging-face/lib/python3.10/site-packages/pandas/core/internals/managers.py\", line 304, in apply\n",
      "    applied = getattr(b, f)(**kwargs)\n",
      "  File \"/Users/avliu/opt/anaconda3/envs/hugging-face/lib/python3.10/site-packages/pandas/core/internals/blocks.py\", line 580, in astype\n",
      "    new_values = astype_array_safe(values, dtype, copy=copy, errors=errors)\n",
      "  File \"/Users/avliu/opt/anaconda3/envs/hugging-face/lib/python3.10/site-packages/pandas/core/dtypes/cast.py\", line 1292, in astype_array_safe\n",
      "    new_values = astype_array(values, dtype, copy=copy)\n",
      "  File \"/Users/avliu/opt/anaconda3/envs/hugging-face/lib/python3.10/site-packages/pandas/core/dtypes/cast.py\", line 1237, in astype_array\n",
      "    values = astype_nansafe(values, dtype, copy=copy)\n",
      "  File \"/Users/avliu/opt/anaconda3/envs/hugging-face/lib/python3.10/site-packages/pandas/core/dtypes/cast.py\", line 1154, in astype_nansafe\n",
      "    return lib.astype_intsafe(arr, dtype)\n",
      "  File \"pandas/_libs/lib.pyx\", line 668, in pandas._libs.lib.astype_intsafe\n",
      "ValueError: invalid literal for int() with base 10: ''\n"
     ]
    },
    {
     "name": "stdout",
     "output_type": "stream",
     "text": [
      "round: 1\n",
      "invalid literal for int() with base 10: 'Rtg'\n",
      "tournament_id: 554736\n"
     ]
    },
    {
     "name": "stderr",
     "output_type": "stream",
     "text": [
      "Traceback (most recent call last):\n",
      "  File \"/var/folders/t6/srtzy2f51db8mxxv7g_63f6h0000gr/T/ipykernel_72356/422094622.py\", line 19, in <cell line: 2>\n",
      "    games_df_list.append(parse_games_df(games_df))\n",
      "  File \"/var/folders/t6/srtzy2f51db8mxxv7g_63f6h0000gr/T/ipykernel_72356/3212580384.py\", line 18, in parse_games_df\n",
      "    games_df = games_df.astype({\n",
      "  File \"/Users/avliu/opt/anaconda3/envs/hugging-face/lib/python3.10/site-packages/pandas/core/generic.py\", line 5898, in astype\n",
      "    res_col = col.astype(dtype=cdt, copy=copy, errors=errors)\n",
      "  File \"/Users/avliu/opt/anaconda3/envs/hugging-face/lib/python3.10/site-packages/pandas/core/generic.py\", line 5912, in astype\n",
      "    new_data = self._mgr.astype(dtype=dtype, copy=copy, errors=errors)\n",
      "  File \"/Users/avliu/opt/anaconda3/envs/hugging-face/lib/python3.10/site-packages/pandas/core/internals/managers.py\", line 419, in astype\n",
      "    return self.apply(\"astype\", dtype=dtype, copy=copy, errors=errors)\n",
      "  File \"/Users/avliu/opt/anaconda3/envs/hugging-face/lib/python3.10/site-packages/pandas/core/internals/managers.py\", line 304, in apply\n",
      "    applied = getattr(b, f)(**kwargs)\n",
      "  File \"/Users/avliu/opt/anaconda3/envs/hugging-face/lib/python3.10/site-packages/pandas/core/internals/blocks.py\", line 580, in astype\n",
      "    new_values = astype_array_safe(values, dtype, copy=copy, errors=errors)\n",
      "  File \"/Users/avliu/opt/anaconda3/envs/hugging-face/lib/python3.10/site-packages/pandas/core/dtypes/cast.py\", line 1292, in astype_array_safe\n",
      "    new_values = astype_array(values, dtype, copy=copy)\n",
      "  File \"/Users/avliu/opt/anaconda3/envs/hugging-face/lib/python3.10/site-packages/pandas/core/dtypes/cast.py\", line 1237, in astype_array\n",
      "    values = astype_nansafe(values, dtype, copy=copy)\n",
      "  File \"/Users/avliu/opt/anaconda3/envs/hugging-face/lib/python3.10/site-packages/pandas/core/dtypes/cast.py\", line 1154, in astype_nansafe\n",
      "    return lib.astype_intsafe(arr, dtype)\n",
      "  File \"pandas/_libs/lib.pyx\", line 668, in pandas._libs.lib.astype_intsafe\n",
      "ValueError: invalid literal for int() with base 10: 'Rtg'\n"
     ]
    },
    {
     "name": "stdout",
     "output_type": "stream",
     "text": [
      "round: 1\n",
      "list index out of range\n",
      "tournament_id: 554665\n"
     ]
    },
    {
     "name": "stderr",
     "output_type": "stream",
     "text": [
      "Traceback (most recent call last):\n",
      "  File \"/var/folders/t6/srtzy2f51db8mxxv7g_63f6h0000gr/T/ipykernel_72356/422094622.py\", line 19, in <cell line: 2>\n",
      "    games_df_list.append(parse_games_df(games_df))\n",
      "  File \"/var/folders/t6/srtzy2f51db8mxxv7g_63f6h0000gr/T/ipykernel_72356/3212580384.py\", line 6, in parse_games_df\n",
      "    games_df.columns.values[name_idxs[0]] = \"left_name\"\n",
      "IndexError: list index out of range\n"
     ]
    },
    {
     "name": "stdout",
     "output_type": "stream",
     "text": [
      "round: 1\n",
      "list index out of range\n",
      "tournament_id: 554253\n"
     ]
    },
    {
     "name": "stderr",
     "output_type": "stream",
     "text": [
      "Traceback (most recent call last):\n",
      "  File \"/var/folders/t6/srtzy2f51db8mxxv7g_63f6h0000gr/T/ipykernel_72356/422094622.py\", line 19, in <cell line: 2>\n",
      "    games_df_list.append(parse_games_df(games_df))\n",
      "  File \"/var/folders/t6/srtzy2f51db8mxxv7g_63f6h0000gr/T/ipykernel_72356/3212580384.py\", line 6, in parse_games_df\n",
      "    games_df.columns.values[name_idxs[0]] = \"left_name\"\n",
      "IndexError: list index out of range\n"
     ]
    },
    {
     "name": "stdout",
     "output_type": "stream",
     "text": [
      "round: 1\n",
      "invalid literal for int() with base 10: 'Rtg'\n",
      "tournament_id: 554252\n"
     ]
    },
    {
     "name": "stderr",
     "output_type": "stream",
     "text": [
      "Traceback (most recent call last):\n",
      "  File \"/var/folders/t6/srtzy2f51db8mxxv7g_63f6h0000gr/T/ipykernel_72356/422094622.py\", line 19, in <cell line: 2>\n",
      "    games_df_list.append(parse_games_df(games_df))\n",
      "  File \"/var/folders/t6/srtzy2f51db8mxxv7g_63f6h0000gr/T/ipykernel_72356/3212580384.py\", line 18, in parse_games_df\n",
      "    games_df = games_df.astype({\n",
      "  File \"/Users/avliu/opt/anaconda3/envs/hugging-face/lib/python3.10/site-packages/pandas/core/generic.py\", line 5898, in astype\n",
      "    res_col = col.astype(dtype=cdt, copy=copy, errors=errors)\n",
      "  File \"/Users/avliu/opt/anaconda3/envs/hugging-face/lib/python3.10/site-packages/pandas/core/generic.py\", line 5912, in astype\n",
      "    new_data = self._mgr.astype(dtype=dtype, copy=copy, errors=errors)\n",
      "  File \"/Users/avliu/opt/anaconda3/envs/hugging-face/lib/python3.10/site-packages/pandas/core/internals/managers.py\", line 419, in astype\n",
      "    return self.apply(\"astype\", dtype=dtype, copy=copy, errors=errors)\n",
      "  File \"/Users/avliu/opt/anaconda3/envs/hugging-face/lib/python3.10/site-packages/pandas/core/internals/managers.py\", line 304, in apply\n",
      "    applied = getattr(b, f)(**kwargs)\n",
      "  File \"/Users/avliu/opt/anaconda3/envs/hugging-face/lib/python3.10/site-packages/pandas/core/internals/blocks.py\", line 580, in astype\n",
      "    new_values = astype_array_safe(values, dtype, copy=copy, errors=errors)\n",
      "  File \"/Users/avliu/opt/anaconda3/envs/hugging-face/lib/python3.10/site-packages/pandas/core/dtypes/cast.py\", line 1292, in astype_array_safe\n",
      "    new_values = astype_array(values, dtype, copy=copy)\n",
      "  File \"/Users/avliu/opt/anaconda3/envs/hugging-face/lib/python3.10/site-packages/pandas/core/dtypes/cast.py\", line 1237, in astype_array\n",
      "    values = astype_nansafe(values, dtype, copy=copy)\n",
      "  File \"/Users/avliu/opt/anaconda3/envs/hugging-face/lib/python3.10/site-packages/pandas/core/dtypes/cast.py\", line 1154, in astype_nansafe\n",
      "    return lib.astype_intsafe(arr, dtype)\n",
      "  File \"pandas/_libs/lib.pyx\", line 668, in pandas._libs.lib.astype_intsafe\n",
      "ValueError: invalid literal for int() with base 10: 'Rtg'\n"
     ]
    },
    {
     "name": "stdout",
     "output_type": "stream",
     "text": [
      "round: 1\n",
      "invalid literal for int() with base 10: 'Rtg'\n",
      "tournament_id: 552703\n"
     ]
    },
    {
     "name": "stderr",
     "output_type": "stream",
     "text": [
      "Traceback (most recent call last):\n",
      "  File \"/var/folders/t6/srtzy2f51db8mxxv7g_63f6h0000gr/T/ipykernel_72356/422094622.py\", line 19, in <cell line: 2>\n",
      "    games_df_list.append(parse_games_df(games_df))\n",
      "  File \"/var/folders/t6/srtzy2f51db8mxxv7g_63f6h0000gr/T/ipykernel_72356/3212580384.py\", line 18, in parse_games_df\n",
      "    games_df = games_df.astype({\n",
      "  File \"/Users/avliu/opt/anaconda3/envs/hugging-face/lib/python3.10/site-packages/pandas/core/generic.py\", line 5898, in astype\n",
      "    res_col = col.astype(dtype=cdt, copy=copy, errors=errors)\n",
      "  File \"/Users/avliu/opt/anaconda3/envs/hugging-face/lib/python3.10/site-packages/pandas/core/generic.py\", line 5912, in astype\n",
      "    new_data = self._mgr.astype(dtype=dtype, copy=copy, errors=errors)\n",
      "  File \"/Users/avliu/opt/anaconda3/envs/hugging-face/lib/python3.10/site-packages/pandas/core/internals/managers.py\", line 419, in astype\n",
      "    return self.apply(\"astype\", dtype=dtype, copy=copy, errors=errors)\n",
      "  File \"/Users/avliu/opt/anaconda3/envs/hugging-face/lib/python3.10/site-packages/pandas/core/internals/managers.py\", line 304, in apply\n",
      "    applied = getattr(b, f)(**kwargs)\n",
      "  File \"/Users/avliu/opt/anaconda3/envs/hugging-face/lib/python3.10/site-packages/pandas/core/internals/blocks.py\", line 580, in astype\n",
      "    new_values = astype_array_safe(values, dtype, copy=copy, errors=errors)\n",
      "  File \"/Users/avliu/opt/anaconda3/envs/hugging-face/lib/python3.10/site-packages/pandas/core/dtypes/cast.py\", line 1292, in astype_array_safe\n",
      "    new_values = astype_array(values, dtype, copy=copy)\n",
      "  File \"/Users/avliu/opt/anaconda3/envs/hugging-face/lib/python3.10/site-packages/pandas/core/dtypes/cast.py\", line 1237, in astype_array\n",
      "    values = astype_nansafe(values, dtype, copy=copy)\n",
      "  File \"/Users/avliu/opt/anaconda3/envs/hugging-face/lib/python3.10/site-packages/pandas/core/dtypes/cast.py\", line 1154, in astype_nansafe\n",
      "    return lib.astype_intsafe(arr, dtype)\n",
      "  File \"pandas/_libs/lib.pyx\", line 668, in pandas._libs.lib.astype_intsafe\n",
      "ValueError: invalid literal for int() with base 10: 'Rtg'\n"
     ]
    },
    {
     "name": "stdout",
     "output_type": "stream",
     "text": [
      "round: 1\n",
      "invalid literal for int() with base 10: ''\n",
      "tournament_id: 552702\n"
     ]
    },
    {
     "name": "stderr",
     "output_type": "stream",
     "text": [
      "Traceback (most recent call last):\n",
      "  File \"/var/folders/t6/srtzy2f51db8mxxv7g_63f6h0000gr/T/ipykernel_72356/422094622.py\", line 19, in <cell line: 2>\n",
      "    games_df_list.append(parse_games_df(games_df))\n",
      "  File \"/var/folders/t6/srtzy2f51db8mxxv7g_63f6h0000gr/T/ipykernel_72356/3212580384.py\", line 18, in parse_games_df\n",
      "    games_df = games_df.astype({\n",
      "  File \"/Users/avliu/opt/anaconda3/envs/hugging-face/lib/python3.10/site-packages/pandas/core/generic.py\", line 5898, in astype\n",
      "    res_col = col.astype(dtype=cdt, copy=copy, errors=errors)\n",
      "  File \"/Users/avliu/opt/anaconda3/envs/hugging-face/lib/python3.10/site-packages/pandas/core/generic.py\", line 5912, in astype\n",
      "    new_data = self._mgr.astype(dtype=dtype, copy=copy, errors=errors)\n",
      "  File \"/Users/avliu/opt/anaconda3/envs/hugging-face/lib/python3.10/site-packages/pandas/core/internals/managers.py\", line 419, in astype\n",
      "    return self.apply(\"astype\", dtype=dtype, copy=copy, errors=errors)\n",
      "  File \"/Users/avliu/opt/anaconda3/envs/hugging-face/lib/python3.10/site-packages/pandas/core/internals/managers.py\", line 304, in apply\n",
      "    applied = getattr(b, f)(**kwargs)\n",
      "  File \"/Users/avliu/opt/anaconda3/envs/hugging-face/lib/python3.10/site-packages/pandas/core/internals/blocks.py\", line 580, in astype\n",
      "    new_values = astype_array_safe(values, dtype, copy=copy, errors=errors)\n",
      "  File \"/Users/avliu/opt/anaconda3/envs/hugging-face/lib/python3.10/site-packages/pandas/core/dtypes/cast.py\", line 1292, in astype_array_safe\n",
      "    new_values = astype_array(values, dtype, copy=copy)\n",
      "  File \"/Users/avliu/opt/anaconda3/envs/hugging-face/lib/python3.10/site-packages/pandas/core/dtypes/cast.py\", line 1237, in astype_array\n",
      "    values = astype_nansafe(values, dtype, copy=copy)\n",
      "  File \"/Users/avliu/opt/anaconda3/envs/hugging-face/lib/python3.10/site-packages/pandas/core/dtypes/cast.py\", line 1154, in astype_nansafe\n",
      "    return lib.astype_intsafe(arr, dtype)\n",
      "  File \"pandas/_libs/lib.pyx\", line 668, in pandas._libs.lib.astype_intsafe\n",
      "ValueError: invalid literal for int() with base 10: ''\n"
     ]
    },
    {
     "name": "stdout",
     "output_type": "stream",
     "text": [
      "round: 1\n",
      "invalid literal for int() with base 10: ''\n",
      "tournament_id: 552701\n"
     ]
    },
    {
     "name": "stderr",
     "output_type": "stream",
     "text": [
      "Traceback (most recent call last):\n",
      "  File \"/var/folders/t6/srtzy2f51db8mxxv7g_63f6h0000gr/T/ipykernel_72356/422094622.py\", line 19, in <cell line: 2>\n",
      "    games_df_list.append(parse_games_df(games_df))\n",
      "  File \"/var/folders/t6/srtzy2f51db8mxxv7g_63f6h0000gr/T/ipykernel_72356/3212580384.py\", line 18, in parse_games_df\n",
      "    games_df = games_df.astype({\n",
      "  File \"/Users/avliu/opt/anaconda3/envs/hugging-face/lib/python3.10/site-packages/pandas/core/generic.py\", line 5898, in astype\n",
      "    res_col = col.astype(dtype=cdt, copy=copy, errors=errors)\n",
      "  File \"/Users/avliu/opt/anaconda3/envs/hugging-face/lib/python3.10/site-packages/pandas/core/generic.py\", line 5912, in astype\n",
      "    new_data = self._mgr.astype(dtype=dtype, copy=copy, errors=errors)\n",
      "  File \"/Users/avliu/opt/anaconda3/envs/hugging-face/lib/python3.10/site-packages/pandas/core/internals/managers.py\", line 419, in astype\n",
      "    return self.apply(\"astype\", dtype=dtype, copy=copy, errors=errors)\n",
      "  File \"/Users/avliu/opt/anaconda3/envs/hugging-face/lib/python3.10/site-packages/pandas/core/internals/managers.py\", line 304, in apply\n",
      "    applied = getattr(b, f)(**kwargs)\n",
      "  File \"/Users/avliu/opt/anaconda3/envs/hugging-face/lib/python3.10/site-packages/pandas/core/internals/blocks.py\", line 580, in astype\n",
      "    new_values = astype_array_safe(values, dtype, copy=copy, errors=errors)\n",
      "  File \"/Users/avliu/opt/anaconda3/envs/hugging-face/lib/python3.10/site-packages/pandas/core/dtypes/cast.py\", line 1292, in astype_array_safe\n",
      "    new_values = astype_array(values, dtype, copy=copy)\n",
      "  File \"/Users/avliu/opt/anaconda3/envs/hugging-face/lib/python3.10/site-packages/pandas/core/dtypes/cast.py\", line 1237, in astype_array\n",
      "    values = astype_nansafe(values, dtype, copy=copy)\n",
      "  File \"/Users/avliu/opt/anaconda3/envs/hugging-face/lib/python3.10/site-packages/pandas/core/dtypes/cast.py\", line 1154, in astype_nansafe\n",
      "    return lib.astype_intsafe(arr, dtype)\n",
      "  File \"pandas/_libs/lib.pyx\", line 668, in pandas._libs.lib.astype_intsafe\n",
      "ValueError: invalid literal for int() with base 10: ''\n"
     ]
    },
    {
     "name": "stdout",
     "output_type": "stream",
     "text": [
      "round: 1\n",
      "invalid literal for int() with base 10: ''\n",
      "tournament_id: 552700\n"
     ]
    },
    {
     "name": "stderr",
     "output_type": "stream",
     "text": [
      "Traceback (most recent call last):\n",
      "  File \"/var/folders/t6/srtzy2f51db8mxxv7g_63f6h0000gr/T/ipykernel_72356/422094622.py\", line 19, in <cell line: 2>\n",
      "    games_df_list.append(parse_games_df(games_df))\n",
      "  File \"/var/folders/t6/srtzy2f51db8mxxv7g_63f6h0000gr/T/ipykernel_72356/3212580384.py\", line 18, in parse_games_df\n",
      "    games_df = games_df.astype({\n",
      "  File \"/Users/avliu/opt/anaconda3/envs/hugging-face/lib/python3.10/site-packages/pandas/core/generic.py\", line 5898, in astype\n",
      "    res_col = col.astype(dtype=cdt, copy=copy, errors=errors)\n",
      "  File \"/Users/avliu/opt/anaconda3/envs/hugging-face/lib/python3.10/site-packages/pandas/core/generic.py\", line 5912, in astype\n",
      "    new_data = self._mgr.astype(dtype=dtype, copy=copy, errors=errors)\n",
      "  File \"/Users/avliu/opt/anaconda3/envs/hugging-face/lib/python3.10/site-packages/pandas/core/internals/managers.py\", line 419, in astype\n",
      "    return self.apply(\"astype\", dtype=dtype, copy=copy, errors=errors)\n",
      "  File \"/Users/avliu/opt/anaconda3/envs/hugging-face/lib/python3.10/site-packages/pandas/core/internals/managers.py\", line 304, in apply\n",
      "    applied = getattr(b, f)(**kwargs)\n",
      "  File \"/Users/avliu/opt/anaconda3/envs/hugging-face/lib/python3.10/site-packages/pandas/core/internals/blocks.py\", line 580, in astype\n",
      "    new_values = astype_array_safe(values, dtype, copy=copy, errors=errors)\n",
      "  File \"/Users/avliu/opt/anaconda3/envs/hugging-face/lib/python3.10/site-packages/pandas/core/dtypes/cast.py\", line 1292, in astype_array_safe\n",
      "    new_values = astype_array(values, dtype, copy=copy)\n",
      "  File \"/Users/avliu/opt/anaconda3/envs/hugging-face/lib/python3.10/site-packages/pandas/core/dtypes/cast.py\", line 1237, in astype_array\n",
      "    values = astype_nansafe(values, dtype, copy=copy)\n",
      "  File \"/Users/avliu/opt/anaconda3/envs/hugging-face/lib/python3.10/site-packages/pandas/core/dtypes/cast.py\", line 1154, in astype_nansafe\n",
      "    return lib.astype_intsafe(arr, dtype)\n",
      "  File \"pandas/_libs/lib.pyx\", line 668, in pandas._libs.lib.astype_intsafe\n",
      "ValueError: invalid literal for int() with base 10: ''\n"
     ]
    },
    {
     "name": "stdout",
     "output_type": "stream",
     "text": [
      "round: 1\n",
      "invalid literal for int() with base 10: ''\n",
      "tournament_id: 553068\n"
     ]
    },
    {
     "name": "stderr",
     "output_type": "stream",
     "text": [
      "Traceback (most recent call last):\n",
      "  File \"/var/folders/t6/srtzy2f51db8mxxv7g_63f6h0000gr/T/ipykernel_72356/422094622.py\", line 19, in <cell line: 2>\n",
      "    games_df_list.append(parse_games_df(games_df))\n",
      "  File \"/var/folders/t6/srtzy2f51db8mxxv7g_63f6h0000gr/T/ipykernel_72356/3212580384.py\", line 18, in parse_games_df\n",
      "    games_df = games_df.astype({\n",
      "  File \"/Users/avliu/opt/anaconda3/envs/hugging-face/lib/python3.10/site-packages/pandas/core/generic.py\", line 5898, in astype\n",
      "    res_col = col.astype(dtype=cdt, copy=copy, errors=errors)\n",
      "  File \"/Users/avliu/opt/anaconda3/envs/hugging-face/lib/python3.10/site-packages/pandas/core/generic.py\", line 5912, in astype\n",
      "    new_data = self._mgr.astype(dtype=dtype, copy=copy, errors=errors)\n",
      "  File \"/Users/avliu/opt/anaconda3/envs/hugging-face/lib/python3.10/site-packages/pandas/core/internals/managers.py\", line 419, in astype\n",
      "    return self.apply(\"astype\", dtype=dtype, copy=copy, errors=errors)\n",
      "  File \"/Users/avliu/opt/anaconda3/envs/hugging-face/lib/python3.10/site-packages/pandas/core/internals/managers.py\", line 304, in apply\n",
      "    applied = getattr(b, f)(**kwargs)\n",
      "  File \"/Users/avliu/opt/anaconda3/envs/hugging-face/lib/python3.10/site-packages/pandas/core/internals/blocks.py\", line 580, in astype\n",
      "    new_values = astype_array_safe(values, dtype, copy=copy, errors=errors)\n",
      "  File \"/Users/avliu/opt/anaconda3/envs/hugging-face/lib/python3.10/site-packages/pandas/core/dtypes/cast.py\", line 1292, in astype_array_safe\n",
      "    new_values = astype_array(values, dtype, copy=copy)\n",
      "  File \"/Users/avliu/opt/anaconda3/envs/hugging-face/lib/python3.10/site-packages/pandas/core/dtypes/cast.py\", line 1237, in astype_array\n",
      "    values = astype_nansafe(values, dtype, copy=copy)\n",
      "  File \"/Users/avliu/opt/anaconda3/envs/hugging-face/lib/python3.10/site-packages/pandas/core/dtypes/cast.py\", line 1154, in astype_nansafe\n",
      "    return lib.astype_intsafe(arr, dtype)\n",
      "  File \"pandas/_libs/lib.pyx\", line 668, in pandas._libs.lib.astype_intsafe\n",
      "ValueError: invalid literal for int() with base 10: ''\n"
     ]
    },
    {
     "name": "stdout",
     "output_type": "stream",
     "text": [
      "round: 1\n",
      "invalid literal for int() with base 10: 'Rtg'\n",
      "tournament_id: 553069\n"
     ]
    },
    {
     "name": "stderr",
     "output_type": "stream",
     "text": [
      "Traceback (most recent call last):\n",
      "  File \"/var/folders/t6/srtzy2f51db8mxxv7g_63f6h0000gr/T/ipykernel_72356/422094622.py\", line 19, in <cell line: 2>\n",
      "    games_df_list.append(parse_games_df(games_df))\n",
      "  File \"/var/folders/t6/srtzy2f51db8mxxv7g_63f6h0000gr/T/ipykernel_72356/3212580384.py\", line 18, in parse_games_df\n",
      "    games_df = games_df.astype({\n",
      "  File \"/Users/avliu/opt/anaconda3/envs/hugging-face/lib/python3.10/site-packages/pandas/core/generic.py\", line 5898, in astype\n",
      "    res_col = col.astype(dtype=cdt, copy=copy, errors=errors)\n",
      "  File \"/Users/avliu/opt/anaconda3/envs/hugging-face/lib/python3.10/site-packages/pandas/core/generic.py\", line 5912, in astype\n",
      "    new_data = self._mgr.astype(dtype=dtype, copy=copy, errors=errors)\n",
      "  File \"/Users/avliu/opt/anaconda3/envs/hugging-face/lib/python3.10/site-packages/pandas/core/internals/managers.py\", line 419, in astype\n",
      "    return self.apply(\"astype\", dtype=dtype, copy=copy, errors=errors)\n",
      "  File \"/Users/avliu/opt/anaconda3/envs/hugging-face/lib/python3.10/site-packages/pandas/core/internals/managers.py\", line 304, in apply\n",
      "    applied = getattr(b, f)(**kwargs)\n",
      "  File \"/Users/avliu/opt/anaconda3/envs/hugging-face/lib/python3.10/site-packages/pandas/core/internals/blocks.py\", line 580, in astype\n",
      "    new_values = astype_array_safe(values, dtype, copy=copy, errors=errors)\n",
      "  File \"/Users/avliu/opt/anaconda3/envs/hugging-face/lib/python3.10/site-packages/pandas/core/dtypes/cast.py\", line 1292, in astype_array_safe\n",
      "    new_values = astype_array(values, dtype, copy=copy)\n",
      "  File \"/Users/avliu/opt/anaconda3/envs/hugging-face/lib/python3.10/site-packages/pandas/core/dtypes/cast.py\", line 1237, in astype_array\n",
      "    values = astype_nansafe(values, dtype, copy=copy)\n",
      "  File \"/Users/avliu/opt/anaconda3/envs/hugging-face/lib/python3.10/site-packages/pandas/core/dtypes/cast.py\", line 1154, in astype_nansafe\n",
      "    return lib.astype_intsafe(arr, dtype)\n",
      "  File \"pandas/_libs/lib.pyx\", line 668, in pandas._libs.lib.astype_intsafe\n",
      "ValueError: invalid literal for int() with base 10: 'Rtg'\n"
     ]
    },
    {
     "name": "stdout",
     "output_type": "stream",
     "text": [
      "round: 1\n",
      "invalid literal for int() with base 10: 'Rtg'\n",
      "tournament_id: 552692\n"
     ]
    },
    {
     "name": "stderr",
     "output_type": "stream",
     "text": [
      "Traceback (most recent call last):\n",
      "  File \"/var/folders/t6/srtzy2f51db8mxxv7g_63f6h0000gr/T/ipykernel_72356/422094622.py\", line 19, in <cell line: 2>\n",
      "    games_df_list.append(parse_games_df(games_df))\n",
      "  File \"/var/folders/t6/srtzy2f51db8mxxv7g_63f6h0000gr/T/ipykernel_72356/3212580384.py\", line 18, in parse_games_df\n",
      "    games_df = games_df.astype({\n",
      "  File \"/Users/avliu/opt/anaconda3/envs/hugging-face/lib/python3.10/site-packages/pandas/core/generic.py\", line 5898, in astype\n",
      "    res_col = col.astype(dtype=cdt, copy=copy, errors=errors)\n",
      "  File \"/Users/avliu/opt/anaconda3/envs/hugging-face/lib/python3.10/site-packages/pandas/core/generic.py\", line 5912, in astype\n",
      "    new_data = self._mgr.astype(dtype=dtype, copy=copy, errors=errors)\n",
      "  File \"/Users/avliu/opt/anaconda3/envs/hugging-face/lib/python3.10/site-packages/pandas/core/internals/managers.py\", line 419, in astype\n",
      "    return self.apply(\"astype\", dtype=dtype, copy=copy, errors=errors)\n",
      "  File \"/Users/avliu/opt/anaconda3/envs/hugging-face/lib/python3.10/site-packages/pandas/core/internals/managers.py\", line 304, in apply\n",
      "    applied = getattr(b, f)(**kwargs)\n",
      "  File \"/Users/avliu/opt/anaconda3/envs/hugging-face/lib/python3.10/site-packages/pandas/core/internals/blocks.py\", line 580, in astype\n",
      "    new_values = astype_array_safe(values, dtype, copy=copy, errors=errors)\n",
      "  File \"/Users/avliu/opt/anaconda3/envs/hugging-face/lib/python3.10/site-packages/pandas/core/dtypes/cast.py\", line 1292, in astype_array_safe\n",
      "    new_values = astype_array(values, dtype, copy=copy)\n",
      "  File \"/Users/avliu/opt/anaconda3/envs/hugging-face/lib/python3.10/site-packages/pandas/core/dtypes/cast.py\", line 1237, in astype_array\n",
      "    values = astype_nansafe(values, dtype, copy=copy)\n",
      "  File \"/Users/avliu/opt/anaconda3/envs/hugging-face/lib/python3.10/site-packages/pandas/core/dtypes/cast.py\", line 1154, in astype_nansafe\n",
      "    return lib.astype_intsafe(arr, dtype)\n",
      "  File \"pandas/_libs/lib.pyx\", line 668, in pandas._libs.lib.astype_intsafe\n",
      "ValueError: invalid literal for int() with base 10: 'Rtg'\n"
     ]
    },
    {
     "name": "stdout",
     "output_type": "stream",
     "text": [
      "round: 1\n",
      "round: 2\n",
      "round: 3\n",
      "invalid literal for int() with base 10: ''\n",
      "tournament_id: 549694\n"
     ]
    },
    {
     "name": "stderr",
     "output_type": "stream",
     "text": [
      "Traceback (most recent call last):\n",
      "  File \"/var/folders/t6/srtzy2f51db8mxxv7g_63f6h0000gr/T/ipykernel_72356/422094622.py\", line 19, in <cell line: 2>\n",
      "    games_df_list.append(parse_games_df(games_df))\n",
      "  File \"/var/folders/t6/srtzy2f51db8mxxv7g_63f6h0000gr/T/ipykernel_72356/3212580384.py\", line 18, in parse_games_df\n",
      "    games_df = games_df.astype({\n",
      "  File \"/Users/avliu/opt/anaconda3/envs/hugging-face/lib/python3.10/site-packages/pandas/core/generic.py\", line 5898, in astype\n",
      "    res_col = col.astype(dtype=cdt, copy=copy, errors=errors)\n",
      "  File \"/Users/avliu/opt/anaconda3/envs/hugging-face/lib/python3.10/site-packages/pandas/core/generic.py\", line 5912, in astype\n",
      "    new_data = self._mgr.astype(dtype=dtype, copy=copy, errors=errors)\n",
      "  File \"/Users/avliu/opt/anaconda3/envs/hugging-face/lib/python3.10/site-packages/pandas/core/internals/managers.py\", line 419, in astype\n",
      "    return self.apply(\"astype\", dtype=dtype, copy=copy, errors=errors)\n",
      "  File \"/Users/avliu/opt/anaconda3/envs/hugging-face/lib/python3.10/site-packages/pandas/core/internals/managers.py\", line 304, in apply\n",
      "    applied = getattr(b, f)(**kwargs)\n",
      "  File \"/Users/avliu/opt/anaconda3/envs/hugging-face/lib/python3.10/site-packages/pandas/core/internals/blocks.py\", line 580, in astype\n",
      "    new_values = astype_array_safe(values, dtype, copy=copy, errors=errors)\n",
      "  File \"/Users/avliu/opt/anaconda3/envs/hugging-face/lib/python3.10/site-packages/pandas/core/dtypes/cast.py\", line 1292, in astype_array_safe\n",
      "    new_values = astype_array(values, dtype, copy=copy)\n",
      "  File \"/Users/avliu/opt/anaconda3/envs/hugging-face/lib/python3.10/site-packages/pandas/core/dtypes/cast.py\", line 1237, in astype_array\n",
      "    values = astype_nansafe(values, dtype, copy=copy)\n",
      "  File \"/Users/avliu/opt/anaconda3/envs/hugging-face/lib/python3.10/site-packages/pandas/core/dtypes/cast.py\", line 1154, in astype_nansafe\n",
      "    return lib.astype_intsafe(arr, dtype)\n",
      "  File \"pandas/_libs/lib.pyx\", line 668, in pandas._libs.lib.astype_intsafe\n",
      "ValueError: invalid literal for int() with base 10: ''\n"
     ]
    },
    {
     "name": "stdout",
     "output_type": "stream",
     "text": [
      "round: 1\n",
      "list index out of range\n",
      "tournament_id: 550179\n"
     ]
    },
    {
     "name": "stderr",
     "output_type": "stream",
     "text": [
      "Traceback (most recent call last):\n",
      "  File \"/var/folders/t6/srtzy2f51db8mxxv7g_63f6h0000gr/T/ipykernel_72356/422094622.py\", line 19, in <cell line: 2>\n",
      "    games_df_list.append(parse_games_df(games_df))\n",
      "  File \"/var/folders/t6/srtzy2f51db8mxxv7g_63f6h0000gr/T/ipykernel_72356/3212580384.py\", line 6, in parse_games_df\n",
      "    games_df.columns.values[name_idxs[0]] = \"left_name\"\n",
      "IndexError: list index out of range\n"
     ]
    },
    {
     "name": "stdout",
     "output_type": "stream",
     "text": [
      "round: 1\n",
      "list index out of range\n",
      "tournament_id: 550174\n"
     ]
    },
    {
     "name": "stderr",
     "output_type": "stream",
     "text": [
      "Traceback (most recent call last):\n",
      "  File \"/var/folders/t6/srtzy2f51db8mxxv7g_63f6h0000gr/T/ipykernel_72356/422094622.py\", line 19, in <cell line: 2>\n",
      "    games_df_list.append(parse_games_df(games_df))\n",
      "  File \"/var/folders/t6/srtzy2f51db8mxxv7g_63f6h0000gr/T/ipykernel_72356/3212580384.py\", line 6, in parse_games_df\n",
      "    games_df.columns.values[name_idxs[0]] = \"left_name\"\n",
      "IndexError: list index out of range\n"
     ]
    },
    {
     "name": "stdout",
     "output_type": "stream",
     "text": [
      "round: 1\n",
      "list index out of range\n",
      "tournament_id: 550173\n"
     ]
    },
    {
     "name": "stderr",
     "output_type": "stream",
     "text": [
      "Traceback (most recent call last):\n",
      "  File \"/var/folders/t6/srtzy2f51db8mxxv7g_63f6h0000gr/T/ipykernel_72356/422094622.py\", line 19, in <cell line: 2>\n",
      "    games_df_list.append(parse_games_df(games_df))\n",
      "  File \"/var/folders/t6/srtzy2f51db8mxxv7g_63f6h0000gr/T/ipykernel_72356/3212580384.py\", line 6, in parse_games_df\n",
      "    games_df.columns.values[name_idxs[0]] = \"left_name\"\n",
      "IndexError: list index out of range\n"
     ]
    },
    {
     "name": "stdout",
     "output_type": "stream",
     "text": [
      "round: 1\n",
      "list index out of range\n",
      "tournament_id: 550151\n"
     ]
    },
    {
     "name": "stderr",
     "output_type": "stream",
     "text": [
      "Traceback (most recent call last):\n",
      "  File \"/var/folders/t6/srtzy2f51db8mxxv7g_63f6h0000gr/T/ipykernel_72356/422094622.py\", line 19, in <cell line: 2>\n",
      "    games_df_list.append(parse_games_df(games_df))\n",
      "  File \"/var/folders/t6/srtzy2f51db8mxxv7g_63f6h0000gr/T/ipykernel_72356/3212580384.py\", line 6, in parse_games_df\n",
      "    games_df.columns.values[name_idxs[0]] = \"left_name\"\n",
      "IndexError: list index out of range\n"
     ]
    },
    {
     "name": "stdout",
     "output_type": "stream",
     "text": [
      "round: 1\n",
      "list index out of range\n",
      "tournament_id: 550150\n"
     ]
    },
    {
     "name": "stderr",
     "output_type": "stream",
     "text": [
      "Traceback (most recent call last):\n",
      "  File \"/var/folders/t6/srtzy2f51db8mxxv7g_63f6h0000gr/T/ipykernel_72356/422094622.py\", line 19, in <cell line: 2>\n",
      "    games_df_list.append(parse_games_df(games_df))\n",
      "  File \"/var/folders/t6/srtzy2f51db8mxxv7g_63f6h0000gr/T/ipykernel_72356/3212580384.py\", line 6, in parse_games_df\n",
      "    games_df.columns.values[name_idxs[0]] = \"left_name\"\n",
      "IndexError: list index out of range\n"
     ]
    },
    {
     "name": "stdout",
     "output_type": "stream",
     "text": [
      "round: 1\n",
      "list index out of range\n",
      "tournament_id: 550152\n"
     ]
    },
    {
     "name": "stderr",
     "output_type": "stream",
     "text": [
      "Traceback (most recent call last):\n",
      "  File \"/var/folders/t6/srtzy2f51db8mxxv7g_63f6h0000gr/T/ipykernel_72356/422094622.py\", line 19, in <cell line: 2>\n",
      "    games_df_list.append(parse_games_df(games_df))\n",
      "  File \"/var/folders/t6/srtzy2f51db8mxxv7g_63f6h0000gr/T/ipykernel_72356/3212580384.py\", line 6, in parse_games_df\n",
      "    games_df.columns.values[name_idxs[0]] = \"left_name\"\n",
      "IndexError: list index out of range\n"
     ]
    },
    {
     "name": "stdout",
     "output_type": "stream",
     "text": [
      "round: 1\n",
      "list index out of range\n",
      "tournament_id: 550149\n"
     ]
    },
    {
     "name": "stderr",
     "output_type": "stream",
     "text": [
      "Traceback (most recent call last):\n",
      "  File \"/var/folders/t6/srtzy2f51db8mxxv7g_63f6h0000gr/T/ipykernel_72356/422094622.py\", line 19, in <cell line: 2>\n",
      "    games_df_list.append(parse_games_df(games_df))\n",
      "  File \"/var/folders/t6/srtzy2f51db8mxxv7g_63f6h0000gr/T/ipykernel_72356/3212580384.py\", line 6, in parse_games_df\n",
      "    games_df.columns.values[name_idxs[0]] = \"left_name\"\n",
      "IndexError: list index out of range\n"
     ]
    },
    {
     "name": "stdout",
     "output_type": "stream",
     "text": [
      "round: 1\n",
      "list index out of range\n",
      "tournament_id: 550154\n"
     ]
    },
    {
     "name": "stderr",
     "output_type": "stream",
     "text": [
      "Traceback (most recent call last):\n",
      "  File \"/var/folders/t6/srtzy2f51db8mxxv7g_63f6h0000gr/T/ipykernel_72356/422094622.py\", line 19, in <cell line: 2>\n",
      "    games_df_list.append(parse_games_df(games_df))\n",
      "  File \"/var/folders/t6/srtzy2f51db8mxxv7g_63f6h0000gr/T/ipykernel_72356/3212580384.py\", line 6, in parse_games_df\n",
      "    games_df.columns.values[name_idxs[0]] = \"left_name\"\n",
      "IndexError: list index out of range\n"
     ]
    },
    {
     "name": "stdout",
     "output_type": "stream",
     "text": [
      "tournament_id: 549695\n",
      "round: 1\n",
      "list index out of range\n",
      "tournament_id: 549696\n"
     ]
    },
    {
     "name": "stderr",
     "output_type": "stream",
     "text": [
      "Traceback (most recent call last):\n",
      "  File \"/var/folders/t6/srtzy2f51db8mxxv7g_63f6h0000gr/T/ipykernel_72356/422094622.py\", line 19, in <cell line: 2>\n",
      "    games_df_list.append(parse_games_df(games_df))\n",
      "  File \"/var/folders/t6/srtzy2f51db8mxxv7g_63f6h0000gr/T/ipykernel_72356/3212580384.py\", line 6, in parse_games_df\n",
      "    games_df.columns.values[name_idxs[0]] = \"left_name\"\n",
      "IndexError: list index out of range\n"
     ]
    },
    {
     "name": "stdout",
     "output_type": "stream",
     "text": [
      "round: 1\n",
      "list index out of range\n",
      "tournament_id: 549693\n"
     ]
    },
    {
     "name": "stderr",
     "output_type": "stream",
     "text": [
      "Traceback (most recent call last):\n",
      "  File \"/var/folders/t6/srtzy2f51db8mxxv7g_63f6h0000gr/T/ipykernel_72356/422094622.py\", line 19, in <cell line: 2>\n",
      "    games_df_list.append(parse_games_df(games_df))\n",
      "  File \"/var/folders/t6/srtzy2f51db8mxxv7g_63f6h0000gr/T/ipykernel_72356/3212580384.py\", line 6, in parse_games_df\n",
      "    games_df.columns.values[name_idxs[0]] = \"left_name\"\n",
      "IndexError: list index out of range\n"
     ]
    },
    {
     "name": "stdout",
     "output_type": "stream",
     "text": [
      "round: 1\n",
      "list index out of range\n",
      "tournament_id: 549691\n"
     ]
    },
    {
     "name": "stderr",
     "output_type": "stream",
     "text": [
      "Traceback (most recent call last):\n",
      "  File \"/var/folders/t6/srtzy2f51db8mxxv7g_63f6h0000gr/T/ipykernel_72356/422094622.py\", line 19, in <cell line: 2>\n",
      "    games_df_list.append(parse_games_df(games_df))\n",
      "  File \"/var/folders/t6/srtzy2f51db8mxxv7g_63f6h0000gr/T/ipykernel_72356/3212580384.py\", line 6, in parse_games_df\n",
      "    games_df.columns.values[name_idxs[0]] = \"left_name\"\n",
      "IndexError: list index out of range\n"
     ]
    },
    {
     "name": "stdout",
     "output_type": "stream",
     "text": [
      "round: 1\n",
      "list index out of range\n",
      "tournament_id: 549689\n"
     ]
    },
    {
     "name": "stderr",
     "output_type": "stream",
     "text": [
      "Traceback (most recent call last):\n",
      "  File \"/var/folders/t6/srtzy2f51db8mxxv7g_63f6h0000gr/T/ipykernel_72356/422094622.py\", line 19, in <cell line: 2>\n",
      "    games_df_list.append(parse_games_df(games_df))\n",
      "  File \"/var/folders/t6/srtzy2f51db8mxxv7g_63f6h0000gr/T/ipykernel_72356/3212580384.py\", line 6, in parse_games_df\n",
      "    games_df.columns.values[name_idxs[0]] = \"left_name\"\n",
      "IndexError: list index out of range\n"
     ]
    },
    {
     "name": "stdout",
     "output_type": "stream",
     "text": [
      "round: 1\n",
      "list index out of range\n",
      "tournament_id: 549690\n"
     ]
    },
    {
     "name": "stderr",
     "output_type": "stream",
     "text": [
      "Traceback (most recent call last):\n",
      "  File \"/var/folders/t6/srtzy2f51db8mxxv7g_63f6h0000gr/T/ipykernel_72356/422094622.py\", line 19, in <cell line: 2>\n",
      "    games_df_list.append(parse_games_df(games_df))\n",
      "  File \"/var/folders/t6/srtzy2f51db8mxxv7g_63f6h0000gr/T/ipykernel_72356/3212580384.py\", line 6, in parse_games_df\n",
      "    games_df.columns.values[name_idxs[0]] = \"left_name\"\n",
      "IndexError: list index out of range\n"
     ]
    },
    {
     "name": "stdout",
     "output_type": "stream",
     "text": [
      "round: 1\n",
      "list index out of range\n",
      "tournament_id: 549692\n"
     ]
    },
    {
     "name": "stderr",
     "output_type": "stream",
     "text": [
      "Traceback (most recent call last):\n",
      "  File \"/var/folders/t6/srtzy2f51db8mxxv7g_63f6h0000gr/T/ipykernel_72356/422094622.py\", line 19, in <cell line: 2>\n",
      "    games_df_list.append(parse_games_df(games_df))\n",
      "  File \"/var/folders/t6/srtzy2f51db8mxxv7g_63f6h0000gr/T/ipykernel_72356/3212580384.py\", line 6, in parse_games_df\n",
      "    games_df.columns.values[name_idxs[0]] = \"left_name\"\n",
      "IndexError: list index out of range\n"
     ]
    },
    {
     "name": "stdout",
     "output_type": "stream",
     "text": [
      "round: 1\n",
      "list index out of range\n",
      "tournament_id: 542325\n"
     ]
    },
    {
     "name": "stderr",
     "output_type": "stream",
     "text": [
      "Traceback (most recent call last):\n",
      "  File \"/var/folders/t6/srtzy2f51db8mxxv7g_63f6h0000gr/T/ipykernel_72356/422094622.py\", line 19, in <cell line: 2>\n",
      "    games_df_list.append(parse_games_df(games_df))\n",
      "  File \"/var/folders/t6/srtzy2f51db8mxxv7g_63f6h0000gr/T/ipykernel_72356/3212580384.py\", line 6, in parse_games_df\n",
      "    games_df.columns.values[name_idxs[0]] = \"left_name\"\n",
      "IndexError: list index out of range\n"
     ]
    },
    {
     "name": "stdout",
     "output_type": "stream",
     "text": [
      "round: 1\n",
      "invalid literal for int() with base 10: 'Rtg'\n",
      "tournament_id: 540493\n"
     ]
    },
    {
     "name": "stderr",
     "output_type": "stream",
     "text": [
      "Traceback (most recent call last):\n",
      "  File \"/var/folders/t6/srtzy2f51db8mxxv7g_63f6h0000gr/T/ipykernel_72356/422094622.py\", line 19, in <cell line: 2>\n",
      "    games_df_list.append(parse_games_df(games_df))\n",
      "  File \"/var/folders/t6/srtzy2f51db8mxxv7g_63f6h0000gr/T/ipykernel_72356/3212580384.py\", line 18, in parse_games_df\n",
      "    games_df = games_df.astype({\n",
      "  File \"/Users/avliu/opt/anaconda3/envs/hugging-face/lib/python3.10/site-packages/pandas/core/generic.py\", line 5898, in astype\n",
      "    res_col = col.astype(dtype=cdt, copy=copy, errors=errors)\n",
      "  File \"/Users/avliu/opt/anaconda3/envs/hugging-face/lib/python3.10/site-packages/pandas/core/generic.py\", line 5912, in astype\n",
      "    new_data = self._mgr.astype(dtype=dtype, copy=copy, errors=errors)\n",
      "  File \"/Users/avliu/opt/anaconda3/envs/hugging-face/lib/python3.10/site-packages/pandas/core/internals/managers.py\", line 419, in astype\n",
      "    return self.apply(\"astype\", dtype=dtype, copy=copy, errors=errors)\n",
      "  File \"/Users/avliu/opt/anaconda3/envs/hugging-face/lib/python3.10/site-packages/pandas/core/internals/managers.py\", line 304, in apply\n",
      "    applied = getattr(b, f)(**kwargs)\n",
      "  File \"/Users/avliu/opt/anaconda3/envs/hugging-face/lib/python3.10/site-packages/pandas/core/internals/blocks.py\", line 580, in astype\n",
      "    new_values = astype_array_safe(values, dtype, copy=copy, errors=errors)\n",
      "  File \"/Users/avliu/opt/anaconda3/envs/hugging-face/lib/python3.10/site-packages/pandas/core/dtypes/cast.py\", line 1292, in astype_array_safe\n",
      "    new_values = astype_array(values, dtype, copy=copy)\n",
      "  File \"/Users/avliu/opt/anaconda3/envs/hugging-face/lib/python3.10/site-packages/pandas/core/dtypes/cast.py\", line 1237, in astype_array\n",
      "    values = astype_nansafe(values, dtype, copy=copy)\n",
      "  File \"/Users/avliu/opt/anaconda3/envs/hugging-face/lib/python3.10/site-packages/pandas/core/dtypes/cast.py\", line 1154, in astype_nansafe\n",
      "    return lib.astype_intsafe(arr, dtype)\n",
      "  File \"pandas/_libs/lib.pyx\", line 668, in pandas._libs.lib.astype_intsafe\n",
      "ValueError: invalid literal for int() with base 10: 'Rtg'\n"
     ]
    },
    {
     "name": "stdout",
     "output_type": "stream",
     "text": [
      "round: 1\n",
      "round: 2\n",
      "round: 3\n",
      "round: 4\n",
      "round: 5\n",
      "round: 6\n",
      "tournament_id: 540491\n",
      "round: 1\n",
      "round: 2\n",
      "round: 3\n",
      "round: 4\n",
      "round: 5\n",
      "round: 6\n",
      "tournament_id: 540490\n",
      "round: 1\n",
      "round: 2\n",
      "round: 3\n",
      "round: 4\n",
      "round: 5\n",
      "round: 6\n",
      "tournament_id: 540489\n",
      "round: 1\n",
      "round: 2\n",
      "round: 3\n",
      "round: 4\n",
      "round: 5\n",
      "round: 6\n",
      "tournament_id: 540488\n",
      "round: 1\n",
      "round: 2\n",
      "round: 3\n",
      "round: 4\n",
      "round: 5\n",
      "round: 6\n",
      "tournament_id: 540486\n",
      "round: 1\n",
      "round: 2\n",
      "round: 3\n",
      "round: 4\n",
      "round: 5\n",
      "round: 6\n",
      "tournament_id: 540483\n",
      "round: 1\n",
      "round: 2\n",
      "round: 3\n",
      "round: 4\n",
      "round: 5\n",
      "round: 6\n",
      "tournament_id: 540484\n",
      "round: 1\n",
      "cannot convert float NaN to integer\n",
      "tournament_id: 539705\n"
     ]
    },
    {
     "name": "stderr",
     "output_type": "stream",
     "text": [
      "Traceback (most recent call last):\n",
      "  File \"/var/folders/t6/srtzy2f51db8mxxv7g_63f6h0000gr/T/ipykernel_72356/422094622.py\", line 19, in <cell line: 2>\n",
      "    games_df_list.append(parse_games_df(games_df))\n",
      "  File \"/var/folders/t6/srtzy2f51db8mxxv7g_63f6h0000gr/T/ipykernel_72356/3212580384.py\", line 18, in parse_games_df\n",
      "    games_df = games_df.astype({\n",
      "  File \"/Users/avliu/opt/anaconda3/envs/hugging-face/lib/python3.10/site-packages/pandas/core/generic.py\", line 5898, in astype\n",
      "    res_col = col.astype(dtype=cdt, copy=copy, errors=errors)\n",
      "  File \"/Users/avliu/opt/anaconda3/envs/hugging-face/lib/python3.10/site-packages/pandas/core/generic.py\", line 5912, in astype\n",
      "    new_data = self._mgr.astype(dtype=dtype, copy=copy, errors=errors)\n",
      "  File \"/Users/avliu/opt/anaconda3/envs/hugging-face/lib/python3.10/site-packages/pandas/core/internals/managers.py\", line 419, in astype\n",
      "    return self.apply(\"astype\", dtype=dtype, copy=copy, errors=errors)\n",
      "  File \"/Users/avliu/opt/anaconda3/envs/hugging-face/lib/python3.10/site-packages/pandas/core/internals/managers.py\", line 304, in apply\n",
      "    applied = getattr(b, f)(**kwargs)\n",
      "  File \"/Users/avliu/opt/anaconda3/envs/hugging-face/lib/python3.10/site-packages/pandas/core/internals/blocks.py\", line 580, in astype\n",
      "    new_values = astype_array_safe(values, dtype, copy=copy, errors=errors)\n",
      "  File \"/Users/avliu/opt/anaconda3/envs/hugging-face/lib/python3.10/site-packages/pandas/core/dtypes/cast.py\", line 1292, in astype_array_safe\n",
      "    new_values = astype_array(values, dtype, copy=copy)\n",
      "  File \"/Users/avliu/opt/anaconda3/envs/hugging-face/lib/python3.10/site-packages/pandas/core/dtypes/cast.py\", line 1237, in astype_array\n",
      "    values = astype_nansafe(values, dtype, copy=copy)\n",
      "  File \"/Users/avliu/opt/anaconda3/envs/hugging-face/lib/python3.10/site-packages/pandas/core/dtypes/cast.py\", line 1154, in astype_nansafe\n",
      "    return lib.astype_intsafe(arr, dtype)\n",
      "  File \"pandas/_libs/lib.pyx\", line 668, in pandas._libs.lib.astype_intsafe\n",
      "ValueError: cannot convert float NaN to integer\n"
     ]
    },
    {
     "name": "stdout",
     "output_type": "stream",
     "text": [
      "round: 1\n",
      "invalid literal for int() with base 10: 'Rtg'\n",
      "tournament_id: 539682\n"
     ]
    },
    {
     "name": "stderr",
     "output_type": "stream",
     "text": [
      "Traceback (most recent call last):\n",
      "  File \"/var/folders/t6/srtzy2f51db8mxxv7g_63f6h0000gr/T/ipykernel_72356/422094622.py\", line 19, in <cell line: 2>\n",
      "    games_df_list.append(parse_games_df(games_df))\n",
      "  File \"/var/folders/t6/srtzy2f51db8mxxv7g_63f6h0000gr/T/ipykernel_72356/3212580384.py\", line 18, in parse_games_df\n",
      "    games_df = games_df.astype({\n",
      "  File \"/Users/avliu/opt/anaconda3/envs/hugging-face/lib/python3.10/site-packages/pandas/core/generic.py\", line 5898, in astype\n",
      "    res_col = col.astype(dtype=cdt, copy=copy, errors=errors)\n",
      "  File \"/Users/avliu/opt/anaconda3/envs/hugging-face/lib/python3.10/site-packages/pandas/core/generic.py\", line 5912, in astype\n",
      "    new_data = self._mgr.astype(dtype=dtype, copy=copy, errors=errors)\n",
      "  File \"/Users/avliu/opt/anaconda3/envs/hugging-face/lib/python3.10/site-packages/pandas/core/internals/managers.py\", line 419, in astype\n",
      "    return self.apply(\"astype\", dtype=dtype, copy=copy, errors=errors)\n",
      "  File \"/Users/avliu/opt/anaconda3/envs/hugging-face/lib/python3.10/site-packages/pandas/core/internals/managers.py\", line 304, in apply\n",
      "    applied = getattr(b, f)(**kwargs)\n",
      "  File \"/Users/avliu/opt/anaconda3/envs/hugging-face/lib/python3.10/site-packages/pandas/core/internals/blocks.py\", line 580, in astype\n",
      "    new_values = astype_array_safe(values, dtype, copy=copy, errors=errors)\n",
      "  File \"/Users/avliu/opt/anaconda3/envs/hugging-face/lib/python3.10/site-packages/pandas/core/dtypes/cast.py\", line 1292, in astype_array_safe\n",
      "    new_values = astype_array(values, dtype, copy=copy)\n",
      "  File \"/Users/avliu/opt/anaconda3/envs/hugging-face/lib/python3.10/site-packages/pandas/core/dtypes/cast.py\", line 1237, in astype_array\n",
      "    values = astype_nansafe(values, dtype, copy=copy)\n",
      "  File \"/Users/avliu/opt/anaconda3/envs/hugging-face/lib/python3.10/site-packages/pandas/core/dtypes/cast.py\", line 1154, in astype_nansafe\n",
      "    return lib.astype_intsafe(arr, dtype)\n",
      "  File \"pandas/_libs/lib.pyx\", line 668, in pandas._libs.lib.astype_intsafe\n",
      "ValueError: invalid literal for int() with base 10: 'Rtg'\n"
     ]
    },
    {
     "name": "stdout",
     "output_type": "stream",
     "text": [
      "round: 1\n",
      "invalid literal for int() with base 10: 'Rtg'\n",
      "tournament_id: 539683\n"
     ]
    },
    {
     "name": "stderr",
     "output_type": "stream",
     "text": [
      "Traceback (most recent call last):\n",
      "  File \"/var/folders/t6/srtzy2f51db8mxxv7g_63f6h0000gr/T/ipykernel_72356/422094622.py\", line 19, in <cell line: 2>\n",
      "    games_df_list.append(parse_games_df(games_df))\n",
      "  File \"/var/folders/t6/srtzy2f51db8mxxv7g_63f6h0000gr/T/ipykernel_72356/3212580384.py\", line 18, in parse_games_df\n",
      "    games_df = games_df.astype({\n",
      "  File \"/Users/avliu/opt/anaconda3/envs/hugging-face/lib/python3.10/site-packages/pandas/core/generic.py\", line 5898, in astype\n",
      "    res_col = col.astype(dtype=cdt, copy=copy, errors=errors)\n",
      "  File \"/Users/avliu/opt/anaconda3/envs/hugging-face/lib/python3.10/site-packages/pandas/core/generic.py\", line 5912, in astype\n",
      "    new_data = self._mgr.astype(dtype=dtype, copy=copy, errors=errors)\n",
      "  File \"/Users/avliu/opt/anaconda3/envs/hugging-face/lib/python3.10/site-packages/pandas/core/internals/managers.py\", line 419, in astype\n",
      "    return self.apply(\"astype\", dtype=dtype, copy=copy, errors=errors)\n",
      "  File \"/Users/avliu/opt/anaconda3/envs/hugging-face/lib/python3.10/site-packages/pandas/core/internals/managers.py\", line 304, in apply\n",
      "    applied = getattr(b, f)(**kwargs)\n",
      "  File \"/Users/avliu/opt/anaconda3/envs/hugging-face/lib/python3.10/site-packages/pandas/core/internals/blocks.py\", line 580, in astype\n",
      "    new_values = astype_array_safe(values, dtype, copy=copy, errors=errors)\n",
      "  File \"/Users/avliu/opt/anaconda3/envs/hugging-face/lib/python3.10/site-packages/pandas/core/dtypes/cast.py\", line 1292, in astype_array_safe\n",
      "    new_values = astype_array(values, dtype, copy=copy)\n",
      "  File \"/Users/avliu/opt/anaconda3/envs/hugging-face/lib/python3.10/site-packages/pandas/core/dtypes/cast.py\", line 1237, in astype_array\n",
      "    values = astype_nansafe(values, dtype, copy=copy)\n",
      "  File \"/Users/avliu/opt/anaconda3/envs/hugging-face/lib/python3.10/site-packages/pandas/core/dtypes/cast.py\", line 1154, in astype_nansafe\n",
      "    return lib.astype_intsafe(arr, dtype)\n",
      "  File \"pandas/_libs/lib.pyx\", line 668, in pandas._libs.lib.astype_intsafe\n",
      "ValueError: invalid literal for int() with base 10: 'Rtg'\n"
     ]
    },
    {
     "name": "stdout",
     "output_type": "stream",
     "text": [
      "round: 1\n",
      "invalid literal for int() with base 10: 'Rtg'\n",
      "tournament_id: 539708\n"
     ]
    },
    {
     "name": "stderr",
     "output_type": "stream",
     "text": [
      "Traceback (most recent call last):\n",
      "  File \"/var/folders/t6/srtzy2f51db8mxxv7g_63f6h0000gr/T/ipykernel_72356/422094622.py\", line 19, in <cell line: 2>\n",
      "    games_df_list.append(parse_games_df(games_df))\n",
      "  File \"/var/folders/t6/srtzy2f51db8mxxv7g_63f6h0000gr/T/ipykernel_72356/3212580384.py\", line 18, in parse_games_df\n",
      "    games_df = games_df.astype({\n",
      "  File \"/Users/avliu/opt/anaconda3/envs/hugging-face/lib/python3.10/site-packages/pandas/core/generic.py\", line 5898, in astype\n",
      "    res_col = col.astype(dtype=cdt, copy=copy, errors=errors)\n",
      "  File \"/Users/avliu/opt/anaconda3/envs/hugging-face/lib/python3.10/site-packages/pandas/core/generic.py\", line 5912, in astype\n",
      "    new_data = self._mgr.astype(dtype=dtype, copy=copy, errors=errors)\n",
      "  File \"/Users/avliu/opt/anaconda3/envs/hugging-face/lib/python3.10/site-packages/pandas/core/internals/managers.py\", line 419, in astype\n",
      "    return self.apply(\"astype\", dtype=dtype, copy=copy, errors=errors)\n",
      "  File \"/Users/avliu/opt/anaconda3/envs/hugging-face/lib/python3.10/site-packages/pandas/core/internals/managers.py\", line 304, in apply\n",
      "    applied = getattr(b, f)(**kwargs)\n",
      "  File \"/Users/avliu/opt/anaconda3/envs/hugging-face/lib/python3.10/site-packages/pandas/core/internals/blocks.py\", line 580, in astype\n",
      "    new_values = astype_array_safe(values, dtype, copy=copy, errors=errors)\n",
      "  File \"/Users/avliu/opt/anaconda3/envs/hugging-face/lib/python3.10/site-packages/pandas/core/dtypes/cast.py\", line 1292, in astype_array_safe\n",
      "    new_values = astype_array(values, dtype, copy=copy)\n",
      "  File \"/Users/avliu/opt/anaconda3/envs/hugging-face/lib/python3.10/site-packages/pandas/core/dtypes/cast.py\", line 1237, in astype_array\n",
      "    values = astype_nansafe(values, dtype, copy=copy)\n",
      "  File \"/Users/avliu/opt/anaconda3/envs/hugging-face/lib/python3.10/site-packages/pandas/core/dtypes/cast.py\", line 1154, in astype_nansafe\n",
      "    return lib.astype_intsafe(arr, dtype)\n",
      "  File \"pandas/_libs/lib.pyx\", line 668, in pandas._libs.lib.astype_intsafe\n",
      "ValueError: invalid literal for int() with base 10: 'Rtg'\n"
     ]
    },
    {
     "name": "stdout",
     "output_type": "stream",
     "text": [
      "round: 1\n",
      "invalid literal for int() with base 10: 'Rtg'\n",
      "tournament_id: 539193\n"
     ]
    },
    {
     "name": "stderr",
     "output_type": "stream",
     "text": [
      "Traceback (most recent call last):\n",
      "  File \"/var/folders/t6/srtzy2f51db8mxxv7g_63f6h0000gr/T/ipykernel_72356/422094622.py\", line 19, in <cell line: 2>\n",
      "    games_df_list.append(parse_games_df(games_df))\n",
      "  File \"/var/folders/t6/srtzy2f51db8mxxv7g_63f6h0000gr/T/ipykernel_72356/3212580384.py\", line 18, in parse_games_df\n",
      "    games_df = games_df.astype({\n",
      "  File \"/Users/avliu/opt/anaconda3/envs/hugging-face/lib/python3.10/site-packages/pandas/core/generic.py\", line 5898, in astype\n",
      "    res_col = col.astype(dtype=cdt, copy=copy, errors=errors)\n",
      "  File \"/Users/avliu/opt/anaconda3/envs/hugging-face/lib/python3.10/site-packages/pandas/core/generic.py\", line 5912, in astype\n",
      "    new_data = self._mgr.astype(dtype=dtype, copy=copy, errors=errors)\n",
      "  File \"/Users/avliu/opt/anaconda3/envs/hugging-face/lib/python3.10/site-packages/pandas/core/internals/managers.py\", line 419, in astype\n",
      "    return self.apply(\"astype\", dtype=dtype, copy=copy, errors=errors)\n",
      "  File \"/Users/avliu/opt/anaconda3/envs/hugging-face/lib/python3.10/site-packages/pandas/core/internals/managers.py\", line 304, in apply\n",
      "    applied = getattr(b, f)(**kwargs)\n",
      "  File \"/Users/avliu/opt/anaconda3/envs/hugging-face/lib/python3.10/site-packages/pandas/core/internals/blocks.py\", line 580, in astype\n",
      "    new_values = astype_array_safe(values, dtype, copy=copy, errors=errors)\n",
      "  File \"/Users/avliu/opt/anaconda3/envs/hugging-face/lib/python3.10/site-packages/pandas/core/dtypes/cast.py\", line 1292, in astype_array_safe\n",
      "    new_values = astype_array(values, dtype, copy=copy)\n",
      "  File \"/Users/avliu/opt/anaconda3/envs/hugging-face/lib/python3.10/site-packages/pandas/core/dtypes/cast.py\", line 1237, in astype_array\n",
      "    values = astype_nansafe(values, dtype, copy=copy)\n",
      "  File \"/Users/avliu/opt/anaconda3/envs/hugging-face/lib/python3.10/site-packages/pandas/core/dtypes/cast.py\", line 1154, in astype_nansafe\n",
      "    return lib.astype_intsafe(arr, dtype)\n",
      "  File \"pandas/_libs/lib.pyx\", line 668, in pandas._libs.lib.astype_intsafe\n",
      "ValueError: invalid literal for int() with base 10: 'Rtg'\n"
     ]
    },
    {
     "name": "stdout",
     "output_type": "stream",
     "text": [
      "round: 1\n",
      "list index out of range\n",
      "tournament_id: 539194\n"
     ]
    },
    {
     "name": "stderr",
     "output_type": "stream",
     "text": [
      "Traceback (most recent call last):\n",
      "  File \"/var/folders/t6/srtzy2f51db8mxxv7g_63f6h0000gr/T/ipykernel_72356/422094622.py\", line 19, in <cell line: 2>\n",
      "    games_df_list.append(parse_games_df(games_df))\n",
      "  File \"/var/folders/t6/srtzy2f51db8mxxv7g_63f6h0000gr/T/ipykernel_72356/3212580384.py\", line 6, in parse_games_df\n",
      "    games_df.columns.values[name_idxs[0]] = \"left_name\"\n",
      "IndexError: list index out of range\n"
     ]
    },
    {
     "name": "stdout",
     "output_type": "stream",
     "text": [
      "round: 1\n",
      "list index out of range\n",
      "tournament_id: 539192\n"
     ]
    },
    {
     "name": "stderr",
     "output_type": "stream",
     "text": [
      "Traceback (most recent call last):\n",
      "  File \"/var/folders/t6/srtzy2f51db8mxxv7g_63f6h0000gr/T/ipykernel_72356/422094622.py\", line 19, in <cell line: 2>\n",
      "    games_df_list.append(parse_games_df(games_df))\n",
      "  File \"/var/folders/t6/srtzy2f51db8mxxv7g_63f6h0000gr/T/ipykernel_72356/3212580384.py\", line 6, in parse_games_df\n",
      "    games_df.columns.values[name_idxs[0]] = \"left_name\"\n",
      "IndexError: list index out of range\n"
     ]
    },
    {
     "name": "stdout",
     "output_type": "stream",
     "text": [
      "round: 1\n",
      "list index out of range\n",
      "tournament_id: 539191\n"
     ]
    },
    {
     "name": "stderr",
     "output_type": "stream",
     "text": [
      "Traceback (most recent call last):\n",
      "  File \"/var/folders/t6/srtzy2f51db8mxxv7g_63f6h0000gr/T/ipykernel_72356/422094622.py\", line 19, in <cell line: 2>\n",
      "    games_df_list.append(parse_games_df(games_df))\n",
      "  File \"/var/folders/t6/srtzy2f51db8mxxv7g_63f6h0000gr/T/ipykernel_72356/3212580384.py\", line 6, in parse_games_df\n",
      "    games_df.columns.values[name_idxs[0]] = \"left_name\"\n",
      "IndexError: list index out of range\n"
     ]
    },
    {
     "name": "stdout",
     "output_type": "stream",
     "text": [
      "round: 1\n",
      "list index out of range\n",
      "tournament_id: 539190\n"
     ]
    },
    {
     "name": "stderr",
     "output_type": "stream",
     "text": [
      "Traceback (most recent call last):\n",
      "  File \"/var/folders/t6/srtzy2f51db8mxxv7g_63f6h0000gr/T/ipykernel_72356/422094622.py\", line 19, in <cell line: 2>\n",
      "    games_df_list.append(parse_games_df(games_df))\n",
      "  File \"/var/folders/t6/srtzy2f51db8mxxv7g_63f6h0000gr/T/ipykernel_72356/3212580384.py\", line 6, in parse_games_df\n",
      "    games_df.columns.values[name_idxs[0]] = \"left_name\"\n",
      "IndexError: list index out of range\n"
     ]
    },
    {
     "name": "stdout",
     "output_type": "stream",
     "text": [
      "round: 1\n",
      "list index out of range\n",
      "tournament_id: 539189\n"
     ]
    },
    {
     "name": "stderr",
     "output_type": "stream",
     "text": [
      "Traceback (most recent call last):\n",
      "  File \"/var/folders/t6/srtzy2f51db8mxxv7g_63f6h0000gr/T/ipykernel_72356/422094622.py\", line 19, in <cell line: 2>\n",
      "    games_df_list.append(parse_games_df(games_df))\n",
      "  File \"/var/folders/t6/srtzy2f51db8mxxv7g_63f6h0000gr/T/ipykernel_72356/3212580384.py\", line 6, in parse_games_df\n",
      "    games_df.columns.values[name_idxs[0]] = \"left_name\"\n",
      "IndexError: list index out of range\n"
     ]
    },
    {
     "name": "stdout",
     "output_type": "stream",
     "text": [
      "round: 1\n",
      "list index out of range\n",
      "tournament_id: 539188\n"
     ]
    },
    {
     "name": "stderr",
     "output_type": "stream",
     "text": [
      "Traceback (most recent call last):\n",
      "  File \"/var/folders/t6/srtzy2f51db8mxxv7g_63f6h0000gr/T/ipykernel_72356/422094622.py\", line 19, in <cell line: 2>\n",
      "    games_df_list.append(parse_games_df(games_df))\n",
      "  File \"/var/folders/t6/srtzy2f51db8mxxv7g_63f6h0000gr/T/ipykernel_72356/3212580384.py\", line 6, in parse_games_df\n",
      "    games_df.columns.values[name_idxs[0]] = \"left_name\"\n",
      "IndexError: list index out of range\n"
     ]
    },
    {
     "name": "stdout",
     "output_type": "stream",
     "text": [
      "round: 1\n",
      "list index out of range\n",
      "tournament_id: 539187\n"
     ]
    },
    {
     "name": "stderr",
     "output_type": "stream",
     "text": [
      "Traceback (most recent call last):\n",
      "  File \"/var/folders/t6/srtzy2f51db8mxxv7g_63f6h0000gr/T/ipykernel_72356/422094622.py\", line 19, in <cell line: 2>\n",
      "    games_df_list.append(parse_games_df(games_df))\n",
      "  File \"/var/folders/t6/srtzy2f51db8mxxv7g_63f6h0000gr/T/ipykernel_72356/3212580384.py\", line 6, in parse_games_df\n",
      "    games_df.columns.values[name_idxs[0]] = \"left_name\"\n",
      "IndexError: list index out of range\n"
     ]
    },
    {
     "name": "stdout",
     "output_type": "stream",
     "text": [
      "round: 1\n",
      "list index out of range\n",
      "tournament_id: 539185\n"
     ]
    },
    {
     "name": "stderr",
     "output_type": "stream",
     "text": [
      "Traceback (most recent call last):\n",
      "  File \"/var/folders/t6/srtzy2f51db8mxxv7g_63f6h0000gr/T/ipykernel_72356/422094622.py\", line 19, in <cell line: 2>\n",
      "    games_df_list.append(parse_games_df(games_df))\n",
      "  File \"/var/folders/t6/srtzy2f51db8mxxv7g_63f6h0000gr/T/ipykernel_72356/3212580384.py\", line 6, in parse_games_df\n",
      "    games_df.columns.values[name_idxs[0]] = \"left_name\"\n",
      "IndexError: list index out of range\n"
     ]
    },
    {
     "name": "stdout",
     "output_type": "stream",
     "text": [
      "round: 1\n",
      "list index out of range\n",
      "tournament_id: 539186\n"
     ]
    },
    {
     "name": "stderr",
     "output_type": "stream",
     "text": [
      "Traceback (most recent call last):\n",
      "  File \"/var/folders/t6/srtzy2f51db8mxxv7g_63f6h0000gr/T/ipykernel_72356/422094622.py\", line 19, in <cell line: 2>\n",
      "    games_df_list.append(parse_games_df(games_df))\n",
      "  File \"/var/folders/t6/srtzy2f51db8mxxv7g_63f6h0000gr/T/ipykernel_72356/3212580384.py\", line 6, in parse_games_df\n",
      "    games_df.columns.values[name_idxs[0]] = \"left_name\"\n",
      "IndexError: list index out of range\n"
     ]
    },
    {
     "name": "stdout",
     "output_type": "stream",
     "text": [
      "round: 1\n",
      "list index out of range\n",
      "tournament_id: 539184\n"
     ]
    },
    {
     "name": "stderr",
     "output_type": "stream",
     "text": [
      "Traceback (most recent call last):\n",
      "  File \"/var/folders/t6/srtzy2f51db8mxxv7g_63f6h0000gr/T/ipykernel_72356/422094622.py\", line 19, in <cell line: 2>\n",
      "    games_df_list.append(parse_games_df(games_df))\n",
      "  File \"/var/folders/t6/srtzy2f51db8mxxv7g_63f6h0000gr/T/ipykernel_72356/3212580384.py\", line 6, in parse_games_df\n",
      "    games_df.columns.values[name_idxs[0]] = \"left_name\"\n",
      "IndexError: list index out of range\n"
     ]
    },
    {
     "name": "stdout",
     "output_type": "stream",
     "text": [
      "round: 1\n",
      "list index out of range\n",
      "tournament_id: 539183\n"
     ]
    },
    {
     "name": "stderr",
     "output_type": "stream",
     "text": [
      "Traceback (most recent call last):\n",
      "  File \"/var/folders/t6/srtzy2f51db8mxxv7g_63f6h0000gr/T/ipykernel_72356/422094622.py\", line 19, in <cell line: 2>\n",
      "    games_df_list.append(parse_games_df(games_df))\n",
      "  File \"/var/folders/t6/srtzy2f51db8mxxv7g_63f6h0000gr/T/ipykernel_72356/3212580384.py\", line 6, in parse_games_df\n",
      "    games_df.columns.values[name_idxs[0]] = \"left_name\"\n",
      "IndexError: list index out of range\n"
     ]
    },
    {
     "name": "stdout",
     "output_type": "stream",
     "text": [
      "round: 1\n",
      "list index out of range\n",
      "tournament_id: 539182\n"
     ]
    },
    {
     "name": "stderr",
     "output_type": "stream",
     "text": [
      "Traceback (most recent call last):\n",
      "  File \"/var/folders/t6/srtzy2f51db8mxxv7g_63f6h0000gr/T/ipykernel_72356/422094622.py\", line 19, in <cell line: 2>\n",
      "    games_df_list.append(parse_games_df(games_df))\n",
      "  File \"/var/folders/t6/srtzy2f51db8mxxv7g_63f6h0000gr/T/ipykernel_72356/3212580384.py\", line 6, in parse_games_df\n",
      "    games_df.columns.values[name_idxs[0]] = \"left_name\"\n",
      "IndexError: list index out of range\n"
     ]
    },
    {
     "name": "stdout",
     "output_type": "stream",
     "text": [
      "round: 1\n",
      "list index out of range\n",
      "tournament_id: 539181\n"
     ]
    },
    {
     "name": "stderr",
     "output_type": "stream",
     "text": [
      "Traceback (most recent call last):\n",
      "  File \"/var/folders/t6/srtzy2f51db8mxxv7g_63f6h0000gr/T/ipykernel_72356/422094622.py\", line 19, in <cell line: 2>\n",
      "    games_df_list.append(parse_games_df(games_df))\n",
      "  File \"/var/folders/t6/srtzy2f51db8mxxv7g_63f6h0000gr/T/ipykernel_72356/3212580384.py\", line 6, in parse_games_df\n",
      "    games_df.columns.values[name_idxs[0]] = \"left_name\"\n",
      "IndexError: list index out of range\n"
     ]
    },
    {
     "name": "stdout",
     "output_type": "stream",
     "text": [
      "round: 1\n",
      "list index out of range\n",
      "tournament_id: 539180\n"
     ]
    },
    {
     "name": "stderr",
     "output_type": "stream",
     "text": [
      "Traceback (most recent call last):\n",
      "  File \"/var/folders/t6/srtzy2f51db8mxxv7g_63f6h0000gr/T/ipykernel_72356/422094622.py\", line 19, in <cell line: 2>\n",
      "    games_df_list.append(parse_games_df(games_df))\n",
      "  File \"/var/folders/t6/srtzy2f51db8mxxv7g_63f6h0000gr/T/ipykernel_72356/3212580384.py\", line 6, in parse_games_df\n",
      "    games_df.columns.values[name_idxs[0]] = \"left_name\"\n",
      "IndexError: list index out of range\n"
     ]
    },
    {
     "name": "stdout",
     "output_type": "stream",
     "text": [
      "round: 1\n",
      "list index out of range\n",
      "tournament_id: 539179\n"
     ]
    },
    {
     "name": "stderr",
     "output_type": "stream",
     "text": [
      "Traceback (most recent call last):\n",
      "  File \"/var/folders/t6/srtzy2f51db8mxxv7g_63f6h0000gr/T/ipykernel_72356/422094622.py\", line 19, in <cell line: 2>\n",
      "    games_df_list.append(parse_games_df(games_df))\n",
      "  File \"/var/folders/t6/srtzy2f51db8mxxv7g_63f6h0000gr/T/ipykernel_72356/3212580384.py\", line 6, in parse_games_df\n",
      "    games_df.columns.values[name_idxs[0]] = \"left_name\"\n",
      "IndexError: list index out of range\n"
     ]
    },
    {
     "name": "stdout",
     "output_type": "stream",
     "text": [
      "round: 1\n",
      "list index out of range\n",
      "tournament_id: 538140\n"
     ]
    },
    {
     "name": "stderr",
     "output_type": "stream",
     "text": [
      "Traceback (most recent call last):\n",
      "  File \"/var/folders/t6/srtzy2f51db8mxxv7g_63f6h0000gr/T/ipykernel_72356/422094622.py\", line 19, in <cell line: 2>\n",
      "    games_df_list.append(parse_games_df(games_df))\n",
      "  File \"/var/folders/t6/srtzy2f51db8mxxv7g_63f6h0000gr/T/ipykernel_72356/3212580384.py\", line 6, in parse_games_df\n",
      "    games_df.columns.values[name_idxs[0]] = \"left_name\"\n",
      "IndexError: list index out of range\n"
     ]
    },
    {
     "name": "stdout",
     "output_type": "stream",
     "text": [
      "round: 1\n",
      "list index out of range\n",
      "tournament_id: 530107\n"
     ]
    },
    {
     "name": "stderr",
     "output_type": "stream",
     "text": [
      "Traceback (most recent call last):\n",
      "  File \"/var/folders/t6/srtzy2f51db8mxxv7g_63f6h0000gr/T/ipykernel_72356/422094622.py\", line 19, in <cell line: 2>\n",
      "    games_df_list.append(parse_games_df(games_df))\n",
      "  File \"/var/folders/t6/srtzy2f51db8mxxv7g_63f6h0000gr/T/ipykernel_72356/3212580384.py\", line 6, in parse_games_df\n",
      "    games_df.columns.values[name_idxs[0]] = \"left_name\"\n",
      "IndexError: list index out of range\n"
     ]
    },
    {
     "name": "stdout",
     "output_type": "stream",
     "text": [
      "round: 1\n",
      "invalid literal for int() with base 10: 'Rtg'\n",
      "tournament_id: 527178\n"
     ]
    },
    {
     "name": "stderr",
     "output_type": "stream",
     "text": [
      "Traceback (most recent call last):\n",
      "  File \"/var/folders/t6/srtzy2f51db8mxxv7g_63f6h0000gr/T/ipykernel_72356/422094622.py\", line 19, in <cell line: 2>\n",
      "    games_df_list.append(parse_games_df(games_df))\n",
      "  File \"/var/folders/t6/srtzy2f51db8mxxv7g_63f6h0000gr/T/ipykernel_72356/3212580384.py\", line 18, in parse_games_df\n",
      "    games_df = games_df.astype({\n",
      "  File \"/Users/avliu/opt/anaconda3/envs/hugging-face/lib/python3.10/site-packages/pandas/core/generic.py\", line 5898, in astype\n",
      "    res_col = col.astype(dtype=cdt, copy=copy, errors=errors)\n",
      "  File \"/Users/avliu/opt/anaconda3/envs/hugging-face/lib/python3.10/site-packages/pandas/core/generic.py\", line 5912, in astype\n",
      "    new_data = self._mgr.astype(dtype=dtype, copy=copy, errors=errors)\n",
      "  File \"/Users/avliu/opt/anaconda3/envs/hugging-face/lib/python3.10/site-packages/pandas/core/internals/managers.py\", line 419, in astype\n",
      "    return self.apply(\"astype\", dtype=dtype, copy=copy, errors=errors)\n",
      "  File \"/Users/avliu/opt/anaconda3/envs/hugging-face/lib/python3.10/site-packages/pandas/core/internals/managers.py\", line 304, in apply\n",
      "    applied = getattr(b, f)(**kwargs)\n",
      "  File \"/Users/avliu/opt/anaconda3/envs/hugging-face/lib/python3.10/site-packages/pandas/core/internals/blocks.py\", line 580, in astype\n",
      "    new_values = astype_array_safe(values, dtype, copy=copy, errors=errors)\n",
      "  File \"/Users/avliu/opt/anaconda3/envs/hugging-face/lib/python3.10/site-packages/pandas/core/dtypes/cast.py\", line 1292, in astype_array_safe\n",
      "    new_values = astype_array(values, dtype, copy=copy)\n",
      "  File \"/Users/avliu/opt/anaconda3/envs/hugging-face/lib/python3.10/site-packages/pandas/core/dtypes/cast.py\", line 1237, in astype_array\n",
      "    values = astype_nansafe(values, dtype, copy=copy)\n",
      "  File \"/Users/avliu/opt/anaconda3/envs/hugging-face/lib/python3.10/site-packages/pandas/core/dtypes/cast.py\", line 1154, in astype_nansafe\n",
      "    return lib.astype_intsafe(arr, dtype)\n",
      "  File \"pandas/_libs/lib.pyx\", line 668, in pandas._libs.lib.astype_intsafe\n",
      "ValueError: invalid literal for int() with base 10: 'Rtg'\n"
     ]
    },
    {
     "name": "stdout",
     "output_type": "stream",
     "text": [
      "round: 1\n",
      "list index out of range\n",
      "tournament_id: 525314\n"
     ]
    },
    {
     "name": "stderr",
     "output_type": "stream",
     "text": [
      "Traceback (most recent call last):\n",
      "  File \"/var/folders/t6/srtzy2f51db8mxxv7g_63f6h0000gr/T/ipykernel_72356/422094622.py\", line 19, in <cell line: 2>\n",
      "    games_df_list.append(parse_games_df(games_df))\n",
      "  File \"/var/folders/t6/srtzy2f51db8mxxv7g_63f6h0000gr/T/ipykernel_72356/3212580384.py\", line 6, in parse_games_df\n",
      "    games_df.columns.values[name_idxs[0]] = \"left_name\"\n",
      "IndexError: list index out of range\n"
     ]
    },
    {
     "name": "stdout",
     "output_type": "stream",
     "text": [
      "round: 1\n",
      "invalid literal for int() with base 10: 'Rtg'\n",
      "tournament_id: 491115\n"
     ]
    },
    {
     "name": "stderr",
     "output_type": "stream",
     "text": [
      "Traceback (most recent call last):\n",
      "  File \"/var/folders/t6/srtzy2f51db8mxxv7g_63f6h0000gr/T/ipykernel_72356/422094622.py\", line 19, in <cell line: 2>\n",
      "    games_df_list.append(parse_games_df(games_df))\n",
      "  File \"/var/folders/t6/srtzy2f51db8mxxv7g_63f6h0000gr/T/ipykernel_72356/3212580384.py\", line 18, in parse_games_df\n",
      "    games_df = games_df.astype({\n",
      "  File \"/Users/avliu/opt/anaconda3/envs/hugging-face/lib/python3.10/site-packages/pandas/core/generic.py\", line 5898, in astype\n",
      "    res_col = col.astype(dtype=cdt, copy=copy, errors=errors)\n",
      "  File \"/Users/avliu/opt/anaconda3/envs/hugging-face/lib/python3.10/site-packages/pandas/core/generic.py\", line 5912, in astype\n",
      "    new_data = self._mgr.astype(dtype=dtype, copy=copy, errors=errors)\n",
      "  File \"/Users/avliu/opt/anaconda3/envs/hugging-face/lib/python3.10/site-packages/pandas/core/internals/managers.py\", line 419, in astype\n",
      "    return self.apply(\"astype\", dtype=dtype, copy=copy, errors=errors)\n",
      "  File \"/Users/avliu/opt/anaconda3/envs/hugging-face/lib/python3.10/site-packages/pandas/core/internals/managers.py\", line 304, in apply\n",
      "    applied = getattr(b, f)(**kwargs)\n",
      "  File \"/Users/avliu/opt/anaconda3/envs/hugging-face/lib/python3.10/site-packages/pandas/core/internals/blocks.py\", line 580, in astype\n",
      "    new_values = astype_array_safe(values, dtype, copy=copy, errors=errors)\n",
      "  File \"/Users/avliu/opt/anaconda3/envs/hugging-face/lib/python3.10/site-packages/pandas/core/dtypes/cast.py\", line 1292, in astype_array_safe\n",
      "    new_values = astype_array(values, dtype, copy=copy)\n",
      "  File \"/Users/avliu/opt/anaconda3/envs/hugging-face/lib/python3.10/site-packages/pandas/core/dtypes/cast.py\", line 1237, in astype_array\n",
      "    values = astype_nansafe(values, dtype, copy=copy)\n",
      "  File \"/Users/avliu/opt/anaconda3/envs/hugging-face/lib/python3.10/site-packages/pandas/core/dtypes/cast.py\", line 1154, in astype_nansafe\n",
      "    return lib.astype_intsafe(arr, dtype)\n",
      "  File \"pandas/_libs/lib.pyx\", line 668, in pandas._libs.lib.astype_intsafe\n",
      "ValueError: invalid literal for int() with base 10: 'Rtg'\n"
     ]
    },
    {
     "name": "stdout",
     "output_type": "stream",
     "text": [
      "round: 1\n",
      "list index out of range\n",
      "tournament_id: 491114\n"
     ]
    },
    {
     "name": "stderr",
     "output_type": "stream",
     "text": [
      "Traceback (most recent call last):\n",
      "  File \"/var/folders/t6/srtzy2f51db8mxxv7g_63f6h0000gr/T/ipykernel_72356/422094622.py\", line 19, in <cell line: 2>\n",
      "    games_df_list.append(parse_games_df(games_df))\n",
      "  File \"/var/folders/t6/srtzy2f51db8mxxv7g_63f6h0000gr/T/ipykernel_72356/3212580384.py\", line 6, in parse_games_df\n",
      "    games_df.columns.values[name_idxs[0]] = \"left_name\"\n",
      "IndexError: list index out of range\n"
     ]
    },
    {
     "name": "stdout",
     "output_type": "stream",
     "text": [
      "round: 1\n",
      "list index out of range\n",
      "tournament_id: 503449\n"
     ]
    },
    {
     "name": "stderr",
     "output_type": "stream",
     "text": [
      "Traceback (most recent call last):\n",
      "  File \"/var/folders/t6/srtzy2f51db8mxxv7g_63f6h0000gr/T/ipykernel_72356/422094622.py\", line 19, in <cell line: 2>\n",
      "    games_df_list.append(parse_games_df(games_df))\n",
      "  File \"/var/folders/t6/srtzy2f51db8mxxv7g_63f6h0000gr/T/ipykernel_72356/3212580384.py\", line 6, in parse_games_df\n",
      "    games_df.columns.values[name_idxs[0]] = \"left_name\"\n",
      "IndexError: list index out of range\n"
     ]
    },
    {
     "name": "stdout",
     "output_type": "stream",
     "text": [
      "round: 1\n",
      "list index out of range\n"
     ]
    },
    {
     "name": "stderr",
     "output_type": "stream",
     "text": [
      "Traceback (most recent call last):\n",
      "  File \"/var/folders/t6/srtzy2f51db8mxxv7g_63f6h0000gr/T/ipykernel_72356/422094622.py\", line 19, in <cell line: 2>\n",
      "    games_df_list.append(parse_games_df(games_df))\n",
      "  File \"/var/folders/t6/srtzy2f51db8mxxv7g_63f6h0000gr/T/ipykernel_72356/3212580384.py\", line 6, in parse_games_df\n",
      "    games_df.columns.values[name_idxs[0]] = \"left_name\"\n",
      "IndexError: list index out of range\n"
     ]
    }
   ],
   "source": [
    "games_df_list = []\n",
    "for tour_id in tour_ids:\n",
    "    print('tournament_id: {0}'.format(tour_id))\n",
    "    \n",
    "    # Get first tournament\n",
    "    round_id = 1\n",
    "    try:\n",
    "        games_df = get_table(round_url.format(tid=tour_id, rid=round_id))\n",
    "    except Exception as e:\n",
    "        print(e)\n",
    "        traceback.print_exc()\n",
    "        continue\n",
    "\n",
    "    while games_df is not None:\n",
    "        print('round: {0}'.format(round_id))\n",
    "        \n",
    "        # Parse current tournament data and append to list\n",
    "        try:\n",
    "            games_df_list.append(parse_games_df(games_df))\n",
    "        except Exception as e:\n",
    "            print(e)\n",
    "            traceback.print_exc()\n",
    "            break\n",
    "        \n",
    "        # Get the next tournament's data\n",
    "        round_id += 1\n",
    "        try:\n",
    "            next_games_df = get_table(round_url.format(tid=tour_id, rid=round_id))\n",
    "            games_df = next_games_df\n",
    "        except Exception as e:\n",
    "            print(e)\n",
    "            traceback.print_exc()\n",
    "            break"
   ]
  },
  {
   "cell_type": "code",
   "execution_count": 27,
   "id": "9775fbc5",
   "metadata": {
    "scrolled": true
   },
   "outputs": [],
   "source": [
    "all_games_df = pd.concat(games_df_list)"
   ]
  },
  {
   "cell_type": "code",
   "execution_count": 28,
   "id": "e0c278c5",
   "metadata": {},
   "outputs": [],
   "source": [
    "# Join with tournament info\n",
    "all_games_df = all_games_df.join(tour_df[['location', 'medium', 'time_control']], on='tournament_id')"
   ]
  },
  {
   "cell_type": "code",
   "execution_count": 29,
   "id": "cfef7c12",
   "metadata": {},
   "outputs": [],
   "source": [
    "all_games_df.to_csv('./data/games.csv')"
   ]
  },
  {
   "cell_type": "code",
   "execution_count": 31,
   "id": "d1abdf15",
   "metadata": {},
   "outputs": [
    {
     "data": {
      "text/plain": [
       "offline    20143\n",
       "online      2415\n",
       "Name: medium, dtype: int64"
      ]
     },
     "execution_count": 31,
     "metadata": {},
     "output_type": "execute_result"
    }
   ],
   "source": [
    "all_games_df['medium'].value_counts()"
   ]
  },
  {
   "cell_type": "code",
   "execution_count": null,
   "id": "edb92861",
   "metadata": {},
   "outputs": [],
   "source": [
    "all_games_df[]"
   ]
  },
  {
   "cell_type": "code",
   "execution_count": null,
   "id": "0dceea14",
   "metadata": {},
   "outputs": [],
   "source": []
  },
  {
   "cell_type": "code",
   "execution_count": null,
   "id": "7b254948",
   "metadata": {},
   "outputs": [],
   "source": []
  },
  {
   "cell_type": "code",
   "execution_count": null,
   "id": "f3fccd7c",
   "metadata": {},
   "outputs": [],
   "source": []
  },
  {
   "cell_type": "code",
   "execution_count": null,
   "id": "b2ab1e17",
   "metadata": {},
   "outputs": [],
   "source": []
  },
  {
   "cell_type": "code",
   "execution_count": null,
   "id": "aea36042",
   "metadata": {},
   "outputs": [],
   "source": []
  },
  {
   "cell_type": "code",
   "execution_count": null,
   "id": "026356f9",
   "metadata": {},
   "outputs": [],
   "source": []
  },
  {
   "cell_type": "code",
   "execution_count": null,
   "id": "3b68832d",
   "metadata": {},
   "outputs": [],
   "source": []
  },
  {
   "cell_type": "code",
   "execution_count": null,
   "id": "9459dd32",
   "metadata": {},
   "outputs": [],
   "source": []
  },
  {
   "cell_type": "code",
   "execution_count": null,
   "id": "b802146e",
   "metadata": {},
   "outputs": [],
   "source": []
  },
  {
   "cell_type": "code",
   "execution_count": null,
   "id": "afc58f24",
   "metadata": {},
   "outputs": [],
   "source": []
  },
  {
   "cell_type": "code",
   "execution_count": null,
   "id": "b1d4ce5d",
   "metadata": {},
   "outputs": [],
   "source": []
  },
  {
   "cell_type": "code",
   "execution_count": null,
   "id": "f905a9b4",
   "metadata": {},
   "outputs": [],
   "source": []
  },
  {
   "cell_type": "code",
   "execution_count": null,
   "id": "12f6287a",
   "metadata": {},
   "outputs": [],
   "source": []
  },
  {
   "cell_type": "code",
   "execution_count": null,
   "id": "de34dbdb",
   "metadata": {},
   "outputs": [],
   "source": []
  },
  {
   "cell_type": "code",
   "execution_count": null,
   "id": "be87be85",
   "metadata": {},
   "outputs": [],
   "source": []
  },
  {
   "cell_type": "code",
   "execution_count": null,
   "id": "13fd3f6b",
   "metadata": {},
   "outputs": [],
   "source": []
  },
  {
   "cell_type": "code",
   "execution_count": null,
   "id": "f4b5bdd4",
   "metadata": {},
   "outputs": [],
   "source": []
  },
  {
   "cell_type": "code",
   "execution_count": null,
   "id": "11d3db81",
   "metadata": {},
   "outputs": [],
   "source": []
  }
 ],
 "metadata": {
  "kernelspec": {
   "display_name": "Python 3 (ipykernel)",
   "language": "python",
   "name": "python3"
  },
  "language_info": {
   "codemirror_mode": {
    "name": "ipython",
    "version": 3
   },
   "file_extension": ".py",
   "mimetype": "text/x-python",
   "name": "python",
   "nbconvert_exporter": "python",
   "pygments_lexer": "ipython3",
   "version": "3.10.4"
  }
 },
 "nbformat": 4,
 "nbformat_minor": 5
}
