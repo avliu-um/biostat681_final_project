{
 "cells": [
  {
   "cell_type": "code",
   "execution_count": 1,
   "id": "5a69c2a0",
   "metadata": {},
   "outputs": [],
   "source": [
    "from bs4 import BeautifulSoup\n",
    "from urllib.request import Request, urlopen\n",
    "\n",
    "import pandas as pd\n",
    "import numpy as np\n",
    "import re\n",
    "\n",
    "import traceback"
   ]
  },
  {
   "cell_type": "code",
   "execution_count": null,
   "id": "98a09f4e",
   "metadata": {},
   "outputs": [],
   "source": []
  },
  {
   "cell_type": "code",
   "execution_count": null,
   "id": "bcadd9e5",
   "metadata": {},
   "outputs": [],
   "source": []
  },
  {
   "cell_type": "markdown",
   "id": "b2b3ed10",
   "metadata": {},
   "source": [
    "### Setup"
   ]
  },
  {
   "cell_type": "code",
   "execution_count": 2,
   "id": "7f25dda1",
   "metadata": {},
   "outputs": [],
   "source": [
    "def get_soup(url):\n",
    "    # Create the soup\n",
    "    req = Request(url)\n",
    "    html_page = urlopen(req)\n",
    "    soup = BeautifulSoup(html_page, 'html.parser')   \n",
    "    \n",
    "    return soup"
   ]
  },
  {
   "cell_type": "code",
   "execution_count": 3,
   "id": "1aa90d66",
   "metadata": {},
   "outputs": [],
   "source": [
    "def get_table(url):\n",
    "    soup = get_soup(url)\n",
    "    \n",
    "    # Select the games\n",
    "    df_list = []\n",
    "    rows = soup.select('table tr[class^=\"CR\"]')\n",
    "    \n",
    "    # Get the column names\n",
    "    cols = None\n",
    "    for r in rows:\n",
    "        c = r.select('td[class^=\"CR\"]')\n",
    "        if len(c) > 1:\n",
    "            cols = [c[i].text.strip() for i in range(len(c))]\n",
    "            break\n",
    "    #print(cols)\n",
    "    \n",
    "    # If we can find column names, then move on to appending the rows\n",
    "    if cols:\n",
    "        for r in rows:\n",
    "            # make sure number of cols is big enough (and cut if required)\n",
    "            elems = r.select('td')\n",
    "            if len(elems) >= len(cols):\n",
    "                vals = [elems[i].text.strip() for i in range(len(cols))]  \n",
    "                # discovering that some result sites have MANY row-titles (e.g. 683767)\n",
    "                if not ('Rtg' in vals or 'Result' in vals or 'Name' in vals):\n",
    "                    df_list.append(vals)\n",
    "        df = pd.DataFrame(df_list[1:], columns=cols)\n",
    "        return df\n",
    "        \n",
    "    else:\n",
    "        return None\n",
    "        "
   ]
  },
  {
   "cell_type": "code",
   "execution_count": null,
   "id": "ca080f46",
   "metadata": {},
   "outputs": [],
   "source": [
    "# testing \n",
    "test_url = 'https://chess-results.com/tnr679621.aspx?lan=1'\n",
    "test_df = get_table(test_url)\n",
    "test_df.head()"
   ]
  },
  {
   "cell_type": "code",
   "execution_count": null,
   "id": "1747d1eb",
   "metadata": {},
   "outputs": [],
   "source": []
  },
  {
   "cell_type": "code",
   "execution_count": null,
   "id": "d27660ce",
   "metadata": {},
   "outputs": [],
   "source": []
  },
  {
   "cell_type": "code",
   "execution_count": null,
   "id": "17259b3e",
   "metadata": {},
   "outputs": [],
   "source": []
  },
  {
   "cell_type": "markdown",
   "id": "decb5ff8",
   "metadata": {},
   "source": [
    "### Get tournament url's that fit our criteria (online/offline)\n",
    "TODO: Convert the table collecting process to my get_table method"
   ]
  },
  {
   "cell_type": "code",
   "execution_count": null,
   "id": "9d8bf0cb",
   "metadata": {},
   "outputs": [],
   "source": [
    "url = \"./chess_results.html\"\n",
    "with open(url) as fp:\n",
    "    soup = BeautifulSoup(fp, 'html.parser')"
   ]
  },
  {
   "cell_type": "code",
   "execution_count": null,
   "id": "6d47b9d4",
   "metadata": {},
   "outputs": [],
   "source": []
  },
  {
   "cell_type": "code",
   "execution_count": null,
   "id": "93d66ca8",
   "metadata": {
    "scrolled": true
   },
   "outputs": [],
   "source": [
    "tour_df_list = []\n",
    "# using soup to select by css selectors\n",
    "# https://stackoverflow.com/questions/24801548/how-to-use-css-selectors-to-retrieve-specific-links-lying-in-some-class-using-be\n",
    "table = soup.select('table.CRs2 tr')\n",
    "\n",
    "# ignore first row\n",
    "for row in table[1:]:\n",
    "    \n",
    "    # Get values in row\n",
    "    vals = row.select('td')\n",
    "    \n",
    "    # Get url\n",
    "    url_idx = 0\n",
    "    url = vals[url_idx].a['href']\n",
    "    tour_id = int(re.findall(\"tnr(\\d+).aspx\", url)[0])\n",
    "    \n",
    "    # Get location\n",
    "    loc_idx = 8\n",
    "    location = vals[loc_idx].text.strip()\n",
    "    \n",
    "    # Get medium (online or offline)\n",
    "    medium = None\n",
    "    if '.com' in location.lower() or 'online' in location.lower():\n",
    "        medium = 'online'\n",
    "    elif location != '':\n",
    "        medium = 'offline'\n",
    "        \n",
    "    # Get Time Control\n",
    "    time_control_idx = len(vals)-5\n",
    "    time_control = vals[time_control_idx].text.strip()\n",
    "     \n",
    "    tour_data = {\n",
    "        'tournament_id': tour_id,\n",
    "        'url': url,\n",
    "        'location': location,\n",
    "        'medium': medium,\n",
    "        'time_control': time_control\n",
    "    }\n",
    "    tour_df_list.append(tour_data)\n",
    "\n",
    "    "
   ]
  },
  {
   "cell_type": "code",
   "execution_count": null,
   "id": "ca1a59c0",
   "metadata": {},
   "outputs": [],
   "source": [
    "tour_df = pd.DataFrame(tour_df_list)"
   ]
  },
  {
   "cell_type": "code",
   "execution_count": null,
   "id": "30656447",
   "metadata": {},
   "outputs": [],
   "source": [
    "tour_df.head()"
   ]
  },
  {
   "cell_type": "code",
   "execution_count": null,
   "id": "31579429",
   "metadata": {},
   "outputs": [],
   "source": [
    "tour_df[tour_df['medium']=='offline'].shape"
   ]
  },
  {
   "cell_type": "code",
   "execution_count": null,
   "id": "c74b3767",
   "metadata": {},
   "outputs": [],
   "source": [
    "good_tour_df = tour_df[tour_df['medium'].isin(['offline','online'])]"
   ]
  },
  {
   "cell_type": "code",
   "execution_count": null,
   "id": "de812a00",
   "metadata": {},
   "outputs": [],
   "source": [
    "good_tour_df.to_csv('./data/tournaments.csv', index=False)"
   ]
  },
  {
   "cell_type": "code",
   "execution_count": null,
   "id": "552c12eb",
   "metadata": {},
   "outputs": [],
   "source": []
  },
  {
   "cell_type": "markdown",
   "id": "470eaf83",
   "metadata": {},
   "source": [
    "### Get players"
   ]
  },
  {
   "cell_type": "code",
   "execution_count": 80,
   "id": "bdf16471",
   "metadata": {},
   "outputs": [
    {
     "data": {
      "text/html": [
       "<div>\n",
       "<style scoped>\n",
       "    .dataframe tbody tr th:only-of-type {\n",
       "        vertical-align: middle;\n",
       "    }\n",
       "\n",
       "    .dataframe tbody tr th {\n",
       "        vertical-align: top;\n",
       "    }\n",
       "\n",
       "    .dataframe thead th {\n",
       "        text-align: right;\n",
       "    }\n",
       "</style>\n",
       "<table border=\"1\" class=\"dataframe\">\n",
       "  <thead>\n",
       "    <tr style=\"text-align: right;\">\n",
       "      <th></th>\n",
       "      <th>tournament_id</th>\n",
       "      <th>url</th>\n",
       "      <th>location</th>\n",
       "      <th>medium</th>\n",
       "      <th>time_control</th>\n",
       "    </tr>\n",
       "  </thead>\n",
       "  <tbody>\n",
       "    <tr>\n",
       "      <th>0</th>\n",
       "      <td>686540</td>\n",
       "      <td>https://chess-results.com/tnr686540.aspx?lan=1</td>\n",
       "      <td>Mellieha, Malta</td>\n",
       "      <td>offline</td>\n",
       "      <td>90min+30sec/move</td>\n",
       "    </tr>\n",
       "    <tr>\n",
       "      <th>1</th>\n",
       "      <td>669871</td>\n",
       "      <td>https://chess-results.com/tnr669871.aspx?lan=1</td>\n",
       "      <td>Mellieha, Malta</td>\n",
       "      <td>offline</td>\n",
       "      <td>90min+30sec/move</td>\n",
       "    </tr>\n",
       "    <tr>\n",
       "      <th>2</th>\n",
       "      <td>686538</td>\n",
       "      <td>https://chess-results.com/tnr686538.aspx?lan=1</td>\n",
       "      <td>Mellieha, Malta</td>\n",
       "      <td>offline</td>\n",
       "      <td>90min+30sec/move</td>\n",
       "    </tr>\n",
       "    <tr>\n",
       "      <th>3</th>\n",
       "      <td>686539</td>\n",
       "      <td>https://chess-results.com/tnr686539.aspx?lan=1</td>\n",
       "      <td>Mellieha, Malta</td>\n",
       "      <td>offline</td>\n",
       "      <td>90min+30sec/move</td>\n",
       "    </tr>\n",
       "    <tr>\n",
       "      <th>4</th>\n",
       "      <td>670407</td>\n",
       "      <td>https://chess-results.com/tnr670407.aspx?lan=1</td>\n",
       "      <td>Cala Gonone - Dorgali (NU)</td>\n",
       "      <td>offline</td>\n",
       "      <td>90'/40 moves + 30' + 30'' bonus</td>\n",
       "    </tr>\n",
       "  </tbody>\n",
       "</table>\n",
       "</div>"
      ],
      "text/plain": [
       "   tournament_id                                             url  \\\n",
       "0         686540  https://chess-results.com/tnr686540.aspx?lan=1   \n",
       "1         669871  https://chess-results.com/tnr669871.aspx?lan=1   \n",
       "2         686538  https://chess-results.com/tnr686538.aspx?lan=1   \n",
       "3         686539  https://chess-results.com/tnr686539.aspx?lan=1   \n",
       "4         670407  https://chess-results.com/tnr670407.aspx?lan=1   \n",
       "\n",
       "                     location   medium                     time_control  \n",
       "0             Mellieha, Malta  offline                 90min+30sec/move  \n",
       "1             Mellieha, Malta  offline                 90min+30sec/move  \n",
       "2             Mellieha, Malta  offline                 90min+30sec/move  \n",
       "3             Mellieha, Malta  offline                 90min+30sec/move  \n",
       "4  Cala Gonone - Dorgali (NU)  offline  90'/40 moves + 30' + 30'' bonus  "
      ]
     },
     "execution_count": 80,
     "metadata": {},
     "output_type": "execute_result"
    }
   ],
   "source": [
    "tour_df = pd.read_csv('./data/tournaments.csv')\n",
    "tour_df.head()"
   ]
  },
  {
   "cell_type": "code",
   "execution_count": 81,
   "id": "6c64190e",
   "metadata": {},
   "outputs": [],
   "source": [
    "tour_ids = tour_df['tournament_id']\n",
    "\n",
    "# testing\n",
    "#tour_ids = tour_ids[:1]"
   ]
  },
  {
   "cell_type": "code",
   "execution_count": 82,
   "id": "23c88803",
   "metadata": {},
   "outputs": [],
   "source": [
    "tour_url = 'https://chess-results.com/tnr{tid}.aspx?lan=1'"
   ]
  },
  {
   "cell_type": "code",
   "execution_count": 83,
   "id": "ef4e6c68",
   "metadata": {},
   "outputs": [],
   "source": [
    "req_player_cols = ['Name','FideID']"
   ]
  },
  {
   "cell_type": "code",
   "execution_count": null,
   "id": "b30bacc5",
   "metadata": {
    "scrolled": true
   },
   "outputs": [],
   "source": [
    "# collect players\n",
    "players_df_list = []\n",
    "for tour_id in tour_ids:\n",
    "    print('tour_id: {0}'.format(tour_id))\n",
    "    players_df = get_table(tour_url.format(tid=tour_id))\n",
    "    if players_df is not None and set(req_player_cols).issubset(set(players_df.columns)):\n",
    "        players_df_list.append(players_df[req_player_cols])"
   ]
  },
  {
   "cell_type": "code",
   "execution_count": null,
   "id": "e1204f38",
   "metadata": {},
   "outputs": [],
   "source": [
    "players_path = './data/players.csv'\n",
    "\n",
    "# IN THE FUTURE, this will be reading the existing df\n",
    "old_players_df = pd.DataFrame([['dummy','dummy']], columns=req_player_cols)\n",
    "\n",
    "new_players_df = pd.concat([old_players_df] + players_df_list)\n",
    "new_players_df.head()\n"
   ]
  },
  {
   "cell_type": "code",
   "execution_count": null,
   "id": "bb06723e",
   "metadata": {},
   "outputs": [],
   "source": [
    "new_players_df.to_csv(players_path, index=False)"
   ]
  },
  {
   "cell_type": "code",
   "execution_count": 89,
   "id": "2c8ea659",
   "metadata": {
    "scrolled": true
   },
   "outputs": [],
   "source": [
    "# 11/22 post-hoc editing: Delete rtg column\n",
    "players_df = pd.read_csv(players_path)\n",
    "players_df = players_df[req_player_cols]\n",
    "players_df.to_csv(players_path, index=False)"
   ]
  },
  {
   "cell_type": "code",
   "execution_count": null,
   "id": "2c5bcca1",
   "metadata": {},
   "outputs": [],
   "source": []
  },
  {
   "cell_type": "markdown",
   "id": "2d46a76b",
   "metadata": {},
   "source": [
    "### Get games\n",
    "\n",
    "(11/20) URL https://chess-results.com/tnr683767.aspx?lan=1&art=2&rd=1&flag=30 has two issues:\n",
    "- infinite rounds (i.e. rd=x yields same results table for any x)\n",
    "- trouble converting required columns (specifically Rtg) into int (somewhere hidden there is a string)\n",
    "    - upon further review, it is the repeated column header for each round"
   ]
  },
  {
   "cell_type": "code",
   "execution_count": 131,
   "id": "a9e94362",
   "metadata": {
    "scrolled": false
   },
   "outputs": [
    {
     "data": {
      "text/html": [
       "<div>\n",
       "<style scoped>\n",
       "    .dataframe tbody tr th:only-of-type {\n",
       "        vertical-align: middle;\n",
       "    }\n",
       "\n",
       "    .dataframe tbody tr th {\n",
       "        vertical-align: top;\n",
       "    }\n",
       "\n",
       "    .dataframe thead th {\n",
       "        text-align: right;\n",
       "    }\n",
       "</style>\n",
       "<table border=\"1\" class=\"dataframe\">\n",
       "  <thead>\n",
       "    <tr style=\"text-align: right;\">\n",
       "      <th></th>\n",
       "      <th>FideID</th>\n",
       "    </tr>\n",
       "    <tr>\n",
       "      <th>Name</th>\n",
       "      <th></th>\n",
       "    </tr>\n",
       "  </thead>\n",
       "  <tbody>\n",
       "    <tr>\n",
       "      <th>dummy</th>\n",
       "      <td>dummy</td>\n",
       "    </tr>\n",
       "    <tr>\n",
       "      <th>Margadgua Erdenebayar</th>\n",
       "      <td>4904052</td>\n",
       "    </tr>\n",
       "    <tr>\n",
       "      <th>Alipbek Arailym</th>\n",
       "      <td>13724800</td>\n",
       "    </tr>\n",
       "    <tr>\n",
       "      <th>Von Beckh Frieda</th>\n",
       "      <td>16233751</td>\n",
       "    </tr>\n",
       "    <tr>\n",
       "      <th>Amulya Guruprasad</th>\n",
       "      <td>25683896</td>\n",
       "    </tr>\n",
       "  </tbody>\n",
       "</table>\n",
       "</div>"
      ],
      "text/plain": [
       "                         FideID\n",
       "Name                           \n",
       "dummy                     dummy\n",
       "Margadgua Erdenebayar   4904052\n",
       "Alipbek Arailym        13724800\n",
       "Von Beckh Frieda       16233751\n",
       "Amulya Guruprasad      25683896"
      ]
     },
     "execution_count": 131,
     "metadata": {},
     "output_type": "execute_result"
    }
   ],
   "source": [
    "players_path = './data/players.csv'\n",
    "players = pd.read_csv(players_path)\n",
    "players.set_index('Name', inplace=True)\n",
    "players.head()"
   ]
  },
  {
   "cell_type": "code",
   "execution_count": 132,
   "id": "e0a157d9",
   "metadata": {},
   "outputs": [
    {
     "data": {
      "text/html": [
       "<div>\n",
       "<style scoped>\n",
       "    .dataframe tbody tr th:only-of-type {\n",
       "        vertical-align: middle;\n",
       "    }\n",
       "\n",
       "    .dataframe tbody tr th {\n",
       "        vertical-align: top;\n",
       "    }\n",
       "\n",
       "    .dataframe thead th {\n",
       "        text-align: right;\n",
       "    }\n",
       "</style>\n",
       "<table border=\"1\" class=\"dataframe\">\n",
       "  <thead>\n",
       "    <tr style=\"text-align: right;\">\n",
       "      <th></th>\n",
       "      <th>url</th>\n",
       "      <th>location</th>\n",
       "      <th>medium</th>\n",
       "      <th>time_control</th>\n",
       "    </tr>\n",
       "    <tr>\n",
       "      <th>tournament_id</th>\n",
       "      <th></th>\n",
       "      <th></th>\n",
       "      <th></th>\n",
       "      <th></th>\n",
       "    </tr>\n",
       "  </thead>\n",
       "  <tbody>\n",
       "    <tr>\n",
       "      <th>686540</th>\n",
       "      <td>https://chess-results.com/tnr686540.aspx?lan=1</td>\n",
       "      <td>Mellieha, Malta</td>\n",
       "      <td>offline</td>\n",
       "      <td>90min+30sec/move</td>\n",
       "    </tr>\n",
       "    <tr>\n",
       "      <th>669871</th>\n",
       "      <td>https://chess-results.com/tnr669871.aspx?lan=1</td>\n",
       "      <td>Mellieha, Malta</td>\n",
       "      <td>offline</td>\n",
       "      <td>90min+30sec/move</td>\n",
       "    </tr>\n",
       "    <tr>\n",
       "      <th>686538</th>\n",
       "      <td>https://chess-results.com/tnr686538.aspx?lan=1</td>\n",
       "      <td>Mellieha, Malta</td>\n",
       "      <td>offline</td>\n",
       "      <td>90min+30sec/move</td>\n",
       "    </tr>\n",
       "    <tr>\n",
       "      <th>686539</th>\n",
       "      <td>https://chess-results.com/tnr686539.aspx?lan=1</td>\n",
       "      <td>Mellieha, Malta</td>\n",
       "      <td>offline</td>\n",
       "      <td>90min+30sec/move</td>\n",
       "    </tr>\n",
       "    <tr>\n",
       "      <th>670407</th>\n",
       "      <td>https://chess-results.com/tnr670407.aspx?lan=1</td>\n",
       "      <td>Cala Gonone - Dorgali (NU)</td>\n",
       "      <td>offline</td>\n",
       "      <td>90'/40 moves + 30' + 30'' bonus</td>\n",
       "    </tr>\n",
       "  </tbody>\n",
       "</table>\n",
       "</div>"
      ],
      "text/plain": [
       "                                                          url  \\\n",
       "tournament_id                                                   \n",
       "686540         https://chess-results.com/tnr686540.aspx?lan=1   \n",
       "669871         https://chess-results.com/tnr669871.aspx?lan=1   \n",
       "686538         https://chess-results.com/tnr686538.aspx?lan=1   \n",
       "686539         https://chess-results.com/tnr686539.aspx?lan=1   \n",
       "670407         https://chess-results.com/tnr670407.aspx?lan=1   \n",
       "\n",
       "                                 location   medium  \\\n",
       "tournament_id                                        \n",
       "686540                    Mellieha, Malta  offline   \n",
       "669871                    Mellieha, Malta  offline   \n",
       "686538                    Mellieha, Malta  offline   \n",
       "686539                    Mellieha, Malta  offline   \n",
       "670407         Cala Gonone - Dorgali (NU)  offline   \n",
       "\n",
       "                                  time_control  \n",
       "tournament_id                                   \n",
       "686540                        90min+30sec/move  \n",
       "669871                        90min+30sec/move  \n",
       "686538                        90min+30sec/move  \n",
       "686539                        90min+30sec/move  \n",
       "670407         90'/40 moves + 30' + 30'' bonus  "
      ]
     },
     "execution_count": 132,
     "metadata": {},
     "output_type": "execute_result"
    }
   ],
   "source": [
    "tour_df = pd.read_csv('./data/tournaments.csv')\n",
    "tour_df.set_index('tournament_id', inplace=True)\n",
    "\n",
    "tour_df.head()"
   ]
  },
  {
   "cell_type": "code",
   "execution_count": 133,
   "id": "b1288580",
   "metadata": {},
   "outputs": [],
   "source": [
    "tour_ids = list(tour_df.index)\n",
    "\n",
    "# testing\n",
    "#tour_ids = tour_ids[:2]"
   ]
  },
  {
   "cell_type": "code",
   "execution_count": 134,
   "id": "781e7c48",
   "metadata": {},
   "outputs": [],
   "source": [
    "round_url = 'https://chess-results.com/tnr{tid}.aspx?lan=1&art=2&rd={rid}'"
   ]
  },
  {
   "cell_type": "code",
   "execution_count": 146,
   "id": "e4f4ed28",
   "metadata": {},
   "outputs": [],
   "source": [
    "def parse_games_df(games_df, players, tour_id):    \n",
    "    # make left and right distinction\n",
    "    name_idxs = np.where(np.array(games_df.columns) == 'Name')[0].tolist()\n",
    "    rtg_idxs = np.where(np.array(games_df.columns) == 'Rtg')[0].tolist()\n",
    "\n",
    "    # Awful discovery that just setting .columns.values does not work\n",
    "    # The most cynical part is that the table column name even changes when you display it!\n",
    "    temp_cols = games_df.columns.values\n",
    "    temp_cols[name_idxs[0]] = \"left_name\"\n",
    "    temp_cols[name_idxs[1]] = \"right_name\"\n",
    "    temp_cols[rtg_idxs[0]] = \"left_rtg\"\n",
    "    temp_cols[rtg_idxs[1]] = \"right_rtg\"\n",
    "    games_df.columns = temp_cols\n",
    "        \n",
    "    games_df = games_df.join(players['FideID'], on='left_name')\n",
    "    games_df.rename(columns={'FideID': 'left_fide_id'}, inplace=True)\n",
    "    \n",
    "    #print(games_df.shape)\n",
    "    #print(games_df.head(20))\n",
    "\n",
    "    games_df = games_df.join(players['FideID'], on='right_name')\n",
    "    games_df.rename(columns={'FideID': 'right_fide_id'}, inplace=True)\n",
    "    \n",
    "    #print(games_df.head(20))\n",
    "\n",
    "    # May logically exist outside of this function\n",
    "    games_df['tournament_id'] = [tour_id for i in range(games_df.shape[0])]\n",
    "    \n",
    "    # cast to int columns, and drop na\n",
    "    int_cols = ['left_rtg', 'right_rtg', 'left_fide_id', 'right_fide_id', 'tournament_id']\n",
    "    for int_col in int_cols:\n",
    "        games_df[int_col] = pd.to_numeric(games_df[int_col], errors='coerce')\n",
    "\n",
    "    games_df.dropna(subset=int_cols, how='any', inplace=True)\n",
    "    \n",
    "    #print(games_df.head(20))\n",
    "    \n",
    "\n",
    "    #games_df = games_df.astype({\n",
    "    #    'left_rtg': 'int',\n",
    "    #    'right_rtg': 'int',\n",
    "    #    'left_fide_id': 'int',\n",
    "    #    'right_fide_id': 'int',\n",
    "    #    'tournament_id': 'int',\n",
    "    #})\n",
    "\n",
    "    # TODO: who's black and who's white?\n",
    "\n",
    "    # Upset_score\n",
    "    upset_scores = []\n",
    "    for index, row in games_df.iterrows():\n",
    "        #print(row)\n",
    "        score=0\n",
    "        result = row['Result']\n",
    "        left_rtg = row['left_rtg']\n",
    "        right_rtg = row['right_rtg']\n",
    "        if (result=='1 - 0' and left_rtg<right_rtg) or (result=='0 - 1' and right_rtg<left_rtg):\n",
    "            score = abs(right_rtg - left_rtg)\n",
    "        elif result=='½ - ½':\n",
    "            score = abs(right_rtg - left_rtg) * 0.5\n",
    "        upset_scores.append(score)\n",
    "    games_df['upset_score'] = upset_scores\n",
    "\n",
    "    # print(games_df.head())\n",
    "    req_game_cols = ['upset_score', 'tournament_id', 'left_fide_id', 'left_rtg', 'right_fide_id', 'right_rtg']\n",
    "    if set(req_game_cols).issubset(set(games_df.columns)):\n",
    "        return games_df[req_game_cols]\n",
    "    else:\n",
    "        return None"
   ]
  },
  {
   "cell_type": "code",
   "execution_count": null,
   "id": "d4ad7fa5",
   "metadata": {
    "scrolled": false
   },
   "outputs": [
    {
     "name": "stdout",
     "output_type": "stream",
     "text": [
      "tournament_id: 686540\n",
      "round: 1\n",
      "round: 2\n",
      "round: 3\n",
      "round: 4\n",
      "round: 5\n",
      "round: 6\n",
      "round: 7\n",
      "round: 8\n",
      "round: 9\n",
      "tournament_id: 669871\n",
      "round: 1\n",
      "round: 2\n",
      "round: 3\n",
      "round: 4\n",
      "round: 5\n",
      "round: 6\n",
      "round: 7\n",
      "round: 8\n",
      "round: 9\n",
      "tournament_id: 686538\n",
      "round: 1\n",
      "round: 2\n",
      "round: 3\n",
      "round: 4\n",
      "round: 5\n",
      "round: 6\n",
      "round: 7\n",
      "round: 8\n",
      "round: 9\n",
      "tournament_id: 686539\n",
      "round: 1\n",
      "round: 2\n",
      "round: 3\n",
      "round: 4\n",
      "round: 5\n",
      "round: 6\n",
      "round: 7\n",
      "round: 8\n",
      "round: 9\n",
      "tournament_id: 670407\n",
      "round: 1\n",
      "round: 2\n",
      "round: 3\n",
      "round: 4\n",
      "round: 5\n",
      "round: 6\n",
      "round: 7\n",
      "round: 8\n",
      "round: 9\n",
      "round: 10\n",
      "round: 11\n",
      "tournament_id: 670410\n",
      "round: 1\n",
      "round: 2\n",
      "round: 3\n",
      "round: 4\n",
      "round: 5\n",
      "round: 6\n",
      "round: 7\n",
      "round: 8\n",
      "round: 9\n",
      "round: 10\n",
      "round: 11\n",
      "tournament_id: 683767\n",
      "round: 1\n",
      "round: 2\n",
      "round: 3\n",
      "round: 4\n",
      "round: 5\n",
      "round: 6\n",
      "round: 7\n",
      "round: 8\n",
      "round: 9\n",
      "round: 10\n",
      "round: 11\n",
      "round: 12\n",
      "round: 13\n",
      "round: 14\n",
      "round: 15\n",
      "round: 16\n",
      "round: 17\n",
      "round: 18\n",
      "round: 19\n",
      "tournament_id: 665934\n",
      "round: 1\n",
      "round: 2\n",
      "round: 3\n",
      "round: 4\n",
      "round: 5\n",
      "round: 6\n",
      "round: 7\n",
      "round: 8\n",
      "round: 9\n",
      "tournament_id: 680077\n",
      "round: 1\n",
      "list index out of range\n",
      "tournament_id: 680641\n"
     ]
    },
    {
     "name": "stderr",
     "output_type": "stream",
     "text": [
      "Traceback (most recent call last):\n",
      "  File \"/var/folders/t6/srtzy2f51db8mxxv7g_63f6h0000gr/T/ipykernel_10127/467779631.py\", line 21, in <cell line: 2>\n",
      "    games_df_list.append(parse_games_df(games_df, players, tour_id).drop_duplicates())\n",
      "  File \"/var/folders/t6/srtzy2f51db8mxxv7g_63f6h0000gr/T/ipykernel_10127/3128065169.py\", line 9, in parse_games_df\n",
      "    temp_cols[name_idxs[0]] = \"left_name\"\n",
      "IndexError: list index out of range\n"
     ]
    },
    {
     "name": "stdout",
     "output_type": "stream",
     "text": [
      "round: 1\n",
      "list index out of range\n",
      "tournament_id: 680633\n"
     ]
    },
    {
     "name": "stderr",
     "output_type": "stream",
     "text": [
      "Traceback (most recent call last):\n",
      "  File \"/var/folders/t6/srtzy2f51db8mxxv7g_63f6h0000gr/T/ipykernel_10127/467779631.py\", line 21, in <cell line: 2>\n",
      "    games_df_list.append(parse_games_df(games_df, players, tour_id).drop_duplicates())\n",
      "  File \"/var/folders/t6/srtzy2f51db8mxxv7g_63f6h0000gr/T/ipykernel_10127/3128065169.py\", line 11, in parse_games_df\n",
      "    temp_cols[rtg_idxs[0]] = \"left_rtg\"\n",
      "IndexError: list index out of range\n"
     ]
    },
    {
     "name": "stdout",
     "output_type": "stream",
     "text": [
      "round: 1\n",
      "list index out of range\n",
      "tournament_id: 680631\n"
     ]
    },
    {
     "name": "stderr",
     "output_type": "stream",
     "text": [
      "Traceback (most recent call last):\n",
      "  File \"/var/folders/t6/srtzy2f51db8mxxv7g_63f6h0000gr/T/ipykernel_10127/467779631.py\", line 21, in <cell line: 2>\n",
      "    games_df_list.append(parse_games_df(games_df, players, tour_id).drop_duplicates())\n",
      "  File \"/var/folders/t6/srtzy2f51db8mxxv7g_63f6h0000gr/T/ipykernel_10127/3128065169.py\", line 11, in parse_games_df\n",
      "    temp_cols[rtg_idxs[0]] = \"left_rtg\"\n",
      "IndexError: list index out of range\n"
     ]
    },
    {
     "name": "stdout",
     "output_type": "stream",
     "text": [
      "round: 1\n",
      "list index out of range\n",
      "tournament_id: 680636\n"
     ]
    },
    {
     "name": "stderr",
     "output_type": "stream",
     "text": [
      "Traceback (most recent call last):\n",
      "  File \"/var/folders/t6/srtzy2f51db8mxxv7g_63f6h0000gr/T/ipykernel_10127/467779631.py\", line 21, in <cell line: 2>\n",
      "    games_df_list.append(parse_games_df(games_df, players, tour_id).drop_duplicates())\n",
      "  File \"/var/folders/t6/srtzy2f51db8mxxv7g_63f6h0000gr/T/ipykernel_10127/3128065169.py\", line 11, in parse_games_df\n",
      "    temp_cols[rtg_idxs[0]] = \"left_rtg\"\n",
      "IndexError: list index out of range\n"
     ]
    },
    {
     "name": "stdout",
     "output_type": "stream",
     "text": [
      "round: 1\n",
      "list index out of range\n",
      "tournament_id: 680637\n"
     ]
    },
    {
     "name": "stderr",
     "output_type": "stream",
     "text": [
      "Traceback (most recent call last):\n",
      "  File \"/var/folders/t6/srtzy2f51db8mxxv7g_63f6h0000gr/T/ipykernel_10127/467779631.py\", line 21, in <cell line: 2>\n",
      "    games_df_list.append(parse_games_df(games_df, players, tour_id).drop_duplicates())\n",
      "  File \"/var/folders/t6/srtzy2f51db8mxxv7g_63f6h0000gr/T/ipykernel_10127/3128065169.py\", line 11, in parse_games_df\n",
      "    temp_cols[rtg_idxs[0]] = \"left_rtg\"\n",
      "IndexError: list index out of range\n"
     ]
    },
    {
     "name": "stdout",
     "output_type": "stream",
     "text": [
      "round: 1\n",
      "list index out of range\n",
      "tournament_id: 680639\n"
     ]
    },
    {
     "name": "stderr",
     "output_type": "stream",
     "text": [
      "Traceback (most recent call last):\n",
      "  File \"/var/folders/t6/srtzy2f51db8mxxv7g_63f6h0000gr/T/ipykernel_10127/467779631.py\", line 21, in <cell line: 2>\n",
      "    games_df_list.append(parse_games_df(games_df, players, tour_id).drop_duplicates())\n",
      "  File \"/var/folders/t6/srtzy2f51db8mxxv7g_63f6h0000gr/T/ipykernel_10127/3128065169.py\", line 11, in parse_games_df\n",
      "    temp_cols[rtg_idxs[0]] = \"left_rtg\"\n",
      "IndexError: list index out of range\n"
     ]
    },
    {
     "name": "stdout",
     "output_type": "stream",
     "text": [
      "round: 1\n",
      "list index out of range\n",
      "tournament_id: 680944\n"
     ]
    },
    {
     "name": "stderr",
     "output_type": "stream",
     "text": [
      "Traceback (most recent call last):\n",
      "  File \"/var/folders/t6/srtzy2f51db8mxxv7g_63f6h0000gr/T/ipykernel_10127/467779631.py\", line 21, in <cell line: 2>\n",
      "    games_df_list.append(parse_games_df(games_df, players, tour_id).drop_duplicates())\n",
      "  File \"/var/folders/t6/srtzy2f51db8mxxv7g_63f6h0000gr/T/ipykernel_10127/3128065169.py\", line 11, in parse_games_df\n",
      "    temp_cols[rtg_idxs[0]] = \"left_rtg\"\n",
      "IndexError: list index out of range\n"
     ]
    },
    {
     "name": "stdout",
     "output_type": "stream",
     "text": [
      "tournament_id: 670153\n",
      "round: 1\n",
      "round: 2\n",
      "round: 3\n",
      "round: 4\n",
      "round: 5\n",
      "round: 6\n",
      "round: 7\n",
      "round: 8\n",
      "round: 9\n",
      "round: 10\n",
      "round: 11\n",
      "tournament_id: 670152\n",
      "round: 1\n",
      "round: 2\n",
      "round: 3\n",
      "round: 4\n",
      "round: 5\n",
      "round: 6\n",
      "round: 7\n",
      "round: 8\n",
      "round: 9\n",
      "round: 10\n",
      "round: 11\n",
      "tournament_id: 670151\n",
      "round: 1\n",
      "round: 2\n",
      "round: 3\n",
      "round: 4\n",
      "round: 5\n",
      "round: 6\n",
      "round: 7\n",
      "round: 8\n",
      "round: 9\n",
      "round: 10\n",
      "round: 11\n",
      "tournament_id: 670150\n",
      "round: 1\n",
      "round: 2\n",
      "round: 3\n",
      "round: 4\n",
      "round: 5\n",
      "round: 6\n",
      "round: 7\n",
      "round: 8\n"
     ]
    }
   ],
   "source": [
    "games_df_list = []\n",
    "for tour_id in tour_ids:\n",
    "    print('tournament_id: {0}'.format(tour_id))\n",
    "    \n",
    "    # Get first tournament\n",
    "    round_id = 1\n",
    "    round_cap = 20\n",
    "    try:\n",
    "        games_df = get_table(round_url.format(tid=tour_id, rid=round_id))\n",
    "    except Exception as e:\n",
    "        print(e)\n",
    "        traceback.print_exc()\n",
    "        continue\n",
    "\n",
    "    while games_df is not None and round_id < round_cap:\n",
    "        print('round: {0}'.format(round_id))\n",
    "        \n",
    "        # Parse current tournament data and append to list\n",
    "        try:\n",
    "            # 11/21 drop duplicates to avoid multiple identical rows bug when joining\n",
    "            games_df_list.append(parse_games_df(games_df, players, tour_id).drop_duplicates())\n",
    "        except Exception as e:\n",
    "            print(e)\n",
    "            traceback.print_exc()\n",
    "            break\n",
    "        \n",
    "        # Get the next tournament's data\n",
    "        round_id += 1\n",
    "        try:\n",
    "            next_games_df = get_table(round_url.format(tid=tour_id, rid=round_id))\n",
    "            if games_df.equals(next_games_df):\n",
    "                games_df = None\n",
    "            else:\n",
    "                games_df = next_games_df\n",
    "        except Exception as e:\n",
    "            print(e)\n",
    "            traceback.print_exc()\n",
    "            break"
   ]
  },
  {
   "cell_type": "code",
   "execution_count": null,
   "id": "28e3c29e",
   "metadata": {},
   "outputs": [],
   "source": []
  },
  {
   "cell_type": "code",
   "execution_count": null,
   "id": "9775fbc5",
   "metadata": {
    "scrolled": true
   },
   "outputs": [],
   "source": [
    "all_games_df = pd.concat(games_df_list)"
   ]
  },
  {
   "cell_type": "code",
   "execution_count": null,
   "id": "d4ec8cdf",
   "metadata": {},
   "outputs": [],
   "source": [
    "# Join with tournament info\n",
    "all_games_df = all_games_df.join(tour_df[['location', 'medium', 'time_control']], on='tournament_id')"
   ]
  },
  {
   "cell_type": "code",
   "execution_count": null,
   "id": "cfef7c12",
   "metadata": {},
   "outputs": [],
   "source": [
    "all_games_df.to_csv('./data/games.csv')"
   ]
  },
  {
   "cell_type": "code",
   "execution_count": null,
   "id": "d1abdf15",
   "metadata": {},
   "outputs": [],
   "source": [
    "all_games_df['medium'].value_counts()"
   ]
  },
  {
   "cell_type": "code",
   "execution_count": null,
   "id": "edb92861",
   "metadata": {},
   "outputs": [],
   "source": [
    "all_games_df[all_games_df['upset_score']>0].shape"
   ]
  },
  {
   "cell_type": "code",
   "execution_count": null,
   "id": "0dceea14",
   "metadata": {},
   "outputs": [],
   "source": [
    "all_games_df.shape"
   ]
  },
  {
   "cell_type": "code",
   "execution_count": null,
   "id": "7b254948",
   "metadata": {},
   "outputs": [],
   "source": []
  },
  {
   "cell_type": "code",
   "execution_count": null,
   "id": "f3fccd7c",
   "metadata": {},
   "outputs": [],
   "source": []
  },
  {
   "cell_type": "code",
   "execution_count": null,
   "id": "b2ab1e17",
   "metadata": {},
   "outputs": [],
   "source": []
  },
  {
   "cell_type": "code",
   "execution_count": null,
   "id": "aea36042",
   "metadata": {},
   "outputs": [],
   "source": []
  },
  {
   "cell_type": "code",
   "execution_count": null,
   "id": "026356f9",
   "metadata": {},
   "outputs": [],
   "source": []
  },
  {
   "cell_type": "code",
   "execution_count": null,
   "id": "3b68832d",
   "metadata": {},
   "outputs": [],
   "source": []
  },
  {
   "cell_type": "code",
   "execution_count": null,
   "id": "9459dd32",
   "metadata": {},
   "outputs": [],
   "source": []
  },
  {
   "cell_type": "code",
   "execution_count": null,
   "id": "b802146e",
   "metadata": {},
   "outputs": [],
   "source": []
  },
  {
   "cell_type": "code",
   "execution_count": null,
   "id": "afc58f24",
   "metadata": {},
   "outputs": [],
   "source": []
  },
  {
   "cell_type": "code",
   "execution_count": null,
   "id": "b1d4ce5d",
   "metadata": {},
   "outputs": [],
   "source": []
  },
  {
   "cell_type": "code",
   "execution_count": null,
   "id": "f905a9b4",
   "metadata": {},
   "outputs": [],
   "source": []
  },
  {
   "cell_type": "code",
   "execution_count": null,
   "id": "12f6287a",
   "metadata": {},
   "outputs": [],
   "source": []
  },
  {
   "cell_type": "code",
   "execution_count": null,
   "id": "de34dbdb",
   "metadata": {},
   "outputs": [],
   "source": []
  },
  {
   "cell_type": "code",
   "execution_count": null,
   "id": "be87be85",
   "metadata": {},
   "outputs": [],
   "source": []
  },
  {
   "cell_type": "code",
   "execution_count": null,
   "id": "13fd3f6b",
   "metadata": {},
   "outputs": [],
   "source": []
  },
  {
   "cell_type": "code",
   "execution_count": null,
   "id": "f4b5bdd4",
   "metadata": {},
   "outputs": [],
   "source": []
  },
  {
   "cell_type": "code",
   "execution_count": null,
   "id": "11d3db81",
   "metadata": {},
   "outputs": [],
   "source": []
  }
 ],
 "metadata": {
  "kernelspec": {
   "display_name": "Python 3 (ipykernel)",
   "language": "python",
   "name": "python3"
  },
  "language_info": {
   "codemirror_mode": {
    "name": "ipython",
    "version": 3
   },
   "file_extension": ".py",
   "mimetype": "text/x-python",
   "name": "python",
   "nbconvert_exporter": "python",
   "pygments_lexer": "ipython3",
   "version": "3.10.4"
  }
 },
 "nbformat": 4,
 "nbformat_minor": 5
}
