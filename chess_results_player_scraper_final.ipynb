{
  "nbformat": 4,
  "nbformat_minor": 0,
  "metadata": {
    "colab": {
      "provenance": []
    },
    "kernelspec": {
      "name": "python3",
      "display_name": "Python 3"
    },
    "language_info": {
      "name": "python"
    }
  },
  "cells": [
    {
      "cell_type": "code",
      "execution_count": 4,
      "metadata": {
        "colab": {
          "base_uri": "https://localhost:8080/"
        },
        "id": "T693HWOulPZg",
        "outputId": "c0562717-903e-410b-baaa-42e8abb5e810"
      },
      "outputs": [
        {
          "output_type": "stream",
          "name": "stdout",
          "text": [
            "Looking in indexes: https://pypi.org/simple, https://us-python.pkg.dev/colab-wheels/public/simple/\n",
            "Requirement already satisfied: selenium in /usr/local/lib/python3.7/dist-packages (4.6.0)\n",
            "Requirement already satisfied: urllib3[socks]~=1.26 in /usr/local/lib/python3.7/dist-packages (from selenium) (1.26.12)\n",
            "Requirement already satisfied: certifi>=2021.10.8 in /usr/local/lib/python3.7/dist-packages (from selenium) (2022.9.24)\n",
            "Requirement already satisfied: trio~=0.17 in /usr/local/lib/python3.7/dist-packages (from selenium) (0.22.0)\n",
            "Requirement already satisfied: trio-websocket~=0.9 in /usr/local/lib/python3.7/dist-packages (from selenium) (0.9.2)\n",
            "Requirement already satisfied: attrs>=19.2.0 in /usr/local/lib/python3.7/dist-packages (from trio~=0.17->selenium) (22.1.0)\n",
            "Requirement already satisfied: sortedcontainers in /usr/local/lib/python3.7/dist-packages (from trio~=0.17->selenium) (2.4.0)\n",
            "Requirement already satisfied: idna in /usr/local/lib/python3.7/dist-packages (from trio~=0.17->selenium) (2.10)\n",
            "Requirement already satisfied: sniffio in /usr/local/lib/python3.7/dist-packages (from trio~=0.17->selenium) (1.3.0)\n",
            "Requirement already satisfied: async-generator>=1.9 in /usr/local/lib/python3.7/dist-packages (from trio~=0.17->selenium) (1.10)\n",
            "Requirement already satisfied: outcome in /usr/local/lib/python3.7/dist-packages (from trio~=0.17->selenium) (1.2.0)\n",
            "Requirement already satisfied: exceptiongroup>=1.0.0rc9 in /usr/local/lib/python3.7/dist-packages (from trio~=0.17->selenium) (1.0.4)\n",
            "Requirement already satisfied: wsproto>=0.14 in /usr/local/lib/python3.7/dist-packages (from trio-websocket~=0.9->selenium) (1.2.0)\n",
            "Requirement already satisfied: PySocks!=1.5.7,<2.0,>=1.5.6 in /usr/local/lib/python3.7/dist-packages (from urllib3[socks]~=1.26->selenium) (1.7.1)\n",
            "Requirement already satisfied: h11<1,>=0.9.0 in /usr/local/lib/python3.7/dist-packages (from wsproto>=0.14->trio-websocket~=0.9->selenium) (0.14.0)\n",
            "Requirement already satisfied: typing-extensions in /usr/local/lib/python3.7/dist-packages (from h11<1,>=0.9.0->wsproto>=0.14->trio-websocket~=0.9->selenium) (4.1.1)\n",
            "Hit:1 https://cloud.r-project.org/bin/linux/ubuntu bionic-cran40/ InRelease\n",
            "Ign:2 https://developer.download.nvidia.com/compute/machine-learning/repos/ubuntu1804/x86_64  InRelease\n",
            "Hit:3 https://developer.download.nvidia.com/compute/cuda/repos/ubuntu1804/x86_64  InRelease\n",
            "Hit:4 https://developer.download.nvidia.com/compute/machine-learning/repos/ubuntu1804/x86_64  Release\n",
            "Hit:5 http://security.ubuntu.com/ubuntu bionic-security InRelease\n",
            "Hit:6 http://ppa.launchpad.net/c2d4u.team/c2d4u4.0+/ubuntu bionic InRelease\n",
            "Hit:7 http://archive.ubuntu.com/ubuntu bionic InRelease\n",
            "Hit:8 http://archive.ubuntu.com/ubuntu bionic-updates InRelease\n",
            "Hit:9 http://ppa.launchpad.net/cran/libgit2/ubuntu bionic InRelease\n",
            "Hit:10 http://archive.ubuntu.com/ubuntu bionic-backports InRelease\n",
            "Hit:12 http://ppa.launchpad.net/deadsnakes/ppa/ubuntu bionic InRelease\n",
            "Hit:13 http://ppa.launchpad.net/graphics-drivers/ppa/ubuntu bionic InRelease\n",
            "Reading package lists... Done\n",
            "Reading package lists... Done\n",
            "Building dependency tree       \n",
            "Reading state information... Done\n",
            "chromium-chromedriver is already the newest version (107.0.5304.87-0ubuntu11.18.04.1).\n",
            "The following package was automatically installed and is no longer required:\n",
            "  libnvidia-common-460\n",
            "Use 'apt autoremove' to remove it.\n",
            "0 upgraded, 0 newly installed, 0 to remove and 5 not upgraded.\n",
            "cp: '/usr/lib/chromium-browser/chromedriver' and '/usr/bin/chromedriver' are the same file\n"
          ]
        }
      ],
      "source": [
        "!pip install selenium\n",
        "!apt-get update # to update ubuntu to correctly run apt install\n",
        "!apt install chromium-chromedriver\n",
        "!cp /usr/lib/chromium-browser/chromedriver /usr/bin\n",
        "import sys\n",
        "sys.path.insert(0,'/usr/lib/chromium-browser/chromedriver')\n",
        "from selenium import webdriver\n",
        "chrome_options = webdriver.ChromeOptions()\n",
        "chrome_options.add_argument('--headless')\n",
        "chrome_options.add_argument('--no-sandbox')\n",
        "chrome_options.add_argument('--disable-dev-shm-usage')"
      ]
    },
    {
      "cell_type": "code",
      "source": [
        "from bs4 import BeautifulSoup\n",
        "import requests\n",
        "from tqdm import tqdm"
      ],
      "metadata": {
        "id": "5xYjagw69ie_"
      },
      "execution_count": 5,
      "outputs": []
    },
    {
      "cell_type": "markdown",
      "source": [
        "## Part 1\n",
        "\n",
        "Goal: given a \n",
        "- FIDE ID (corresponding to a player)\n",
        "- date1\n",
        "- date2\n",
        "- threshold\n",
        "\n",
        "output\n",
        "- Number of tournaments played with end date between date1 and date2 (inclusive)\n",
        "- Number of games played during those tournaments\n",
        "- Number of wins, losses, draws as black\n",
        "- Number of wins, losses, draws as white\n",
        "- PENDING: Number of wins, losses, draws against higher rated player (defined as having a rating of >= player rating + threshold). \n",
        "- PENDING: Number of wins, losses, draws against equal or lower rated player (defined as having a rating of < player rating + threshold).\n",
        "\n",
        "IN CALCULATING THE LAST TWO BULLET POINTS, EXCLUDE GAMES WHICH INVOLVE PLAYERS OF ZERO RATING (FIRST TIME IN A TOURNAMENT; NO RATING -> 0 IS NOT AN ACCURATE REPRESENTATION OF THEIR RATING). ALSO, ONLY INTERNATIONAL (FIDE) RATINGS ARE CONSIDERED\n",
        "\n",
        "Remarks:\n",
        "1. Number of wins, losses, draws might not sum to total number of games, since a minority of games do not have results"
      ],
      "metadata": {
        "id": "OTzB0vwJlTP8"
      }
    },
    {
      "cell_type": "code",
      "source": [
        "def get_chess_result_data(fide_id_input, date1_input, date2_input, threshold):\n",
        "  ### ex: fide_id_input = 25829092; date1_input = 20160101; date2_input = 20220101, threshold = 150\n",
        "  \n",
        "  wd = webdriver.Chrome('chromedriver',options=chrome_options)\n",
        "  wd.get(\"https://chess-results.com/SpielerSuche.aspx?lan=1\")\n",
        "\n",
        "  fide_id = wd.find_element(\"name\", \"ctl00$P1$txt_fideID\")\n",
        "  fide_id.click()\n",
        "  fide_id.send_keys(fide_id_input)\n",
        "\n",
        "  date1 = wd.find_element(\"name\", \"ctl00$P1$txt_von_tag\")\n",
        "  date1.click()\n",
        "  date1.send_keys(date1_input)\n",
        "\n",
        "  date2 = wd.find_element(\"name\", \"ctl00$P1$txt_bis_tag\")\n",
        "  date2.click()\n",
        "  date2.send_keys(date2_input)\n",
        "\n",
        "  button = wd.find_element(\"name\", \"ctl00$P1$cb_suchen\")\n",
        "  button.click()\n",
        "\n",
        "  html_from_page = wd.page_source\n",
        "  soup = BeautifulSoup(html_from_page)\n",
        "\n",
        "  tournament_links = [x['href'] for x in soup.find_all('a', href=True)]\n",
        "  tournament_links = [link for link in tournament_links if link.startswith('tnr') and '&snr=' in link]  \n",
        "\n",
        "  n_tournaments = 0\n",
        "  n_games = 0\n",
        "  n_wins_white = 0\n",
        "  n_losses_white = 0\n",
        "  n_draws_white = 0\n",
        "  n_wins_black = 0\n",
        "  n_losses_black = 0\n",
        "  n_draws_black = 0\n",
        "  n_wins_higher = 0\n",
        "  n_draws_higher = 0\n",
        "  n_losses_higher = 0\n",
        "  n_wins_lower = 0\n",
        "  n_draws_lower = 0\n",
        "  n_losses_lower = 0\n",
        "\n",
        "  for link in tqdm(tournament_links):\n",
        "    cur_link = \"https://chess-results.com/\" + link\n",
        "    try:\n",
        "      html_page = requests.get(cur_link)\n",
        "      soup = BeautifulSoup(html_page.text)\n",
        "      black = soup.find_all(\"div\", {\"class\":\"FarbesT\"})\n",
        "      white = soup.find_all(\"div\", {\"class\":\"FarbewT\"})\n",
        "      if len(black) + len(white) > 0:\n",
        "        n_tournaments += 1\n",
        "        n_games += len(white) + len(black)\n",
        "        white_result = [x.findNext('td').text for x in white]\n",
        "        black_result = [x.findNext('td').text for x in black]\n",
        "        white_win = white_result.count('1')\n",
        "        white_loss = white_result.count('0')\n",
        "        white_draw = white_result.count('½')\n",
        "        black_win = black_result.count('1')\n",
        "        black_loss = black_result.count('0')\n",
        "        black_draw = black_result.count('½')\n",
        "        n_wins_white += white_win\n",
        "        n_losses_white += white_loss\n",
        "        n_draws_white += white_draw\n",
        "        n_wins_black += black_win\n",
        "        n_losses_black += black_loss\n",
        "        n_draws_black += black_draw\n",
        "    \n",
        "        rating = 0\n",
        "        rating_international = 0\n",
        "\n",
        "        if len(soup.findAll(text='Rating')) > 0:\n",
        "          rating = int(soup.find(text='Rating').findNext('td').text)\n",
        "\n",
        "        if len(soup.findAll(text='Rating international')) > 0:\n",
        "          rating_international = int(soup.find(text='Rating international').findNext('td').text)\n",
        "        \n",
        "        if rating + rating_international > 0:\n",
        "          col_names = [x.text for x in soup.find(\"tr\", {\"class\":\"CRg1b\"}).findAll(\"td\", {\"class\":\"CRr\"})]\n",
        "          if 'Rtg' in col_names:\n",
        "            idx = col_names.index('Rtg')\n",
        "          elif 'RtgI' in col_names:\n",
        "            idx = col_names.index('RtgI')\n",
        "          \n",
        "          rating_player = rating if rating > 0 else rating_international\n",
        "\n",
        "          crg1s = soup.findAll(\"tr\", {\"class\":\"CRg1\"})\n",
        "          crg2s = soup.findAll(\"tr\", {\"class\":\"CRg2\"})\n",
        "\n",
        "          for crg in crg1s + crg2s:\n",
        "            rating_opponent = int(crg.findAll(\"td\", {\"class\":\"CRr\"})[idx].text)\n",
        "            if rating_opponent > 0:\n",
        "              crg_str = str(crg)\n",
        "              if 'FarbesT' in crg_str or 'FarbewT' in crg_str:\n",
        "                score = crg.findNext('div').findNext('td').text\n",
        "                if rating_opponent >= rating_player + threshold:\n",
        "                  n_wins_higher += 1 if score == '1' else 0\n",
        "                  n_losses_higher += 1 if score == '0' else 0\n",
        "                  n_draws_higher += 1 if score == '½' else 0\n",
        "                else:\n",
        "                  n_wins_lower += 1 if score == '1' else 0\n",
        "                  n_losses_lower += 1 if score == '0' else 0\n",
        "                  n_draws_lower += 1 if score == '½' else 0\n",
        "    except:\n",
        "      continue\n",
        "  \n",
        "  return (n_tournaments, n_games, n_wins_white, n_losses_white, \n",
        "          n_draws_white, n_wins_black, n_losses_black, n_draws_black,\n",
        "          n_wins_higher, n_losses_higher, n_draws_higher,\n",
        "          n_wins_lower, n_losses_lower, n_draws_lower)"
      ],
      "metadata": {
        "id": "WbHyZH9q8yWx"
      },
      "execution_count": 86,
      "outputs": []
    },
    {
      "cell_type": "code",
      "source": [
        "get_chess_result_data(2093596, 20180101, 20220101, 150)"
      ],
      "metadata": {
        "colab": {
          "base_uri": "https://localhost:8080/"
        },
        "id": "WeHL5RCdVY3z",
        "outputId": "96e71388-8fa9-4aa5-eb08-ec9b3aabd4f3"
      },
      "execution_count": 87,
      "outputs": [
        {
          "output_type": "stream",
          "name": "stderr",
          "text": [
            "100%|██████████| 41/41 [00:27<00:00,  1.48it/s]\n"
          ]
        },
        {
          "output_type": "execute_result",
          "data": {
            "text/plain": [
              "(40, 380, 120, 25, 43, 95, 47, 50, 19, 13, 11, 196, 59, 82)"
            ]
          },
          "metadata": {},
          "execution_count": 87
        }
      ]
    },
    {
      "cell_type": "code",
      "source": [
        "get_chess_result_data(25829092, 20180101, 20220101, 150)"
      ],
      "metadata": {
        "colab": {
          "base_uri": "https://localhost:8080/"
        },
        "id": "z79kf98X2E88",
        "outputId": "16fc2a0d-4b92-41bd-9811-cd31674e80da"
      },
      "execution_count": 88,
      "outputs": [
        {
          "output_type": "stream",
          "name": "stderr",
          "text": [
            "100%|██████████| 9/9 [00:06<00:00,  1.40it/s]\n"
          ]
        },
        {
          "output_type": "execute_result",
          "data": {
            "text/plain": [
              "(8, 52, 14, 11, 2, 16, 8, 1, 8, 14, 0, 18, 5, 2)"
            ]
          },
          "metadata": {},
          "execution_count": 88
        }
      ]
    },
    {
      "cell_type": "markdown",
      "source": [
        "# Part 2\n",
        "\n",
        "Goal: given \n",
        "- two FIDE IDs (representing 2 players: player 1 and player 2)\n",
        "- date1\n",
        "- date2\n",
        "\n",
        "output \n",
        "- How many times they played each other in a tournament in which the end date is between date1 and date2 (inclusive)\n",
        "- How many times player 1 wins, draws or loses against player 2\n",
        "\n",
        "Remarks:\n",
        "1. Number of wins, losses, draws might not sum to total number of games, since a minority of games do not have results"
      ],
      "metadata": {
        "id": "GHCc50EX2eLA"
      }
    },
    {
      "cell_type": "code",
      "source": [
        "def get_h2h_record(fide_id_1_input, fide_id_2_input, date1_input, date2_input):\n",
        "  ### ex: fide_id_1_input = 1503014; fide_id_2_input = 2093596; date1_input = 20100101, date2_input = 20220101\n",
        "  ### variable name === magnus = player 1; hans = player 2 (for simplicity)\n",
        "  wd = webdriver.Chrome('chromedriver',options=chrome_options)\n",
        "  wd.get(\"https://chess-results.com/SpielerSuche.aspx?lan=1\")\n",
        "\n",
        "  fide_id = wd.find_element(\"name\", \"ctl00$P1$txt_fideID\")\n",
        "  fide_id.click()\n",
        "  fide_id.send_keys(fide_id_1_input)\n",
        "\n",
        "  date1 = wd.find_element(\"name\", \"ctl00$P1$txt_von_tag\")\n",
        "  date1.click()\n",
        "  date1.send_keys(date1_input)\n",
        "\n",
        "  date2 = wd.find_element(\"name\", \"ctl00$P1$txt_bis_tag\")\n",
        "  date2.click()\n",
        "  date2.send_keys(date2_input)\n",
        "\n",
        "  button = wd.find_element(\"name\", \"ctl00$P1$cb_suchen\")\n",
        "  button.click()\n",
        "\n",
        "  html_from_page = wd.page_source\n",
        "  soup_magnus = BeautifulSoup(html_from_page)\n",
        "\n",
        "  print('Player 1 html loaded')\n",
        "\n",
        "  tournament_links = [x['href'] for x in soup_magnus.find_all('a', href=True)]\n",
        "  tournament_links_magnus_all = [link for link in tournament_links if link.startswith('tnr') and '&snr=' not in link]  \n",
        "  tournament_links_magnus = [link for link in tournament_links if link.startswith('tnr') and '&snr=' in link]  \n",
        "\n",
        "  wd = webdriver.Chrome('chromedriver',options=chrome_options)\n",
        "  wd.get(\"https://chess-results.com/SpielerSuche.aspx?lan=1\")\n",
        "\n",
        "  fide_id = wd.find_element(\"name\", \"ctl00$P1$txt_fideID\")\n",
        "  fide_id.click()\n",
        "  fide_id.send_keys(fide_id_2_input)\n",
        "\n",
        "  date1 = wd.find_element(\"name\", \"ctl00$P1$txt_von_tag\")\n",
        "  date1.click()\n",
        "  date1.send_keys(date1_input)\n",
        "\n",
        "  date2 = wd.find_element(\"name\", \"ctl00$P1$txt_bis_tag\")\n",
        "  date2.click()\n",
        "  date2.send_keys(date2_input)\n",
        "\n",
        "  button = wd.find_element(\"name\", \"ctl00$P1$cb_suchen\")\n",
        "  button.click()\n",
        "\n",
        "  html_from_page = wd.page_source\n",
        "  soup_hans = BeautifulSoup(html_from_page)\n",
        "\n",
        "  print('Player 2 html loaded')\n",
        "\n",
        "  tournament_links = [x['href'] for x in soup_hans.find_all('a', href=True)]\n",
        "  tournament_links_hans_all = [link for link in tournament_links if link.startswith('tnr') and '&snr=' not in link]  \n",
        "  tournament_links_hans = [link for link in tournament_links if link.startswith('tnr') and '&snr=' in link]  \n",
        "\n",
        "  common_tournaments = []\n",
        "  for x in tournament_links_magnus_all:\n",
        "    if x in tournament_links_hans_all:\n",
        "      common_tournaments.append(x)\n",
        "\n",
        "\n",
        "  print('Common tournaments: ', common_tournaments)\n",
        "\n",
        "  n_peo = 0\n",
        "  n_wins = 0\n",
        "  n_losses = 0\n",
        "  n_draws = 0\n",
        "\n",
        "  for common_tournament in common_tournaments:\n",
        "    try:\n",
        "      hans_name = soup_hans.select(\"a[href*=\" + common_tournament + \"]\")[0].text\n",
        "      magnus_tournament = [x for x in tournament_links_magnus if x.startswith(common_tournament)][0]\n",
        "      cur_link = \"https://chess-results.com/\" + magnus_tournament\n",
        "      html_page = requests.get(cur_link)\n",
        "      soup = BeautifulSoup(html_page.text)\n",
        "\n",
        "      crg1s = soup.findAll(\"tr\", {\"class\":\"CRg1\"})\n",
        "      crg2s = soup.findAll(\"tr\", {\"class\":\"CRg2\"})\n",
        "\n",
        "      for crg in crg1s + crg2s:\n",
        "        crg_str = str(crg)\n",
        "        if hans_name in crg_str:\n",
        "          n_peo += 1\n",
        "          if 'FarbesT' in crg_str or 'FarbewT' in crg_str:\n",
        "            score = crg.findNext('div').findNext('td').text\n",
        "            if score == '1':\n",
        "              n_wins += 1\n",
        "            elif score == '0':\n",
        "              n_losses += 1\n",
        "            elif score == '½':\n",
        "              n_draws += 1\n",
        "    except:\n",
        "      continue\n",
        "  \n",
        "  return (n_peo, n_wins, n_losses, n_draws)"
      ],
      "metadata": {
        "id": "_9PrMcXa2faQ"
      },
      "execution_count": 122,
      "outputs": []
    },
    {
      "cell_type": "code",
      "source": [
        "get_h2h_record(1503014, 2093596, 20100101, 20221030)"
      ],
      "metadata": {
        "colab": {
          "base_uri": "https://localhost:8080/"
        },
        "id": "9zJP4BfF-HJF",
        "outputId": "7e2d3edb-e4e9-41a4-c0d0-d675c3723781"
      },
      "execution_count": 123,
      "outputs": [
        {
          "output_type": "stream",
          "name": "stdout",
          "text": [
            "Player 1 html loaded\n",
            "Player 2 html loaded\n",
            "Common tournaments:  ['tnr670809.aspx?lan=1', 'tnr685311.aspx?lan=1', 'tnr600854.aspx?lan=1', 'tnr600852.aspx?lan=1']\n"
          ]
        },
        {
          "output_type": "execute_result",
          "data": {
            "text/plain": [
              "(1, 0, 0, 0)"
            ]
          },
          "metadata": {},
          "execution_count": 123
        }
      ]
    },
    {
      "cell_type": "markdown",
      "source": [
        "As we know, Magnus and Hans played before numerous times... it's just that this database does not contain all the matches\n",
        "\n",
        "The 1 comes from Magnus's withdrawal from the Sinquefield Cup\n",
        "\n",
        "FIDE website also outputs no games between these 2 players: https://ratings.fide.com/view_games.phtml?event=&id=1503014&opp=2093596\n",
        "\n",
        "Let's try Magnus vs Hikaru Nakamura"
      ],
      "metadata": {
        "id": "W6PiDdze-9I5"
      }
    },
    {
      "cell_type": "code",
      "source": [
        "get_h2h_record(1503014, 2016192, 20100101, 20221030)"
      ],
      "metadata": {
        "colab": {
          "base_uri": "https://localhost:8080/"
        },
        "id": "9vSQ52IN-HPl",
        "outputId": "0844c8da-41cc-4905-a3e6-a73a872ffb59"
      },
      "execution_count": 124,
      "outputs": [
        {
          "output_type": "stream",
          "name": "stdout",
          "text": [
            "Player 1 html loaded\n",
            "Player 2 html loaded\n",
            "Common tournaments:  ['tnr125752.aspx?lan=1', 'tnr125754.aspx?lan=1', 'tnr125755.aspx?lan=1', 'tnr295251.aspx?lan=1', 'tnr371468.aspx?lan=1', 'tnr437799.aspx?lan=1', 'tnr437793.aspx?lan=1', 'tnr499129.aspx?lan=1', 'tnr499127.aspx?lan=1', 'tnr463282.aspx?lan=1', 'tnr36795.aspx?lan=1', 'tnr140380.aspx?lan=1', 'tnr232875.aspx?lan=1', 'tnr317162.aspx?lan=1', 'tnr51861.aspx?lan=1', 'tnr544530.aspx?lan=1', 'tnr548204.aspx?lan=1', 'tnr541412.aspx?lan=1', 'tnr541719.aspx?lan=1', 'tnr303618.aspx?lan=1', 'tnr529081.aspx?lan=1', 'tnr448344.aspx?lan=1', 'tnr71817.aspx?lan=1', 'tnr478041.aspx?lan=1', 'tnr255851.aspx?lan=1', 'tnr269184.aspx?lan=1', 'tnr255559.aspx?lan=1', 'tnr138146.aspx?lan=1', 'tnr137973.aspx?lan=1', 'tnr226000.aspx?lan=1', 'tnr225993.aspx?lan=1', 'tnr399597.aspx?lan=1', 'tnr399595.aspx?lan=1', 'tnr51144.aspx?lan=1', 'tnr527567.aspx?lan=1', 'tnr558150.aspx?lan=1', 'tnr561139.aspx?lan=1', 'tnr562342.aspx?lan=1', 'tnr552132.aspx?lan=1', 'tnr110415.aspx?lan=1', 'tnr143628.aspx?lan=1', 'tnr184011.aspx?lan=1', 'tnr60180.aspx?lan=1', 'tnr491101.aspx?lan=1', 'tnr491092.aspx?lan=1', 'tnr633134.aspx?lan=1', 'tnr600854.aspx?lan=1', 'tnr600852.aspx?lan=1']\n"
          ]
        },
        {
          "output_type": "execute_result",
          "data": {
            "text/plain": [
              "(47, 15, 0, 32)"
            ]
          },
          "metadata": {},
          "execution_count": 124
        }
      ]
    },
    {
      "cell_type": "markdown",
      "source": [
        "FIDE result outputs 21 games.. we managed to get more games since we consider all games (even without PGN): https://ratings.fide.com/view_games.phtml?event=&id=1503014&opp=2016192"
      ],
      "metadata": {
        "id": "C4z34fuo_zEN"
      }
    }
  ]
}