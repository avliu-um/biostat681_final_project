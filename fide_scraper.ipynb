{
  "nbformat": 4,
  "nbformat_minor": 0,
  "metadata": {
    "colab": {
      "provenance": []
    },
    "kernelspec": {
      "name": "python3",
      "display_name": "Python 3"
    },
    "language_info": {
      "name": "python"
    }
  },
  "cells": [
    {
      "cell_type": "code",
      "execution_count": 1,
      "metadata": {
        "id": "LQDhkssvhW_u"
      },
      "outputs": [],
      "source": [
        "import requests\n",
        "from bs4 import BeautifulSoup"
      ]
    },
    {
      "cell_type": "markdown",
      "source": [
        "Goal: given a FIDE ID (corresponding to a player), output\n",
        "- Player name (as in the FIDE page)\n",
        "- Federation (country)\n",
        "- Year of birth\n",
        "- Sex"
      ],
      "metadata": {
        "id": "58qcJqECiyZM"
      }
    },
    {
      "cell_type": "code",
      "source": [
        "def get_player_basic_info(fide_id):\n",
        "  ## input = string FIDE ID\n",
        "  try:\n",
        "    url = \"https://ratings.fide.com/profile/\" + fide_id\n",
        "    page = requests.get(url)\n",
        "    soup = BeautifulSoup(page.text)\n",
        "    name = soup.find(\"div\", {\"class\":\"col-lg-8 profile-top-title\"}).text.strip()\n",
        "    other_data = soup.find_all(\"div\", {\"class\":\"profile-top-info__block__row__data\"})\n",
        "    fed = other_data[1].text.strip()\n",
        "    yob = int(other_data[3].text.strip())\n",
        "    sex = other_data[4].text.strip()\n",
        "    return (name, fed, yob, sex)\n",
        "  except:\n",
        "    print(\"FIDE ID invalid\")"
      ],
      "metadata": {
        "id": "toFoqPtYixUx"
      },
      "execution_count": 30,
      "outputs": []
    },
    {
      "cell_type": "code",
      "source": [
        "get_player_basic_info('2093596')"
      ],
      "metadata": {
        "colab": {
          "base_uri": "https://localhost:8080/"
        },
        "id": "OJ6BjySZjCxs",
        "outputId": "b4d59a01-2d6f-469e-a155-755cc5faeb52"
      },
      "execution_count": 31,
      "outputs": [
        {
          "output_type": "execute_result",
          "data": {
            "text/plain": [
              "('Niemann, Hans Moke', 'United States of America', 2003, 'Male')"
            ]
          },
          "metadata": {},
          "execution_count": 31
        }
      ]
    },
    {
      "cell_type": "code",
      "source": [
        "get_player_basic_info('2603365')"
      ],
      "metadata": {
        "colab": {
          "base_uri": "https://localhost:8080/"
        },
        "id": "bGSTKl67jC0H",
        "outputId": "23797610-0464-4065-986d-62ac20a30fa4"
      },
      "execution_count": 32,
      "outputs": [
        {
          "output_type": "execute_result",
          "data": {
            "text/plain": [
              "('Botez, Alexandra', 'Canada', 1995, 'Female')"
            ]
          },
          "metadata": {},
          "execution_count": 32
        }
      ]
    },
    {
      "cell_type": "code",
      "source": [
        "get_player_basic_info('12')"
      ],
      "metadata": {
        "colab": {
          "base_uri": "https://localhost:8080/"
        },
        "id": "tF9n7hsqkE-1",
        "outputId": "e2b65020-48d4-4ae0-a06b-0d56582eca4c"
      },
      "execution_count": 33,
      "outputs": [
        {
          "output_type": "stream",
          "name": "stdout",
          "text": [
            "FIDE ID invalid\n"
          ]
        }
      ]
    }
  ]
}