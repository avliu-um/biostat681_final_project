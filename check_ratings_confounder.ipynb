{
 "cells": [
  {
   "cell_type": "code",
   "execution_count": 1,
   "id": "a578fece",
   "metadata": {},
   "outputs": [],
   "source": [
    "import pandas as pd"
   ]
  },
  {
   "cell_type": "code",
   "execution_count": null,
   "id": "ac291132",
   "metadata": {},
   "outputs": [],
   "source": []
  },
  {
   "cell_type": "code",
   "execution_count": null,
   "id": "3cffc94f",
   "metadata": {},
   "outputs": [],
   "source": []
  },
  {
   "cell_type": "code",
   "execution_count": null,
   "id": "ef66e826",
   "metadata": {},
   "outputs": [],
   "source": []
  },
  {
   "cell_type": "code",
   "execution_count": 10,
   "id": "346cd796",
   "metadata": {},
   "outputs": [],
   "source": [
    "df = pd.read_csv('games_200_22.csv')"
   ]
  },
  {
   "cell_type": "code",
   "execution_count": 11,
   "id": "bd35da12",
   "metadata": {},
   "outputs": [
    {
     "data": {
      "text/html": [
       "<div>\n",
       "<style scoped>\n",
       "    .dataframe tbody tr th:only-of-type {\n",
       "        vertical-align: middle;\n",
       "    }\n",
       "\n",
       "    .dataframe tbody tr th {\n",
       "        vertical-align: top;\n",
       "    }\n",
       "\n",
       "    .dataframe thead th {\n",
       "        text-align: right;\n",
       "    }\n",
       "</style>\n",
       "<table border=\"1\" class=\"dataframe\">\n",
       "  <thead>\n",
       "    <tr style=\"text-align: right;\">\n",
       "      <th></th>\n",
       "      <th>Unnamed: 0</th>\n",
       "      <th>tournament_id</th>\n",
       "      <th>start_date</th>\n",
       "      <th>medium</th>\n",
       "      <th>country</th>\n",
       "      <th>time_control</th>\n",
       "      <th>left_fide_id</th>\n",
       "      <th>left_rtg</th>\n",
       "      <th>left_country</th>\n",
       "      <th>left_age</th>\n",
       "      <th>...</th>\n",
       "      <th>right_age</th>\n",
       "      <th>right_sex</th>\n",
       "      <th>upset_score</th>\n",
       "      <th>upset</th>\n",
       "      <th>left_home_country</th>\n",
       "      <th>right_home_country</th>\n",
       "      <th>age_diff</th>\n",
       "      <th>home_country_diff</th>\n",
       "      <th>players_sex</th>\n",
       "      <th>rating_diff</th>\n",
       "    </tr>\n",
       "  </thead>\n",
       "  <tbody>\n",
       "    <tr>\n",
       "      <th>0</th>\n",
       "      <td>0</td>\n",
       "      <td>686540.0</td>\n",
       "      <td>2022/10/21</td>\n",
       "      <td>offline</td>\n",
       "      <td>Malta</td>\n",
       "      <td>standard</td>\n",
       "      <td>9307010.0</td>\n",
       "      <td>1362.0</td>\n",
       "      <td>United Arab Emirates</td>\n",
       "      <td>23</td>\n",
       "      <td>...</td>\n",
       "      <td>27</td>\n",
       "      <td>Female</td>\n",
       "      <td>103.0</td>\n",
       "      <td>1</td>\n",
       "      <td>0</td>\n",
       "      <td>0</td>\n",
       "      <td>-4</td>\n",
       "      <td>0</td>\n",
       "      <td>FF</td>\n",
       "      <td>206.0</td>\n",
       "    </tr>\n",
       "    <tr>\n",
       "      <th>1</th>\n",
       "      <td>1</td>\n",
       "      <td>669871.0</td>\n",
       "      <td>2022/10/21</td>\n",
       "      <td>offline</td>\n",
       "      <td>Malta</td>\n",
       "      <td>standard</td>\n",
       "      <td>2903784.0</td>\n",
       "      <td>2255.0</td>\n",
       "      <td>Bulgaria</td>\n",
       "      <td>46</td>\n",
       "      <td>...</td>\n",
       "      <td>25</td>\n",
       "      <td>Male</td>\n",
       "      <td>220.0</td>\n",
       "      <td>1</td>\n",
       "      <td>0</td>\n",
       "      <td>0</td>\n",
       "      <td>21</td>\n",
       "      <td>0</td>\n",
       "      <td>MM</td>\n",
       "      <td>220.0</td>\n",
       "    </tr>\n",
       "    <tr>\n",
       "      <th>2</th>\n",
       "      <td>2</td>\n",
       "      <td>669871.0</td>\n",
       "      <td>2022/10/21</td>\n",
       "      <td>offline</td>\n",
       "      <td>Malta</td>\n",
       "      <td>standard</td>\n",
       "      <td>2007606.0</td>\n",
       "      <td>2246.0</td>\n",
       "      <td>United States of America</td>\n",
       "      <td>58</td>\n",
       "      <td>...</td>\n",
       "      <td>36</td>\n",
       "      <td>Male</td>\n",
       "      <td>213.0</td>\n",
       "      <td>1</td>\n",
       "      <td>0</td>\n",
       "      <td>0</td>\n",
       "      <td>22</td>\n",
       "      <td>0</td>\n",
       "      <td>MM</td>\n",
       "      <td>213.0</td>\n",
       "    </tr>\n",
       "    <tr>\n",
       "      <th>3</th>\n",
       "      <td>3</td>\n",
       "      <td>669871.0</td>\n",
       "      <td>2022/10/21</td>\n",
       "      <td>offline</td>\n",
       "      <td>Malta</td>\n",
       "      <td>standard</td>\n",
       "      <td>3803392.0</td>\n",
       "      <td>2243.0</td>\n",
       "      <td>Spain</td>\n",
       "      <td>29</td>\n",
       "      <td>...</td>\n",
       "      <td>66</td>\n",
       "      <td>Male</td>\n",
       "      <td>0.0</td>\n",
       "      <td>0</td>\n",
       "      <td>0</td>\n",
       "      <td>0</td>\n",
       "      <td>-37</td>\n",
       "      <td>0</td>\n",
       "      <td>MM</td>\n",
       "      <td>211.0</td>\n",
       "    </tr>\n",
       "    <tr>\n",
       "      <th>4</th>\n",
       "      <td>4</td>\n",
       "      <td>669871.0</td>\n",
       "      <td>2022/10/21</td>\n",
       "      <td>offline</td>\n",
       "      <td>Malta</td>\n",
       "      <td>standard</td>\n",
       "      <td>1170791.0</td>\n",
       "      <td>2226.0</td>\n",
       "      <td>Poland</td>\n",
       "      <td>27</td>\n",
       "      <td>...</td>\n",
       "      <td>41</td>\n",
       "      <td>Male</td>\n",
       "      <td>204.0</td>\n",
       "      <td>1</td>\n",
       "      <td>0</td>\n",
       "      <td>0</td>\n",
       "      <td>-14</td>\n",
       "      <td>0</td>\n",
       "      <td>MM</td>\n",
       "      <td>204.0</td>\n",
       "    </tr>\n",
       "  </tbody>\n",
       "</table>\n",
       "<p>5 rows × 24 columns</p>\n",
       "</div>"
      ],
      "text/plain": [
       "   Unnamed: 0  tournament_id  start_date   medium country time_control  \\\n",
       "0           0       686540.0  2022/10/21  offline   Malta     standard   \n",
       "1           1       669871.0  2022/10/21  offline   Malta     standard   \n",
       "2           2       669871.0  2022/10/21  offline   Malta     standard   \n",
       "3           3       669871.0  2022/10/21  offline   Malta     standard   \n",
       "4           4       669871.0  2022/10/21  offline   Malta     standard   \n",
       "\n",
       "   left_fide_id  left_rtg              left_country  left_age  ... right_age  \\\n",
       "0     9307010.0    1362.0      United Arab Emirates        23  ...        27   \n",
       "1     2903784.0    2255.0                  Bulgaria        46  ...        25   \n",
       "2     2007606.0    2246.0  United States of America        58  ...        36   \n",
       "3     3803392.0    2243.0                     Spain        29  ...        66   \n",
       "4     1170791.0    2226.0                    Poland        27  ...        41   \n",
       "\n",
       "   right_sex  upset_score upset  left_home_country right_home_country  \\\n",
       "0     Female        103.0     1                  0                  0   \n",
       "1       Male        220.0     1                  0                  0   \n",
       "2       Male        213.0     1                  0                  0   \n",
       "3       Male          0.0     0                  0                  0   \n",
       "4       Male        204.0     1                  0                  0   \n",
       "\n",
       "   age_diff  home_country_diff  players_sex  rating_diff  \n",
       "0        -4                  0           FF        206.0  \n",
       "1        21                  0           MM        220.0  \n",
       "2        22                  0           MM        213.0  \n",
       "3       -37                  0           MM        211.0  \n",
       "4       -14                  0           MM        204.0  \n",
       "\n",
       "[5 rows x 24 columns]"
      ]
     },
     "execution_count": 11,
     "metadata": {},
     "output_type": "execute_result"
    }
   ],
   "source": [
    "df.head()"
   ]
  },
  {
   "cell_type": "code",
   "execution_count": 12,
   "id": "988c4c4d",
   "metadata": {},
   "outputs": [
    {
     "data": {
      "text/plain": [
       "Index(['Unnamed: 0', 'tournament_id', 'start_date', 'medium', 'country',\n",
       "       'time_control', 'left_fide_id', 'left_rtg', 'left_country', 'left_age',\n",
       "       'left_sex', 'right_fide_id', 'right_rtg', 'right_country', 'right_age',\n",
       "       'right_sex', 'upset_score', 'upset', 'left_home_country',\n",
       "       'right_home_country', 'age_diff', 'home_country_diff', 'players_sex',\n",
       "       'rating_diff'],\n",
       "      dtype='object')"
      ]
     },
     "execution_count": 12,
     "metadata": {},
     "output_type": "execute_result"
    }
   ],
   "source": [
    "df.columns"
   ]
  },
  {
   "cell_type": "code",
   "execution_count": null,
   "id": "ddaf6ef7",
   "metadata": {},
   "outputs": [],
   "source": []
  },
  {
   "cell_type": "code",
   "execution_count": 14,
   "id": "92174b20",
   "metadata": {},
   "outputs": [],
   "source": [
    "df['avg_rtg'] = df['left_rtg'] + df['right_rtg'] / 2"
   ]
  },
  {
   "cell_type": "code",
   "execution_count": 16,
   "id": "ef941fe2",
   "metadata": {},
   "outputs": [
    {
     "data": {
      "text/plain": [
       "medium\n",
       "offline    3236.00\n",
       "online     3121.25\n",
       "Name: avg_rtg, dtype: float64"
      ]
     },
     "execution_count": 16,
     "metadata": {},
     "output_type": "execute_result"
    }
   ],
   "source": [
    "df.groupby(['medium'])['avg_rtg'].agg('median')"
   ]
  },
  {
   "cell_type": "code",
   "execution_count": 19,
   "id": "5f0c4206",
   "metadata": {},
   "outputs": [
    {
     "data": {
      "text/plain": [
       "medium\n",
       "offline    3209.824895\n",
       "online     3113.962302\n",
       "Name: avg_rtg, dtype: float64"
      ]
     },
     "execution_count": 19,
     "metadata": {},
     "output_type": "execute_result"
    }
   ],
   "source": [
    "df.groupby(['medium'])['avg_rtg'].agg('mean')"
   ]
  },
  {
   "cell_type": "code",
   "execution_count": 17,
   "id": "d5e1f001",
   "metadata": {},
   "outputs": [
    {
     "data": {
      "text/plain": [
       "<AxesSubplot:>"
      ]
     },
     "execution_count": 17,
     "metadata": {},
     "output_type": "execute_result"
    },
    {
     "data": {
      "image/png": "[encoded data removed]",
      "text/plain": [
       "<Figure size 432x288 with 1 Axes>"
      ]
     },
     "metadata": {
      "needs_background": "light"
     },
     "output_type": "display_data"
    }
   ],
   "source": [
    "df[df['medium']=='offline']['avg_rtg'].hist()"
   ]
  },
  {
   "cell_type": "code",
   "execution_count": 18,
   "id": "12d263c9",
   "metadata": {},
   "outputs": [
    {
     "data": {
      "text/plain": [
       "<AxesSubplot:>"
      ]
     },
     "execution_count": 18,
     "metadata": {},
     "output_type": "execute_result"
    },
    {
     "data": {
      "image/png": "[encoded data removed]",
      "text/plain": [
       "<Figure size 432x288 with 1 Axes>"
      ]
     },
     "metadata": {
      "needs_background": "light"
     },
     "output_type": "display_data"
    }
   ],
   "source": [
    "df[df['medium']=='online']['avg_rtg'].hist()"
   ]
  },
  {
   "cell_type": "code",
   "execution_count": null,
   "id": "5d0f5233",
   "metadata": {},
   "outputs": [],
   "source": []
  },
  {
   "cell_type": "code",
   "execution_count": null,
   "id": "7450844d",
   "metadata": {},
   "outputs": [],
   "source": []
  },
  {
   "cell_type": "code",
   "execution_count": null,
   "id": "44448768",
   "metadata": {},
   "outputs": [],
   "source": []
  }
 ],
 "metadata": {
  "kernelspec": {
   "display_name": "Python 3",
   "language": "python",
   "name": "python3"
  },
  "language_info": {
   "codemirror_mode": {
    "name": "ipython",
    "version": 3
   },
   "file_extension": ".py",
   "mimetype": "text/x-python",
   "name": "python",
   "nbconvert_exporter": "python",
   "pygments_lexer": "ipython3",
   "version": "3.8.8"
  }
 },
 "nbformat": 4,
 "nbformat_minor": 5
}
