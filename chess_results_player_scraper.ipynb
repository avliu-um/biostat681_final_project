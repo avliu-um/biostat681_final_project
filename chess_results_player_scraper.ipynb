{
  "nbformat": 4,
  "nbformat_minor": 0,
  "metadata": {
    "colab": {
      "provenance": []
    },
    "kernelspec": {
      "name": "python3",
      "display_name": "Python 3"
    },
    "language_info": {
      "name": "python"
    }
  },
  "cells": [
    {
      "cell_type": "code",
      "execution_count": 15,
      "metadata": {
        "colab": {
          "base_uri": "https://localhost:8080/"
        },
        "id": "T693HWOulPZg",
        "outputId": "f71721fb-45e4-4807-e7dd-3863ac6a9517"
      },
      "outputs": [
        {
          "output_type": "stream",
          "name": "stdout",
          "text": [
            "Looking in indexes: https://pypi.org/simple, https://us-python.pkg.dev/colab-wheels/public/simple/\n",
            "Requirement already satisfied: selenium in /usr/local/lib/python3.7/dist-packages (4.6.0)\n",
            "Requirement already satisfied: urllib3[socks]~=1.26 in /usr/local/lib/python3.7/dist-packages (from selenium) (1.26.12)\n",
            "Requirement already satisfied: trio~=0.17 in /usr/local/lib/python3.7/dist-packages (from selenium) (0.22.0)\n",
            "Requirement already satisfied: certifi>=2021.10.8 in /usr/local/lib/python3.7/dist-packages (from selenium) (2022.9.24)\n",
            "Requirement already satisfied: trio-websocket~=0.9 in /usr/local/lib/python3.7/dist-packages (from selenium) (0.9.2)\n",
            "Requirement already satisfied: attrs>=19.2.0 in /usr/local/lib/python3.7/dist-packages (from trio~=0.17->selenium) (22.1.0)\n",
            "Requirement already satisfied: idna in /usr/local/lib/python3.7/dist-packages (from trio~=0.17->selenium) (2.10)\n",
            "Requirement already satisfied: sniffio in /usr/local/lib/python3.7/dist-packages (from trio~=0.17->selenium) (1.3.0)\n",
            "Requirement already satisfied: exceptiongroup>=1.0.0rc9 in /usr/local/lib/python3.7/dist-packages (from trio~=0.17->selenium) (1.0.4)\n",
            "Requirement already satisfied: outcome in /usr/local/lib/python3.7/dist-packages (from trio~=0.17->selenium) (1.2.0)\n",
            "Requirement already satisfied: sortedcontainers in /usr/local/lib/python3.7/dist-packages (from trio~=0.17->selenium) (2.4.0)\n",
            "Requirement already satisfied: async-generator>=1.9 in /usr/local/lib/python3.7/dist-packages (from trio~=0.17->selenium) (1.10)\n",
            "Requirement already satisfied: wsproto>=0.14 in /usr/local/lib/python3.7/dist-packages (from trio-websocket~=0.9->selenium) (1.2.0)\n",
            "Requirement already satisfied: PySocks!=1.5.7,<2.0,>=1.5.6 in /usr/local/lib/python3.7/dist-packages (from urllib3[socks]~=1.26->selenium) (1.7.1)\n",
            "Requirement already satisfied: h11<1,>=0.9.0 in /usr/local/lib/python3.7/dist-packages (from wsproto>=0.14->trio-websocket~=0.9->selenium) (0.14.0)\n",
            "Requirement already satisfied: typing-extensions in /usr/local/lib/python3.7/dist-packages (from h11<1,>=0.9.0->wsproto>=0.14->trio-websocket~=0.9->selenium) (4.1.1)\n",
            "Get:1 https://cloud.r-project.org/bin/linux/ubuntu bionic-cran40/ InRelease [3,626 B]\n",
            "Ign:2 https://developer.download.nvidia.com/compute/machine-learning/repos/ubuntu1804/x86_64  InRelease\n",
            "Hit:3 https://developer.download.nvidia.com/compute/cuda/repos/ubuntu1804/x86_64  InRelease\n",
            "Hit:4 https://developer.download.nvidia.com/compute/machine-learning/repos/ubuntu1804/x86_64  Release\n",
            "Hit:5 http://security.ubuntu.com/ubuntu bionic-security InRelease\n",
            "Hit:6 http://archive.ubuntu.com/ubuntu bionic InRelease\n",
            "Hit:7 http://ppa.launchpad.net/c2d4u.team/c2d4u4.0+/ubuntu bionic InRelease\n",
            "Hit:8 http://archive.ubuntu.com/ubuntu bionic-updates InRelease\n",
            "Hit:9 http://archive.ubuntu.com/ubuntu bionic-backports InRelease\n",
            "Hit:10 http://ppa.launchpad.net/cran/libgit2/ubuntu bionic InRelease\n",
            "Hit:12 http://ppa.launchpad.net/deadsnakes/ppa/ubuntu bionic InRelease\n",
            "Hit:13 http://ppa.launchpad.net/graphics-drivers/ppa/ubuntu bionic InRelease\n",
            "Fetched 3,626 B in 3s (1,274 B/s)\n",
            "Reading package lists... Done\n",
            "Reading package lists... Done\n",
            "Building dependency tree       \n",
            "Reading state information... Done\n",
            "chromium-chromedriver is already the newest version (107.0.5304.87-0ubuntu11.18.04.1).\n",
            "The following package was automatically installed and is no longer required:\n",
            "  libnvidia-common-460\n",
            "Use 'apt autoremove' to remove it.\n",
            "0 upgraded, 0 newly installed, 0 to remove and 5 not upgraded.\n",
            "cp: '/usr/lib/chromium-browser/chromedriver' and '/usr/bin/chromedriver' are the same file\n"
          ]
        }
      ],
      "source": [
        "!pip install selenium\n",
        "!apt-get update # to update ubuntu to correctly run apt install\n",
        "!apt install chromium-chromedriver\n",
        "!cp /usr/lib/chromium-browser/chromedriver /usr/bin\n",
        "import sys\n",
        "sys.path.insert(0,'/usr/lib/chromium-browser/chromedriver')\n",
        "from selenium import webdriver\n",
        "chrome_options = webdriver.ChromeOptions()\n",
        "chrome_options.add_argument('--headless')\n",
        "chrome_options.add_argument('--no-sandbox')\n",
        "chrome_options.add_argument('--disable-dev-shm-usage')"
      ]
    },
    {
      "cell_type": "code",
      "source": [
        "from bs4 import BeautifulSoup\n",
        "import requests\n",
        "from tqdm import tqdm"
      ],
      "metadata": {
        "id": "5xYjagw69ie_"
      },
      "execution_count": 74,
      "outputs": []
    },
    {
      "cell_type": "markdown",
      "source": [
        "## Part 1\n",
        "\n",
        "Goal: given a \n",
        "- FIDE ID (corresponding to a player)\n",
        "- date1\n",
        "- date2\n",
        "- threshold **(PENDING)**\n",
        "\n",
        "output\n",
        "- Number of tournaments played with end date between date1 and date2 (inclusive)\n",
        "- Number of games played during those tournaments\n",
        "- Number of wins, losses, draws as black\n",
        "- Number of wins, losses, draws as white\n",
        "- **PENDING**: Number of wins, losses, draws against higher rated player (defined as having a rating of >= player rating + threshold)\n",
        "\n",
        "\n",
        "\n",
        "\n",
        "# Part 2 **(PENDING)**\n",
        "\n",
        "Goal: given \n",
        "- two FIDE IDs (representing 2 players: player 1 and player 2)\n",
        "- date1\n",
        "- date2\n",
        "\n",
        "output \n",
        "- How many times they played each other in a tournament in which the end date is between date1 and date2 (inclusive)\n",
        "- How many times player 1 wins, draws or loses against player 2"
      ],
      "metadata": {
        "id": "OTzB0vwJlTP8"
      }
    },
    {
      "cell_type": "code",
      "source": [
        "def get_chess_result_data(fide_id_input, date1_input, date2_input):\n",
        "  ### ex: fide_id_input = 25829092; date1_input = 20160101; date2_input = 20220101\n",
        "  \n",
        "  wd = webdriver.Chrome('chromedriver',options=chrome_options)\n",
        "  wd.get(\"https://chess-results.com/SpielerSuche.aspx?lan=1\")\n",
        "\n",
        "  fide_id = wd.find_element(\"name\", \"ctl00$P1$txt_fideID\")\n",
        "  fide_id.click()\n",
        "  fide_id.send_keys(fide_id_input)\n",
        "\n",
        "  date1 = wd.find_element(\"name\", \"ctl00$P1$txt_von_tag\")\n",
        "  date1.click()\n",
        "  date1.send_keys(date1_input)\n",
        "\n",
        "  date2 = wd.find_element(\"name\", \"ctl00$P1$txt_bis_tag\")\n",
        "  date2.click()\n",
        "  date2.send_keys(date2_input)\n",
        "\n",
        "  button = wd.find_element(\"name\", \"ctl00$P1$cb_suchen\")\n",
        "  button.click()\n",
        "\n",
        "  html_from_page = wd.page_source\n",
        "  soup = BeautifulSoup(html_from_page)\n",
        "\n",
        "  tournament_links = [x['href'] for x in soup.find_all('a', href=True)]\n",
        "  tournament_links = [link for link in tournament_links if link.startswith('tnr') and '&snr=' in link]  \n",
        "\n",
        "  n_tournaments = 0\n",
        "  n_games = 0\n",
        "  n_wins_white = 0\n",
        "  n_losses_white = 0\n",
        "  n_draws_white = 0\n",
        "  n_wins_black = 0\n",
        "  n_losses_black = 0\n",
        "  n_draws_black = 0\n",
        "\n",
        "  for link in tqdm(tournament_links):\n",
        "    cur_link = \"https://chess-results.com/\" + link\n",
        "    try:\n",
        "      html_page = requests.get(cur_link)\n",
        "      soup = BeautifulSoup(html_page.text)\n",
        "      black = soup.find_all(\"div\", {\"class\":\"FarbesT\"})\n",
        "      white = soup.find_all(\"div\", {\"class\":\"FarbewT\"})\n",
        "      if len(black) + len(white) > 0:\n",
        "        n_tournaments += 1\n",
        "        n_games += len(white) + len(black)\n",
        "        white_result = [x.findNext('td').text for x in white]\n",
        "        black_result = [x.findNext('td').text for x in black]\n",
        "        white_win = white_result.count('1')\n",
        "        white_loss = white_result.count('0')\n",
        "        white_draw = len(white) - white_win - white_loss\n",
        "        black_win = black_result.count('1')\n",
        "        black_loss = black_result.count('0')\n",
        "        black_draw = len(black) - black_win - black_loss\n",
        "        n_wins_white += white_win\n",
        "        n_losses_white += white_loss\n",
        "        n_draws_white += white_draw\n",
        "        n_wins_black += black_win\n",
        "        n_losses_black += black_loss\n",
        "        n_draws_black += black_draw\n",
        "    except:\n",
        "      continue\n",
        "  \n",
        "  return (n_tournaments, n_games, n_wins_white, n_losses_white, \n",
        "          n_draws_white, n_wins_black, n_losses_black, n_draws_black)"
      ],
      "metadata": {
        "id": "WbHyZH9q8yWx"
      },
      "execution_count": 83,
      "outputs": []
    },
    {
      "cell_type": "code",
      "source": [
        "get_chess_result_data(2093596, 20180101, 20220101)"
      ],
      "metadata": {
        "colab": {
          "base_uri": "https://localhost:8080/"
        },
        "id": "IRGMH4gR8CjO",
        "outputId": "9bd78707-41ce-44ef-e68a-3988884cafa8"
      },
      "execution_count": 84,
      "outputs": [
        {
          "output_type": "stream",
          "name": "stderr",
          "text": [
            "100%|██████████| 41/41 [00:27<00:00,  1.49it/s]\n"
          ]
        },
        {
          "output_type": "execute_result",
          "data": {
            "text/plain": [
              "(40, 380, 120, 25, 43, 95, 47, 50)"
            ]
          },
          "metadata": {},
          "execution_count": 84
        }
      ]
    }
  ]
}